{
 "cells": [
  {
   "cell_type": "code",
   "execution_count": null,
   "metadata": {},
   "outputs": [],
   "source": [
    "\n",
    "import asyncio\n",
    "import aiohttp\n",
    "import httpx"
   ]
  },
  {
   "cell_type": "code",
   "execution_count": null,
   "metadata": {},
   "outputs": [],
   "source": [
    "async with httpx.AsyncClient() as client:\n",
    "    r = await client.get('https://www.example.org/')\n",
    "\n",
    "print(r)\n"
   ]
  },
  {
   "cell_type": "code",
   "execution_count": null,
   "metadata": {},
   "outputs": [],
   "source": [
    "\n",
    "testfile = 'C:\\\\githealth\\\\dicom-samples\\\\visus.com\\\\case1\\\\case1_008.dcm'\n",
    "\n",
    "dicom_server_name = \"sjbdicomdemo\"\n",
    "url = f\"https://{dicom_server_name}.azurewebsites.net/studies\"\n",
    "url"
   ]
  },
  {
   "cell_type": "code",
   "execution_count": null,
   "metadata": {},
   "outputs": [],
   "source": [
    "from urllib3.filepost import encode_multipart_formdata, choose_boundary\n",
    "\n",
    "def encode_multipart_related(fields, boundary=None):\n",
    "    if boundary is None:\n",
    "        boundary = choose_boundary()\n",
    "\n",
    "    body, _ = encode_multipart_formdata(fields, boundary)\n",
    "    content_type = str('multipart/related; boundary=%s' % boundary)\n",
    "\n",
    "    return body, content_type"
   ]
  },
  {
   "cell_type": "code",
   "execution_count": null,
   "metadata": {},
   "outputs": [],
   "source": [
    "with open(testfile,'rb') as reader:\n",
    "    rawfile = reader.read()\n",
    "#files = {'file': ('dicomfile', rawfile, 'application/dicom')}\n",
    "files = {'file': ('dicomfile', open(testfile,'rb'), 'application/dicom')}\n",
    "\n",
    "#encode as multipart_related\n",
    "#body, content_type = encode_multipart_related(fields = files)\n",
    "content_type = f'multipart/related; boundary={choose_boundary()}'\n",
    "print(content_type)\n",
    "headers = {'Accept':'application/dicom+json', \"Content-Type\":content_type}\n",
    "#headers = {'Accept':'application/dicom+json'} #, \"Content-Type\":'multipart/related'}\n",
    "#response = requests.post(url, body, headers=headers) #, verify=False)\n",
    "\n",
    "#async with httpx.AsyncClient(headers=headers) as client:\n",
    "#    r = await client.post(url, files=files)\n",
    "\n",
    "#r = httpx.post(url,files=files)\n",
    "\n",
    "print(headers)\n",
    "with httpx.Client() as client:\n",
    "    r = client.post(url, files=files, headers=headers)\n",
    "\n"
   ]
  },
  {
   "cell_type": "code",
   "execution_count": null,
   "metadata": {},
   "outputs": [],
   "source": [
    "print(r.status_code)\n"
   ]
  },
  {
   "cell_type": "code",
   "execution_count": null,
   "metadata": {},
   "outputs": [],
   "source": [
    "r.request.url.full_path"
   ]
  },
  {
   "cell_type": "code",
   "execution_count": null,
   "metadata": {},
   "outputs": [],
   "source": [
    "from collections import OrderedDict\n",
    "d = OrderedDict()   # create a new ordered dictionary\n",
    "\n",
    "# Add the information to the dictionary\n",
    "d['fname'] = str(testfile)     \n",
    "d['method'] = r.request.method\n",
    "d['url'] = r.url\n",
    "d['path_url'] = r.url.full_path\n",
    "d['request_headers'] = str(r.request.headers)\n",
    "d['request_body_trimmed'] = r.request.stream.body[0:150]\n",
    "\n",
    "d['ok'] = not r.is_error\n",
    "d['status_code'] = r.status_code  \n",
    "d['reason'] = r.reason_phrase\n",
    "d['response_headers'] = r.headers\n",
    "d['response_text'] = r.text  \n",
    "d['elapsed_time'] = r.elapsed\n",
    "d['apparent_encoding'] = r.apparent_encoding\n",
    "d['encoding'] = r.encoding\n",
    "d['content_length'] = r.request.headers['content-length']"
   ]
  },
  {
   "cell_type": "code",
   "execution_count": null,
   "metadata": {},
   "outputs": [],
   "source": [
    "d"
   ]
  },
  {
   "cell_type": "code",
   "execution_count": null,
   "metadata": {},
   "outputs": [],
   "source": []
  },
  {
   "cell_type": "code",
   "execution_count": null,
   "metadata": {},
   "outputs": [],
   "source": []
  },
  {
   "cell_type": "code",
   "execution_count": null,
   "metadata": {},
   "outputs": [],
   "source": [
    "#see https://stackoverflow.com/questions/50529762/aiohttp-request-multipart-get-nothing-from-browser-uploading-files\n",
    "async def post_image(self, request):\n",
    "    # Iterate through each field of MultipartReader\n",
    "    async for field in (await request.multipart()):\n",
    "        if field.name == 'token':\n",
    "            # Do something about token\n",
    "            token = (await field.read()).decode()\n",
    "            pass\n",
    "\n",
    "        if field.name == 'key':\n",
    "            # Do something about key\n",
    "            pass\n",
    "\n",
    "        if field.name == 'filename':\n",
    "            # Do something about filename\n",
    "            pass\n",
    "\n",
    "        if field.name == 'aaa':\n",
    "            # Process any files you uploaded\n",
    "            filename = field.filename\n",
    "            # In your example, filename should be \"2C80...jpg\"\n",
    "\n",
    "            # Deal with actual file data\n",
    "            size = 0\n",
    "            with open(os.path.join('', filename), 'wb') as fd:\n",
    "                while True:\n",
    "                    chunk = await field.read_chunk()\n",
    "                    if not chunk:\n",
    "                        break\n",
    "                    size += len(chunk)\n",
    "                    fd.write(chunk)\n",
    "\n",
    "    # Reply ok, all fields processed successfully\n",
    "    return await self.reply_ok([])"
   ]
  },
  {
   "cell_type": "code",
   "execution_count": null,
   "metadata": {},
   "outputs": [],
   "source": [
    "\n",
    "testfile = 'C:\\\\githealth\\\\dicom-samples\\\\visus.com\\\\case1\\\\case1_008.dcm'\n",
    "\n",
    "#url = \"https://dicom-server-instance.azurewebsites.net/studies\"\n",
    "url = \"https://sjbdicomdemo.azurewebsites.net/studies\"\n",
    "\n",
    "dicom_server_name = \"sjbdicomdemo\"\n",
    "url = f\"https://{dicom_server_name}.azurewebsites.net/studies\"\n",
    "url"
   ]
  },
  {
   "cell_type": "code",
   "execution_count": null,
   "metadata": {},
   "outputs": [],
   "source": [
    "#explicit session open and close - replace with 'with' later\n",
    "session = aiohttp.ClientSession()\n",
    "\n",
    "\n",
    "with open(testfile,'rb') as reader:\n",
    "    rawfile = reader.read()\n",
    "\n",
    "#url = 'http://example.com/image'\n",
    "payload = rawfile\n",
    "headers = {'content-type': 'multipart/related', 'accept': 'application/dicom+json'}\n",
    "\n",
    "async with session.post(url,\n",
    "                   data=payload,\n",
    "                   headers=headers) as response:\n",
    "    print(response.headers)\n",
    "    print(response.request_info.headers)\n",
    "\n",
    "    \n",
    "    \n",
    "await session.close()"
   ]
  },
  {
   "cell_type": "code",
   "execution_count": null,
   "metadata": {},
   "outputs": [],
   "source": []
  },
  {
   "cell_type": "code",
   "execution_count": null,
   "metadata": {},
   "outputs": [],
   "source": []
  },
  {
   "cell_type": "code",
   "execution_count": null,
   "metadata": {},
   "outputs": [],
   "source": [
    "#### Using requests\n",
    "import requests\n",
    "with open(testfile,'rb') as reader:\n",
    "    rawfile = reader.read()\n",
    "files = {'file': ('dicomfile', rawfile, 'application/dicom')}\n",
    "\n",
    "#encode as multipart_related\n",
    "body, content_type = encode_multipart_related(fields = files)\n",
    "\n",
    "headers = {'Accept':'application/dicom+json', \"Content-Type\":content_type}\n",
    "\n",
    "response = requests.post(url, data=body, headers=headers) #, verify=False)\n",
    "r = response\n",
    "print(r.status_code)\n",
    "print(r.reason)"
   ]
  },
  {
   "cell_type": "code",
   "execution_count": null,
   "metadata": {},
   "outputs": [],
   "source": [
    "from collections import OrderedDict\n",
    "d = OrderedDict()   # create a new ordered dictionary\n",
    "\n",
    "# Add the information to the dictionary\n",
    "d['fname'] = str(testfile)     \n",
    "d['method'] = r.request.method\n",
    "d['url'] = r.url\n",
    "#d['path_url'] = r.url.full_path\n",
    "d['request_headers'] = str(r.request.headers)\n",
    "d['request_body_trimmed'] = r.request.body[0:150]\n",
    "\n",
    "d['ok'] = r.ok\n",
    "d['status_code'] = r.status_code  \n",
    "d['reason'] = r.reason\n",
    "d['response_headers'] = r.headers\n",
    "d['response_text'] = r.text  \n",
    "d['elapsed_time'] = r.elapsed\n",
    "d['apparent_encoding'] = r.apparent_encoding\n",
    "d['encoding'] = r.encoding\n",
    "d['content_length'] = r.request.headers['content-length']"
   ]
  },
  {
   "cell_type": "code",
   "execution_count": null,
   "metadata": {},
   "outputs": [],
   "source": [
    "d"
   ]
  },
  {
   "cell_type": "code",
   "execution_count": null,
   "metadata": {},
   "outputs": [],
   "source": [
    "### Keep!!! This gives a 500 internal server error\n",
    "\n",
    "with open(testfile,'rb') as reader:\n",
    "    rawfile = reader.read()\n",
    "files = {'file': ('dicomfile', rawfile, 'application/dicom')}\n",
    "\n",
    "#files = {'file': ('dicomfile', open(testfile,'rb'), 'application/dicom')}\n",
    "\n",
    "#encode as multipart_related\n",
    "body, content_type = encode_multipart_related(fields = files)\n",
    "\n",
    "#content_type = f'multipart/related; boundary={choose_boundary()}'\n",
    "#print(content_type)\n",
    "\n",
    "headers = {'Accept':'application/dicom+json', \"Content-Type\":content_type}\n",
    "#headers = {'Accept':'application/dicom+json'} #, \"Content-Type\":'multipart/related'}\n",
    "#response = requests.post(url, body, headers=headers) #, verify=False)\n",
    "\n",
    "#async with httpx.AsyncClient(headers=headers) as client:\n",
    "#    r = await client.post(url, files=files)\n",
    "\n",
    "#r = httpx.post(url,data=body, headers=headers)\n",
    "\n",
    "print(headers)\n",
    "#with httpx.Client() as client:\n",
    "#    r = client.post(url, data=body, headers=headers)\n",
    "\n",
    "async with httpx.AsyncClient(headers=headers) as client:\n",
    "    r = await client.post(url, data=files) # fails\n",
    "    # r = await client.post(url, data=body) # succeeds\n",
    "print(r.status_code)\n",
    "print(r.reason_phrase)"
   ]
  },
  {
   "cell_type": "code",
   "execution_count": null,
   "metadata": {},
   "outputs": [],
   "source": [
    "# But this one works!\n",
    "with open(testfile,'rb') as reader:\n",
    "    rawfile = reader.read()\n",
    "files = {'file': ('dicomfile', rawfile, 'application/dicom')}\n",
    "\n",
    "#files = {'file': ('dicomfile', open(testfile,'rb'), 'application/dicom')}\n",
    "\n",
    "#encode as multipart_related\n",
    "body, content_type = encode_multipart_related(fields = files)\n",
    "\n",
    "#content_type = f'multipart/related; boundary={choose_boundary()}'\n",
    "#print(content_type)\n",
    "\n",
    "headers = {'Accept':'application/dicom+json', \"Content-Type\":content_type}\n",
    "#headers = {'Accept':'application/dicom+json'} #, \"Content-Type\":'multipart/related'}\n",
    "#response = requests.post(url, body, headers=headers) #, verify=False)\n",
    "\n",
    "#async with httpx.AsyncClient(headers=headers) as client:\n",
    "#    r = await client.post(url, files=files)\n",
    "\n",
    "#r = httpx.post(url,data=body, headers=headers)\n",
    "\n",
    "print(headers)\n",
    "#with httpx.Client() as client:\n",
    "#    r = client.post(url, data=body, headers=headers)\n",
    "\n",
    "async with httpx.AsyncClient(headers=headers) as client:\n",
    "    r = await client.post(url, data=body)\n",
    "print(r.status_code)\n",
    "print(r.reason_phrase)"
   ]
  },
  {
   "cell_type": "code",
   "execution_count": null,
   "metadata": {},
   "outputs": [],
   "source": [
    "async def download():\n",
    "\n",
    "    async with httpx.AsyncClient(headers=headers) as client:\n",
    "        r = await client.post(url, data=body)\n",
    "    return r\n",
    "\n",
    "async def download2():\n",
    "    async with httpx.AsyncClient(headers=headers) as client:\n",
    "        r = await client.get(\"http://www.example.com\")\n",
    "    return r\n"
   ]
  },
  {
   "cell_type": "code",
   "execution_count": null,
   "metadata": {},
   "outputs": [],
   "source": [
    "import time\n",
    "start = time.time()\n",
    "\n",
    "#with httpx.Client() as client:\n",
    "#    for x in range(20):\n",
    "#        r = client.post(url, data=body, headers=headers)\n",
    "\n",
    "#async with httpx.AsyncClient(headers=headers) as client:\n",
    "#    for x in range(20):\n",
    "#        r = await client.post(url, data=body)\n",
    "\n",
    "await asyncio.gather(*[download2() for x in range(10)])\n",
    "    \n",
    "#async with httpx.AsyncClient(headers=headers) as client:\n",
    "#        r = await client.post(url, data=body)\n",
    "\n",
    "        \n",
    "total = time.time()-start\n",
    "print(total)"
   ]
  },
  {
   "cell_type": "code",
   "execution_count": null,
   "metadata": {},
   "outputs": [],
   "source": [
    "import httpx\n",
    "import asyncio\n",
    "\n",
    "\n",
    "import os\n",
    "\n",
    "async def download(url:str, folder:str):\n",
    "    filename = url.split(\"/\")[-1]\n",
    "    resp = await httpx.get(url)\n",
    "    resp.raise_for_status()\n",
    "\n",
    "\n",
    "\n",
    "async def download_all_photos(out_dir: str):\n",
    "    resp = await httpx.get(\"https://jsonplaceholder.typicode.com/photos\")\n",
    "    resp.raise_for_status()\n",
    "    urls = list(set(d[\"url\"] for d in resp.json()))[:100]\n",
    "    os.makedirs(out_dir, exist_ok=True)\n",
    "    await asyncio.gather(*[download(url, out_dir) for url in urls])\n",
    "\n"
   ]
  },
  {
   "cell_type": "code",
   "execution_count": null,
   "metadata": {},
   "outputs": [],
   "source": [
    "\n",
    "\n",
    "#asyncio.run(download_all_photos('100_photos'))\n",
    "#await download_all_photos('100_photos')"
   ]
  },
  {
   "cell_type": "code",
   "execution_count": 1,
   "metadata": {},
   "outputs": [
    {
     "name": "stdout",
     "output_type": "stream",
     "text": [
      "{'Accept': 'application/dicom+json', 'Content-Type': 'multipart/related; boundary=f732f74de2b4db96acf5dfc6927f2bb6'}\n",
      "500\n",
      "Internal Server Error\n"
     ]
    }
   ],
   "source": [
    "import httpx  #may require a 'pip install httpx'\n",
    "from urllib3.filepost import encode_multipart_formdata, choose_boundary\n",
    "\n",
    "def encode_multipart_related(fields, boundary=None):\n",
    "    if boundary is None:\n",
    "        boundary = choose_boundary()\n",
    "\n",
    "    body, _ = encode_multipart_formdata(fields, boundary)\n",
    "    content_type = str('multipart/related; boundary=%s' % boundary)\n",
    "\n",
    "    return body, content_type\n",
    "\n",
    "# Variables\n",
    "testfile = 'C:\\\\githealth\\\\dicom-samples\\\\visus.com\\\\case1\\\\case1_008.dcm'\n",
    "dicom_server_name = \"sjbdicomdemo\"\n",
    "url = f\"https://{dicom_server_name}.azurewebsites.net/studies\"\n",
    "\n",
    "# Read a file as raw bytes (not text), to create body.  Multiple files are supported.\n",
    "with open(testfile,'rb') as reader:\n",
    "    rawfile = reader.read()\n",
    "files = {'file': ('dicomfile', rawfile, 'application/dicom')}\n",
    "\n",
    "# The line below is the normal way to pass files, but I need to edit encode_multipart_related to fix\n",
    "#   Otherwise httpx fails to read the files.\n",
    "#files = {'file': ('dicomfile', open(testfile,'rb'), 'application/dicom')}\n",
    "\n",
    "#encode as multipart_related\n",
    "body, content_type = encode_multipart_related(fields = files) # workaround to change from multipart/form\n",
    "\n",
    "headers = {'Accept':'application/dicom+json', \"Content-Type\":content_type} #results in same thing as line below\n",
    "#headers = {'Accept':'application/dicom+json'} #, \"Content-Type\":'multipart/related'}\n",
    "\n",
    "#r = httpx.post(url,data=body, headers=headers)\n",
    "\n",
    "print(headers)\n",
    "#with httpx.Client() as client:\n",
    "#    r = client.post(url, data=body, headers=headers)\n",
    "\n",
    "async with httpx.AsyncClient(headers=headers) as client:\n",
    "    r = await client.post(url, data=files) # fails\n",
    "    # r = await client.post(url, data=body) # succeeds\n",
    "    \n",
    "# Note that synchronous version also fails what data=files is passed in, but not data=body\n",
    "#r = httpx.post(url,data=body, headers=headers)\n",
    "\n",
    "print(r.status_code)\n",
    "print(r.reason_phrase)\n"
   ]
  },
  {
   "cell_type": "code",
   "execution_count": null,
   "metadata": {},
   "outputs": [],
   "source": []
  }
 ],
 "metadata": {
  "kernelspec": {
   "display_name": "Python 3",
   "language": "python",
   "name": "python3"
  },
  "language_info": {
   "codemirror_mode": {
    "name": "ipython",
    "version": 3
   },
   "file_extension": ".py",
   "mimetype": "text/x-python",
   "name": "python",
   "nbconvert_exporter": "python",
   "pygments_lexer": "ipython3",
   "version": "3.7.7"
  }
 },
 "nbformat": 4,
 "nbformat_minor": 4
}
