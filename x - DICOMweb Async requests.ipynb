{
 "cells": [
  {
   "cell_type": "code",
   "execution_count": null,
   "metadata": {},
   "outputs": [],
   "source": [
    "import os\n",
    "import requests\n",
    "import io\n",
    "import pandas as pd\n",
    "import pydicom\n",
    "from pathlib import Path\n",
    "import time\n",
    "\n",
    "\n",
    "\n",
    "from pydicom.dataset import Dataset as DcmDataset\n",
    "from pydicom.tag import BaseTag as DcmTag\n",
    "from pydicom.multival import MultiValue as DcmMultiValue\n",
    "\n",
    "#see https://stackoverflow.com/questions/15746558/how-to-send-a-multipart-related-with-requests-in-python\n",
    "\n",
    "#from fastcore.foundation import * #Patch here (but also imports fastcore.imports (which is not sufficient))\n",
    "    # But parallel is NOT here... :-(\n",
    "\n",
    "from fastai2.data.all import *\n"
   ]
  },
  {
   "cell_type": "code",
   "execution_count": null,
   "metadata": {},
   "outputs": [],
   "source": [
    "\n",
    "#url = \"https://dicom-server-instance.azurewebsites.net/studies\"\n",
    "url = \"https://sjbdicomdemo.azurewebsites.net/studies\"\n",
    "\n",
    "dicom_server_name = \"sjbdicomdemo\"\n",
    "url = f\"https://{dicom_server_name}.azurewebsites.net/studies\"\n",
    "url"
   ]
  },
  {
   "cell_type": "code",
   "execution_count": null,
   "metadata": {},
   "outputs": [],
   "source": [
    "# Cell\n",
    "@patch\n",
    "def dcmread(fn:Path, force = False): #, force = False):\n",
    "    \"Open a `DICOM` file\"\n",
    "    return pydicom.dcmread(str(fn), force)\n",
    "\n",
    "# Cell\n",
    "def _cast_dicom_special(x):\n",
    "    cls = type(x)\n",
    "    if not cls.__module__.startswith('pydicom'): return x\n",
    "    if cls.__base__ == object: return x\n",
    "    return cls.__base__(x)\n",
    "\n",
    "def _split_elem(res,k,v):\n",
    "    if not isinstance(v,DcmMultiValue): return\n",
    "    res[f'Multi{k}'] = 1\n",
    "    for i,o in enumerate(v): res[f'{k}{\"\" if i==0 else i}']=o\n",
    "\n",
    "        # Cell\n",
    "@patch\n",
    "def as_dict(self:DcmDataset, px_summ=False): #, window=dicom_windows.brain):\n",
    "    pxdata = (0x7fe0,0x0010)\n",
    "    vals = [self[o] for o in self.keys() if o != pxdata]\n",
    "    its = [(v.keyword,v.value) for v in vals]\n",
    "    res = dict(its)\n",
    "    res['fname'] = self.filename\n",
    "    for k,v in its: _split_elem(res,k,v)\n",
    "    if not px_summ: return res\n",
    "    stats = 'min','max','mean','std'\n",
    "#    try:\n",
    "#        pxs = self.pixel_array\n",
    "#        for f in stats: res['img_'+f] = getattr(pxs,f)()\n",
    "#        res['img_pct_window'] = self.pct_in_window(*window)\n",
    "#    except Exception as e:\n",
    "#        for f in stats: res['img_'+f] = 0\n",
    "#        print(res,e)\n",
    "    for k in res: res[k] = _cast_dicom_special(res[k])\n",
    "    return res\n",
    "\n",
    "# Cell\n",
    "def _dcm2dict(fn, **kwargs): return fn.dcmread().as_dict(**kwargs)\n",
    "\n",
    "# Cell\n",
    "@delegates(parallel)\n",
    "def _from_dicoms(cls, fns, n_workers=0, **kwargs):\n",
    "    return pd.DataFrame(parallel(_dcm2dict, fns, n_workers=n_workers, **kwargs))\n",
    "pd.DataFrame.from_dicoms = classmethod(_from_dicoms)"
   ]
  },
  {
   "cell_type": "code",
   "execution_count": null,
   "metadata": {},
   "outputs": [],
   "source": []
  },
  {
   "cell_type": "code",
   "execution_count": null,
   "metadata": {},
   "outputs": [],
   "source": []
  },
  {
   "cell_type": "code",
   "execution_count": null,
   "metadata": {},
   "outputs": [],
   "source": []
  },
  {
   "cell_type": "code",
   "execution_count": null,
   "metadata": {},
   "outputs": [],
   "source": [
    "\n",
    "# Validate goes beyond checking the dicom header, but attempts a actually load every single file into a Pydicom Dataset\n",
    "#    This later step has shown effective for ensuring that the metadata can be loaded into a dataset\n",
    "def get_dicom_files_from_directory(dirpath,extension=\"*.dcm\", validate=True):\n",
    "    path = Path(dirpath) \n",
    "    # pydicom 2 has an is_valid method to replace is_dicom (maybe look at pydicom2 for other reasons)\n",
    "    files = [x for x in path.rglob(extension)] # if pydicom.misc.is_dicom(str(x))] # checks for DICM in header (fast and loose)\n",
    "    if validate:\n",
    "        for file in files[:]:\n",
    "            #pydicom.validate() #is this only in pydicom 2?\n",
    "            try:\n",
    "                print(file)\n",
    "                x = dcmread(file)           \n",
    "            except:\n",
    "                # remove file if it throws an exception\n",
    "                files.remove(x)\n",
    "    #Potentially look at pydicom.dataset.validate_file_meta(file_meta, enforce_standard=True) for deeper validation\n",
    "    #  https://pydicom.github.io/pydicom/dev/reference/generated/pydicom.dataset.validate_file_meta.html\n",
    "    return files\n",
    "    "
   ]
  },
  {
   "cell_type": "code",
   "execution_count": null,
   "metadata": {},
   "outputs": [],
   "source": [
    "#files = get_dicom_files_from_directory('C:\\\\githealth\\\\dicom-samples\\\\visus.com')\n",
    "files = get_dicom_files_from_directory('C:\\\\!!delete4DLung', validate=False)\n",
    "#files = get_dicom_files_from_directory('C:\\\\!DicomDataTCIA\\\\4D-Lung', validate=False)\n",
    "print(len(files))\n",
    "                                       "
   ]
  },
  {
   "cell_type": "code",
   "execution_count": null,
   "metadata": {},
   "outputs": [],
   "source": [
    "files = [x for x in files if not 'pydicom' in str(x)]\n",
    "print(len(files))"
   ]
  },
  {
   "cell_type": "code",
   "execution_count": null,
   "metadata": {},
   "outputs": [],
   "source": [
    "\n",
    "# Can just use this to load all the files in a directory, instead of calling above\n",
    "#dirname = 'C:\\\\githealth\\\\dicom-samples\\\\visus.com'\n",
    "#files = [x for x in Path(dirname).rglob('*.dcm')] # if not 'pydicom' in str(x)] # exclude pydicom test files\n",
    "\n"
   ]
  },
  {
   "cell_type": "code",
   "execution_count": null,
   "metadata": {},
   "outputs": [],
   "source": [
    "# Stupid simple function to get a Dataframe, but can be extended later to add logic\n",
    "def get_dicom_metadata_as_dataframe(list_of_files,columns=[],save_as_filename=''):\n",
    "    df = pd.DataFrame.from_dicoms(files)\n",
    "    if save_as_filename != '':\n",
    "        df.to_csv(save_as_filename)\n",
    "    return df\n",
    "        \n",
    "    \n",
    "\n"
   ]
  },
  {
   "cell_type": "code",
   "execution_count": null,
   "metadata": {},
   "outputs": [],
   "source": [
    "#df = pd.DataFrame.from_dicoms(files)\n",
    "#df.to_csv('TestDicom2.csv')"
   ]
  },
  {
   "cell_type": "code",
   "execution_count": null,
   "metadata": {},
   "outputs": [],
   "source": [
    "df = get_dicom_metadata_as_dataframe(files)"
   ]
  },
  {
   "cell_type": "code",
   "execution_count": null,
   "metadata": {},
   "outputs": [],
   "source": [
    "df.to_csv('TestDicomMetadata-4DLungSubset.csv')"
   ]
  },
  {
   "cell_type": "code",
   "execution_count": null,
   "metadata": {},
   "outputs": [],
   "source": [
    "from urllib3.filepost import encode_multipart_formdata, choose_boundary\n",
    "\n",
    "def encode_multipart_related(fields, boundary=None):\n",
    "    if boundary is None:\n",
    "        boundary = choose_boundary()\n",
    "\n",
    "    body, _ = encode_multipart_formdata(fields, boundary)\n",
    "    content_type = str('multipart/related; boundary=%s' % boundary)\n",
    "\n",
    "    return body, content_type"
   ]
  },
  {
   "cell_type": "code",
   "execution_count": null,
   "metadata": {},
   "outputs": [],
   "source": [
    "\n",
    "\n",
    "#!pip install aiohttp\n",
    "#!pip install aiohttp[speedups]"
   ]
  },
  {
   "cell_type": "code",
   "execution_count": 6,
   "metadata": {},
   "outputs": [],
   "source": [
    "import asyncio\n",
    "import aiohttp\n",
    "\n",
    "testfile = 'C:\\\\githealth\\\\dicom-samples\\\\visus.com\\\\case1\\\\case1_008.dcm'"
   ]
  },
  {
   "cell_type": "code",
   "execution_count": null,
   "metadata": {},
   "outputs": [],
   "source": [
    "async def fetch(session, url):\n",
    "    async with session.get(url) as response:\n",
    "        return await response.text()\n",
    "\n",
    "async def main():\n",
    "    async with aiohttp.ClientSession() as session:\n",
    "        html = await fetch(session, 'http://python.org')\n",
    "        print(html)\n",
    "\n",
    "    \n"
   ]
  },
  {
   "cell_type": "code",
   "execution_count": 4,
   "metadata": {},
   "outputs": [
    {
     "name": "stdout",
     "output_type": "stream",
     "text": [
      "200\n",
      "{\n",
      "  \"args\": {}, \n",
      "  \"data\": \"data\", \n",
      "  \"files\": {}, \n",
      "  \"form\": {}, \n",
      "  \"headers\": {\n",
      "    \"Accept\": \"*/*\", \n",
      "    \"Accept-Encoding\": \"gzip, deflate\", \n",
      "    \"Content-Length\": \"4\", \n",
      "    \"Content-Type\": \"application/octet-stream\", \n",
      "    \"Host\": \"httpbin.org\", \n",
      "    \"User-Agent\": \"Python/3.7 aiohttp/3.6.2\", \n",
      "    \"X-Amzn-Trace-Id\": \"Root=1-5ea0c0f5-1b8c9e2029ff3b106803bfa0\"\n",
      "  }, \n",
      "  \"json\": null, \n",
      "  \"origin\": \"50.47.112.149\", \n",
      "  \"url\": \"http://httpbin.org/post\"\n",
      "}\n",
      "\n"
     ]
    }
   ],
   "source": [
    "async with aiohttp.ClientSession() as session:\n",
    "    async with session.post('http://httpbin.org/post', data=b'data') as resp:\n",
    "        print(resp.status)\n",
    "        print(await resp.text())"
   ]
  },
  {
   "cell_type": "code",
   "execution_count": 8,
   "metadata": {},
   "outputs": [
    {
     "ename": "AttributeError",
     "evalue": "'ClientResponse' object has no attribute 'request'",
     "output_type": "error",
     "traceback": [
      "\u001b[1;31m---------------------------------------------------------------------------\u001b[0m",
      "\u001b[1;31mAttributeError\u001b[0m                            Traceback (most recent call last)",
      "\u001b[1;32m<ipython-input-8-d60cc7dcea09>\u001b[0m in \u001b[0;36masync-def-wrapper\u001b[1;34m()\u001b[0m\n\u001b[0;32m      7\u001b[0m         \u001b[0mprint\u001b[0m\u001b[1;33m(\u001b[0m\u001b[0mresp\u001b[0m\u001b[1;33m.\u001b[0m\u001b[0mstatus\u001b[0m\u001b[1;33m)\u001b[0m\u001b[1;33m\u001b[0m\u001b[1;33m\u001b[0m\u001b[0m\n\u001b[0;32m      8\u001b[0m         \u001b[0mprint\u001b[0m\u001b[1;33m(\u001b[0m\u001b[1;32mawait\u001b[0m \u001b[0mresp\u001b[0m\u001b[1;33m.\u001b[0m\u001b[0mtext\u001b[0m\u001b[1;33m(\u001b[0m\u001b[1;33m)\u001b[0m\u001b[1;33m)\u001b[0m\u001b[1;33m\u001b[0m\u001b[1;33m\u001b[0m\u001b[0m\n",
      "\u001b[1;31mAttributeError\u001b[0m: 'ClientResponse' object has no attribute 'request'"
     ]
    }
   ],
   "source": [
    "async with aiohttp.ClientSession() as session:\n",
    "    url = 'http://httpbin.org/post'\n",
    "    files = {'file': open(testfile, 'rb')}\n",
    "\n",
    "    async with session.post(url, data=files) as resp:\n",
    "        print(resp.\n",
    "        print(resp.status)\n",
    "        print(await resp.text())"
   ]
  },
  {
   "cell_type": "code",
   "execution_count": 10,
   "metadata": {},
   "outputs": [
    {
     "data": {
      "text/plain": [
       "<CIMultiDictProxy('Host': 'httpbin.org', 'Accept': '*/*', 'Accept-Encoding': 'gzip, deflate', 'User-Agent': 'Python/3.7 aiohttp/3.6.2', 'Content-Length': '527987', 'Content-Type': 'multipart/form-data; boundary=748703b9782d411186f7e0caff7cab32')>"
      ]
     },
     "execution_count": 10,
     "metadata": {},
     "output_type": "execute_result"
    }
   ],
   "source": [
    "resp.request_info.headers"
   ]
  },
  {
   "cell_type": "code",
   "execution_count": 11,
   "metadata": {},
   "outputs": [
    {
     "ename": "TypeError",
     "evalue": "Cannot create payload from {'file': <_io.BufferedReader name='C:\\\\githealth\\\\dicom-samples\\\\visus.com\\\\case1\\\\case1_008.dcm'>}",
     "output_type": "error",
     "traceback": [
      "\u001b[1;31m---------------------------------------------------------------------------\u001b[0m",
      "\u001b[1;31mLookupError\u001b[0m                               Traceback (most recent call last)",
      "\u001b[1;32m~\\AppData\\Local\\Continuum\\anaconda3\\envs\\fastai2\\lib\\site-packages\\aiohttp\\multipart.py\u001b[0m in \u001b[0;36mappend\u001b[1;34m(self, obj, headers)\u001b[0m\n\u001b[0;32m    795\u001b[0m             \u001b[1;32mtry\u001b[0m\u001b[1;33m:\u001b[0m\u001b[1;33m\u001b[0m\u001b[1;33m\u001b[0m\u001b[0m\n\u001b[1;32m--> 796\u001b[1;33m                 \u001b[0mpayload\u001b[0m \u001b[1;33m=\u001b[0m \u001b[0mget_payload\u001b[0m\u001b[1;33m(\u001b[0m\u001b[0mobj\u001b[0m\u001b[1;33m,\u001b[0m \u001b[0mheaders\u001b[0m\u001b[1;33m=\u001b[0m\u001b[0mheaders\u001b[0m\u001b[1;33m)\u001b[0m\u001b[1;33m\u001b[0m\u001b[1;33m\u001b[0m\u001b[0m\n\u001b[0m\u001b[0;32m    797\u001b[0m             \u001b[1;32mexcept\u001b[0m \u001b[0mLookupError\u001b[0m\u001b[1;33m:\u001b[0m\u001b[1;33m\u001b[0m\u001b[1;33m\u001b[0m\u001b[0m\n",
      "\u001b[1;32m~\\AppData\\Local\\Continuum\\anaconda3\\envs\\fastai2\\lib\\site-packages\\aiohttp\\payload.py\u001b[0m in \u001b[0;36mget_payload\u001b[1;34m(data, *args, **kwargs)\u001b[0m\n\u001b[0;32m     62\u001b[0m \u001b[1;32mdef\u001b[0m \u001b[0mget_payload\u001b[0m\u001b[1;33m(\u001b[0m\u001b[0mdata\u001b[0m\u001b[1;33m:\u001b[0m \u001b[0mAny\u001b[0m\u001b[1;33m,\u001b[0m \u001b[1;33m*\u001b[0m\u001b[0margs\u001b[0m\u001b[1;33m:\u001b[0m \u001b[0mAny\u001b[0m\u001b[1;33m,\u001b[0m \u001b[1;33m**\u001b[0m\u001b[0mkwargs\u001b[0m\u001b[1;33m:\u001b[0m \u001b[0mAny\u001b[0m\u001b[1;33m)\u001b[0m \u001b[1;33m->\u001b[0m \u001b[1;34m'Payload'\u001b[0m\u001b[1;33m:\u001b[0m\u001b[1;33m\u001b[0m\u001b[1;33m\u001b[0m\u001b[0m\n\u001b[1;32m---> 63\u001b[1;33m     \u001b[1;32mreturn\u001b[0m \u001b[0mPAYLOAD_REGISTRY\u001b[0m\u001b[1;33m.\u001b[0m\u001b[0mget\u001b[0m\u001b[1;33m(\u001b[0m\u001b[0mdata\u001b[0m\u001b[1;33m,\u001b[0m \u001b[1;33m*\u001b[0m\u001b[0margs\u001b[0m\u001b[1;33m,\u001b[0m \u001b[1;33m**\u001b[0m\u001b[0mkwargs\u001b[0m\u001b[1;33m)\u001b[0m\u001b[1;33m\u001b[0m\u001b[1;33m\u001b[0m\u001b[0m\n\u001b[0m\u001b[0;32m     64\u001b[0m \u001b[1;33m\u001b[0m\u001b[0m\n",
      "\u001b[1;32m~\\AppData\\Local\\Continuum\\anaconda3\\envs\\fastai2\\lib\\site-packages\\aiohttp\\payload.py\u001b[0m in \u001b[0;36mget\u001b[1;34m(self, data, _CHAIN, *args, **kwargs)\u001b[0m\n\u001b[0;32m    105\u001b[0m \u001b[1;33m\u001b[0m\u001b[0m\n\u001b[1;32m--> 106\u001b[1;33m         \u001b[1;32mraise\u001b[0m \u001b[0mLookupError\u001b[0m\u001b[1;33m(\u001b[0m\u001b[1;33m)\u001b[0m\u001b[1;33m\u001b[0m\u001b[1;33m\u001b[0m\u001b[0m\n\u001b[0m\u001b[0;32m    107\u001b[0m \u001b[1;33m\u001b[0m\u001b[0m\n",
      "\u001b[1;31mLookupError\u001b[0m: ",
      "\nDuring handling of the above exception, another exception occurred:\n",
      "\u001b[1;31mTypeError\u001b[0m                                 Traceback (most recent call last)",
      "\u001b[1;32m<ipython-input-11-4acbe4dcb0b0>\u001b[0m in \u001b[0;36masync-def-wrapper\u001b[1;34m()\u001b[0m\n\u001b[0;32m      6\u001b[0m     \u001b[1;32masync\u001b[0m \u001b[1;32mwith\u001b[0m \u001b[0msession\u001b[0m\u001b[1;33m.\u001b[0m\u001b[0mpost\u001b[0m\u001b[1;33m(\u001b[0m\u001b[0murl\u001b[0m\u001b[1;33m,\u001b[0m \u001b[0mdata\u001b[0m\u001b[1;33m=\u001b[0m\u001b[0mfiles\u001b[0m\u001b[1;33m)\u001b[0m \u001b[1;32mas\u001b[0m \u001b[0mresp\u001b[0m\u001b[1;33m:\u001b[0m\u001b[1;33m\u001b[0m\u001b[1;33m\u001b[0m\u001b[0m\n\u001b[0;32m      7\u001b[0m         \u001b[0mprint\u001b[0m\u001b[1;33m(\u001b[0m\u001b[0mresp\u001b[0m\u001b[1;33m.\u001b[0m\u001b[0mstatus\u001b[0m\u001b[1;33m)\u001b[0m\u001b[1;33m\u001b[0m\u001b[1;33m\u001b[0m\u001b[0m\n\u001b[1;32m----> 8\u001b[1;33m         \u001b[0mprint\u001b[0m\u001b[1;33m(\u001b[0m\u001b[1;32mawait\u001b[0m \u001b[0mresp\u001b[0m\u001b[1;33m.\u001b[0m\u001b[0mtext\u001b[0m\u001b[1;33m(\u001b[0m\u001b[1;33m)\u001b[0m\u001b[1;33m)\u001b[0m\u001b[1;33m\u001b[0m\u001b[1;33m\u001b[0m\u001b[0m\n\u001b[0m",
      "\u001b[1;32m~\\AppData\\Local\\Continuum\\anaconda3\\envs\\fastai2\\lib\\site-packages\\aiohttp\\multipart.py\u001b[0m in \u001b[0;36mappend\u001b[1;34m(self, obj, headers)\u001b[0m\n\u001b[0;32m    796\u001b[0m                 \u001b[0mpayload\u001b[0m \u001b[1;33m=\u001b[0m \u001b[0mget_payload\u001b[0m\u001b[1;33m(\u001b[0m\u001b[0mobj\u001b[0m\u001b[1;33m,\u001b[0m \u001b[0mheaders\u001b[0m\u001b[1;33m=\u001b[0m\u001b[0mheaders\u001b[0m\u001b[1;33m)\u001b[0m\u001b[1;33m\u001b[0m\u001b[1;33m\u001b[0m\u001b[0m\n\u001b[0;32m    797\u001b[0m             \u001b[1;32mexcept\u001b[0m \u001b[0mLookupError\u001b[0m\u001b[1;33m:\u001b[0m\u001b[1;33m\u001b[0m\u001b[1;33m\u001b[0m\u001b[0m\n\u001b[1;32m--> 798\u001b[1;33m                 \u001b[1;32mraise\u001b[0m \u001b[0mTypeError\u001b[0m\u001b[1;33m(\u001b[0m\u001b[1;34m'Cannot create payload from %r'\u001b[0m \u001b[1;33m%\u001b[0m \u001b[0mobj\u001b[0m\u001b[1;33m)\u001b[0m\u001b[1;33m\u001b[0m\u001b[1;33m\u001b[0m\u001b[0m\n\u001b[0m\u001b[0;32m    799\u001b[0m             \u001b[1;32melse\u001b[0m\u001b[1;33m:\u001b[0m\u001b[1;33m\u001b[0m\u001b[1;33m\u001b[0m\u001b[0m\n\u001b[0;32m    800\u001b[0m                 \u001b[1;32mreturn\u001b[0m \u001b[0mself\u001b[0m\u001b[1;33m.\u001b[0m\u001b[0mappend_payload\u001b[0m\u001b[1;33m(\u001b[0m\u001b[0mpayload\u001b[0m\u001b[1;33m)\u001b[0m\u001b[1;33m\u001b[0m\u001b[1;33m\u001b[0m\u001b[0m\n",
      "\u001b[1;31mTypeError\u001b[0m: Cannot create payload from {'file': <_io.BufferedReader name='C:\\\\githealth\\\\dicom-samples\\\\visus.com\\\\case1\\\\case1_008.dcm'>}"
     ]
    }
   ],
   "source": [
    "async with aiohttp.ClientSession() as session:\n",
    "    url = 'http://httpbin.org/post'\n",
    "    files = {'file': open(testfile, 'rb')}\n",
    "    with aiohttp.MultipartWriter('related') as mpwriter:\n",
    "        mpwriter.append(files)\n",
    "    async with session.post(url, data=files) as resp:\n",
    "        print(resp.status)\n",
    "        print(await resp.text())\n"
   ]
  },
  {
   "cell_type": "code",
   "execution_count": 15,
   "metadata": {},
   "outputs": [
    {
     "name": "stdout",
     "output_type": "stream",
     "text": [
      "200\n",
      "<CIMultiDictProxy('Date': 'Wed, 22 Apr 2020 22:45:02 GMT', 'Content-Type': 'application/json', 'Content-Length': '2708833', 'Connection': 'keep-alive', 'Server': 'gunicorn/19.9.0', 'Access-Control-Allow-Origin': '*', 'Access-Control-Allow-Credentials': 'true')>\n"
     ]
    }
   ],
   "source": [
    "async with aiohttp.ClientSession() as session:\n",
    "    url = 'http://httpbin.org/post'\n",
    "    files = {'file': open(testfile, 'rb')}\n",
    "    \n",
    "    with open(testfile,'rb') as reader:\n",
    "        rawfile = reader.read()\n",
    "    files = {'file': ('dicomfile', rawfile, 'application/dicom')}\n",
    "\n",
    "    async with session.post(url, data=files) as resp:\n",
    "        print(resp.status)\n",
    "        print(resp.headers)"
   ]
  },
  {
   "cell_type": "code",
   "execution_count": null,
   "metadata": {},
   "outputs": [],
   "source": [
    "loop.run_until_complete(main())"
   ]
  },
  {
   "cell_type": "code",
   "execution_count": null,
   "metadata": {},
   "outputs": [],
   "source": [
    "resp.headers"
   ]
  },
  {
   "cell_type": "code",
   "execution_count": null,
   "metadata": {},
   "outputs": [],
   "source": []
  },
  {
   "cell_type": "code",
   "execution_count": null,
   "metadata": {},
   "outputs": [],
   "source": [
    "def upload_single_dcm_file(server_url,filepath):\n",
    "    with open(filepath,'rb') as reader:\n",
    "        rawfile = reader.read()\n",
    "    files = {'file': ('dicomfile', rawfile, 'application/dicom')}\n",
    "\n",
    "    #encode as multipart_related\n",
    "    body, content_type = encode_multipart_related(fields = files)\n",
    "    \n",
    "    headers = {'Accept':'application/dicom+json', \"Content-Type\":content_type}\n",
    "\n",
    "    response = requests.post(url, body, headers=headers) #, verify=False)\n",
    "    \n",
    "    #return the response object to allow for further processing\n",
    "    \n",
    "    #example usage\n",
    "    #r = upload_single_dcm_file(url,'C:\\\\githealth\\\\dicom-samples\\\\visus.com\\\\case4\\\\case4a_002.dcm')\n",
    "    #print(r.status_code)\n",
    "    #print(r.request.headers)\n",
    "    \n",
    "    return response"
   ]
  },
  {
   "cell_type": "code",
   "execution_count": null,
   "metadata": {},
   "outputs": [],
   "source": []
  },
  {
   "cell_type": "code",
   "execution_count": null,
   "metadata": {},
   "outputs": [],
   "source": [
    "# Async calls\n",
    "def upload_muliple_dcm_file(server_url,filepaths):\n",
    "    \n",
    "    \n",
    "    \n",
    "    with open(filepath,'rb') as reader:\n",
    "        rawfile = reader.read()\n",
    "    files = {'file': ('dicomfile', rawfile, 'application/dicom')}\n",
    "\n",
    "    #encode as multipart_related\n",
    "    body, content_type = encode_multipart_related(fields = files)\n",
    "    \n",
    "    headers = {'Accept':'application/dicom+json', \"Content-Type\":content_type}\n",
    "\n",
    "    response = requests.post(url, body, headers=headers) #, verify=False)\n",
    "    \n",
    "    #return the response object to allow for further processing\n",
    "    \n",
    "    #example usage\n",
    "    #r = upload_single_dcm_file(url,'C:\\\\githealth\\\\dicom-samples\\\\visus.com\\\\case4\\\\case4a_002.dcm')\n",
    "    #print(r.status_code)\n",
    "    #print(r.request.headers)\n",
    "    \n",
    "    return response"
   ]
  },
  {
   "cell_type": "code",
   "execution_count": null,
   "metadata": {},
   "outputs": [],
   "source": []
  },
  {
   "cell_type": "code",
   "execution_count": null,
   "metadata": {},
   "outputs": [],
   "source": [
    "#r = upload_dcm_file(url,'C:\\\\githealth\\\\dicom-samples\\\\visus.com\\\\case4\\\\case4a_002.dcm')\n",
    "#print(r.status_code)\n",
    "#print(r.request.headers)"
   ]
  },
  {
   "cell_type": "code",
   "execution_count": null,
   "metadata": {},
   "outputs": [],
   "source": [
    "from collections import OrderedDict\n",
    "def store_files_to_dicomweb_with_logging_to_dataframe(filepaths, df = None):\n",
    "    if df is None:\n",
    "        # Then we have a blank dataframe, maybe do something here.\n",
    "        #   for now, I'm just using a blank one.\n",
    "        #columns = ['fname','status_code','response_notes']\n",
    "        df = pd.DataFrame()\n",
    "        df['fname']=filepaths\n",
    "    \n",
    "    # Fastest to just use lists and dictionaries then create a new dataframe from that...\n",
    "    numfiles=len(filepaths)\n",
    "    current_count=0\n",
    "    \n",
    "    files_info = []\n",
    "    for file in filepaths:\n",
    "        \n",
    "        # Upload a single file at a time (and time it)\n",
    "        r = upload_single_dcm_file(url,file)     # call API and get response \n",
    "        d = OrderedDict()   # create a new ordered dictionary\n",
    "        \n",
    "        # Add the information to the dictionary\n",
    "        d['fname'] = str(file)     \n",
    "        d['method'] = r.request.method\n",
    "        d['url'] = r.url\n",
    "        d['path_url'] = r.request.path_url\n",
    "        d['request_headers'] = str(r.request.headers)\n",
    "        d['request_body_trimmed'] = r.request.body[0:150]   \n",
    "\n",
    "        d['ok'] = r.ok\n",
    "        d['status_code'] = r.status_code  \n",
    "        d['reason'] = r.reason\n",
    "        d['response_headers'] = r.headers\n",
    "        d['response_text'] = r.text  \n",
    "        d['elapsed_time'] = r.elapsed\n",
    "        d['apparent_encoding'] = r.apparent_encoding\n",
    "        d['encoding'] = r.encoding\n",
    "        \n",
    " \n",
    "        files_info.append(d)\n",
    "        current_count += 1\n",
    "        if current_count%250==0:\n",
    "            print(f\"{current_count} of {numfiles} uploaded\")\n",
    "\n",
    "    # Create a dataframe from the uploads\n",
    "    df = pd.DataFrame(files_info)               \n",
    "    return df\n",
    "        \n",
    "    \n",
    "    "
   ]
  },
  {
   "cell_type": "code",
   "execution_count": null,
   "metadata": {},
   "outputs": [],
   "source": [
    "df = store_files_to_dicomweb_with_logging_to_dataframe(files)"
   ]
  },
  {
   "cell_type": "code",
   "execution_count": null,
   "metadata": {},
   "outputs": [],
   "source": []
  },
  {
   "cell_type": "code",
   "execution_count": null,
   "metadata": {},
   "outputs": [],
   "source": [
    "df.head()"
   ]
  },
  {
   "cell_type": "code",
   "execution_count": null,
   "metadata": {},
   "outputs": [],
   "source": [
    "df.to_csv('TestDicomUploads-4DLungSubset.csv')"
   ]
  },
  {
   "cell_type": "code",
   "execution_count": null,
   "metadata": {},
   "outputs": [],
   "source": [
    "len(df)"
   ]
  },
  {
   "cell_type": "code",
   "execution_count": null,
   "metadata": {},
   "outputs": [],
   "source": []
  },
  {
   "cell_type": "code",
   "execution_count": null,
   "metadata": {},
   "outputs": [],
   "source": [
    "start_time = time.time()\n",
    "r = upload_single_dcm_file(url,'C:\\\\githealth\\\\dicom-samples\\\\visus.com\\\\case4\\\\case4a_002.dcm')\n",
    "elapsed_time = time.time()-start_time\n",
    "print(elapsed_time)\n",
    "\n",
    "print(r.status_code)"
   ]
  },
  {
   "cell_type": "code",
   "execution_count": null,
   "metadata": {},
   "outputs": [],
   "source": [
    "print(str(r.request.headers))\n",
    "r.request.headers.values"
   ]
  },
  {
   "cell_type": "code",
   "execution_count": null,
   "metadata": {},
   "outputs": [],
   "source": [
    "df['status_code'] = 'foo'"
   ]
  },
  {
   "cell_type": "code",
   "execution_count": null,
   "metadata": {},
   "outputs": [],
   "source": [
    "rows_list = []\n",
    "for row in input_rows:\n",
    "\n",
    "        dict1 = {}\n",
    "        # get input row in dictionary format\n",
    "        # key = col_name\n",
    "        dict1.update(blah..) \n",
    "\n",
    "        rows_list.append(dict1)\n",
    "\n",
    "df = pd.DataFrame(rows_list)               "
   ]
  },
  {
   "cell_type": "code",
   "execution_count": null,
   "metadata": {},
   "outputs": [],
   "source": []
  },
  {
   "cell_type": "code",
   "execution_count": null,
   "metadata": {},
   "outputs": [],
   "source": [
    "start = time.time()\n"
   ]
  },
  {
   "cell_type": "code",
   "execution_count": null,
   "metadata": {},
   "outputs": [],
   "source": [
    "end = time.time()\n",
    "print(end-start)\n"
   ]
  },
  {
   "cell_type": "code",
   "execution_count": null,
   "metadata": {},
   "outputs": [],
   "source": []
  },
  {
   "cell_type": "code",
   "execution_count": null,
   "metadata": {},
   "outputs": [],
   "source": []
  },
  {
   "cell_type": "code",
   "execution_count": null,
   "metadata": {},
   "outputs": [],
   "source": [
    "len(files)"
   ]
  },
  {
   "cell_type": "code",
   "execution_count": null,
   "metadata": {},
   "outputs": [],
   "source": [
    "%timeit\n",
    "import os\n",
    "rootdir = \"C:\\\\githealth\\\\dicom-samples\\\\\"\n",
    "\n",
    "for subdir, dirs, files in os.walk(rootdir):\n",
    "    if '.git' in subdir:\n",
    "        continue\n",
    "    for file in files:\n",
    "        if not '.dcm' in file:\n",
    "            continue\n",
    "        fname = os.path.join(subdir, file)\n",
    "        print(fname)\n",
    "        r = upload_dcm_file(url, fname)\n",
    "        print(r.status_code)"
   ]
  }
 ],
 "metadata": {
  "kernelspec": {
   "display_name": "Python 3",
   "language": "python",
   "name": "python3"
  },
  "language_info": {
   "codemirror_mode": {
    "name": "ipython",
    "version": 3
   },
   "file_extension": ".py",
   "mimetype": "text/x-python",
   "name": "python",
   "nbconvert_exporter": "python",
   "pygments_lexer": "ipython3",
   "version": "3.7.7"
  }
 },
 "nbformat": 4,
 "nbformat_minor": 2
}
