{
 "cells": [
  {
   "cell_type": "code",
   "execution_count": 1,
   "metadata": {},
   "outputs": [],
   "source": [
    "import httpx\n",
    "import asyncio\n",
    "import pandas as pd\n",
    "import azure.storage.queue as asq\n",
    "import os\n",
    "import json\n",
    "import time\n",
    "from pathlib import Path\n",
    "\n",
    "# variables used throughout\n",
    "tciabase = 'https://services.cancerimagingarchive.net/services/v3/TCIA/query'\n",
    "series_df_folder = 'c:\\\\githealth\\\\notebooks\\\\data\\\\'"
   ]
  },
  {
   "cell_type": "code",
   "execution_count": 101,
   "metadata": {},
   "outputs": [
    {
     "data": {
      "text/plain": [
       "97"
      ]
     },
     "execution_count": 101,
     "metadata": {},
     "output_type": "execute_result"
    }
   ],
   "source": [
    "# Aggregate all CSV files into a single dataframe\n",
    "files = [x for x in Path(series_df_folder).glob('*.csv')] \n",
    "len(files)"
   ]
  },
  {
   "cell_type": "code",
   "execution_count": 102,
   "metadata": {},
   "outputs": [
    {
     "data": {
      "text/html": [
       "<div>\n",
       "<style scoped>\n",
       "    .dataframe tbody tr th:only-of-type {\n",
       "        vertical-align: middle;\n",
       "    }\n",
       "\n",
       "    .dataframe tbody tr th {\n",
       "        vertical-align: top;\n",
       "    }\n",
       "\n",
       "    .dataframe thead th {\n",
       "        text-align: right;\n",
       "    }\n",
       "</style>\n",
       "<table border=\"1\" class=\"dataframe\">\n",
       "  <thead>\n",
       "    <tr style=\"text-align: right;\">\n",
       "      <th></th>\n",
       "      <th>Unnamed: 0</th>\n",
       "      <th>Collection</th>\n",
       "      <th>PatientID</th>\n",
       "      <th>PatientName</th>\n",
       "      <th>PatientSex</th>\n",
       "      <th>StudyInstanceUID</th>\n",
       "      <th>StudyDate</th>\n",
       "      <th>StudyDescription</th>\n",
       "      <th>PatientAge</th>\n",
       "      <th>SeriesCount</th>\n",
       "      <th>...</th>\n",
       "      <th>ProtocolName</th>\n",
       "      <th>SeriesDate</th>\n",
       "      <th>SeriesDescription</th>\n",
       "      <th>BodyPartExamined</th>\n",
       "      <th>SeriesNumber</th>\n",
       "      <th>Manufacturer</th>\n",
       "      <th>ManufacturerModelName</th>\n",
       "      <th>SoftwareVersions</th>\n",
       "      <th>Visibility</th>\n",
       "      <th>ImageCount</th>\n",
       "    </tr>\n",
       "  </thead>\n",
       "  <tbody>\n",
       "    <tr>\n",
       "      <th>0</th>\n",
       "      <td>0</td>\n",
       "      <td>TCGA-UCEC</td>\n",
       "      <td>TCGA-D1-A169</td>\n",
       "      <td>TCGA-D1-A169</td>\n",
       "      <td>F</td>\n",
       "      <td>1.3.6.1.4.1.14519.5.2.1.3344.4020.247048849237...</td>\n",
       "      <td>1995-10-01</td>\n",
       "      <td>CT ABDOMEN w + PELVIS w</td>\n",
       "      <td>069Y</td>\n",
       "      <td>3</td>\n",
       "      <td>...</td>\n",
       "      <td>02_0_Abdomen_Pelvis_Oncology</td>\n",
       "      <td>1995-10-01</td>\n",
       "      <td>Topogram  0.6  T20s</td>\n",
       "      <td>UTERUS</td>\n",
       "      <td>2.0</td>\n",
       "      <td>SIEMENS</td>\n",
       "      <td>Sensation 64</td>\n",
       "      <td>syngo CT 2009E</td>\n",
       "      <td>1</td>\n",
       "      <td>2</td>\n",
       "    </tr>\n",
       "    <tr>\n",
       "      <th>1</th>\n",
       "      <td>1</td>\n",
       "      <td>TCGA-UCEC</td>\n",
       "      <td>TCGA-D1-A169</td>\n",
       "      <td>TCGA-D1-A169</td>\n",
       "      <td>F</td>\n",
       "      <td>1.3.6.1.4.1.14519.5.2.1.3344.4020.247048849237...</td>\n",
       "      <td>1995-10-01</td>\n",
       "      <td>CT ABDOMEN w + PELVIS w</td>\n",
       "      <td>069Y</td>\n",
       "      <td>3</td>\n",
       "      <td>...</td>\n",
       "      <td>02_0_Abdomen_Pelvis_Oncology</td>\n",
       "      <td>1995-10-01</td>\n",
       "      <td>AP   5.0  B30f</td>\n",
       "      <td>UTERUS</td>\n",
       "      <td>3.0</td>\n",
       "      <td>SIEMENS</td>\n",
       "      <td>Sensation 64</td>\n",
       "      <td>syngo CT 2009E</td>\n",
       "      <td>1</td>\n",
       "      <td>97</td>\n",
       "    </tr>\n",
       "  </tbody>\n",
       "</table>\n",
       "<p>2 rows × 22 columns</p>\n",
       "</div>"
      ],
      "text/plain": [
       "   Unnamed: 0 Collection     PatientID   PatientName PatientSex  \\\n",
       "0           0  TCGA-UCEC  TCGA-D1-A169  TCGA-D1-A169          F   \n",
       "1           1  TCGA-UCEC  TCGA-D1-A169  TCGA-D1-A169          F   \n",
       "\n",
       "                                    StudyInstanceUID   StudyDate  \\\n",
       "0  1.3.6.1.4.1.14519.5.2.1.3344.4020.247048849237...  1995-10-01   \n",
       "1  1.3.6.1.4.1.14519.5.2.1.3344.4020.247048849237...  1995-10-01   \n",
       "\n",
       "          StudyDescription PatientAge  SeriesCount  ...  \\\n",
       "0  CT ABDOMEN w + PELVIS w       069Y            3  ...   \n",
       "1  CT ABDOMEN w + PELVIS w       069Y            3  ...   \n",
       "\n",
       "                   ProtocolName  SeriesDate    SeriesDescription  \\\n",
       "0  02_0_Abdomen_Pelvis_Oncology  1995-10-01  Topogram  0.6  T20s   \n",
       "1  02_0_Abdomen_Pelvis_Oncology  1995-10-01       AP   5.0  B30f   \n",
       "\n",
       "  BodyPartExamined SeriesNumber Manufacturer  ManufacturerModelName  \\\n",
       "0           UTERUS          2.0      SIEMENS           Sensation 64   \n",
       "1           UTERUS          3.0      SIEMENS           Sensation 64   \n",
       "\n",
       "  SoftwareVersions Visibility ImageCount  \n",
       "0   syngo CT 2009E          1          2  \n",
       "1   syngo CT 2009E          1         97  \n",
       "\n",
       "[2 rows x 22 columns]"
      ]
     },
     "execution_count": 102,
     "metadata": {},
     "output_type": "execute_result"
    }
   ],
   "source": [
    "df_series = pd.DataFrame()\n",
    "for file in files:\n",
    "    df = pd.read_csv(file)\n",
    "    df_series = df_series.append(df, ignore_index=True, verify_integrity=True)\n",
    "df_series = df_series.drop(df_series.columns[0], axis=1) # During merge pandas adds a munges the index so no data is potentially lost, drop it\n",
    "df.head(2)"
   ]
  },
  {
   "cell_type": "code",
   "execution_count": 103,
   "metadata": {},
   "outputs": [
    {
     "name": "stdout",
     "output_type": "stream",
     "text": [
      "120888\n"
     ]
    },
    {
     "data": {
      "text/html": [
       "<div>\n",
       "<style scoped>\n",
       "    .dataframe tbody tr th:only-of-type {\n",
       "        vertical-align: middle;\n",
       "    }\n",
       "\n",
       "    .dataframe tbody tr th {\n",
       "        vertical-align: top;\n",
       "    }\n",
       "\n",
       "    .dataframe thead th {\n",
       "        text-align: right;\n",
       "    }\n",
       "</style>\n",
       "<table border=\"1\" class=\"dataframe\">\n",
       "  <thead>\n",
       "    <tr style=\"text-align: right;\">\n",
       "      <th></th>\n",
       "      <th>Collection</th>\n",
       "      <th>PatientID</th>\n",
       "      <th>PatientName</th>\n",
       "      <th>PatientSex</th>\n",
       "      <th>StudyInstanceUID</th>\n",
       "      <th>StudyDate</th>\n",
       "      <th>StudyDescription</th>\n",
       "      <th>PatientAge</th>\n",
       "      <th>SeriesCount</th>\n",
       "      <th>SeriesInstanceUID</th>\n",
       "      <th>...</th>\n",
       "      <th>BodyPartExamined</th>\n",
       "      <th>SeriesNumber</th>\n",
       "      <th>Manufacturer</th>\n",
       "      <th>ManufacturerModelName</th>\n",
       "      <th>SoftwareVersions</th>\n",
       "      <th>Visibility</th>\n",
       "      <th>ImageCount</th>\n",
       "      <th>Unnamed: 0.1</th>\n",
       "      <th>Unnamed: 0.1.1</th>\n",
       "      <th>AnnotationsFlag</th>\n",
       "    </tr>\n",
       "  </thead>\n",
       "  <tbody>\n",
       "    <tr>\n",
       "      <th>0</th>\n",
       "      <td>4D-Lung</td>\n",
       "      <td>100_HM10395</td>\n",
       "      <td>P100</td>\n",
       "      <td>M</td>\n",
       "      <td>1.3.6.1.4.1.14519.5.2.1.6834.5010.119076582718...</td>\n",
       "      <td>1997-10-28</td>\n",
       "      <td>p4</td>\n",
       "      <td>000Y</td>\n",
       "      <td>10.0</td>\n",
       "      <td>1.3.6.1.4.1.14519.5.2.1.6834.5010.790522551686...</td>\n",
       "      <td>...</td>\n",
       "      <td>LUNG</td>\n",
       "      <td>507.0</td>\n",
       "      <td>Varian Imaging Laboratories, Switzerland</td>\n",
       "      <td>Trilogy Cone Beam CT</td>\n",
       "      <td>LightSpeedverrel</td>\n",
       "      <td>1.0</td>\n",
       "      <td>50.0</td>\n",
       "      <td>NaN</td>\n",
       "      <td>NaN</td>\n",
       "      <td>NaN</td>\n",
       "    </tr>\n",
       "    <tr>\n",
       "      <th>1</th>\n",
       "      <td>4D-Lung</td>\n",
       "      <td>100_HM10395</td>\n",
       "      <td>P100</td>\n",
       "      <td>M</td>\n",
       "      <td>1.3.6.1.4.1.14519.5.2.1.6834.5010.119076582718...</td>\n",
       "      <td>1997-10-28</td>\n",
       "      <td>p4</td>\n",
       "      <td>000Y</td>\n",
       "      <td>10.0</td>\n",
       "      <td>1.3.6.1.4.1.14519.5.2.1.6834.5010.247324515019...</td>\n",
       "      <td>...</td>\n",
       "      <td>LUNG</td>\n",
       "      <td>508.0</td>\n",
       "      <td>Varian Imaging Laboratories, Switzerland</td>\n",
       "      <td>Trilogy Cone Beam CT</td>\n",
       "      <td>LightSpeedverrel</td>\n",
       "      <td>1.0</td>\n",
       "      <td>50.0</td>\n",
       "      <td>NaN</td>\n",
       "      <td>NaN</td>\n",
       "      <td>NaN</td>\n",
       "    </tr>\n",
       "    <tr>\n",
       "      <th>2</th>\n",
       "      <td>4D-Lung</td>\n",
       "      <td>100_HM10395</td>\n",
       "      <td>P100</td>\n",
       "      <td>M</td>\n",
       "      <td>1.3.6.1.4.1.14519.5.2.1.6834.5010.119076582718...</td>\n",
       "      <td>1997-10-28</td>\n",
       "      <td>p4</td>\n",
       "      <td>000Y</td>\n",
       "      <td>10.0</td>\n",
       "      <td>1.3.6.1.4.1.14519.5.2.1.6834.5010.288280716330...</td>\n",
       "      <td>...</td>\n",
       "      <td>LUNG</td>\n",
       "      <td>505.0</td>\n",
       "      <td>Varian Imaging Laboratories, Switzerland</td>\n",
       "      <td>Trilogy Cone Beam CT</td>\n",
       "      <td>LightSpeedverrel</td>\n",
       "      <td>1.0</td>\n",
       "      <td>50.0</td>\n",
       "      <td>NaN</td>\n",
       "      <td>NaN</td>\n",
       "      <td>NaN</td>\n",
       "    </tr>\n",
       "    <tr>\n",
       "      <th>3</th>\n",
       "      <td>4D-Lung</td>\n",
       "      <td>100_HM10395</td>\n",
       "      <td>P100</td>\n",
       "      <td>M</td>\n",
       "      <td>1.3.6.1.4.1.14519.5.2.1.6834.5010.119076582718...</td>\n",
       "      <td>1997-10-28</td>\n",
       "      <td>p4</td>\n",
       "      <td>000Y</td>\n",
       "      <td>10.0</td>\n",
       "      <td>1.3.6.1.4.1.14519.5.2.1.6834.5010.336704149861...</td>\n",
       "      <td>...</td>\n",
       "      <td>LUNG</td>\n",
       "      <td>503.0</td>\n",
       "      <td>Varian Imaging Laboratories, Switzerland</td>\n",
       "      <td>Trilogy Cone Beam CT</td>\n",
       "      <td>LightSpeedverrel</td>\n",
       "      <td>1.0</td>\n",
       "      <td>50.0</td>\n",
       "      <td>NaN</td>\n",
       "      <td>NaN</td>\n",
       "      <td>NaN</td>\n",
       "    </tr>\n",
       "    <tr>\n",
       "      <th>4</th>\n",
       "      <td>4D-Lung</td>\n",
       "      <td>100_HM10395</td>\n",
       "      <td>P100</td>\n",
       "      <td>M</td>\n",
       "      <td>1.3.6.1.4.1.14519.5.2.1.6834.5010.119076582718...</td>\n",
       "      <td>1997-10-28</td>\n",
       "      <td>p4</td>\n",
       "      <td>000Y</td>\n",
       "      <td>10.0</td>\n",
       "      <td>1.3.6.1.4.1.14519.5.2.1.6834.5010.220026873632...</td>\n",
       "      <td>...</td>\n",
       "      <td>LUNG</td>\n",
       "      <td>504.0</td>\n",
       "      <td>Varian Imaging Laboratories, Switzerland</td>\n",
       "      <td>Trilogy Cone Beam CT</td>\n",
       "      <td>LightSpeedverrel</td>\n",
       "      <td>1.0</td>\n",
       "      <td>50.0</td>\n",
       "      <td>NaN</td>\n",
       "      <td>NaN</td>\n",
       "      <td>NaN</td>\n",
       "    </tr>\n",
       "  </tbody>\n",
       "</table>\n",
       "<p>5 rows × 24 columns</p>\n",
       "</div>"
      ],
      "text/plain": [
       "  Collection    PatientID PatientName PatientSex  \\\n",
       "0    4D-Lung  100_HM10395        P100          M   \n",
       "1    4D-Lung  100_HM10395        P100          M   \n",
       "2    4D-Lung  100_HM10395        P100          M   \n",
       "3    4D-Lung  100_HM10395        P100          M   \n",
       "4    4D-Lung  100_HM10395        P100          M   \n",
       "\n",
       "                                    StudyInstanceUID   StudyDate  \\\n",
       "0  1.3.6.1.4.1.14519.5.2.1.6834.5010.119076582718...  1997-10-28   \n",
       "1  1.3.6.1.4.1.14519.5.2.1.6834.5010.119076582718...  1997-10-28   \n",
       "2  1.3.6.1.4.1.14519.5.2.1.6834.5010.119076582718...  1997-10-28   \n",
       "3  1.3.6.1.4.1.14519.5.2.1.6834.5010.119076582718...  1997-10-28   \n",
       "4  1.3.6.1.4.1.14519.5.2.1.6834.5010.119076582718...  1997-10-28   \n",
       "\n",
       "  StudyDescription PatientAge  SeriesCount  \\\n",
       "0               p4       000Y         10.0   \n",
       "1               p4       000Y         10.0   \n",
       "2               p4       000Y         10.0   \n",
       "3               p4       000Y         10.0   \n",
       "4               p4       000Y         10.0   \n",
       "\n",
       "                                   SeriesInstanceUID  ... BodyPartExamined  \\\n",
       "0  1.3.6.1.4.1.14519.5.2.1.6834.5010.790522551686...  ...             LUNG   \n",
       "1  1.3.6.1.4.1.14519.5.2.1.6834.5010.247324515019...  ...             LUNG   \n",
       "2  1.3.6.1.4.1.14519.5.2.1.6834.5010.288280716330...  ...             LUNG   \n",
       "3  1.3.6.1.4.1.14519.5.2.1.6834.5010.336704149861...  ...             LUNG   \n",
       "4  1.3.6.1.4.1.14519.5.2.1.6834.5010.220026873632...  ...             LUNG   \n",
       "\n",
       "  SeriesNumber                              Manufacturer  \\\n",
       "0        507.0  Varian Imaging Laboratories, Switzerland   \n",
       "1        508.0  Varian Imaging Laboratories, Switzerland   \n",
       "2        505.0  Varian Imaging Laboratories, Switzerland   \n",
       "3        503.0  Varian Imaging Laboratories, Switzerland   \n",
       "4        504.0  Varian Imaging Laboratories, Switzerland   \n",
       "\n",
       "  ManufacturerModelName  SoftwareVersions  Visibility ImageCount Unnamed: 0.1  \\\n",
       "0  Trilogy Cone Beam CT  LightSpeedverrel         1.0       50.0          NaN   \n",
       "1  Trilogy Cone Beam CT  LightSpeedverrel         1.0       50.0          NaN   \n",
       "2  Trilogy Cone Beam CT  LightSpeedverrel         1.0       50.0          NaN   \n",
       "3  Trilogy Cone Beam CT  LightSpeedverrel         1.0       50.0          NaN   \n",
       "4  Trilogy Cone Beam CT  LightSpeedverrel         1.0       50.0          NaN   \n",
       "\n",
       "  Unnamed: 0.1.1  AnnotationsFlag  \n",
       "0            NaN              NaN  \n",
       "1            NaN              NaN  \n",
       "2            NaN              NaN  \n",
       "3            NaN              NaN  \n",
       "4            NaN              NaN  \n",
       "\n",
       "[5 rows x 24 columns]"
      ]
     },
     "execution_count": 103,
     "metadata": {},
     "output_type": "execute_result"
    }
   ],
   "source": [
    "print(len(df_series))\n",
    "df_series.head()"
   ]
  },
  {
   "cell_type": "code",
   "execution_count": 120,
   "metadata": {},
   "outputs": [
    {
     "data": {
      "text/html": [
       "<div>\n",
       "<style scoped>\n",
       "    .dataframe tbody tr th:only-of-type {\n",
       "        vertical-align: middle;\n",
       "    }\n",
       "\n",
       "    .dataframe tbody tr th {\n",
       "        vertical-align: top;\n",
       "    }\n",
       "\n",
       "    .dataframe thead th {\n",
       "        text-align: right;\n",
       "    }\n",
       "</style>\n",
       "<table border=\"1\" class=\"dataframe\">\n",
       "  <thead>\n",
       "    <tr style=\"text-align: right;\">\n",
       "      <th></th>\n",
       "      <th>Collection</th>\n",
       "      <th>PatientID</th>\n",
       "      <th>PatientName</th>\n",
       "      <th>PatientSex</th>\n",
       "      <th>StudyInstanceUID</th>\n",
       "      <th>StudyDate</th>\n",
       "      <th>StudyDescription</th>\n",
       "      <th>PatientAge</th>\n",
       "      <th>SeriesCount</th>\n",
       "      <th>SeriesInstanceUID</th>\n",
       "      <th>...</th>\n",
       "      <th>BodyPartExamined</th>\n",
       "      <th>SeriesNumber</th>\n",
       "      <th>Manufacturer</th>\n",
       "      <th>ManufacturerModelName</th>\n",
       "      <th>SoftwareVersions</th>\n",
       "      <th>Visibility</th>\n",
       "      <th>ImageCount</th>\n",
       "      <th>Unnamed: 0.1</th>\n",
       "      <th>Unnamed: 0.1.1</th>\n",
       "      <th>AnnotationsFlag</th>\n",
       "    </tr>\n",
       "  </thead>\n",
       "  <tbody>\n",
       "    <tr>\n",
       "      <th>count</th>\n",
       "      <td>120888</td>\n",
       "      <td>120888</td>\n",
       "      <td>117280</td>\n",
       "      <td>110731</td>\n",
       "      <td>120888</td>\n",
       "      <td>120888</td>\n",
       "      <td>111126</td>\n",
       "      <td>95439</td>\n",
       "      <td>120888.0</td>\n",
       "      <td>120888</td>\n",
       "      <td>...</td>\n",
       "      <td>93911</td>\n",
       "      <td>119002.0</td>\n",
       "      <td>114299</td>\n",
       "      <td>113448</td>\n",
       "      <td>109431</td>\n",
       "      <td>120888.0</td>\n",
       "      <td>120888.0</td>\n",
       "      <td>1398.0</td>\n",
       "      <td>1398.0</td>\n",
       "      <td>1201.0</td>\n",
       "    </tr>\n",
       "    <tr>\n",
       "      <th>unique</th>\n",
       "      <td>96</td>\n",
       "      <td>10264</td>\n",
       "      <td>8984</td>\n",
       "      <td>5</td>\n",
       "      <td>18915</td>\n",
       "      <td>6754</td>\n",
       "      <td>3155</td>\n",
       "      <td>118</td>\n",
       "      <td>NaN</td>\n",
       "      <td>120888</td>\n",
       "      <td>...</td>\n",
       "      <td>74</td>\n",
       "      <td>NaN</td>\n",
       "      <td>84</td>\n",
       "      <td>289</td>\n",
       "      <td>511</td>\n",
       "      <td>NaN</td>\n",
       "      <td>NaN</td>\n",
       "      <td>NaN</td>\n",
       "      <td>NaN</td>\n",
       "      <td>NaN</td>\n",
       "    </tr>\n",
       "  </tbody>\n",
       "</table>\n",
       "<p>2 rows × 24 columns</p>\n",
       "</div>"
      ],
      "text/plain": [
       "       Collection PatientID PatientName PatientSex StudyInstanceUID StudyDate  \\\n",
       "count      120888    120888      117280     110731           120888    120888   \n",
       "unique         96     10264        8984          5            18915      6754   \n",
       "\n",
       "       StudyDescription PatientAge  SeriesCount SeriesInstanceUID  ...  \\\n",
       "count            111126      95439     120888.0            120888  ...   \n",
       "unique             3155        118          NaN            120888  ...   \n",
       "\n",
       "       BodyPartExamined SeriesNumber Manufacturer ManufacturerModelName  \\\n",
       "count             93911     119002.0       114299                113448   \n",
       "unique               74          NaN           84                   289   \n",
       "\n",
       "       SoftwareVersions  Visibility ImageCount Unnamed: 0.1 Unnamed: 0.1.1  \\\n",
       "count            109431    120888.0   120888.0       1398.0         1398.0   \n",
       "unique              511         NaN        NaN          NaN            NaN   \n",
       "\n",
       "        AnnotationsFlag  \n",
       "count            1201.0  \n",
       "unique              NaN  \n",
       "\n",
       "[2 rows x 24 columns]"
      ]
     },
     "execution_count": 120,
     "metadata": {},
     "output_type": "execute_result"
    }
   ],
   "source": [
    "df = df_series.describe(include='all').head(2)\n",
    "#df.to_csv('C:\\\\githealth\\\\data\\\\TciaSummaryStats.csv')\n",
    "df"
   ]
  },
  {
   "cell_type": "code",
   "execution_count": 105,
   "metadata": {},
   "outputs": [
    {
     "data": {
      "text/plain": [
       "Index(['Collection', 'PatientID', 'PatientName', 'PatientSex',\n",
       "       'StudyInstanceUID', 'StudyDate', 'StudyDescription', 'PatientAge',\n",
       "       'SeriesCount', 'SeriesInstanceUID', 'Modality', 'ProtocolName',\n",
       "       'SeriesDate', 'SeriesDescription', 'BodyPartExamined', 'SeriesNumber',\n",
       "       'Manufacturer', 'ManufacturerModelName', 'SoftwareVersions',\n",
       "       'Visibility', 'ImageCount', 'Unnamed: 0.1', 'Unnamed: 0.1.1',\n",
       "       'AnnotationsFlag'],\n",
       "      dtype='object')"
      ]
     },
     "execution_count": 105,
     "metadata": {},
     "output_type": "execute_result"
    }
   ],
   "source": [
    "df_series.columns"
   ]
  },
  {
   "cell_type": "code",
   "execution_count": 106,
   "metadata": {},
   "outputs": [],
   "source": [
    "# Unique values so far\n",
    "# 96 collections\n",
    "# \n",
    "\n",
    "#df_series['SeriesCount'].head(25)\n",
    "df_trimmed = df_series[['Collection', 'PatientID', 'StudyInstanceUID', \n",
    "                        'SeriesCount', 'SeriesInstanceUID', 'SeriesNumber', 'ImageCount']]\n"
   ]
  },
  {
   "cell_type": "code",
   "execution_count": 107,
   "metadata": {},
   "outputs": [
    {
     "data": {
      "text/plain": [
       "26118205.0"
      ]
     },
     "execution_count": 107,
     "metadata": {},
     "output_type": "execute_result"
    }
   ],
   "source": [
    "df_trimmed['ImageCount'].sum()"
   ]
  },
  {
   "cell_type": "code",
   "execution_count": 2,
   "metadata": {},
   "outputs": [],
   "source": [
    "#df_series.to_csv('C:\\\\githealth\\\\data\\\\TciaSeriesDataForAllCollections.csv')\n"
   ]
  },
  {
   "cell_type": "code",
   "execution_count": null,
   "metadata": {},
   "outputs": [],
   "source": []
  },
  {
   "cell_type": "code",
   "execution_count": 4,
   "metadata": {},
   "outputs": [],
   "source": [
    "df = pd.read_csv('C:\\\\githealth\\\\notebooks\\\\data\\\\TciaSeriesDataForAllCollections.csv')"
   ]
  },
  {
   "cell_type": "code",
   "execution_count": 5,
   "metadata": {},
   "outputs": [
    {
     "data": {
      "text/plain": [
       "120888"
      ]
     },
     "execution_count": 5,
     "metadata": {},
     "output_type": "execute_result"
    }
   ],
   "source": [
    "len(df)"
   ]
  },
  {
   "cell_type": "code",
   "execution_count": 7,
   "metadata": {},
   "outputs": [
    {
     "data": {
      "text/plain": [
       "Index(['Unnamed: 0', 'Collection', 'PatientID', 'PatientName', 'PatientSex',\n",
       "       'StudyInstanceUID', 'StudyDate', 'StudyDescription', 'PatientAge',\n",
       "       'SeriesCount', 'SeriesInstanceUID', 'Modality', 'ProtocolName',\n",
       "       'SeriesDate', 'SeriesDescription', 'BodyPartExamined', 'SeriesNumber',\n",
       "       'Manufacturer', 'ManufacturerModelName', 'SoftwareVersions',\n",
       "       'Visibility', 'ImageCount', 'Unnamed: 0.1', 'Unnamed: 0.1.1',\n",
       "       'AnnotationsFlag'],\n",
       "      dtype='object')"
      ]
     },
     "execution_count": 7,
     "metadata": {},
     "output_type": "execute_result"
    }
   ],
   "source": [
    "df.columns\n"
   ]
  },
  {
   "cell_type": "code",
   "execution_count": 14,
   "metadata": {},
   "outputs": [],
   "source": [
    "df2 = df[['Collection', 'StudyInstanceUID', 'SeriesCount', 'SeriesInstanceUID', 'ImageCount']]"
   ]
  },
  {
   "cell_type": "code",
   "execution_count": 15,
   "metadata": {},
   "outputs": [
    {
     "data": {
      "text/plain": [
       "120888"
      ]
     },
     "execution_count": 15,
     "metadata": {},
     "output_type": "execute_result"
    }
   ],
   "source": [
    "len(df2)"
   ]
  },
  {
   "cell_type": "code",
   "execution_count": 17,
   "metadata": {},
   "outputs": [
    {
     "data": {
      "text/html": [
       "<div>\n",
       "<style scoped>\n",
       "    .dataframe tbody tr th:only-of-type {\n",
       "        vertical-align: middle;\n",
       "    }\n",
       "\n",
       "    .dataframe tbody tr th {\n",
       "        vertical-align: top;\n",
       "    }\n",
       "\n",
       "    .dataframe thead th {\n",
       "        text-align: right;\n",
       "    }\n",
       "</style>\n",
       "<table border=\"1\" class=\"dataframe\">\n",
       "  <thead>\n",
       "    <tr style=\"text-align: right;\">\n",
       "      <th></th>\n",
       "      <th>Collection</th>\n",
       "      <th>StudyInstanceUID</th>\n",
       "      <th>SeriesCount</th>\n",
       "      <th>SeriesInstanceUID</th>\n",
       "      <th>ImageCount</th>\n",
       "    </tr>\n",
       "  </thead>\n",
       "  <tbody>\n",
       "    <tr>\n",
       "      <th>120883</th>\n",
       "      <td>TCGA-UCEC</td>\n",
       "      <td>1.3.6.1.4.1.14519.5.2.1.1706.4020.167204261356...</td>\n",
       "      <td>3.0</td>\n",
       "      <td>1.3.6.1.4.1.14519.5.2.1.1706.4020.572542437976...</td>\n",
       "      <td>106.0</td>\n",
       "    </tr>\n",
       "    <tr>\n",
       "      <th>120884</th>\n",
       "      <td>TCGA-UCEC</td>\n",
       "      <td>1.3.6.1.4.1.14519.5.2.1.1706.4020.103744621346...</td>\n",
       "      <td>4.0</td>\n",
       "      <td>1.3.6.1.4.1.14519.5.2.1.1706.4020.984163594324...</td>\n",
       "      <td>39.0</td>\n",
       "    </tr>\n",
       "    <tr>\n",
       "      <th>120885</th>\n",
       "      <td>TCGA-UCEC</td>\n",
       "      <td>1.3.6.1.4.1.14519.5.2.1.1706.4020.103744621346...</td>\n",
       "      <td>4.0</td>\n",
       "      <td>1.3.6.1.4.1.14519.5.2.1.1706.4020.259558002268...</td>\n",
       "      <td>143.0</td>\n",
       "    </tr>\n",
       "    <tr>\n",
       "      <th>120886</th>\n",
       "      <td>TCGA-UCEC</td>\n",
       "      <td>1.3.6.1.4.1.14519.5.2.1.1706.4020.103744621346...</td>\n",
       "      <td>4.0</td>\n",
       "      <td>1.3.6.1.4.1.14519.5.2.1.1706.4020.282820206564...</td>\n",
       "      <td>282.0</td>\n",
       "    </tr>\n",
       "    <tr>\n",
       "      <th>120887</th>\n",
       "      <td>TCGA-UCEC</td>\n",
       "      <td>1.3.6.1.4.1.14519.5.2.1.1706.4020.103744621346...</td>\n",
       "      <td>4.0</td>\n",
       "      <td>1.3.6.1.4.1.14519.5.2.1.1706.4020.282854123295...</td>\n",
       "      <td>2.0</td>\n",
       "    </tr>\n",
       "  </tbody>\n",
       "</table>\n",
       "</div>"
      ],
      "text/plain": [
       "       Collection                                   StudyInstanceUID  \\\n",
       "120883  TCGA-UCEC  1.3.6.1.4.1.14519.5.2.1.1706.4020.167204261356...   \n",
       "120884  TCGA-UCEC  1.3.6.1.4.1.14519.5.2.1.1706.4020.103744621346...   \n",
       "120885  TCGA-UCEC  1.3.6.1.4.1.14519.5.2.1.1706.4020.103744621346...   \n",
       "120886  TCGA-UCEC  1.3.6.1.4.1.14519.5.2.1.1706.4020.103744621346...   \n",
       "120887  TCGA-UCEC  1.3.6.1.4.1.14519.5.2.1.1706.4020.103744621346...   \n",
       "\n",
       "        SeriesCount                                  SeriesInstanceUID  \\\n",
       "120883          3.0  1.3.6.1.4.1.14519.5.2.1.1706.4020.572542437976...   \n",
       "120884          4.0  1.3.6.1.4.1.14519.5.2.1.1706.4020.984163594324...   \n",
       "120885          4.0  1.3.6.1.4.1.14519.5.2.1.1706.4020.259558002268...   \n",
       "120886          4.0  1.3.6.1.4.1.14519.5.2.1.1706.4020.282820206564...   \n",
       "120887          4.0  1.3.6.1.4.1.14519.5.2.1.1706.4020.282854123295...   \n",
       "\n",
       "        ImageCount  \n",
       "120883       106.0  \n",
       "120884        39.0  \n",
       "120885       143.0  \n",
       "120886       282.0  \n",
       "120887         2.0  "
      ]
     },
     "execution_count": 17,
     "metadata": {},
     "output_type": "execute_result"
    }
   ],
   "source": [
    "df2.tail()"
   ]
  },
  {
   "cell_type": "code",
   "execution_count": 19,
   "metadata": {},
   "outputs": [
    {
     "data": {
      "text/plain": [
       "96"
      ]
     },
     "execution_count": 19,
     "metadata": {},
     "output_type": "execute_result"
    }
   ],
   "source": [
    "len(df.groupby('Collection'))"
   ]
  },
  {
   "cell_type": "code",
   "execution_count": 20,
   "metadata": {},
   "outputs": [],
   "source": [
    "groups = df.groupby('Collection')['ImageCount'].sum()"
   ]
  },
  {
   "cell_type": "code",
   "execution_count": 29,
   "metadata": {},
   "outputs": [
    {
     "data": {
      "text/plain": [
       "Collection\n",
       "Lung Phantom                     345.0\n",
       "Prostate-3T                     1258.0\n",
       "TCGA-READ                       1796.0\n",
       "PDMR-BL0293-F563                2222.0\n",
       "RIDER PHANTOM PET-CT            2231.0\n",
       "                               ...    \n",
       "ACRIN-FLT-Breast              688598.0\n",
       "IvyGAP                        846743.0\n",
       "CT COLONOGRAPHY               941771.0\n",
       "Phantom FDA                  1468751.0\n",
       "LDCT-and-Projection-data    13027273.0\n",
       "Name: ImageCount, Length: 96, dtype: float64"
      ]
     },
     "execution_count": 29,
     "metadata": {},
     "output_type": "execute_result"
    }
   ],
   "source": [
    "groups.sort_values()"
   ]
  },
  {
   "cell_type": "code",
   "execution_count": 35,
   "metadata": {},
   "outputs": [],
   "source": [
    "---------------------------------------------------"
   ]
  },
  {
   "cell_type": "code",
   "execution_count": 36,
   "metadata": {},
   "outputs": [
    {
     "data": {
      "text/plain": [
       "480"
      ]
     },
     "execution_count": 36,
     "metadata": {},
     "output_type": "execute_result"
    }
   ],
   "source": [
    "len(x)"
   ]
  },
  {
   "cell_type": "markdown",
   "metadata": {},
   "source": [
    "## "
   ]
  }
 ],
 "metadata": {
  "kernelspec": {
   "display_name": "Python 3",
   "language": "python",
   "name": "python3"
  },
  "language_info": {
   "codemirror_mode": {
    "name": "ipython",
    "version": 3
   },
   "file_extension": ".py",
   "mimetype": "text/x-python",
   "name": "python",
   "nbconvert_exporter": "python",
   "pygments_lexer": "ipython3",
   "version": "3.7.7"
  }
 },
 "nbformat": 4,
 "nbformat_minor": 4
}
