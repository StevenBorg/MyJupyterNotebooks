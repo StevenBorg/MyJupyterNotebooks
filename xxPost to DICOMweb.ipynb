{
 "cells": [
  {
   "cell_type": "code",
   "execution_count": 1,
   "metadata": {},
   "outputs": [],
   "source": [
    "import os\n",
    "import requests\n",
    "import io\n",
    "import pydicom\n",
    "http://localhost:8888/notebooks/githealth/notebooks/Post%20to%20DICOMweb.ipynb#\n",
    "#see https://stackoverflow.com/questions/15746558/how-to-send-a-multipart-related-with-requests-in-python\n"
   ]
  },
  {
   "cell_type": "code",
   "execution_count": 2,
   "metadata": {},
   "outputs": [],
   "source": [
    "from urllib3.filepost import encode_multipart_formdata, choose_boundary\n",
    "\n",
    "def encode_multipart_related(fields, boundary=None):\n",
    "    if boundary is None:\n",
    "        boundary = choose_boundary()\n",
    "\n",
    "    body, _ = encode_multipart_formdata(fields, boundary)\n",
    "    content_type = str('multipart/related; boundary=%s' % boundary)\n",
    "\n",
    "    return body, content_type"
   ]
  },
  {
   "cell_type": "code",
   "execution_count": 4,
   "metadata": {},
   "outputs": [
    {
     "name": "stdout",
     "output_type": "stream",
     "text": [
      "{'Accept': 'application/dicom+json', 'Content-Type': 'multipart/related; boundary=77d5309f468e5e1640631ab753a2204d'}\n"
     ]
    },
    {
     "ename": "ConnectionError",
     "evalue": "HTTPSConnectionPool(host='dicom-server-instance.azurewebsites.net', port=443): Max retries exceeded with url: /studies (Caused by NewConnectionError('<urllib3.connection.VerifiedHTTPSConnection object at 0x0000027A36A63E08>: Failed to establish a new connection: [Errno 11001] getaddrinfo failed'))",
     "output_type": "error",
     "traceback": [
      "\u001b[1;31m---------------------------------------------------------------------------\u001b[0m",
      "\u001b[1;31mgaierror\u001b[0m                                  Traceback (most recent call last)",
      "\u001b[1;32m~\\AppData\\Local\\Continuum\\anaconda3\\envs\\fastai2\\lib\\site-packages\\urllib3\\connection.py\u001b[0m in \u001b[0;36m_new_conn\u001b[1;34m(self)\u001b[0m\n\u001b[0;32m    156\u001b[0m             conn = connection.create_connection(\n\u001b[1;32m--> 157\u001b[1;33m                 \u001b[1;33m(\u001b[0m\u001b[0mself\u001b[0m\u001b[1;33m.\u001b[0m\u001b[0m_dns_host\u001b[0m\u001b[1;33m,\u001b[0m \u001b[0mself\u001b[0m\u001b[1;33m.\u001b[0m\u001b[0mport\u001b[0m\u001b[1;33m)\u001b[0m\u001b[1;33m,\u001b[0m \u001b[0mself\u001b[0m\u001b[1;33m.\u001b[0m\u001b[0mtimeout\u001b[0m\u001b[1;33m,\u001b[0m \u001b[1;33m**\u001b[0m\u001b[0mextra_kw\u001b[0m\u001b[1;33m\u001b[0m\u001b[1;33m\u001b[0m\u001b[0m\n\u001b[0m\u001b[0;32m    158\u001b[0m             )\n",
      "\u001b[1;32m~\\AppData\\Local\\Continuum\\anaconda3\\envs\\fastai2\\lib\\site-packages\\urllib3\\util\\connection.py\u001b[0m in \u001b[0;36mcreate_connection\u001b[1;34m(address, timeout, source_address, socket_options)\u001b[0m\n\u001b[0;32m     60\u001b[0m \u001b[1;33m\u001b[0m\u001b[0m\n\u001b[1;32m---> 61\u001b[1;33m     \u001b[1;32mfor\u001b[0m \u001b[0mres\u001b[0m \u001b[1;32min\u001b[0m \u001b[0msocket\u001b[0m\u001b[1;33m.\u001b[0m\u001b[0mgetaddrinfo\u001b[0m\u001b[1;33m(\u001b[0m\u001b[0mhost\u001b[0m\u001b[1;33m,\u001b[0m \u001b[0mport\u001b[0m\u001b[1;33m,\u001b[0m \u001b[0mfamily\u001b[0m\u001b[1;33m,\u001b[0m \u001b[0msocket\u001b[0m\u001b[1;33m.\u001b[0m\u001b[0mSOCK_STREAM\u001b[0m\u001b[1;33m)\u001b[0m\u001b[1;33m:\u001b[0m\u001b[1;33m\u001b[0m\u001b[1;33m\u001b[0m\u001b[0m\n\u001b[0m\u001b[0;32m     62\u001b[0m         \u001b[0maf\u001b[0m\u001b[1;33m,\u001b[0m \u001b[0msocktype\u001b[0m\u001b[1;33m,\u001b[0m \u001b[0mproto\u001b[0m\u001b[1;33m,\u001b[0m \u001b[0mcanonname\u001b[0m\u001b[1;33m,\u001b[0m \u001b[0msa\u001b[0m \u001b[1;33m=\u001b[0m \u001b[0mres\u001b[0m\u001b[1;33m\u001b[0m\u001b[1;33m\u001b[0m\u001b[0m\n",
      "\u001b[1;32m~\\AppData\\Local\\Continuum\\anaconda3\\envs\\fastai2\\lib\\socket.py\u001b[0m in \u001b[0;36mgetaddrinfo\u001b[1;34m(host, port, family, type, proto, flags)\u001b[0m\n\u001b[0;32m    751\u001b[0m     \u001b[0maddrlist\u001b[0m \u001b[1;33m=\u001b[0m \u001b[1;33m[\u001b[0m\u001b[1;33m]\u001b[0m\u001b[1;33m\u001b[0m\u001b[1;33m\u001b[0m\u001b[0m\n\u001b[1;32m--> 752\u001b[1;33m     \u001b[1;32mfor\u001b[0m \u001b[0mres\u001b[0m \u001b[1;32min\u001b[0m \u001b[0m_socket\u001b[0m\u001b[1;33m.\u001b[0m\u001b[0mgetaddrinfo\u001b[0m\u001b[1;33m(\u001b[0m\u001b[0mhost\u001b[0m\u001b[1;33m,\u001b[0m \u001b[0mport\u001b[0m\u001b[1;33m,\u001b[0m \u001b[0mfamily\u001b[0m\u001b[1;33m,\u001b[0m \u001b[0mtype\u001b[0m\u001b[1;33m,\u001b[0m \u001b[0mproto\u001b[0m\u001b[1;33m,\u001b[0m \u001b[0mflags\u001b[0m\u001b[1;33m)\u001b[0m\u001b[1;33m:\u001b[0m\u001b[1;33m\u001b[0m\u001b[1;33m\u001b[0m\u001b[0m\n\u001b[0m\u001b[0;32m    753\u001b[0m         \u001b[0maf\u001b[0m\u001b[1;33m,\u001b[0m \u001b[0msocktype\u001b[0m\u001b[1;33m,\u001b[0m \u001b[0mproto\u001b[0m\u001b[1;33m,\u001b[0m \u001b[0mcanonname\u001b[0m\u001b[1;33m,\u001b[0m \u001b[0msa\u001b[0m \u001b[1;33m=\u001b[0m \u001b[0mres\u001b[0m\u001b[1;33m\u001b[0m\u001b[1;33m\u001b[0m\u001b[0m\n",
      "\u001b[1;31mgaierror\u001b[0m: [Errno 11001] getaddrinfo failed",
      "\nDuring handling of the above exception, another exception occurred:\n",
      "\u001b[1;31mNewConnectionError\u001b[0m                        Traceback (most recent call last)",
      "\u001b[1;32m~\\AppData\\Local\\Continuum\\anaconda3\\envs\\fastai2\\lib\\site-packages\\urllib3\\connectionpool.py\u001b[0m in \u001b[0;36murlopen\u001b[1;34m(self, method, url, body, headers, retries, redirect, assert_same_host, timeout, pool_timeout, release_conn, chunked, body_pos, **response_kw)\u001b[0m\n\u001b[0;32m    671\u001b[0m                 \u001b[0mheaders\u001b[0m\u001b[1;33m=\u001b[0m\u001b[0mheaders\u001b[0m\u001b[1;33m,\u001b[0m\u001b[1;33m\u001b[0m\u001b[1;33m\u001b[0m\u001b[0m\n\u001b[1;32m--> 672\u001b[1;33m                 \u001b[0mchunked\u001b[0m\u001b[1;33m=\u001b[0m\u001b[0mchunked\u001b[0m\u001b[1;33m,\u001b[0m\u001b[1;33m\u001b[0m\u001b[1;33m\u001b[0m\u001b[0m\n\u001b[0m\u001b[0;32m    673\u001b[0m             )\n",
      "\u001b[1;32m~\\AppData\\Local\\Continuum\\anaconda3\\envs\\fastai2\\lib\\site-packages\\urllib3\\connectionpool.py\u001b[0m in \u001b[0;36m_make_request\u001b[1;34m(self, conn, method, url, timeout, chunked, **httplib_request_kw)\u001b[0m\n\u001b[0;32m    375\u001b[0m         \u001b[1;32mtry\u001b[0m\u001b[1;33m:\u001b[0m\u001b[1;33m\u001b[0m\u001b[1;33m\u001b[0m\u001b[0m\n\u001b[1;32m--> 376\u001b[1;33m             \u001b[0mself\u001b[0m\u001b[1;33m.\u001b[0m\u001b[0m_validate_conn\u001b[0m\u001b[1;33m(\u001b[0m\u001b[0mconn\u001b[0m\u001b[1;33m)\u001b[0m\u001b[1;33m\u001b[0m\u001b[1;33m\u001b[0m\u001b[0m\n\u001b[0m\u001b[0;32m    377\u001b[0m         \u001b[1;32mexcept\u001b[0m \u001b[1;33m(\u001b[0m\u001b[0mSocketTimeout\u001b[0m\u001b[1;33m,\u001b[0m \u001b[0mBaseSSLError\u001b[0m\u001b[1;33m)\u001b[0m \u001b[1;32mas\u001b[0m \u001b[0me\u001b[0m\u001b[1;33m:\u001b[0m\u001b[1;33m\u001b[0m\u001b[1;33m\u001b[0m\u001b[0m\n",
      "\u001b[1;32m~\\AppData\\Local\\Continuum\\anaconda3\\envs\\fastai2\\lib\\site-packages\\urllib3\\connectionpool.py\u001b[0m in \u001b[0;36m_validate_conn\u001b[1;34m(self, conn)\u001b[0m\n\u001b[0;32m    993\u001b[0m         \u001b[1;32mif\u001b[0m \u001b[1;32mnot\u001b[0m \u001b[0mgetattr\u001b[0m\u001b[1;33m(\u001b[0m\u001b[0mconn\u001b[0m\u001b[1;33m,\u001b[0m \u001b[1;34m\"sock\"\u001b[0m\u001b[1;33m,\u001b[0m \u001b[1;32mNone\u001b[0m\u001b[1;33m)\u001b[0m\u001b[1;33m:\u001b[0m  \u001b[1;31m# AppEngine might not have  `.sock`\u001b[0m\u001b[1;33m\u001b[0m\u001b[1;33m\u001b[0m\u001b[0m\n\u001b[1;32m--> 994\u001b[1;33m             \u001b[0mconn\u001b[0m\u001b[1;33m.\u001b[0m\u001b[0mconnect\u001b[0m\u001b[1;33m(\u001b[0m\u001b[1;33m)\u001b[0m\u001b[1;33m\u001b[0m\u001b[1;33m\u001b[0m\u001b[0m\n\u001b[0m\u001b[0;32m    995\u001b[0m \u001b[1;33m\u001b[0m\u001b[0m\n",
      "\u001b[1;32m~\\AppData\\Local\\Continuum\\anaconda3\\envs\\fastai2\\lib\\site-packages\\urllib3\\connection.py\u001b[0m in \u001b[0;36mconnect\u001b[1;34m(self)\u001b[0m\n\u001b[0;32m    299\u001b[0m         \u001b[1;31m# Add certificate verification\u001b[0m\u001b[1;33m\u001b[0m\u001b[1;33m\u001b[0m\u001b[1;33m\u001b[0m\u001b[0m\n\u001b[1;32m--> 300\u001b[1;33m         \u001b[0mconn\u001b[0m \u001b[1;33m=\u001b[0m \u001b[0mself\u001b[0m\u001b[1;33m.\u001b[0m\u001b[0m_new_conn\u001b[0m\u001b[1;33m(\u001b[0m\u001b[1;33m)\u001b[0m\u001b[1;33m\u001b[0m\u001b[1;33m\u001b[0m\u001b[0m\n\u001b[0m\u001b[0;32m    301\u001b[0m         \u001b[0mhostname\u001b[0m \u001b[1;33m=\u001b[0m \u001b[0mself\u001b[0m\u001b[1;33m.\u001b[0m\u001b[0mhost\u001b[0m\u001b[1;33m\u001b[0m\u001b[1;33m\u001b[0m\u001b[0m\n",
      "\u001b[1;32m~\\AppData\\Local\\Continuum\\anaconda3\\envs\\fastai2\\lib\\site-packages\\urllib3\\connection.py\u001b[0m in \u001b[0;36m_new_conn\u001b[1;34m(self)\u001b[0m\n\u001b[0;32m    168\u001b[0m             raise NewConnectionError(\n\u001b[1;32m--> 169\u001b[1;33m                 \u001b[0mself\u001b[0m\u001b[1;33m,\u001b[0m \u001b[1;34m\"Failed to establish a new connection: %s\"\u001b[0m \u001b[1;33m%\u001b[0m \u001b[0me\u001b[0m\u001b[1;33m\u001b[0m\u001b[1;33m\u001b[0m\u001b[0m\n\u001b[0m\u001b[0;32m    170\u001b[0m             )\n",
      "\u001b[1;31mNewConnectionError\u001b[0m: <urllib3.connection.VerifiedHTTPSConnection object at 0x0000027A36A63E08>: Failed to establish a new connection: [Errno 11001] getaddrinfo failed",
      "\nDuring handling of the above exception, another exception occurred:\n",
      "\u001b[1;31mMaxRetryError\u001b[0m                             Traceback (most recent call last)",
      "\u001b[1;32m~\\AppData\\Local\\Continuum\\anaconda3\\envs\\fastai2\\lib\\site-packages\\requests\\adapters.py\u001b[0m in \u001b[0;36msend\u001b[1;34m(self, request, stream, timeout, verify, cert, proxies)\u001b[0m\n\u001b[0;32m    448\u001b[0m                     \u001b[0mretries\u001b[0m\u001b[1;33m=\u001b[0m\u001b[0mself\u001b[0m\u001b[1;33m.\u001b[0m\u001b[0mmax_retries\u001b[0m\u001b[1;33m,\u001b[0m\u001b[1;33m\u001b[0m\u001b[1;33m\u001b[0m\u001b[0m\n\u001b[1;32m--> 449\u001b[1;33m                     \u001b[0mtimeout\u001b[0m\u001b[1;33m=\u001b[0m\u001b[0mtimeout\u001b[0m\u001b[1;33m\u001b[0m\u001b[1;33m\u001b[0m\u001b[0m\n\u001b[0m\u001b[0;32m    450\u001b[0m                 )\n",
      "\u001b[1;32m~\\AppData\\Local\\Continuum\\anaconda3\\envs\\fastai2\\lib\\site-packages\\urllib3\\connectionpool.py\u001b[0m in \u001b[0;36murlopen\u001b[1;34m(self, method, url, body, headers, retries, redirect, assert_same_host, timeout, pool_timeout, release_conn, chunked, body_pos, **response_kw)\u001b[0m\n\u001b[0;32m    719\u001b[0m             retries = retries.increment(\n\u001b[1;32m--> 720\u001b[1;33m                 \u001b[0mmethod\u001b[0m\u001b[1;33m,\u001b[0m \u001b[0murl\u001b[0m\u001b[1;33m,\u001b[0m \u001b[0merror\u001b[0m\u001b[1;33m=\u001b[0m\u001b[0me\u001b[0m\u001b[1;33m,\u001b[0m \u001b[0m_pool\u001b[0m\u001b[1;33m=\u001b[0m\u001b[0mself\u001b[0m\u001b[1;33m,\u001b[0m \u001b[0m_stacktrace\u001b[0m\u001b[1;33m=\u001b[0m\u001b[0msys\u001b[0m\u001b[1;33m.\u001b[0m\u001b[0mexc_info\u001b[0m\u001b[1;33m(\u001b[0m\u001b[1;33m)\u001b[0m\u001b[1;33m[\u001b[0m\u001b[1;36m2\u001b[0m\u001b[1;33m]\u001b[0m\u001b[1;33m\u001b[0m\u001b[1;33m\u001b[0m\u001b[0m\n\u001b[0m\u001b[0;32m    721\u001b[0m             )\n",
      "\u001b[1;32m~\\AppData\\Local\\Continuum\\anaconda3\\envs\\fastai2\\lib\\site-packages\\urllib3\\util\\retry.py\u001b[0m in \u001b[0;36mincrement\u001b[1;34m(self, method, url, response, error, _pool, _stacktrace)\u001b[0m\n\u001b[0;32m    435\u001b[0m         \u001b[1;32mif\u001b[0m \u001b[0mnew_retry\u001b[0m\u001b[1;33m.\u001b[0m\u001b[0mis_exhausted\u001b[0m\u001b[1;33m(\u001b[0m\u001b[1;33m)\u001b[0m\u001b[1;33m:\u001b[0m\u001b[1;33m\u001b[0m\u001b[1;33m\u001b[0m\u001b[0m\n\u001b[1;32m--> 436\u001b[1;33m             \u001b[1;32mraise\u001b[0m \u001b[0mMaxRetryError\u001b[0m\u001b[1;33m(\u001b[0m\u001b[0m_pool\u001b[0m\u001b[1;33m,\u001b[0m \u001b[0murl\u001b[0m\u001b[1;33m,\u001b[0m \u001b[0merror\u001b[0m \u001b[1;32mor\u001b[0m \u001b[0mResponseError\u001b[0m\u001b[1;33m(\u001b[0m\u001b[0mcause\u001b[0m\u001b[1;33m)\u001b[0m\u001b[1;33m)\u001b[0m\u001b[1;33m\u001b[0m\u001b[1;33m\u001b[0m\u001b[0m\n\u001b[0m\u001b[0;32m    437\u001b[0m \u001b[1;33m\u001b[0m\u001b[0m\n",
      "\u001b[1;31mMaxRetryError\u001b[0m: HTTPSConnectionPool(host='dicom-server-instance.azurewebsites.net', port=443): Max retries exceeded with url: /studies (Caused by NewConnectionError('<urllib3.connection.VerifiedHTTPSConnection object at 0x0000027A36A63E08>: Failed to establish a new connection: [Errno 11001] getaddrinfo failed'))",
      "\nDuring handling of the above exception, another exception occurred:\n",
      "\u001b[1;31mConnectionError\u001b[0m                           Traceback (most recent call last)",
      "\u001b[1;32m<ipython-input-4-587cad101d37>\u001b[0m in \u001b[0;36m<module>\u001b[1;34m\u001b[0m\n\u001b[0;32m     15\u001b[0m \u001b[0mprint\u001b[0m\u001b[1;33m(\u001b[0m\u001b[0mheaders\u001b[0m\u001b[1;33m)\u001b[0m\u001b[1;33m\u001b[0m\u001b[1;33m\u001b[0m\u001b[0m\n\u001b[0;32m     16\u001b[0m \u001b[1;33m\u001b[0m\u001b[0m\n\u001b[1;32m---> 17\u001b[1;33m \u001b[0mr\u001b[0m \u001b[1;33m=\u001b[0m \u001b[0mrequests\u001b[0m\u001b[1;33m.\u001b[0m\u001b[0mpost\u001b[0m\u001b[1;33m(\u001b[0m\u001b[0murl\u001b[0m\u001b[1;33m,\u001b[0m \u001b[0mbody\u001b[0m\u001b[1;33m,\u001b[0m \u001b[0mheaders\u001b[0m\u001b[1;33m=\u001b[0m\u001b[0mheaders\u001b[0m\u001b[1;33m,\u001b[0m \u001b[0mverify\u001b[0m\u001b[1;33m=\u001b[0m\u001b[1;32mFalse\u001b[0m\u001b[1;33m)\u001b[0m\u001b[1;33m\u001b[0m\u001b[1;33m\u001b[0m\u001b[0m\n\u001b[0m",
      "\u001b[1;32m~\\AppData\\Local\\Continuum\\anaconda3\\envs\\fastai2\\lib\\site-packages\\requests\\api.py\u001b[0m in \u001b[0;36mpost\u001b[1;34m(url, data, json, **kwargs)\u001b[0m\n\u001b[0;32m    117\u001b[0m     \"\"\"\n\u001b[0;32m    118\u001b[0m \u001b[1;33m\u001b[0m\u001b[0m\n\u001b[1;32m--> 119\u001b[1;33m     \u001b[1;32mreturn\u001b[0m \u001b[0mrequest\u001b[0m\u001b[1;33m(\u001b[0m\u001b[1;34m'post'\u001b[0m\u001b[1;33m,\u001b[0m \u001b[0murl\u001b[0m\u001b[1;33m,\u001b[0m \u001b[0mdata\u001b[0m\u001b[1;33m=\u001b[0m\u001b[0mdata\u001b[0m\u001b[1;33m,\u001b[0m \u001b[0mjson\u001b[0m\u001b[1;33m=\u001b[0m\u001b[0mjson\u001b[0m\u001b[1;33m,\u001b[0m \u001b[1;33m**\u001b[0m\u001b[0mkwargs\u001b[0m\u001b[1;33m)\u001b[0m\u001b[1;33m\u001b[0m\u001b[1;33m\u001b[0m\u001b[0m\n\u001b[0m\u001b[0;32m    120\u001b[0m \u001b[1;33m\u001b[0m\u001b[0m\n\u001b[0;32m    121\u001b[0m \u001b[1;33m\u001b[0m\u001b[0m\n",
      "\u001b[1;32m~\\AppData\\Local\\Continuum\\anaconda3\\envs\\fastai2\\lib\\site-packages\\requests\\api.py\u001b[0m in \u001b[0;36mrequest\u001b[1;34m(method, url, **kwargs)\u001b[0m\n\u001b[0;32m     59\u001b[0m     \u001b[1;31m# cases, and look like a memory leak in others.\u001b[0m\u001b[1;33m\u001b[0m\u001b[1;33m\u001b[0m\u001b[1;33m\u001b[0m\u001b[0m\n\u001b[0;32m     60\u001b[0m     \u001b[1;32mwith\u001b[0m \u001b[0msessions\u001b[0m\u001b[1;33m.\u001b[0m\u001b[0mSession\u001b[0m\u001b[1;33m(\u001b[0m\u001b[1;33m)\u001b[0m \u001b[1;32mas\u001b[0m \u001b[0msession\u001b[0m\u001b[1;33m:\u001b[0m\u001b[1;33m\u001b[0m\u001b[1;33m\u001b[0m\u001b[0m\n\u001b[1;32m---> 61\u001b[1;33m         \u001b[1;32mreturn\u001b[0m \u001b[0msession\u001b[0m\u001b[1;33m.\u001b[0m\u001b[0mrequest\u001b[0m\u001b[1;33m(\u001b[0m\u001b[0mmethod\u001b[0m\u001b[1;33m=\u001b[0m\u001b[0mmethod\u001b[0m\u001b[1;33m,\u001b[0m \u001b[0murl\u001b[0m\u001b[1;33m=\u001b[0m\u001b[0murl\u001b[0m\u001b[1;33m,\u001b[0m \u001b[1;33m**\u001b[0m\u001b[0mkwargs\u001b[0m\u001b[1;33m)\u001b[0m\u001b[1;33m\u001b[0m\u001b[1;33m\u001b[0m\u001b[0m\n\u001b[0m\u001b[0;32m     62\u001b[0m \u001b[1;33m\u001b[0m\u001b[0m\n\u001b[0;32m     63\u001b[0m \u001b[1;33m\u001b[0m\u001b[0m\n",
      "\u001b[1;32m~\\AppData\\Local\\Continuum\\anaconda3\\envs\\fastai2\\lib\\site-packages\\requests\\sessions.py\u001b[0m in \u001b[0;36mrequest\u001b[1;34m(self, method, url, params, data, headers, cookies, files, auth, timeout, allow_redirects, proxies, hooks, stream, verify, cert, json)\u001b[0m\n\u001b[0;32m    528\u001b[0m         }\n\u001b[0;32m    529\u001b[0m         \u001b[0msend_kwargs\u001b[0m\u001b[1;33m.\u001b[0m\u001b[0mupdate\u001b[0m\u001b[1;33m(\u001b[0m\u001b[0msettings\u001b[0m\u001b[1;33m)\u001b[0m\u001b[1;33m\u001b[0m\u001b[1;33m\u001b[0m\u001b[0m\n\u001b[1;32m--> 530\u001b[1;33m         \u001b[0mresp\u001b[0m \u001b[1;33m=\u001b[0m \u001b[0mself\u001b[0m\u001b[1;33m.\u001b[0m\u001b[0msend\u001b[0m\u001b[1;33m(\u001b[0m\u001b[0mprep\u001b[0m\u001b[1;33m,\u001b[0m \u001b[1;33m**\u001b[0m\u001b[0msend_kwargs\u001b[0m\u001b[1;33m)\u001b[0m\u001b[1;33m\u001b[0m\u001b[1;33m\u001b[0m\u001b[0m\n\u001b[0m\u001b[0;32m    531\u001b[0m \u001b[1;33m\u001b[0m\u001b[0m\n\u001b[0;32m    532\u001b[0m         \u001b[1;32mreturn\u001b[0m \u001b[0mresp\u001b[0m\u001b[1;33m\u001b[0m\u001b[1;33m\u001b[0m\u001b[0m\n",
      "\u001b[1;32m~\\AppData\\Local\\Continuum\\anaconda3\\envs\\fastai2\\lib\\site-packages\\requests\\sessions.py\u001b[0m in \u001b[0;36msend\u001b[1;34m(self, request, **kwargs)\u001b[0m\n\u001b[0;32m    641\u001b[0m \u001b[1;33m\u001b[0m\u001b[0m\n\u001b[0;32m    642\u001b[0m         \u001b[1;31m# Send the request\u001b[0m\u001b[1;33m\u001b[0m\u001b[1;33m\u001b[0m\u001b[1;33m\u001b[0m\u001b[0m\n\u001b[1;32m--> 643\u001b[1;33m         \u001b[0mr\u001b[0m \u001b[1;33m=\u001b[0m \u001b[0madapter\u001b[0m\u001b[1;33m.\u001b[0m\u001b[0msend\u001b[0m\u001b[1;33m(\u001b[0m\u001b[0mrequest\u001b[0m\u001b[1;33m,\u001b[0m \u001b[1;33m**\u001b[0m\u001b[0mkwargs\u001b[0m\u001b[1;33m)\u001b[0m\u001b[1;33m\u001b[0m\u001b[1;33m\u001b[0m\u001b[0m\n\u001b[0m\u001b[0;32m    644\u001b[0m \u001b[1;33m\u001b[0m\u001b[0m\n\u001b[0;32m    645\u001b[0m         \u001b[1;31m# Total elapsed time of the request (approximately)\u001b[0m\u001b[1;33m\u001b[0m\u001b[1;33m\u001b[0m\u001b[1;33m\u001b[0m\u001b[0m\n",
      "\u001b[1;32m~\\AppData\\Local\\Continuum\\anaconda3\\envs\\fastai2\\lib\\site-packages\\requests\\adapters.py\u001b[0m in \u001b[0;36msend\u001b[1;34m(self, request, stream, timeout, verify, cert, proxies)\u001b[0m\n\u001b[0;32m    514\u001b[0m                 \u001b[1;32mraise\u001b[0m \u001b[0mSSLError\u001b[0m\u001b[1;33m(\u001b[0m\u001b[0me\u001b[0m\u001b[1;33m,\u001b[0m \u001b[0mrequest\u001b[0m\u001b[1;33m=\u001b[0m\u001b[0mrequest\u001b[0m\u001b[1;33m)\u001b[0m\u001b[1;33m\u001b[0m\u001b[1;33m\u001b[0m\u001b[0m\n\u001b[0;32m    515\u001b[0m \u001b[1;33m\u001b[0m\u001b[0m\n\u001b[1;32m--> 516\u001b[1;33m             \u001b[1;32mraise\u001b[0m \u001b[0mConnectionError\u001b[0m\u001b[1;33m(\u001b[0m\u001b[0me\u001b[0m\u001b[1;33m,\u001b[0m \u001b[0mrequest\u001b[0m\u001b[1;33m=\u001b[0m\u001b[0mrequest\u001b[0m\u001b[1;33m)\u001b[0m\u001b[1;33m\u001b[0m\u001b[1;33m\u001b[0m\u001b[0m\n\u001b[0m\u001b[0;32m    517\u001b[0m \u001b[1;33m\u001b[0m\u001b[0m\n\u001b[0;32m    518\u001b[0m         \u001b[1;32mexcept\u001b[0m \u001b[0mClosedPoolError\u001b[0m \u001b[1;32mas\u001b[0m \u001b[0me\u001b[0m\u001b[1;33m:\u001b[0m\u001b[1;33m\u001b[0m\u001b[1;33m\u001b[0m\u001b[0m\n",
      "\u001b[1;31mConnectionError\u001b[0m: HTTPSConnectionPool(host='dicom-server-instance.azurewebsites.net', port=443): Max retries exceeded with url: /studies (Caused by NewConnectionError('<urllib3.connection.VerifiedHTTPSConnection object at 0x0000027A36A63E08>: Failed to establish a new connection: [Errno 11001] getaddrinfo failed'))"
     ]
    }
   ],
   "source": [
    "fileroot = \"C:\\\\githealth\\\\dicom-samples\\\\visus.com\\\\case4\\\\\"\n",
    "\n",
    "filename = fileroot + 'case4a_001.dcm'\n",
    "\n",
    "url = \"https://dicom-server-instance.azurewebsites.net/studies\"\n",
    "\n",
    "with open(filename,'rb') as reader:\n",
    "    rawfile = reader.read()\n",
    "\n",
    "files = {'file': ('report.xls', rawfile, 'application/dicom')}\n",
    "\n",
    "body, content_type = encode_multipart_related(fields = files)\n",
    "    \n",
    "headers = {'Accept':'application/dicom+json', \"Content-Type\":content_type}\n",
    "print(headers)\n",
    "\n",
    "r = requests.post(url, body, headers=headers, verify=False)\n"
   ]
  },
  {
   "cell_type": "code",
   "execution_count": null,
   "metadata": {
    "scrolled": false
   },
   "outputs": [],
   "source": [
    "\n",
    "print(r.status_code)\n",
    "print(r.request.headers)\n",
    "#print(r.request.body)"
   ]
  },
  {
   "cell_type": "code",
   "execution_count": null,
   "metadata": {},
   "outputs": [],
   "source": []
  },
  {
   "cell_type": "code",
   "execution_count": null,
   "metadata": {},
   "outputs": [],
   "source": [
    "def upload_dcm_file(server_url,filepath):\n",
    "    with open(filepath,'rb') as reader:\n",
    "        rawfile = reader.read()\n",
    "\n",
    "    files = {'file': ('report.xls', rawfile, 'application/dicom')}\n",
    "\n",
    "    body, content_type = encode_multipart_related(fields = files)\n",
    "    \n",
    "    headers = {'Accept':'application/dicom+json', \"Content-Type\":content_type}\n",
    "\n",
    "    r = requests.post(url, body, headers=headers, verify=False)\n",
    "    return r"
   ]
  },
  {
   "cell_type": "code",
   "execution_count": null,
   "metadata": {},
   "outputs": [],
   "source": [
    "r = upload_dcm_file(url,'C:\\\\githealth\\\\dicom-samples\\\\visus.com\\\\case4\\\\case4a_002.dcm')\n",
    "print(r.status_code)\n",
    "print(r.request.headers)"
   ]
  },
  {
   "cell_type": "code",
   "execution_count": null,
   "metadata": {},
   "outputs": [],
   "source": [
    "%timeit\n",
    "import os\n",
    "rootdir = \"C:\\\\githealth\\\\dicom-samples\\\\\"\n",
    "\n",
    "for subdir, dirs, files in os.walk(rootdir):\n",
    "    if '.git' in subdir:\n",
    "        continue\n",
    "    for file in files:\n",
    "        if not '.dcm' in file:\n",
    "            continue\n",
    "        fname = os.path.join(subdir, file)\n",
    "        print(fname)\n",
    "        r = upload_dcm_file(url, fname)\n",
    "        print(r.status_code)"
   ]
  },
  {
   "cell_type": "code",
   "execution_count": null,
   "metadata": {},
   "outputs": [],
   "source": [
    "!pip install torch torchvision feather-format kornia pyarrow --upgrade"
   ]
  },
  {
   "cell_type": "code",
   "execution_count": 2,
   "metadata": {},
   "outputs": [
    {
     "name": "stdout",
     "output_type": "stream",
     "text": [
      "Requirement already satisfied: pyarrow in c:\\users\\stborg\\appdata\\local\\continuum\\anaconda3\\envs\\fastai_everything\\lib\\site-packages (0.16.0)\n",
      "Requirement already satisfied: numpy>=1.14 in c:\\users\\stborg\\appdata\\local\\continuum\\anaconda3\\envs\\fastai_everything\\lib\\site-packages (from pyarrow) (1.16.5)\n",
      "Requirement already satisfied: six>=1.0.0 in c:\\users\\stborg\\appdata\\local\\continuum\\anaconda3\\envs\\fastai_everything\\lib\\site-packages (from pyarrow) (1.12.0)\n"
     ]
    }
   ],
   "source": [
    "#!pip install nvidia-ml-py3\n",
    "#!pip install pydicom kornia opencv-python scikit-image\n",
    "#!pip install pyarrow"
   ]
  },
  {
   "cell_type": "code",
   "execution_count": 6,
   "metadata": {},
   "outputs": [
    {
     "name": "stdout",
     "output_type": "stream",
     "text": [
      "Requirement already satisfied: fastai2 in c:\\users\\stborg\\appdata\\local\\continuum\\anaconda3\\envs\\fastai_everything\\lib\\site-packages (0.0.17)\n",
      "Requirement already satisfied: requests in c:\\users\\stborg\\appdata\\local\\continuum\\anaconda3\\envs\\fastai_everything\\lib\\site-packages (from fastai2) (2.22.0)\n",
      "Requirement already satisfied: scikit-learn in c:\\users\\stborg\\appdata\\local\\continuum\\anaconda3\\envs\\fastai_everything\\lib\\site-packages (from fastai2) (0.21.3)\n",
      "Requirement already satisfied: torch>=1.3.0 in c:\\users\\stborg\\appdata\\local\\continuum\\anaconda3\\envs\\fastai_everything\\lib\\site-packages (from fastai2) (1.3.0)\n",
      "Requirement already satisfied: pillow in c:\\users\\stborg\\appdata\\local\\continuum\\anaconda3\\envs\\fastai_everything\\lib\\site-packages (from fastai2) (6.2.0)\n",
      "Requirement already satisfied: torchvision>=0.5 in c:\\users\\stborg\\appdata\\local\\continuum\\anaconda3\\envs\\fastai_everything\\lib\\site-packages (from fastai2) (0.5.0)\n",
      "Requirement already satisfied: fastprogress>=0.1.22 in c:\\users\\stborg\\appdata\\local\\continuum\\anaconda3\\envs\\fastai_everything\\lib\\site-packages (from fastai2) (0.2.3)\n",
      "Requirement already satisfied: spacy in c:\\users\\stborg\\appdata\\local\\continuum\\anaconda3\\envs\\fastai_everything\\lib\\site-packages (from fastai2) (2.1.8)\n",
      "Requirement already satisfied: fastcore in c:\\users\\stborg\\appdata\\local\\continuum\\anaconda3\\envs\\fastai_everything\\lib\\site-packages (from fastai2) (0.1.16)\n",
      "Requirement already satisfied: matplotlib in c:\\users\\stborg\\appdata\\local\\continuum\\anaconda3\\envs\\fastai_everything\\lib\\site-packages (from fastai2) (3.1.1)\n",
      "Requirement already satisfied: scipy in c:\\users\\stborg\\appdata\\local\\continuum\\anaconda3\\envs\\fastai_everything\\lib\\site-packages (from fastai2) (1.3.1)\n",
      "Requirement already satisfied: pandas in c:\\users\\stborg\\appdata\\local\\continuum\\anaconda3\\envs\\fastai_everything\\lib\\site-packages (from fastai2) (0.25.1)\n",
      "Requirement already satisfied: pyyaml in c:\\users\\stborg\\appdata\\local\\continuum\\anaconda3\\envs\\fastai_everything\\lib\\site-packages (from fastai2) (5.1.2)\n",
      "Requirement already satisfied: idna<2.9,>=2.5 in c:\\users\\stborg\\appdata\\local\\continuum\\anaconda3\\envs\\fastai_everything\\lib\\site-packages (from requests->fastai2) (2.8)\n",
      "Requirement already satisfied: chardet<3.1.0,>=3.0.2 in c:\\users\\stborg\\appdata\\local\\continuum\\anaconda3\\envs\\fastai_everything\\lib\\site-packages (from requests->fastai2) (3.0.4)\n",
      "Requirement already satisfied: certifi>=2017.4.17 in c:\\users\\stborg\\appdata\\local\\continuum\\anaconda3\\envs\\fastai_everything\\lib\\site-packages (from requests->fastai2) (2019.9.11)\n",
      "Requirement already satisfied: urllib3!=1.25.0,!=1.25.1,<1.26,>=1.21.1 in c:\\users\\stborg\\appdata\\local\\continuum\\anaconda3\\envs\\fastai_everything\\lib\\site-packages (from requests->fastai2) (1.24.2)\n",
      "Requirement already satisfied: numpy>=1.11.0 in c:\\users\\stborg\\appdata\\local\\continuum\\anaconda3\\envs\\fastai_everything\\lib\\site-packages (from scikit-learn->fastai2) (1.16.5)\n",
      "Requirement already satisfied: joblib>=0.11 in c:\\users\\stborg\\appdata\\local\\continuum\\anaconda3\\envs\\fastai_everything\\lib\\site-packages (from scikit-learn->fastai2) (0.13.2)\n",
      "Requirement already satisfied: six in c:\\users\\stborg\\appdata\\local\\continuum\\anaconda3\\envs\\fastai_everything\\lib\\site-packages (from torchvision>=0.5->fastai2) (1.12.0)\n",
      "Requirement already satisfied: murmurhash<1.1.0,>=0.28.0 in c:\\users\\stborg\\appdata\\local\\continuum\\anaconda3\\envs\\fastai_everything\\lib\\site-packages (from spacy->fastai2) (1.0.2)\n",
      "Requirement already satisfied: thinc<7.1.0,>=7.0.8 in c:\\users\\stborg\\appdata\\local\\continuum\\anaconda3\\envs\\fastai_everything\\lib\\site-packages (from spacy->fastai2) (7.0.8)\n",
      "Requirement already satisfied: blis<0.3.0,>=0.2.2 in c:\\users\\stborg\\appdata\\local\\continuum\\anaconda3\\envs\\fastai_everything\\lib\\site-packages (from spacy->fastai2) (0.2.4)\n",
      "Requirement already satisfied: cymem<2.1.0,>=2.0.2 in c:\\users\\stborg\\appdata\\local\\continuum\\anaconda3\\envs\\fastai_everything\\lib\\site-packages (from spacy->fastai2) (2.0.2)\n",
      "Requirement already satisfied: preshed<2.1.0,>=2.0.1 in c:\\users\\stborg\\appdata\\local\\continuum\\anaconda3\\envs\\fastai_everything\\lib\\site-packages (from spacy->fastai2) (2.0.1)\n",
      "Requirement already satisfied: srsly<1.1.0,>=0.0.6 in c:\\users\\stborg\\appdata\\local\\continuum\\anaconda3\\envs\\fastai_everything\\lib\\site-packages (from spacy->fastai2) (0.1.0)\n",
      "Requirement already satisfied: plac<1.0.0,>=0.9.6 in c:\\users\\stborg\\appdata\\local\\continuum\\anaconda3\\envs\\fastai_everything\\lib\\site-packages (from spacy->fastai2) (0.9.6)\n",
      "Requirement already satisfied: wasabi<1.1.0,>=0.2.0 in c:\\users\\stborg\\appdata\\local\\continuum\\anaconda3\\envs\\fastai_everything\\lib\\site-packages (from spacy->fastai2) (0.2.2)\n",
      "Requirement already satisfied: cycler>=0.10 in c:\\users\\stborg\\appdata\\local\\continuum\\anaconda3\\envs\\fastai_everything\\lib\\site-packages (from matplotlib->fastai2) (0.10.0)\n",
      "Requirement already satisfied: kiwisolver>=1.0.1 in c:\\users\\stborg\\appdata\\local\\continuum\\anaconda3\\envs\\fastai_everything\\lib\\site-packages (from matplotlib->fastai2) (1.1.0)\n",
      "Requirement already satisfied: pyparsing!=2.0.4,!=2.1.2,!=2.1.6,>=2.0.1 in c:\\users\\stborg\\appdata\\local\\continuum\\anaconda3\\envs\\fastai_everything\\lib\\site-packages (from matplotlib->fastai2) (2.4.2)\n",
      "Requirement already satisfied: python-dateutil>=2.1 in c:\\users\\stborg\\appdata\\local\\continuum\\anaconda3\\envs\\fastai_everything\\lib\\site-packages (from matplotlib->fastai2) (2.8.0)\n",
      "Requirement already satisfied: pytz>=2017.2 in c:\\users\\stborg\\appdata\\local\\continuum\\anaconda3\\envs\\fastai_everything\\lib\\site-packages (from pandas->fastai2) (2019.3)\n",
      "Requirement already satisfied: tqdm<5.0.0,>=4.10.0 in c:\\users\\stborg\\appdata\\local\\continuum\\anaconda3\\envs\\fastai_everything\\lib\\site-packages (from thinc<7.1.0,>=7.0.8->spacy->fastai2) (4.36.1)\n",
      "Requirement already satisfied: setuptools in c:\\users\\stborg\\appdata\\local\\continuum\\anaconda3\\envs\\fastai_everything\\lib\\site-packages (from kiwisolver>=1.0.1->matplotlib->fastai2) (41.4.0)\n"
     ]
    }
   ],
   "source": [
    "#!pip install git+https://github.com/fastai/fastai2\n",
    "!pip install fastai2"
   ]
  },
  {
   "cell_type": "code",
   "execution_count": 2,
   "metadata": {},
   "outputs": [],
   "source": [
    "#from fastai2 import *\n",
    "#from fastai2.basics import *\n",
    "from fastai2.medical.imaging import *\n",
    "from fastai2.data.all import *"
   ]
  },
  {
   "cell_type": "code",
   "execution_count": 4,
   "metadata": {},
   "outputs": [
    {
     "data": {
      "text/plain": [
       "(#5) ['case4a_001.dcm','case4a_002.dcm','case4b_001.dcm','case4b_002.dcm','case4c_001.dcm']"
      ]
     },
     "execution_count": 4,
     "metadata": {},
     "output_type": "execute_result"
    }
   ],
   "source": [
    "path = Path('C:\\\\githealth\\\\dicom-samples\\\\visus.com\\\\case4\\\\')\n",
    "path_trn = path\n",
    "fns_trn = path_trn.ls()\n",
    "fns_trn[:5].attrgot('name')"
   ]
  },
  {
   "cell_type": "code",
   "execution_count": 22,
   "metadata": {},
   "outputs": [
    {
     "data": {
      "text/plain": [
       "(0008, 0005) Specific Character Set              CS: 'ISO_IR 100'\n",
       "(0008, 0008) Image Type                          CS: ['ORIGINAL', 'PRIMARY', 'M_SE', 'M', 'SE']\n",
       "(0008, 0012) Instance Creation Date              DA: '20051102'\n",
       "(0008, 0013) Instance Creation Time              TM: '115144'\n",
       "(0008, 0014) Instance Creator UID                UI: 1.3.46.670589.11.5526.5\n",
       "(0008, 0016) SOP Class UID                       UI: MR Image Storage\n",
       "(0008, 0018) SOP Instance UID                    UI: 1.2.276.0.50.192168001099.8687553.14547392.48\n",
       "(0008, 0020) Study Date                          DA: '20010101'\n",
       "(0008, 0021) Series Date                         DA: '20070511'\n",
       "(0008, 0022) Acquisition Date                    DA: '20070511'\n",
       "(0008, 0023) Content Date                        DA: '20070511'\n",
       "(0008, 0030) Study Time                          TM: '114244'\n",
       "(0008, 0031) Series Time                         TM: '114244'\n",
       "(0008, 0032) Acquisition Time                    TM: '114244'\n",
       "(0008, 0033) Content Time                        TM: '114244'\n",
       "(0008, 0050) Accession Number                    SH: '11788765469991'\n",
       "(0008, 0060) Modality                            CS: 'MR'\n",
       "(0008, 0070) Manufacturer                        LO: 'Philips Medical Systems'\n",
       "(0008, 0080) Institution Name                    LO: 'Anonymized Hospital'\n",
       "(0008, 0081) Institution Address                 ST: 'Anonymized Address'\n",
       "(0008, 0090) Referring Physician's Name          PN: 'Dr. Anonymous'\n",
       "(0008, 1010) Station Name                        SH: 'Any Station'\n",
       "(0008, 1030) Study Description                   LO: 'MRT Schädel'\n",
       "(0008, 103e) Series Description                  LO: 'Brain      *T2/GRASE'\n",
       "(0008, 1040) Institutional Department Name       LO: ''\n",
       "(0008, 1080) Admitting Diagnoses Description     LO: ''\n",
       "(0008, 1090) Manufacturer's Model Name           LO: 'Intera'\n",
       "(0008, 1111)  Referenced Performed Procedure Step Sequence   1 item(s) ---- \n",
       "   (0008, 0005) Specific Character Set              CS: 'ISO_IR 100'\n",
       "   (0008, 0012) Instance Creation Date              DA: '20051102'\n",
       "   (0008, 0013) Instance Creation Time              TM: '115145'\n",
       "   (0008, 0014) Instance Creator UID                UI: 1.3.46.670589.11.5526.5\n",
       "   (0008, 1150) Referenced SOP Class UID            UI: Modality Performed Procedure Step SOP Class\n",
       "   (0008, 1155) Referenced SOP Instance UID         UI: 1.3.46.670589.11.0.0.11.4.2.0.5526.5.1208.2005110211202042266\n",
       "   (0020, 0013) Instance Number                     IS: \"0\"\n",
       "   ---------\n",
       "(0008, 1140)  Referenced Image Sequence   3 item(s) ---- \n",
       "   (0008, 1150) Referenced SOP Class UID            UI: MR Image Storage\n",
       "   (0008, 1155) Referenced SOP Instance UID         UI: 1.3.46.670589.11.0.0.11.4.2.0.5526.5.1968.2005110211302184712\n",
       "   ---------\n",
       "   (0008, 1150) Referenced SOP Class UID            UI: MR Image Storage\n",
       "   (0008, 1155) Referenced SOP Instance UID         UI: 1.3.46.670589.11.0.0.11.4.2.0.5526.5.1968.2005110211302179709\n",
       "   ---------\n",
       "   (0008, 1150) Referenced SOP Class UID            UI: MR Image Storage\n",
       "   (0008, 1155) Referenced SOP Instance UID         UI: 1.3.46.670589.11.0.0.11.4.2.0.5526.5.1968.2005110211302181710\n",
       "   ---------\n",
       "(0010, 0010) Patient's Name                      PN: 'Fall 4'\n",
       "(0010, 0020) Patient ID                          LO: '11788765469993'\n",
       "(0010, 0030) Patient's Birth Date                DA: '19000101'\n",
       "(0010, 0032) Patient's Birth Time                TM: '0000'\n",
       "(0010, 0040) Patient's Sex                       CS: 'O'\n",
       "(0010, 1030) Patient's Weight                    DS: \"75.0\"\n",
       "(0010, 2000) Medical Alerts                      LO: ''\n",
       "(0010, 2110) Allergies                           LO: ''\n",
       "(0010, 2160) Ethnic Group                        SH: ''\n",
       "(0010, 2180) Occupation                          SH: ''\n",
       "(0010, 21b0) Additional Patient History          LT: ''\n",
       "(0010, 21c0) Pregnancy Status                    US: 4\n",
       "(0010, 4000) Patient Comments                    LT: ''\n",
       "(0018, 0020) Scanning Sequence                   CS: 'SE'\n",
       "(0018, 0021) Sequence Variant                    CS: 'SK'\n",
       "(0018, 0022) Scan Options                        CS: 'FS'\n",
       "(0018, 0023) MR Acquisition Type                 CS: ''\n",
       "(0018, 0024) Sequence Name                       SH: ''\n",
       "(0018, 0050) Slice Thickness                     DS: \"5.0\"\n",
       "(0018, 0080) Repetition Time                     DS: \"5286.37451171875\"\n",
       "(0018, 0081) Echo Time                           DS: \"100.0\"\n",
       "(0018, 0082) Inversion Time                      DS: \"0.0\"\n",
       "(0018, 0083) Number of Averages                  DS: \"4.0\"\n",
       "(0018, 0084) Imaging Frequency                   DS: \"63.892263\"\n",
       "(0018, 0085) Imaged Nucleus                      SH: '1H'\n",
       "(0018, 0086) Echo Number(s)                      IS: \"1\"\n",
       "(0018, 0087) Magnetic Field Strength             DS: \"1.5\"\n",
       "(0018, 0088) Spacing Between Slices              DS: \"6.0\"\n",
       "(0018, 0089) Number of Phase Encoding Steps      IS: \"237\"\n",
       "(0018, 0091) Echo Train Length                   IS: \"9\"\n",
       "(0018, 0093) Percent Sampling                    DS: \"50.0\"\n",
       "(0018, 0094) Percent Phase Field of View         DS: \"79.6875\"\n",
       "(0018, 1000) Device Serial Number                LO: '05526'\n",
       "(0018, 1020) Software Versions                   LO: ['NT 10.3.1', 'PIIM V2.1.4.1 MIMIT MCS']\n",
       "(0018, 1030) Protocol Name                       LO: '*T2/GRASE'\n",
       "(0018, 1081) Low R-R Value                       IS: \"0\"\n",
       "(0018, 1082) High R-R Value                      IS: \"0\"\n",
       "(0018, 1083) Intervals Acquired                  IS: \"0\"\n",
       "(0018, 1084) Intervals Rejected                  IS: \"0\"\n",
       "(0018, 1088) Heart Rate                          IS: \"0\"\n",
       "(0018, 1100) Reconstruction Diameter             DS: \"230.0\"\n",
       "(0018, 1250) Receive Coil Name                   SH: 'Head'\n",
       "(0018, 1251) Transmit Coil Name                  SH: 'B'\n",
       "(0018, 1310) Acquisition Matrix                  US: [0, 512, 237, 0]\n",
       "(0018, 1312) In-plane Phase Encoding Direction   CS: 'ROW'\n",
       "(0018, 1314) Flip Angle                          DS: \"90.0\"\n",
       "(0018, 5100) Patient Position                    CS: 'HFS'\n",
       "(0020, 000d) Study Instance UID                  UI: 1.2.276.0.50.192168001099.8687553.14547392.4\n",
       "(0020, 000e) Series Instance UID                 UI: 1.2.276.0.50.192168001099.8687553.14547392.34\n",
       "(0020, 0010) Study ID                            SH: '11788765470094'\n",
       "(0020, 0011) Series Number                       IS: \"301\"\n",
       "(0020, 0012) Acquisition Number                  IS: \"3\"\n",
       "(0020, 0013) Instance Number                     IS: \"14\"\n",
       "(0020, 0032) Image Position (Patient)            DS: [-103.25500191355, -104.36103178963, 91.9502137311336]\n",
       "(0020, 0037) Image Orientation (Patient)         DS: [0.99183012796786, -1.0599023325E-9, -0.1275656586046, -0.0341314271334, 0.96354128711252, -0.2653737622889]\n",
       "(0020, 0052) Frame of Reference UID              UI: 1.3.46.670589.11.0.0.11.4.2.0.5526.5.5036.2005110211295229361\n",
       "(0020, 0060) Laterality                          CS: ''\n",
       "(0020, 0100) Temporal Position Identifier        IS: \"1\"\n",
       "(0020, 0105) Number of Temporal Positions        IS: \"1\"\n",
       "(0020, 1040) Position Reference Indicator        LO: ''\n",
       "(0020, 1041) Slice Location                      DS: \"78.0000002901833\"\n",
       "(0020, 4000) Image Comments                      LT: ''\n",
       "(0028, 0002) Samples per Pixel                   US: 1\n",
       "(0028, 0004) Photometric Interpretation          CS: 'MONOCHROME2'\n",
       "(0028, 0010) Rows                                US: 512\n",
       "(0028, 0011) Columns                             US: 512\n",
       "(0028, 0030) Pixel Spacing                       DS: [0.44921875, 0.44921875]\n",
       "(0028, 0034) Pixel Aspect Ratio                  IS: [1, 1]\n",
       "(0028, 0100) Bits Allocated                      US: 16\n",
       "(0028, 0101) Bits Stored                         US: 12\n",
       "(0028, 0102) High Bit                            US: 11\n",
       "(0028, 0103) Pixel Representation                US: 0\n",
       "(0028, 0106) Smallest Image Pixel Value          US: 0\n",
       "(0028, 0107) Largest Image Pixel Value           US: 730\n",
       "(0028, 1050) Window Center                       DS: \"346.919723638756\"\n",
       "(0028, 1051) Window Width                        DS: \"692.492186214838\"\n",
       "(0028, 2110) Lossy Image Compression             CS: '00'\n",
       "(0032, 1032) Requesting Physician                PN: 'RequestingPhysician'\n",
       "(0032, 1033) Requesting Service                  LO: 'RequestingService'\n",
       "(0032, 1060) Requested Procedure Description     LO: 'MRT Schädel'\n",
       "(0032, 1070) Requested Contrast Agent            LO: ''\n",
       "(0032, 4000) Study Comments                      LT: 'MRT Schädel'\n",
       "(0038, 0050) Special Needs                       LO: ''\n",
       "(0038, 0500) Patient State                       LO: ''\n",
       "(0040, 0241) Performed Station AE Title          AE: 'MR_STORE_EXP'\n",
       "(0040, 0242) Performed Station Name              SH: ''\n",
       "(0040, 0243) Performed Location                  SH: ''\n",
       "(0040, 0244) Performed Procedure Step Start Date DA: '20051102'\n",
       "(0040, 0245) Performed Procedure Step Start Time TM: '112742'\n",
       "(0040, 0250) Performed Procedure Step End Date   DA: '20051102'\n",
       "(0040, 0251) Performed Procedure Step End Time   TM: '112742'\n",
       "(0040, 0252) Performed Procedure Step Status     CS: ''\n",
       "(0040, 0253) Performed Procedure Step ID         SH: '184159220'\n",
       "(0040, 0254) Performed Procedure Step Descriptio LO: 'MRT Schädel'\n",
       "(0040, 0255) Performed Procedure Type Descriptio LO: ''\n",
       "(0040, 0275)  Request Attributes Sequence   1 item(s) ---- \n",
       "   (0040, 0007) Scheduled Procedure Step Descriptio LO: 'MRT Schädel'\n",
       "   (0040, 0008)  Scheduled Protocol Code Sequence   0 item(s) ---- \n",
       "   (0040, 0009) Scheduled Procedure Step ID         SH: '0003717687'\n",
       "   (0040, 1001) Requested Procedure ID              SH: '0003717687'\n",
       "   (2005, 0012) Private Creator                     LO: 'Philips MR Imaging DD 003'\n",
       "   (2005, 1213) [Unknown]                           UN: b'\\x00\\x00\\x00\\x00'\n",
       "   ---------\n",
       "(0040, 0280) Comments on the Performed Procedure ST: 'MRT Schädel'\n",
       "(0040, 0321)  Film Consumption Sequence   0 item(s) ---- \n",
       "(0040, 1001) Requested Procedure ID              SH: '0003717687'\n",
       "(0040, 1002) Reason for the Requested Procedure  LO: ''\n",
       "(0040, 1003) Requested Procedure Priority        SH: ''\n",
       "(0040, 1004) Patient Transport Arrangements      LO: ''\n",
       "(0040, 1005) Requested Procedure Location        LO: ''\n",
       "(0040, 1010) Names of Intended Recipients of Res PN: ''\n",
       "(0040, 1400) Requested Procedure Comments        LT: ''\n",
       "(0040, 2001) Reason for the Imaging Service Requ LO: ''\n",
       "(0040, 2004) Issue Date of Imaging Service Reque DA: ''\n",
       "(0040, 2005) Issue Time of Imaging Service Reque TM: ''\n",
       "(0040, 2006) Placer Order Number / Imaging Servi SH: ''\n",
       "(0040, 2007) Filler Order Number / Imaging Servi SH: ''\n",
       "(0040, 2008) Order Entered By                    PN: ''\n",
       "(0040, 2009) Order Enterer's Location            SH: ''\n",
       "(0040, 2010) Order Callback Phone Number         SH: ''\n",
       "(0040, 2400) Imaging Service Request Comments    LT: ''\n",
       "(2001, 1003) Private tag data                    UN: b'\\x00\\x00\\x00\\x00'\n",
       "(2001, 100a) Private tag data                    UN: b'14'\n",
       "(7fe0, 0010) Pixel Data                          OW: Array of 524288 elements"
      ]
     },
     "execution_count": 22,
     "metadata": {},
     "output_type": "execute_result"
    }
   ],
   "source": [
    "fn = fns_trn[0]\n",
    "dcm = fn.dcmread()\n",
    "dcm"
   ]
  },
  {
   "cell_type": "code",
   "execution_count": 25,
   "metadata": {},
   "outputs": [
    {
     "data": {
      "text/html": [],
      "text/plain": [
       "<IPython.core.display.HTML object>"
      ]
     },
     "metadata": {},
     "output_type": "display_data"
    },
    {
     "name": "stdout",
     "output_type": "stream",
     "text": [
      "{'SpecificCharacterSet': 'ISO_IR 100', 'ImageType': 'ORIGINAL', 'InstanceCreationDate': '20051102', 'InstanceCreationTime': '115144', 'InstanceCreatorUID': '1.3.46.670589.11.5526.5', 'SOPClassUID': '1.2.840.10008.5.1.4.1.1.4', 'SOPInstanceUID': '1.2.276.0.50.192168001099.8687553.14547392.73', 'StudyDate': '20010101', 'SeriesDate': '20070511', 'AcquisitionDate': '20070511', 'ContentDate': '20070511', 'StudyTime': '114300', 'SeriesTime': '114300', 'AcquisitionTime': '114300', 'ContentTime': '114300', 'AccessionNumber': '11788765469991', 'Modality': 'MR', 'Manufacturer': 'Philips Medical Systems', 'InstitutionName': 'Anonymized Hospital', 'InstitutionAddress': 'Anonymized Address', 'ReferringPhysicianName': 'Dr. Anonymous', 'StationName': 'Any Station', 'StudyDescription': 'MRT Schädel', 'SeriesDescription': 'Brain      *T1/FFE/512', 'InstitutionalDepartmentName': '', 'AdmittingDiagnosesDescription': '', 'ManufacturerModelName': 'Intera', 'ReferencedPerformedProcedureStepSequence': (0008, 0005) Specific Character Set              CS: 'ISO_IR 100'\n",
      "(0008, 0012) Instance Creation Date              DA: '20051102'\n",
      "(0008, 0013) Instance Creation Time              TM: '115145'\n",
      "(0008, 0014) Instance Creator UID                UI: 1.3.46.670589.11.5526.5\n",
      "(0008, 1150) Referenced SOP Class UID            UI: Modality Performed Procedure Step SOP Class\n",
      "(0008, 1155) Referenced SOP Instance UID         UI: 1.3.46.670589.11.0.0.11.4.2.0.5526.5.1208.2005110211202042266\n",
      "(0020, 0013) Instance Number                     IS: \"0\", 'ReferencedImageSequence': (0008, 1150) Referenced SOP Class UID            UI: MR Image Storage\n",
      "(0008, 1155) Referenced SOP Instance UID         UI: 1.3.46.670589.11.0.0.11.4.2.0.5526.5.1968.2005110211302184712, 'PatientName': 'Fall 4', 'PatientID': '11788765469993', 'PatientBirthDate': '19000101', 'PatientBirthTime': '0000', 'PatientSex': 'O', 'PatientWeight': \"75.0\", 'MedicalAlerts': '', 'Allergies': '', 'EthnicGroup': '', 'Occupation': '', 'AdditionalPatientHistory': '', 'PregnancyStatus': 4, 'PatientComments': '', 'ScanningSequence': 'GR', 'SequenceVariant': 'SS', 'ScanOptions': 'PFF', 'MRAcquisitionType': '', 'SequenceName': '', 'SliceThickness': \"5.0\", 'RepetitionTime': \"250.000793457031\", 'EchoTime': \"2.71460008621215\", 'InversionTime': \"0.0\", 'NumberOfAverages': \"2.0\", 'ImagingFrequency': \"63.892263\", 'ImagedNucleus': '1H', 'EchoNumbers': \"1\", 'MagneticFieldStrength': \"1.5\", 'SpacingBetweenSlices': \"6.0\", 'NumberOfPhaseEncodingSteps': \"307\", 'EchoTrainLength': \"0\", 'PercentSampling': \"60.0\", 'PercentPhaseFieldOfView': \"70.3125\", 'DeviceSerialNumber': '05526', 'SoftwareVersions': 'NT 10.3.1', 'ProtocolName': '*T1/FFE/512', 'LowRRValue': \"0\", 'HighRRValue': \"0\", 'IntervalsAcquired': \"0\", 'IntervalsRejected': \"0\", 'HeartRate': \"0\", 'ReconstructionDiameter': \"240.0\", 'ReceiveCoilName': 'Head', 'TransmitCoilName': 'B', 'AcquisitionMatrix': [0, 512, 307, 0], 'InPlanePhaseEncodingDirection': 'ROW', 'FlipAngle': \"70.0\", 'PatientPosition': 'HFS', 'StudyInstanceUID': '1.2.276.0.50.192168001099.8687553.14547392.4', 'SeriesInstanceUID': '1.2.276.0.50.192168001099.8687553.14547392.59', 'StudyID': '11788765470094', 'SeriesNumber': \"401\", 'AcquisitionNumber': \"4\", 'InstanceNumber': \"14\", 'ImagePositionPatient': \"-108.04349541772\", 'ImageOrientationPatient': \"0.99183012796786\", 'FrameOfReferenceUID': '1.3.46.670589.11.0.0.11.4.2.0.5526.5.5036.2005110211295229361', 'Laterality': '', 'TemporalPositionIdentifier': \"1\", 'NumberOfTemporalPositions': \"1\", 'PositionReferenceIndicator': '', 'SliceLocation': \"78.0000002901833\", 'ImageComments': '', 'SamplesPerPixel': 1, 'PhotometricInterpretation': 'MONOCHROME2', 'Rows': 512, 'Columns': 512, 'PixelSpacing': \"0.46875\", 'PixelAspectRatio': \"1\", 'BitsAllocated': 16, 'BitsStored': 12, 'HighBit': 11, 'PixelRepresentation': 0, 'SmallestImagePixelValue': 0, 'LargestImagePixelValue': 357, 'WindowCenter': \"140.909012311523\", 'WindowWidth': \"281.818024623046\", 'LossyImageCompression': '00', 'RequestingPhysician': 'RequestingPhysician', 'RequestingService': 'RequestingService', 'RequestedProcedureDescription': 'MRT Schädel', 'RequestedContrastAgent': '', 'StudyComments': 'MRT Schädel', 'SpecialNeeds': '', 'PatientState': '', 'PerformedStationAETitle': 'MR_STORE_EXP', 'PerformedStationName': '', 'PerformedLocation': '', 'PerformedProcedureStepStartDate': '20051102', 'PerformedProcedureStepStartTime': '112742', 'PerformedProcedureStepEndDate': '20051102', 'PerformedProcedureStepEndTime': '112742', 'PerformedProcedureStepStatus': '', 'PerformedProcedureStepID': '184159220', 'PerformedProcedureStepDescription': 'MRT Schädel', 'PerformedProcedureTypeDescription': '', 'RequestAttributesSequence': (0040, 0007) Scheduled Procedure Step Descriptio LO: 'MRT Schädel'\n",
      "(0040, 0008)  Scheduled Protocol Code Sequence   0 item(s) ---- \n",
      "(0040, 0009) Scheduled Procedure Step ID         SH: '0003717687'\n",
      "(0040, 1001) Requested Procedure ID              SH: '0003717687'\n",
      "(2005, 0012) Private Creator                     LO: 'Philips MR Imaging DD 003'\n",
      "(2005, 1213) [Unknown]                           UN: b'\\x00\\x00\\x00\\x00', 'CommentsOnThePerformedProcedureStep': 'MRT Schädel', 'FilmConsumptionSequence': <Sequence, length 0>, 'RequestedProcedureID': '0003717687', 'ReasonForTheRequestedProcedure': '', 'RequestedProcedurePriority': '', 'PatientTransportArrangements': '', 'RequestedProcedureLocation': '', 'NamesOfIntendedRecipientsOfResults': '', 'RequestedProcedureComments': '', 'ReasonForTheImagingServiceRequest': '', 'IssueDateOfImagingServiceRequest': '', 'IssueTimeOfImagingServiceRequest': '', 'PlacerOrderNumberImagingServiceRequestRetired': '', 'FillerOrderNumberImagingServiceRequestRetired': '', 'OrderEnteredBy': '', 'OrderEntererLocation': '', 'OrderCallbackPhoneNumber': '', 'ImagingServiceRequestComments': '', '': b'14', 'fname': 'C:\\\\githealth\\\\dicom-samples\\\\visus.com\\\\case4\\\\case4b_001.dcm', 'MultiImageType': 1, 'ImageType1': 'PRIMARY', 'ImageType2': 'M_FFE', 'ImageType3': 'M', 'ImageType4': 'FFE', 'MultiReferencedPerformedProcedureStepSequence': 1, 'MultiReferencedImageSequence': 1, 'ReferencedImageSequence1': (0008, 1150) Referenced SOP Class UID            UI: MR Image Storage\n",
      "(0008, 1155) Referenced SOP Instance UID         UI: 1.3.46.670589.11.0.0.11.4.2.0.5526.5.1968.2005110211302179709, 'ReferencedImageSequence2': (0008, 1150) Referenced SOP Class UID            UI: MR Image Storage\n",
      "(0008, 1155) Referenced SOP Instance UID         UI: 1.3.46.670589.11.0.0.11.4.2.0.5526.5.1968.2005110211302181710, 'MultiSoftwareVersions': 1, 'SoftwareVersions1': 'PIIM V2.1.4.1 MIMIT MCS', 'MultiImagePositionPatient': 1, 'ImagePositionPatient1': \"-109.17873821989\", 'ImagePositionPatient2': \"93.9149108356016\", 'MultiImageOrientationPatient': 1, 'ImageOrientationPatient1': \"-1.0599023325e-09\", 'ImageOrientationPatient2': \"-0.1275656586046\", 'ImageOrientationPatient3': \"-0.0341314271334\", 'ImageOrientationPatient4': \"0.96354128711252\", 'ImageOrientationPatient5': \"-0.2653737622889\", 'MultiPixelSpacing': 1, 'PixelSpacing1': \"0.46875\", 'MultiPixelAspectRatio': 1, 'PixelAspectRatio1': \"1\", 'MultiRequestAttributesSequence': 1, 'MultiFilmConsumptionSequence': 1, 'img_min': 0, 'img_max': 0, 'img_mean': 0, 'img_std': 0} 'FileDataset' object has no attribute 'RescaleSlope'\n"
     ]
    },
    {
     "ename": "TypeError",
     "evalue": "__init__() missing 1 required positional argument: 'iterable'",
     "output_type": "error",
     "traceback": [
      "\u001b[1;31m---------------------------------------------------------------------------\u001b[0m",
      "\u001b[1;31mTypeError\u001b[0m                                 Traceback (most recent call last)",
      "\u001b[1;32m<ipython-input-25-2b8bb72be8c3>\u001b[0m in \u001b[0;36m<module>\u001b[1;34m\u001b[0m\n\u001b[1;32m----> 1\u001b[1;33m \u001b[0mdf_tst\u001b[0m \u001b[1;33m=\u001b[0m \u001b[0mpd\u001b[0m\u001b[1;33m.\u001b[0m\u001b[0mDataFrame\u001b[0m\u001b[1;33m.\u001b[0m\u001b[0mfrom_dicoms\u001b[0m\u001b[1;33m(\u001b[0m\u001b[0mfns_trn\u001b[0m\u001b[1;33m[\u001b[0m\u001b[1;36m2\u001b[0m\u001b[1;33m:\u001b[0m\u001b[1;36m3\u001b[0m\u001b[1;33m]\u001b[0m\u001b[1;33m)\u001b[0m \u001b[1;31m#, px_summ=True)\u001b[0m\u001b[1;33m\u001b[0m\u001b[1;33m\u001b[0m\u001b[0m\n\u001b[0m",
      "\u001b[1;32m~\\AppData\\Local\\Continuum\\anaconda3\\envs\\fastai2\\lib\\site-packages\\fastai2\\medical\\imaging.py\u001b[0m in \u001b[0;36m_from_dicoms\u001b[1;34m(cls, fns, n_workers, **kwargs)\u001b[0m\n\u001b[0;32m    342\u001b[0m \u001b[1;33m@\u001b[0m\u001b[0mdelegates\u001b[0m\u001b[1;33m(\u001b[0m\u001b[0mparallel\u001b[0m\u001b[1;33m)\u001b[0m\u001b[1;33m\u001b[0m\u001b[1;33m\u001b[0m\u001b[0m\n\u001b[0;32m    343\u001b[0m \u001b[1;32mdef\u001b[0m \u001b[0m_from_dicoms\u001b[0m\u001b[1;33m(\u001b[0m\u001b[0mcls\u001b[0m\u001b[1;33m,\u001b[0m \u001b[0mfns\u001b[0m\u001b[1;33m,\u001b[0m \u001b[0mn_workers\u001b[0m\u001b[1;33m=\u001b[0m\u001b[1;36m0\u001b[0m\u001b[1;33m,\u001b[0m \u001b[1;33m**\u001b[0m\u001b[0mkwargs\u001b[0m\u001b[1;33m)\u001b[0m\u001b[1;33m:\u001b[0m\u001b[1;33m\u001b[0m\u001b[1;33m\u001b[0m\u001b[0m\n\u001b[1;32m--> 344\u001b[1;33m     \u001b[1;32mreturn\u001b[0m \u001b[0mpd\u001b[0m\u001b[1;33m.\u001b[0m\u001b[0mDataFrame\u001b[0m\u001b[1;33m(\u001b[0m\u001b[0mparallel\u001b[0m\u001b[1;33m(\u001b[0m\u001b[0m_dcm2dict\u001b[0m\u001b[1;33m,\u001b[0m \u001b[0mfns\u001b[0m\u001b[1;33m,\u001b[0m \u001b[0mn_workers\u001b[0m\u001b[1;33m=\u001b[0m\u001b[0mn_workers\u001b[0m\u001b[1;33m,\u001b[0m \u001b[1;33m**\u001b[0m\u001b[0mkwargs\u001b[0m\u001b[1;33m)\u001b[0m\u001b[1;33m)\u001b[0m\u001b[1;33m\u001b[0m\u001b[1;33m\u001b[0m\u001b[0m\n\u001b[0m\u001b[0;32m    345\u001b[0m \u001b[0mpd\u001b[0m\u001b[1;33m.\u001b[0m\u001b[0mDataFrame\u001b[0m\u001b[1;33m.\u001b[0m\u001b[0mfrom_dicoms\u001b[0m \u001b[1;33m=\u001b[0m \u001b[0mclassmethod\u001b[0m\u001b[1;33m(\u001b[0m\u001b[0m_from_dicoms\u001b[0m\u001b[1;33m)\u001b[0m\u001b[1;33m\u001b[0m\u001b[1;33m\u001b[0m\u001b[0m\n",
      "\u001b[1;32m~\\AppData\\Local\\Continuum\\anaconda3\\envs\\fastai2\\lib\\site-packages\\fastai2\\torch_core.py\u001b[0m in \u001b[0;36mparallel\u001b[1;34m(f, items, n_workers, total, progress, *args, **kwargs)\u001b[0m\n\u001b[0;32m    705\u001b[0m             \u001b[1;32mif\u001b[0m \u001b[0mtotal\u001b[0m \u001b[1;32mis\u001b[0m \u001b[1;32mNone\u001b[0m\u001b[1;33m:\u001b[0m \u001b[0mtotal\u001b[0m \u001b[1;33m=\u001b[0m \u001b[0mlen\u001b[0m\u001b[1;33m(\u001b[0m\u001b[0mitems\u001b[0m\u001b[1;33m)\u001b[0m\u001b[1;33m\u001b[0m\u001b[1;33m\u001b[0m\u001b[0m\n\u001b[0;32m    706\u001b[0m             \u001b[0mr\u001b[0m \u001b[1;33m=\u001b[0m \u001b[0mprogress_bar\u001b[0m\u001b[1;33m(\u001b[0m\u001b[0mr\u001b[0m\u001b[1;33m,\u001b[0m \u001b[0mtotal\u001b[0m\u001b[1;33m=\u001b[0m\u001b[0mtotal\u001b[0m\u001b[1;33m,\u001b[0m \u001b[0mleave\u001b[0m\u001b[1;33m=\u001b[0m\u001b[1;32mFalse\u001b[0m\u001b[1;33m)\u001b[0m\u001b[1;33m\u001b[0m\u001b[1;33m\u001b[0m\u001b[0m\n\u001b[1;32m--> 707\u001b[1;33m         \u001b[1;32mreturn\u001b[0m \u001b[0mL\u001b[0m\u001b[1;33m(\u001b[0m\u001b[0mr\u001b[0m\u001b[1;33m)\u001b[0m\u001b[1;33m\u001b[0m\u001b[1;33m\u001b[0m\u001b[0m\n\u001b[0m\u001b[0;32m    708\u001b[0m \u001b[1;33m\u001b[0m\u001b[0m\n\u001b[0;32m    709\u001b[0m \u001b[1;31m# Cell\u001b[0m\u001b[1;33m\u001b[0m\u001b[1;33m\u001b[0m\u001b[1;33m\u001b[0m\u001b[0m\n",
      "\u001b[1;32m~\\AppData\\Local\\Continuum\\anaconda3\\envs\\fastai2\\lib\\site-packages\\fastcore\\foundation.py\u001b[0m in \u001b[0;36m__call__\u001b[1;34m(cls, x, *args, **kwargs)\u001b[0m\n\u001b[0;32m     39\u001b[0m             \u001b[1;32mreturn\u001b[0m \u001b[0mx\u001b[0m\u001b[1;33m\u001b[0m\u001b[1;33m\u001b[0m\u001b[0m\n\u001b[0;32m     40\u001b[0m \u001b[1;33m\u001b[0m\u001b[0m\n\u001b[1;32m---> 41\u001b[1;33m         \u001b[0mres\u001b[0m \u001b[1;33m=\u001b[0m \u001b[0msuper\u001b[0m\u001b[1;33m(\u001b[0m\u001b[1;33m)\u001b[0m\u001b[1;33m.\u001b[0m\u001b[0m__call__\u001b[0m\u001b[1;33m(\u001b[0m\u001b[1;33m*\u001b[0m\u001b[1;33m(\u001b[0m\u001b[1;33m(\u001b[0m\u001b[0mx\u001b[0m\u001b[1;33m,\u001b[0m\u001b[1;33m)\u001b[0m \u001b[1;33m+\u001b[0m \u001b[0margs\u001b[0m\u001b[1;33m)\u001b[0m\u001b[1;33m,\u001b[0m \u001b[1;33m**\u001b[0m\u001b[0mkwargs\u001b[0m\u001b[1;33m)\u001b[0m\u001b[1;33m\u001b[0m\u001b[1;33m\u001b[0m\u001b[0m\n\u001b[0m\u001b[0;32m     42\u001b[0m         \u001b[0mres\u001b[0m\u001b[1;33m.\u001b[0m\u001b[0m_newchk\u001b[0m \u001b[1;33m=\u001b[0m \u001b[1;36m0\u001b[0m\u001b[1;33m\u001b[0m\u001b[1;33m\u001b[0m\u001b[0m\n\u001b[0;32m     43\u001b[0m         \u001b[1;32mreturn\u001b[0m \u001b[0mres\u001b[0m\u001b[1;33m\u001b[0m\u001b[1;33m\u001b[0m\u001b[0m\n",
      "\u001b[1;32m~\\AppData\\Local\\Continuum\\anaconda3\\envs\\fastai2\\lib\\site-packages\\fastcore\\foundation.py\u001b[0m in \u001b[0;36m__init__\u001b[1;34m(self, items, use_list, match, *rest)\u001b[0m\n\u001b[0;32m    312\u001b[0m         \u001b[1;32mif\u001b[0m \u001b[0mitems\u001b[0m \u001b[1;32mis\u001b[0m \u001b[1;32mNone\u001b[0m\u001b[1;33m:\u001b[0m \u001b[0mitems\u001b[0m \u001b[1;33m=\u001b[0m \u001b[1;33m[\u001b[0m\u001b[1;33m]\u001b[0m\u001b[1;33m\u001b[0m\u001b[1;33m\u001b[0m\u001b[0m\n\u001b[0;32m    313\u001b[0m         \u001b[1;32mif\u001b[0m \u001b[1;33m(\u001b[0m\u001b[0muse_list\u001b[0m \u001b[1;32mis\u001b[0m \u001b[1;32mnot\u001b[0m \u001b[1;32mNone\u001b[0m\u001b[1;33m)\u001b[0m \u001b[1;32mor\u001b[0m \u001b[1;32mnot\u001b[0m \u001b[0m_is_array\u001b[0m\u001b[1;33m(\u001b[0m\u001b[0mitems\u001b[0m\u001b[1;33m)\u001b[0m\u001b[1;33m:\u001b[0m\u001b[1;33m\u001b[0m\u001b[1;33m\u001b[0m\u001b[0m\n\u001b[1;32m--> 314\u001b[1;33m             \u001b[0mitems\u001b[0m \u001b[1;33m=\u001b[0m \u001b[0mlist\u001b[0m\u001b[1;33m(\u001b[0m\u001b[0mitems\u001b[0m\u001b[1;33m)\u001b[0m \u001b[1;32mif\u001b[0m \u001b[0muse_list\u001b[0m \u001b[1;32melse\u001b[0m \u001b[0m_listify\u001b[0m\u001b[1;33m(\u001b[0m\u001b[0mitems\u001b[0m\u001b[1;33m)\u001b[0m\u001b[1;33m\u001b[0m\u001b[1;33m\u001b[0m\u001b[0m\n\u001b[0m\u001b[0;32m    315\u001b[0m         \u001b[1;32mif\u001b[0m \u001b[0mmatch\u001b[0m \u001b[1;32mis\u001b[0m \u001b[1;32mnot\u001b[0m \u001b[1;32mNone\u001b[0m\u001b[1;33m:\u001b[0m\u001b[1;33m\u001b[0m\u001b[1;33m\u001b[0m\u001b[0m\n\u001b[0;32m    316\u001b[0m             \u001b[1;32mif\u001b[0m \u001b[0mis_coll\u001b[0m\u001b[1;33m(\u001b[0m\u001b[0mmatch\u001b[0m\u001b[1;33m)\u001b[0m\u001b[1;33m:\u001b[0m \u001b[0mmatch\u001b[0m \u001b[1;33m=\u001b[0m \u001b[0mlen\u001b[0m\u001b[1;33m(\u001b[0m\u001b[0mmatch\u001b[0m\u001b[1;33m)\u001b[0m\u001b[1;33m\u001b[0m\u001b[1;33m\u001b[0m\u001b[0m\n",
      "\u001b[1;32m~\\AppData\\Local\\Continuum\\anaconda3\\envs\\fastai2\\lib\\site-packages\\fastcore\\foundation.py\u001b[0m in \u001b[0;36m_listify\u001b[1;34m(o)\u001b[0m\n\u001b[0;32m    248\u001b[0m     \u001b[1;32mif\u001b[0m \u001b[0misinstance\u001b[0m\u001b[1;33m(\u001b[0m\u001b[0mo\u001b[0m\u001b[1;33m,\u001b[0m \u001b[0mlist\u001b[0m\u001b[1;33m)\u001b[0m\u001b[1;33m:\u001b[0m \u001b[1;32mreturn\u001b[0m \u001b[0mo\u001b[0m\u001b[1;33m\u001b[0m\u001b[1;33m\u001b[0m\u001b[0m\n\u001b[0;32m    249\u001b[0m     \u001b[1;32mif\u001b[0m \u001b[0misinstance\u001b[0m\u001b[1;33m(\u001b[0m\u001b[0mo\u001b[0m\u001b[1;33m,\u001b[0m \u001b[0mstr\u001b[0m\u001b[1;33m)\u001b[0m \u001b[1;32mor\u001b[0m \u001b[0m_is_array\u001b[0m\u001b[1;33m(\u001b[0m\u001b[0mo\u001b[0m\u001b[1;33m)\u001b[0m\u001b[1;33m:\u001b[0m \u001b[1;32mreturn\u001b[0m \u001b[1;33m[\u001b[0m\u001b[0mo\u001b[0m\u001b[1;33m]\u001b[0m\u001b[1;33m\u001b[0m\u001b[1;33m\u001b[0m\u001b[0m\n\u001b[1;32m--> 250\u001b[1;33m     \u001b[1;32mif\u001b[0m \u001b[0mis_iter\u001b[0m\u001b[1;33m(\u001b[0m\u001b[0mo\u001b[0m\u001b[1;33m)\u001b[0m\u001b[1;33m:\u001b[0m \u001b[1;32mreturn\u001b[0m \u001b[0mlist\u001b[0m\u001b[1;33m(\u001b[0m\u001b[0mo\u001b[0m\u001b[1;33m)\u001b[0m\u001b[1;33m\u001b[0m\u001b[1;33m\u001b[0m\u001b[0m\n\u001b[0m\u001b[0;32m    251\u001b[0m     \u001b[1;32mreturn\u001b[0m \u001b[1;33m[\u001b[0m\u001b[0mo\u001b[0m\u001b[1;33m]\u001b[0m\u001b[1;33m\u001b[0m\u001b[1;33m\u001b[0m\u001b[0m\n\u001b[0;32m    252\u001b[0m \u001b[1;33m\u001b[0m\u001b[0m\n",
      "\u001b[1;32m~\\AppData\\Local\\Continuum\\anaconda3\\envs\\fastai2\\lib\\site-packages\\fastprogress\\fastprogress.py\u001b[0m in \u001b[0;36m__iter__\u001b[1;34m(self)\u001b[0m\n\u001b[0;32m     45\u001b[0m         \u001b[1;32mexcept\u001b[0m \u001b[0mException\u001b[0m \u001b[1;32mas\u001b[0m \u001b[0me\u001b[0m\u001b[1;33m:\u001b[0m\u001b[1;33m\u001b[0m\u001b[1;33m\u001b[0m\u001b[0m\n\u001b[0;32m     46\u001b[0m             \u001b[0mself\u001b[0m\u001b[1;33m.\u001b[0m\u001b[0mon_interrupt\u001b[0m\u001b[1;33m(\u001b[0m\u001b[1;33m)\u001b[0m\u001b[1;33m\u001b[0m\u001b[1;33m\u001b[0m\u001b[0m\n\u001b[1;32m---> 47\u001b[1;33m             \u001b[1;32mraise\u001b[0m \u001b[0me\u001b[0m\u001b[1;33m\u001b[0m\u001b[1;33m\u001b[0m\u001b[0m\n\u001b[0m\u001b[0;32m     48\u001b[0m \u001b[1;33m\u001b[0m\u001b[0m\n\u001b[0;32m     49\u001b[0m     \u001b[1;32mdef\u001b[0m \u001b[0mupdate\u001b[0m\u001b[1;33m(\u001b[0m\u001b[0mself\u001b[0m\u001b[1;33m,\u001b[0m \u001b[0mval\u001b[0m\u001b[1;33m)\u001b[0m\u001b[1;33m:\u001b[0m\u001b[1;33m\u001b[0m\u001b[1;33m\u001b[0m\u001b[0m\n",
      "\u001b[1;32m~\\AppData\\Local\\Continuum\\anaconda3\\envs\\fastai2\\lib\\site-packages\\fastprogress\\fastprogress.py\u001b[0m in \u001b[0;36m__iter__\u001b[1;34m(self)\u001b[0m\n\u001b[0;32m     39\u001b[0m         \u001b[1;32mif\u001b[0m \u001b[0mself\u001b[0m\u001b[1;33m.\u001b[0m\u001b[0mtotal\u001b[0m \u001b[1;33m!=\u001b[0m \u001b[1;36m0\u001b[0m\u001b[1;33m:\u001b[0m \u001b[0mself\u001b[0m\u001b[1;33m.\u001b[0m\u001b[0mupdate\u001b[0m\u001b[1;33m(\u001b[0m\u001b[1;36m0\u001b[0m\u001b[1;33m)\u001b[0m\u001b[1;33m\u001b[0m\u001b[1;33m\u001b[0m\u001b[0m\n\u001b[0;32m     40\u001b[0m         \u001b[1;32mtry\u001b[0m\u001b[1;33m:\u001b[0m\u001b[1;33m\u001b[0m\u001b[1;33m\u001b[0m\u001b[0m\n\u001b[1;32m---> 41\u001b[1;33m             \u001b[1;32mfor\u001b[0m \u001b[0mi\u001b[0m\u001b[1;33m,\u001b[0m\u001b[0mo\u001b[0m \u001b[1;32min\u001b[0m \u001b[0menumerate\u001b[0m\u001b[1;33m(\u001b[0m\u001b[0mself\u001b[0m\u001b[1;33m.\u001b[0m\u001b[0mgen\u001b[0m\u001b[1;33m)\u001b[0m\u001b[1;33m:\u001b[0m\u001b[1;33m\u001b[0m\u001b[1;33m\u001b[0m\u001b[0m\n\u001b[0m\u001b[0;32m     42\u001b[0m                 \u001b[1;32mif\u001b[0m \u001b[0mi\u001b[0m \u001b[1;33m>=\u001b[0m \u001b[0mself\u001b[0m\u001b[1;33m.\u001b[0m\u001b[0mtotal\u001b[0m\u001b[1;33m:\u001b[0m \u001b[1;32mbreak\u001b[0m\u001b[1;33m\u001b[0m\u001b[1;33m\u001b[0m\u001b[0m\n\u001b[0;32m     43\u001b[0m                 \u001b[1;32myield\u001b[0m \u001b[0mo\u001b[0m\u001b[1;33m\u001b[0m\u001b[1;33m\u001b[0m\u001b[0m\n",
      "\u001b[1;32m~\\AppData\\Local\\Continuum\\anaconda3\\envs\\fastai2\\lib\\site-packages\\fastai2\\medical\\imaging.py\u001b[0m in \u001b[0;36m_dcm2dict\u001b[1;34m(fn, **kwargs)\u001b[0m\n\u001b[0;32m    337\u001b[0m \u001b[1;33m\u001b[0m\u001b[0m\n\u001b[0;32m    338\u001b[0m \u001b[1;31m# Cell\u001b[0m\u001b[1;33m\u001b[0m\u001b[1;33m\u001b[0m\u001b[1;33m\u001b[0m\u001b[0m\n\u001b[1;32m--> 339\u001b[1;33m \u001b[1;32mdef\u001b[0m \u001b[0m_dcm2dict\u001b[0m\u001b[1;33m(\u001b[0m\u001b[0mfn\u001b[0m\u001b[1;33m,\u001b[0m \u001b[1;33m**\u001b[0m\u001b[0mkwargs\u001b[0m\u001b[1;33m)\u001b[0m\u001b[1;33m:\u001b[0m \u001b[1;32mreturn\u001b[0m \u001b[0mfn\u001b[0m\u001b[1;33m.\u001b[0m\u001b[0mdcmread\u001b[0m\u001b[1;33m(\u001b[0m\u001b[1;33m)\u001b[0m\u001b[1;33m.\u001b[0m\u001b[0mas_dict\u001b[0m\u001b[1;33m(\u001b[0m\u001b[1;33m**\u001b[0m\u001b[0mkwargs\u001b[0m\u001b[1;33m)\u001b[0m\u001b[1;33m\u001b[0m\u001b[1;33m\u001b[0m\u001b[0m\n\u001b[0m\u001b[0;32m    340\u001b[0m \u001b[1;33m\u001b[0m\u001b[0m\n\u001b[0;32m    341\u001b[0m \u001b[1;31m# Cell\u001b[0m\u001b[1;33m\u001b[0m\u001b[1;33m\u001b[0m\u001b[1;33m\u001b[0m\u001b[0m\n",
      "\u001b[1;32m~\\AppData\\Local\\Continuum\\anaconda3\\envs\\fastai2\\lib\\site-packages\\fastai2\\medical\\imaging.py\u001b[0m in \u001b[0;36mas_dict\u001b[1;34m(self, px_summ, window)\u001b[0m\n\u001b[0;32m    333\u001b[0m         \u001b[1;32mfor\u001b[0m \u001b[0mf\u001b[0m \u001b[1;32min\u001b[0m \u001b[0mstats\u001b[0m\u001b[1;33m:\u001b[0m \u001b[0mres\u001b[0m\u001b[1;33m[\u001b[0m\u001b[1;34m'img_'\u001b[0m\u001b[1;33m+\u001b[0m\u001b[0mf\u001b[0m\u001b[1;33m]\u001b[0m \u001b[1;33m=\u001b[0m \u001b[1;36m0\u001b[0m\u001b[1;33m\u001b[0m\u001b[1;33m\u001b[0m\u001b[0m\n\u001b[0;32m    334\u001b[0m         \u001b[0mprint\u001b[0m\u001b[1;33m(\u001b[0m\u001b[0mres\u001b[0m\u001b[1;33m,\u001b[0m\u001b[0me\u001b[0m\u001b[1;33m)\u001b[0m\u001b[1;33m\u001b[0m\u001b[1;33m\u001b[0m\u001b[0m\n\u001b[1;32m--> 335\u001b[1;33m     \u001b[1;32mfor\u001b[0m \u001b[0mk\u001b[0m \u001b[1;32min\u001b[0m \u001b[0mres\u001b[0m\u001b[1;33m:\u001b[0m \u001b[0mres\u001b[0m\u001b[1;33m[\u001b[0m\u001b[0mk\u001b[0m\u001b[1;33m]\u001b[0m \u001b[1;33m=\u001b[0m \u001b[0m_cast_dicom_special\u001b[0m\u001b[1;33m(\u001b[0m\u001b[0mres\u001b[0m\u001b[1;33m[\u001b[0m\u001b[0mk\u001b[0m\u001b[1;33m]\u001b[0m\u001b[1;33m)\u001b[0m\u001b[1;33m\u001b[0m\u001b[1;33m\u001b[0m\u001b[0m\n\u001b[0m\u001b[0;32m    336\u001b[0m     \u001b[1;32mreturn\u001b[0m \u001b[0mres\u001b[0m\u001b[1;33m\u001b[0m\u001b[1;33m\u001b[0m\u001b[0m\n\u001b[0;32m    337\u001b[0m \u001b[1;33m\u001b[0m\u001b[0m\n",
      "\u001b[1;32m~\\AppData\\Local\\Continuum\\anaconda3\\envs\\fastai2\\lib\\site-packages\\fastai2\\medical\\imaging.py\u001b[0m in \u001b[0;36m_cast_dicom_special\u001b[1;34m(x)\u001b[0m\n\u001b[0;32m    308\u001b[0m     \u001b[1;32mif\u001b[0m \u001b[1;32mnot\u001b[0m \u001b[0mcls\u001b[0m\u001b[1;33m.\u001b[0m\u001b[0m__module__\u001b[0m\u001b[1;33m.\u001b[0m\u001b[0mstartswith\u001b[0m\u001b[1;33m(\u001b[0m\u001b[1;34m'pydicom'\u001b[0m\u001b[1;33m)\u001b[0m\u001b[1;33m:\u001b[0m \u001b[1;32mreturn\u001b[0m \u001b[0mx\u001b[0m\u001b[1;33m\u001b[0m\u001b[1;33m\u001b[0m\u001b[0m\n\u001b[0;32m    309\u001b[0m     \u001b[1;32mif\u001b[0m \u001b[0mcls\u001b[0m\u001b[1;33m.\u001b[0m\u001b[0m__base__\u001b[0m \u001b[1;33m==\u001b[0m \u001b[0mobject\u001b[0m\u001b[1;33m:\u001b[0m \u001b[1;32mreturn\u001b[0m \u001b[0mx\u001b[0m\u001b[1;33m\u001b[0m\u001b[1;33m\u001b[0m\u001b[0m\n\u001b[1;32m--> 310\u001b[1;33m     \u001b[1;32mreturn\u001b[0m \u001b[0mcls\u001b[0m\u001b[1;33m.\u001b[0m\u001b[0m__base__\u001b[0m\u001b[1;33m(\u001b[0m\u001b[0mx\u001b[0m\u001b[1;33m)\u001b[0m\u001b[1;33m\u001b[0m\u001b[1;33m\u001b[0m\u001b[0m\n\u001b[0m\u001b[0;32m    311\u001b[0m \u001b[1;33m\u001b[0m\u001b[0m\n\u001b[0;32m    312\u001b[0m \u001b[1;32mdef\u001b[0m \u001b[0m_split_elem\u001b[0m\u001b[1;33m(\u001b[0m\u001b[0mres\u001b[0m\u001b[1;33m,\u001b[0m\u001b[0mk\u001b[0m\u001b[1;33m,\u001b[0m\u001b[0mv\u001b[0m\u001b[1;33m)\u001b[0m\u001b[1;33m:\u001b[0m\u001b[1;33m\u001b[0m\u001b[1;33m\u001b[0m\u001b[0m\n",
      "\u001b[1;31mTypeError\u001b[0m: __init__() missing 1 required positional argument: 'iterable'"
     ]
    }
   ],
   "source": [
    "df_tst = pd.DataFrame.from_dicoms(fns_trn[2:3]) #, px_summ=True)"
   ]
  },
  {
   "cell_type": "code",
   "execution_count": 14,
   "metadata": {},
   "outputs": [
    {
     "data": {
      "text/html": [
       "<div>\n",
       "<style scoped>\n",
       "    .dataframe tbody tr th:only-of-type {\n",
       "        vertical-align: middle;\n",
       "    }\n",
       "\n",
       "    .dataframe tbody tr th {\n",
       "        vertical-align: top;\n",
       "    }\n",
       "\n",
       "    .dataframe thead th {\n",
       "        text-align: right;\n",
       "    }\n",
       "</style>\n",
       "<table border=\"1\" class=\"dataframe\">\n",
       "  <thead>\n",
       "    <tr style=\"text-align: right;\">\n",
       "      <th></th>\n",
       "    </tr>\n",
       "  </thead>\n",
       "  <tbody>\n",
       "  </tbody>\n",
       "</table>\n",
       "</div>"
      ],
      "text/plain": [
       "Empty DataFrame\n",
       "Columns: []\n",
       "Index: []"
      ]
     },
     "execution_count": 14,
     "metadata": {},
     "output_type": "execute_result"
    }
   ],
   "source": [
    "df_tst.head()"
   ]
  },
  {
   "cell_type": "code",
   "execution_count": 24,
   "metadata": {},
   "outputs": [],
   "source": [
    "# Cell\n",
    "def _cast_dicom_special(x):\n",
    "    cls = type(x)\n",
    "    if not cls.__module__.startswith('pydicom'): return x\n",
    "    if cls.__base__ == object: return x\n",
    "    print('Hlello!')\n",
    "    return cls #.__base__(iter(x))"
   ]
  },
  {
   "cell_type": "code",
   "execution_count": null,
   "metadata": {},
   "outputs": [],
   "source": []
  }
 ],
 "metadata": {
  "kernelspec": {
   "display_name": "Python 3",
   "language": "python",
   "name": "python3"
  },
  "language_info": {
   "codemirror_mode": {
    "name": "ipython",
    "version": 3
   },
   "file_extension": ".py",
   "mimetype": "text/x-python",
   "name": "python",
   "nbconvert_exporter": "python",
   "pygments_lexer": "ipython3",
   "version": "3.7.7"
  }
 },
 "nbformat": 4,
 "nbformat_minor": 2
}
