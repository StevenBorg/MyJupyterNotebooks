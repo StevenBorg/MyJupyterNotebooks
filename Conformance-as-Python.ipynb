{
 "cells": [
  {
   "cell_type": "markdown",
   "metadata": {},
   "source": [
    "# Use DICOMWeb&trade; Standard APIs with Python"
   ]
  },
  {
   "cell_type": "markdown",
   "metadata": {},
   "source": [
    "This tutorial uses C# to demonstrate working with the Medical Imaging Server for DICOM.\n",
    "\n",
    "For the tutorial we will use the DICOM files here: [Sample DICOM files](../dcms). The file name, studyUID, seriesUID and instanceUID of the sample DICOM files is as follows:\n",
    "\n",
    "| File | StudyUID | SeriesUID | InstanceUID |\n",
    "| --- | --- | --- | ---|\n",
    "|green-square.dcm|1.2.826.0.1.3680043.8.498.13230779778012324449356534479549187420|1.2.826.0.1.3680043.8.498.45787841905473114233124723359129632652|1.2.826.0.1.3680043.8.498.12714725698140337137334606354172323212|\n",
    "|red-triangle.dcm|1.2.826.0.1.3680043.8.498.13230779778012324449356534479549187420|1.2.826.0.1.3680043.8.498.45787841905473114233124723359129632652|1.2.826.0.1.3680043.8.498.47359123102728459884412887463296905395|\n",
    "|blue-circle.dcm|1.2.826.0.1.3680043.8.498.13230779778012324449356534479549187420|1.2.826.0.1.3680043.8.498.77033797676425927098669402985243398207|1.2.826.0.1.3680043.8.498.13273713909719068980354078852867170114|\n",
    "\n",
    "> NOTE: Each of these files represent a single instance and are part of the same study. Also green-square and red-triangle are part of the same series, while blue-circle is in a separate series.\n"
   ]
  },
  {
   "cell_type": "markdown",
   "metadata": {},
   "source": [
    "## Prerequisites\n",
    "\n",
    "In order to use the DICOMWeb&trade; Standard APIs, you must have an instance of the Medical Imaging Server for DICOM deployed. If you have not already deployed the Medical Imaging Server, [Deploy the Medical Imaging Server to Azure](../quickstarts/deploy-via-azure.md).\n",
    "\n",
    "Once you have deployed an instance of the Medical Imaging Server for DICOM, retrieve the URL for your App Service:\n",
    "\n",
    "1. Sign into the [Azure Portal](https://portal.azure.com/).\n",
    "1. Search for **App Services** and select your Medical Imaging Server for DICOM App Service.\n",
    "1. Copy the **URL** of your App Service.\n",
    "\n",
    "For this code, we'll be accessing an unsecured dev/test service. Please don't upload any private health information (PHI).\n"
   ]
  },
  {
   "cell_type": "markdown",
   "metadata": {},
   "source": [
    "## Working with the Medical Imaging Server for DICOM \n",
    "The DICOMweb&trade; standard makes heavy use of `multipart/related` HTTP requests combined with DICOM specific accept headers. Developers familiar with other REST-based APIs often find working with the DICOMweb&trade; standard awkward. However, once you have it up and running, it's easy to use. It just takes a little finagling to get started."
   ]
  },
  {
   "cell_type": "markdown",
   "metadata": {},
   "source": [
    "### Import the appropriate Python libraries\n",
    "\n",
    "First, import the necessary Python libraries. \n",
    "\n",
    "We've chosen to implement this example using the synchronous `requests` library. For asnychronous support, consider using `httpx` or another async library. Additionally, we're importing two supporting functions from `urllib3` to support working with `multipart/related` requests."
   ]
  },
  {
   "cell_type": "code",
   "execution_count": 3,
   "metadata": {},
   "outputs": [],
   "source": [
    "import os\n",
    "import requests\n",
    "import io\n",
    "import pandas as pd\n",
    "import pydicom\n",
    "from pathlib import Path\n",
    "import time\n",
    "from collections import OrderedDict\n",
    "from urllib3.filepost import encode_multipart_formdata, choose_boundary"
   ]
  },
  {
   "cell_type": "markdown",
   "metadata": {},
   "source": [
    "### Configure user-defined variables to be used throughout\n",
    "Replace all variable values wrapped in { } with your own values. Additionally, validate that any constructed variables are correct.  For instance, `url` is constructed using the default URL for Azure App Service. If you're using a custom URL, you'll need to override that value with your own."
   ]
  },
  {
   "cell_type": "code",
   "execution_count": 3,
   "metadata": {},
   "outputs": [
    {
     "data": {
      "text/plain": [
       "'http://sjbpostman.azurewebsites.net'"
      ]
     },
     "execution_count": 3,
     "metadata": {},
     "output_type": "execute_result"
    }
   ],
   "source": [
    "dicom_server_name = \"{server-name}\"\n",
    "url = f\"https://{dicom_server_name}.azurewebsites.net\"\n",
    "url"
   ]
  },
  {
   "cell_type": "markdown",
   "metadata": {},
   "source": [
    "### Define a helper class\n",
    "This helper class defines the Python code to call the service.  "
   ]
  },
  {
   "cell_type": "code",
   "execution_count": 4,
   "metadata": {},
   "outputs": [],
   "source": [
    "class DicomRequestHelper:\n",
    "    def __init__(self, url, session):\n",
    "        self.__url = url\n",
    "        self.__session = session\n",
    "    \n",
    "    \n",
    "    ########################################\n",
    "    # All the properties\n",
    "    \n",
    "    @property\n",
    "    def url(self):\n",
    "        return self.__url\n",
    "    \n",
    "    @url.setter\n",
    "    def url(self, value):\n",
    "        self.__url=value\n",
    "    \n",
    "    @property\n",
    "    def session(self):\n",
    "        return self.__session\n",
    "    \n",
    "    @session.setter\n",
    "    def session(self, value):\n",
    "        self.__session=value\n",
    "    \n",
    "    \n",
    "    ########################################\n",
    "    # All the misc code\n",
    "    \n",
    "    def _encode_multipart_related(self, fields, boundary=None):\n",
    "        if boundary is None:\n",
    "            boundary = choose_boundary()\n",
    "\n",
    "        body, _ = encode_multipart_formdata(fields, boundary)\n",
    "        content_type = str('multipart/related; boundary=%s' % boundary)\n",
    "\n",
    "        return body, content_type\n",
    "    \n",
    "    \n",
    "    def _construct_url(self, study_uid, series_uid = None, instance_uid = None, frames = None):        \n",
    "        #if frames has a value, it's a single item or a list (which must be separated by commas)\n",
    "        #  also, we must them have a study, series and instance, \n",
    "        if frames:\n",
    "            frame_string = ''\n",
    "            if type(frames) is list:\n",
    "                # iterate and separate with commas\n",
    "                frame_string = \",\".join(l)\n",
    "            else:\n",
    "                frame_string = frames\n",
    "            return f'/studies/{study_uid}/series/{series_uid}/instances/{instance_uid}/frames/{frame_string}'\n",
    "        \n",
    "        #likewise, if frames=None and instance_uid exists, we must have study and series\n",
    "        if instance_uid:\n",
    "            return f'/studies/{study_uid}/series/{series_uid}/instances/{instance_uid}'\n",
    "\n",
    "        #and so on with series\n",
    "        if series_uid:\n",
    "            return f'/studies/{study_uid}/series/{series_uid}'\n",
    "        \n",
    "        #must have at least the study\n",
    "        return f'/studies/{study_uid}'\n",
    "\n",
    "    def _construct_retrieve_header(self, study_uid, series_uid = None, instance_uid = None, frames = None):\n",
    "        \n",
    "        #if frames has a value, it's a single item or a list (which must be separated by commas)\n",
    "        #  also, we must them have a study, series and instance, \n",
    "        if frames:\n",
    "            return {'Accept':'multipart/related; type=\"application/octet-stream\"; transfer-syntax=*'}\n",
    "         \n",
    "        #likewise, if frames=None and instance_uid exists, we must have study and series\n",
    "        if instance_uid:\n",
    "            return {'Accept':'application/dicom'}\n",
    " \n",
    "        #and so on with series\n",
    "        if series_uid:\n",
    "            return {'Accept':'multipart/related; type=\"application/dicom\"; transfer-syntax=*'}\n",
    "        \n",
    "        #must have at least the study\n",
    "        return {'Accept':'multipart/related; type=\"application/dicom\"; transfer-syntax=*'}\n",
    "\n",
    "    \n",
    "    def get_http_response_dict(self, response, is_binary = False, filename=None):\n",
    "        d = OrderedDict()   # create a new ordered dictionary\n",
    "        r = response\n",
    "\n",
    "        # Add the information to the dictionary\n",
    "        if filename:\n",
    "            d['fname'] = str(filename)     \n",
    "        d['method'] = r.request.method\n",
    "        d['url'] = r.url\n",
    "        d['path_url'] = r.request.path_url\n",
    "        d['request_headers'] = str(r.request.headers) \n",
    "        if r.request.body:\n",
    "            d['request_body_trimmed'] = r.request.body[0:150]   \n",
    "\n",
    "        d['ok'] = r.ok\n",
    "        d['status_code'] = r.status_code  \n",
    "        d['reason'] = r.reason\n",
    "        d['response_headers'] = r.headers\n",
    "        if not is_binary:\n",
    "            d['response_text'] = r.text  \n",
    "            d['apparent_encoding'] = r.apparent_encoding\n",
    "            d['encoding'] = r.encoding\n",
    "        d['elapsed_time'] = r.elapsed\n",
    "\n",
    "        return d  \n",
    "    \n",
    "    \n",
    "    ########################\n",
    "    # STOW\n",
    "    \n",
    "    def store_single_dcm_file(self, filepath):\n",
    "        \n",
    "        # Hack. Need to open up and read through file...  Can also do with pydicom\n",
    "        with open(filepath,'rb') as reader:\n",
    "            rawfile = reader.read()\n",
    "        files = {'file': ('dicomfile', rawfile, 'application/dicom')}\n",
    "\n",
    "        #encode as multipart_related\n",
    "        body, content_type = self._encode_multipart_related(fields = files)\n",
    "\n",
    "        headers = {'Accept':'application/dicom+json', \"Content-Type\":content_type}\n",
    "\n",
    "        url = f'{self.__url}/studies'\n",
    "        #response = requests.post(url, body, headers=headers) #, verify=False)\n",
    "        response = self.session.post(url, body, headers=headers, verify=False)\n",
    "\n",
    "        #return the response object to allow for further processing\n",
    "\n",
    "        #example usage\n",
    "        #r = store_single_dcm_file(url,'C:\\\\githealth\\\\dicom-samples\\\\visus.com\\\\case4\\\\case4a_002.dcm')\n",
    "        #print(r.status_code)\n",
    "        #print(r.request.headers)\n",
    "\n",
    "        return response\n",
    "    \n",
    "    ########################\n",
    "    # QIDO\n",
    "    \n",
    "    def query_all_studies(self):\n",
    "        \n",
    "        headers = {'Accept':'application/dicom+json'}\n",
    "\n",
    "        url = f'{self.__url}/studies'\n",
    "        response = self.session.get(url, headers=headers) #, verify=False)\n",
    "\n",
    "        #return the response object to allow for further processing\n",
    "\n",
    "        #example usage\n",
    "        #r = store_single_dcm_file(url,'C:\\\\githealth\\\\dicom-samples\\\\visus.com\\\\case4\\\\case4a_002.dcm')\n",
    "        #print(r.status_code)\n",
    "        #print(r.request.headers)\n",
    "\n",
    "        return response\n",
    "    \n",
    "    def query_all_study_uids(self):\n",
    "        studies = self.query_all_studies()\n",
    "        if studies:\n",
    "            studies_json = studies.json()\n",
    "            #j = r.json()[0]\n",
    "            studylist = [x.get('0020000D').get('Value')[0] for x in studies_json]\n",
    "        \n",
    "            return studylist\n",
    "        else:\n",
    "            return []\n",
    "\n",
    "    #######################\n",
    "    # WADO\n",
    "    \n",
    "    def retrieve_images(self, study_uid, series_uid = None, instance_uid = None, frames = None):\n",
    "        url = f'{self.__url}{self._construct_url(study_uid = study_uid, series_uid = series_uid, instance_uid = instance_uid, frames = None)}'\n",
    "        headers = self._construct_retrieve_header(study_uid = study_uid, series_uid = series_uid, instance_uid = instance_uid, frames = None)\n",
    " \n",
    "        #headers = {'Accept':'application/dicom+json'}\n",
    "        #headers = {'Accept':'multipart/related; type=\"application/octet-stream\"; transfer-syntax=*'}\n",
    "        #headers = {'Accept':'multipart/related; type=\"application/dicom\"; transfer-syntax=*'}\n",
    "\n",
    "        response = self.session.get(url, headers=headers) #, verify=False)\n",
    "        return response\n",
    "\n",
    "    def retrieve_metadata(self, study_uid, series_uid = None, instance_uid = None):\n",
    "        url = f'{self.__url}{self._construct_url(study_uid = study_uid, series_uid = series_uid, instance_uid = instance_uid, frames = None)}/metadata'\n",
    "        \n",
    "        headers = {'Accept':'application/dicom+json'}\n",
    "        print(url)\n",
    "        response = self.session.get(url, headers=headers) #, verify=False)\n",
    "        return response\n",
    "        \n",
    "    #######################\n",
    "    # DELETE\n",
    "    \n",
    "    def delete_study(self, study_uid):\n",
    "        headers = {'Accept':'application/dicom+json'}\n",
    "        #headers = {'Accept':'anything/at+all'}\n",
    "\n",
    "        url = f'{self.__url}/studies/{study_uid}'\n",
    "        response = self.session.delete(url, headers=headers) #, verify=False)\n",
    "\n",
    "        #return the response object to allow for further processing\n",
    "\n",
    "        #example usage\n",
    "        #r = store_single_dcm_file(url,'C:\\\\githealth\\\\dicom-samples\\\\visus.com\\\\case4\\\\case4a_002.dcm')\n",
    "        #print(r.status_code)\n",
    "        #print(r.request.headers)\n",
    "\n",
    "        return response\n",
    "    \n",
    "    def delete_studies(self, study_uids):\n",
    "        return [self.delete_study(study) for study in study_uids]\n",
    "            \n",
    "    \n",
    "    def mangle_dicom_with_new_uids(self,datasets, num_studies = None, num_series=None):\n",
    "        \n",
    "        #if datasets isn't a list (a single one, perhaps?), make it a list\n",
    "        if type(datasets) is not list:\n",
    "            y = []\n",
    "            y.append(datasets)\n",
    "            datasets = y\n",
    "        \n",
    "        # if num_studies and num_series aren't passed, just make everything unique\n",
    "        if not num_studies and not num_series:\n",
    "            num_studies = len(datasets)\n",
    "            num_series = len(datasets)\n",
    "        \n",
    "        pass\n",
    "    \n",
    "    def download_studies_to_pydicom(self,num_studies=50):\n",
    "        '''Retrieve num_studies from the server and convert to pydicom datasets'''\n",
    "        study_uids = self.query_all_study_uids() #get all the studies, up to max server will send back\n",
    "        study_uids = study_uids[:num_studies] # trim to only the first num_studies\n",
    "        \n",
    "        # download all the studies\n",
    "        pydicom_studies = []\n",
    "        for uid in study_uids:\n",
    "            # get the study\n",
    "            study = self.retrieve_images()\n",
    "            \n",
    "        \n",
    "        \n",
    "        "
   ]
  },
  {
   "cell_type": "code",
   "execution_count": 5,
   "metadata": {},
   "outputs": [],
   "source": [
    "client = requests.session()\n",
    "x = DicomRequestHelper(url, client)"
   ]
  },
  {
   "cell_type": "code",
   "execution_count": 6,
   "metadata": {},
   "outputs": [
    {
     "data": {
      "text/plain": [
       "'http://sjbpostman.azurewebsites.net'"
      ]
     },
     "execution_count": 6,
     "metadata": {},
     "output_type": "execute_result"
    }
   ],
   "source": [
    "x.url"
   ]
  },
  {
   "cell_type": "code",
   "execution_count": null,
   "metadata": {},
   "outputs": [],
   "source": [
    "\n"
   ]
  },
  {
   "cell_type": "markdown",
   "metadata": {},
   "source": [
    "## Test WADO"
   ]
  },
  {
   "cell_type": "code",
   "execution_count": 7,
   "metadata": {},
   "outputs": [
    {
     "name": "stdout",
     "output_type": "stream",
     "text": [
      "10\n"
     ]
    }
   ],
   "source": [
    "# find a study\n",
    "studies = x.query_all_study_uids()\n",
    "print(len(studies))"
   ]
  },
  {
   "cell_type": "code",
   "execution_count": 8,
   "metadata": {},
   "outputs": [
    {
     "name": "stdout",
     "output_type": "stream",
     "text": [
      "1.3.6.1.4.1.14519.5.2.1.6834.5010.335014117706890137582032169351\n"
     ]
    }
   ],
   "source": [
    "print(studies[0])"
   ]
  },
  {
   "cell_type": "code",
   "execution_count": 9,
   "metadata": {},
   "outputs": [],
   "source": [
    "#z = [x.retrieve_images(study) for study in studies]\n",
    "#z"
   ]
  },
  {
   "cell_type": "code",
   "execution_count": 13,
   "metadata": {},
   "outputs": [
    {
     "data": {
      "text/plain": [
       "<Response [200]>"
      ]
     },
     "execution_count": 13,
     "metadata": {},
     "output_type": "execute_result"
    }
   ],
   "source": [
    "#yy = x.retrieve_metadata('1.2.276.0.50.192168001099.9483698.14547392.4')\n",
    "y = x.retrieve_images('1.2.276.0.50.192168001099.9483698.14547392.4')\n",
    "y"
   ]
  },
  {
   "cell_type": "code",
   "execution_count": 11,
   "metadata": {},
   "outputs": [
    {
     "data": {
      "text/plain": [
       "OrderedDict([('method', 'GET'),\n",
       "             ('url',\n",
       "              'http://sjbpostman.azurewebsites.net/studies/1.2.276.0.50.192168001099.9483698.14547392.4'),\n",
       "             ('path_url',\n",
       "              '/studies/1.2.276.0.50.192168001099.9483698.14547392.4'),\n",
       "             ('request_headers',\n",
       "              '{\\'User-Agent\\': \\'python-requests/2.23.0\\', \\'Accept-Encoding\\': \\'gzip, deflate\\', \\'Accept\\': \\'multipart/related; type=\"application/dicom\"; transfer-syntax=*\\', \\'Connection\\': \\'keep-alive\\'}'),\n",
       "             ('ok', True),\n",
       "             ('status_code', 200),\n",
       "             ('reason', 'OK'),\n",
       "             ('response_headers',\n",
       "              {'Content-Length': '6277936', 'Content-Type': 'multipart/related; boundary=\"f7c2f750-e485-4323-af79-839f14bca7f4\"', 'Server': 'Microsoft-IIS/10.0', 'Request-Context': 'appId=cid-v1:746c16a0-30de-4709-9f48-f94c311a7a24', 'X-Content-Type-Options': 'nosniff', 'X-Powered-By': 'ASP.NET', 'Date': 'Thu, 17 Sep 2020 15:55:31 GMT'}),\n",
       "             ('elapsed_time', datetime.timedelta(microseconds=509027))])"
      ]
     },
     "execution_count": 11,
     "metadata": {},
     "output_type": "execute_result"
    }
   ],
   "source": [
    "sho = x.get_http_response_dict(y, is_binary=True)\n",
    "sho"
   ]
  },
  {
   "cell_type": "code",
   "execution_count": 14,
   "metadata": {},
   "outputs": [
    {
     "data": {
      "text/plain": [
       "<Response [404]>"
      ]
     },
     "execution_count": 14,
     "metadata": {},
     "output_type": "execute_result"
    }
   ],
   "source": [
    "z = x.retrieve_images('1.2.276.0.50.192168001099.7810872.14547392.270','1.2.276.0.50.192168001099.7810872.14547392.458')\n",
    "z"
   ]
  },
  {
   "cell_type": "code",
   "execution_count": null,
   "metadata": {},
   "outputs": [],
   "source": []
  },
  {
   "cell_type": "markdown",
   "metadata": {},
   "source": [
    "## Test QIDO"
   ]
  },
  {
   "cell_type": "code",
   "execution_count": 20,
   "metadata": {},
   "outputs": [],
   "source": [
    "r = x.query_all_studies()"
   ]
  },
  {
   "cell_type": "code",
   "execution_count": 21,
   "metadata": {},
   "outputs": [
    {
     "data": {
      "text/plain": [
       "OrderedDict([('method', 'GET'),\n",
       "             ('url', 'https://sjbdicom2.azurewebsites.net/studies'),\n",
       "             ('path_url', '/studies'),\n",
       "             ('request_headers',\n",
       "              \"{'User-Agent': 'python-requests/2.23.0', 'Accept-Encoding': 'gzip, deflate', 'Accept': 'application/dicom+json', 'Connection': 'keep-alive'}\"),\n",
       "             ('ok', True),\n",
       "             ('status_code', 200),\n",
       "             ('reason', 'OK'),\n",
       "             ('response_headers',\n",
       "              {'Content-Length': '5892', 'Content-Type': 'application/dicom+json; charset=utf-8', 'Server': 'Microsoft-IIS/10.0', 'Request-Context': 'appId=cid-v1:be5422fb-ccaa-4f0e-9a84-86cf4c3f0089', 'X-Content-Type-Options': 'nosniff', 'X-Powered-By': 'ASP.NET', 'Date': 'Wed, 13 May 2020 18:29:17 GMT'}),\n",
       "             ('response_text',\n",
       "              '[{\"00080020\":{\"vr\":\"DA\",\"Value\":[\"19941013\"]},\"00080030\":{\"vr\":\"TM\",\"Value\":[\"141917\"]},\"00080050\":{\"vr\":\"SH\"},\"00080090\":{\"vr\":\"PN\"},\"00081030\":{\"vr\":\"LO\"},\"00100010\":{\"vr\":\"PN\",\"Value\":[{\"Alphabetic\":\"Rubo DEMO\"}]},\"00100020\":{\"vr\":\"LO\",\"Value\":[\"556342B\"]},\"00100030\":{\"vr\":\"DA\",\"Value\":[\"19951025\"]},\"00100040\":{\"vr\":\"CS\",\"Value\":[\"M\"]},\"0020000D\":{\"vr\":\"UI\",\"Value\":[\"1.3.12.2.1107.5.4.3.123456789012345.19950922.121803.6\"]},\"00200010\":{\"vr\":\"SH\"}},{\"00080005\":{\"vr\":\"CS\",\"Value\":[\"ISO_IR 100\"]},\"00080020\":{\"vr\":\"DA\",\"Value\":[\"20010101\"]},\"00080030\":{\"vr\":\"TM\",\"Value\":[\"115545\"]},\"00080050\":{\"vr\":\"SH\",\"Value\":[\"11788773431341\"]},\"00080090\":{\"vr\":\"PN\",\"Value\":[{\"Alphabetic\":\"Dr. Anonymous\"}]},\"00081030\":{\"vr\":\"LO\",\"Value\":[\"Ellenbogen\"]},\"00100010\":{\"vr\":\"PN\",\"Value\":[{\"Alphabetic\":\"Fall 7\"}]},\"00100020\":{\"vr\":\"LO\",\"Value\":[\"11788773431343\"]},\"00100030\":{\"vr\":\"DA\",\"Value\":[\"19000101\"]},\"00100040\":{\"vr\":\"CS\",\"Value\":[\"O\"]},\"0020000D\":{\"vr\":\"UI\",\"Value\":[\"1.2.276.0.50.192168001099.9483698.14547392.4\"]},\"00200010\":{\"vr\":\"SH\",\"Value\":[\"11788773431341\"]}},{\"00080005\":{\"vr\":\"CS\",\"Value\":[\"ISO_IR 100\"]},\"00080020\":{\"vr\":\"DA\",\"Value\":[\"20010101\"]},\"00080030\":{\"vr\":\"TM\",\"Value\":[\"115358\"]},\"00080050\":{\"vr\":\"SH\",\"Value\":[\"11788772290708\"]},\"00080090\":{\"vr\":\"PN\",\"Value\":[{\"Alphabetic\":\"Dr. Anonymous\"}]},\"00081030\":{\"vr\":\"LO\",\"Value\":[\"Thorax digital\"]},\"00100010\":{\"vr\":\"PN\",\"Value\":[{\"Alphabetic\":\"Fall 6\"}]},\"00100020\":{\"vr\":\"LO\",\"Value\":[\"11788772290701\"]},\"00100030\":{\"vr\":\"DA\",\"Value\":[\"19000101\"]},\"00100040\":{\"vr\":\"CS\",\"Value\":[\"O\"]},\"0020000D\":{\"vr\":\"UI\",\"Value\":[\"1.2.276.0.50.192168001099.9140875.14547392.277\"]},\"00200010\":{\"vr\":\"SH\",\"Value\":[\"11788772290702\"]}},{\"00080005\":{\"vr\":\"CS\",\"Value\":[\"ISO_IR 100\"]},\"00080020\":{\"vr\":\"DA\",\"Value\":[\"20010101\"]},\"00080030\":{\"vr\":\"TM\",\"Value\":[\"115051\"]},\"00080050\":{\"vr\":\"SH\",\"Value\":[\"11788770003211\"]},\"00080090\":{\"vr\":\"PN\",\"Value\":[{\"Alphabetic\":\"Dr. Anonymous\"}]},\"00081030\":{\"vr\":\"LO\",\"Value\":[\"CT Thorax\"]},\"00100010\":{\"vr\":\"PN\",\"Value\":[{\"Alphabetic\":\"Fall 6\"}]},\"00100020\":{\"vr\":\"LO\",\"Value\":[\"11788770003213\"]},\"00100030\":{\"vr\":\"DA\",\"Value\":[\"19000101\"]},\"00100040\":{\"vr\":\"CS\",\"Value\":[\"O\"]},\"0020000D\":{\"vr\":\"UI\",\"Value\":[\"1.2.276.0.50.192168001099.9140875.14547392.4\"]},\"00200010\":{\"vr\":\"SH\",\"Value\":[\"11788770003314\"]}},{\"00080005\":{\"vr\":\"CS\",\"Value\":[\"ISO_IR 100\"]},\"00080020\":{\"vr\":\"DA\",\"Value\":[\"20010101\"]},\"00080030\":{\"vr\":\"TM\",\"Value\":[\"114841\"]},\"00080050\":{\"vr\":\"SH\",\"Value\":[\"11788766887031\"]},\"00080090\":{\"vr\":\"PN\",\"Value\":[{\"Alphabetic\":\"Dr. Anonymous\"}]},\"00081030\":{\"vr\":\"LO\",\"Value\":[\"MRT Oberbauch\"]},\"00100010\":{\"vr\":\"PN\",\"Value\":[{\"Alphabetic\":\"Fall 5\"}]},\"00100020\":{\"vr\":\"LO\",\"Value\":[\"11788766887033\"]},\"00100030\":{\"vr\":\"DA\",\"Value\":[\"19000101\"]},\"00100040\":{\"vr\":\"CS\",\"Value\":[\"O\"]},\"0020000D\":{\"vr\":\"UI\",\"Value\":[\"1.2.276.0.50.192168001099.8829267.14547392.4\"]},\"00200010\":{\"vr\":\"SH\",\"Value\":[\"11788766887234\"]}},{\"00080020\":{\"vr\":\"DA\",\"Value\":[\"20010101\"]},\"00080030\":{\"vr\":\"TM\",\"Value\":[\"102417\"]},\"00080050\":{\"vr\":\"SH\",\"Value\":[\"11791310352591\"]},\"00080090\":{\"vr\":\"PN\",\"Value\":[{\"Alphabetic\":\"Dr. Anonymous\"}]},\"00081030\":{\"vr\":\"LO\",\"Value\":[\"MRA\"]},\"00100010\":{\"vr\":\"PN\",\"Value\":[{\"Alphabetic\":\"Fall 5\"}]},\"00100020\":{\"vr\":\"LO\",\"Value\":[\"11791310352593\"]},\"00100030\":{\"vr\":\"DA\",\"Value\":[\"19000101\"]},\"00100040\":{\"vr\":\"CS\",\"Value\":[\"O\"]},\"0020000D\":{\"vr\":\"UI\",\"Value\":[\"1.2.276.0.50.192168001092.11517584.14547392.4\"]},\"00200010\":{\"vr\":\"SH\",\"Value\":[\"11791310352804\"]}},{\"00080005\":{\"vr\":\"CS\",\"Value\":[\"ISO_IR 100\"]},\"00080020\":{\"vr\":\"DA\",\"Value\":[\"20010101\"]},\"00080030\":{\"vr\":\"TM\",\"Value\":[\"114406\"]},\"00080050\":{\"vr\":\"SH\",\"Value\":[\"11788765469991\"]},\"00080090\":{\"vr\":\"PN\",\"Value\":[{\"Alphabetic\":\"Dr. Anonymous\"}]},\"00081030\":{\"vr\":\"LO\",\"Value\":[\"MRT Sch?del\"]},\"00100010\":{\"vr\":\"PN\",\"Value\":[{\"Alphabetic\":\"Fall 4\"}]},\"00100020\":{\"vr\":\"LO\",\"Value\":[\"11788765469993\"]},\"00100030\":{\"vr\":\"DA\",\"Value\":[\"19000101\"]},\"00100040\":{\"vr\":\"CS\",\"Value\":[\"O\"]},\"0020000D\":{\"vr\":\"UI\",\"Value\":[\"1.2.276.0.50.192168001099.8687553.14547392.4\"]},\"00200010\":{\"vr\":\"SH\",\"Value\":[\"11788765470094\"]}},{\"00080005\":{\"vr\":\"CS\",\"Value\":[\"ISO_IR 100\"]},\"00080020\":{\"vr\":\"DA\",\"Value\":[\"20010101\"]},\"00080030\":{\"vr\":\"TM\",\"Value\":[\"102233\"]},\"00080050\":{\"vr\":\"SH\",\"Value\":[\"11791306742801\"]},\"00080090\":{\"vr\":\"PN\",\"Value\":[{\"Alphabetic\":\"Dr. Anonymous\"}]},\"00081030\":{\"vr\":\"LO\",\"Value\":[\"MRT Oberbauch\"]},\"00100010\":{\"vr\":\"PN\",\"Value\":[{\"Alphabetic\":\"Fall 3\"}]},\"00100020\":{\"vr\":\"LO\",\"Value\":[\"11791306742903\"]},\"00100030\":{\"vr\":\"DA\",\"Value\":[\"19000101\"]},\"00100040\":{\"vr\":\"CS\",\"Value\":[\"O\"]},\"0020000D\":{\"vr\":\"UI\",\"Value\":[\"1.2.276.0.50.192168001092.11156604.14547392.4\"]},\"00200010\":{\"vr\":\"SH\",\"Value\":[\"11791306743104\"]}},{\"00080020\":{\"vr\":\"DA\",\"Value\":[\"20010101\"]},\"00080030\":{\"vr\":\"TM\",\"Value\":[\"113938\"]},\"00080050\":{\"vr\":\"SH\",\"Value\":[\"11788761116031\"]},\"00080090\":{\"vr\":\"PN\",\"Value\":[{\"Alphabetic\":\"Dr. Anonymous\"}]},\"00081030\":{\"vr\":\"LO\",\"Value\":[\"CT Abdomen\"]},\"00100010\":{\"vr\":\"PN\",\"Value\":[{\"Alphabetic\":\"Fall 2\"}]},\"00100020\":{\"vr\":\"LO\",\"Value\":[\"11788761116033\"]},\"00100030\":{\"vr\":\"DA\",\"Value\":[\"19000101\"]},\"00100040\":{\"vr\":\"CS\",\"Value\":[\"O\"]},\"0020000D\":{\"vr\":\"UI\",\"Value\":[\"1.2.276.0.50.192168001099.8252157.14547392.4\"]},\"00200010\":{\"vr\":\"SH\",\"Value\":[\"11788761116134\"]}},{\"00080005\":{\"vr\":\"CS\",\"Value\":[\"ISO_IR 100\"]},\"00080020\":{\"vr\":\"DA\",\"Value\":[\"20010101\"]},\"00080030\":{\"vr\":\"TM\",\"Value\":[\"113402\"]},\"00080050\":{\"vr\":\"SH\",\"Value\":[\"11788759296818\"]},\"00080090\":{\"vr\":\"PN\",\"Value\":[{\"Alphabetic\":\"Dr. Anonymous\"}]},\"00081030\":{\"vr\":\"LO\",\"Value\":[\"MRT Sakroiliakalgelenke\"]},\"00100010\":{\"vr\":\"PN\",\"Value\":[{\"Alphabetic\":\"Fall 1\"}]},\"00100020\":{\"vr\":\"LO\",\"Value\":[\"11788759296811\"]},\"00100030\":{\"vr\":\"DA\",\"Value\":[\"19000101\"]},\"00100040\":{\"vr\":\"CS\",\"Value\":[\"O\"]},\"0020000D\":{\"vr\":\"UI\",\"Value\":[\"1.2.276.0.50.192168001099.7810872.14547392.270\"]},\"00200010\":{\"vr\":\"SH\",\"Value\":[\"11788759296812\"]}}]'),\n",
       "             ('apparent_encoding', 'ascii'),\n",
       "             ('encoding', 'utf-8'),\n",
       "             ('elapsed_time', datetime.timedelta(microseconds=364883))])"
      ]
     },
     "execution_count": 21,
     "metadata": {},
     "output_type": "execute_result"
    }
   ],
   "source": [
    "d = x.get_http_response_dict(r)\n",
    "d"
   ]
  },
  {
   "cell_type": "code",
   "execution_count": 14,
   "metadata": {},
   "outputs": [],
   "source": [
    "l = x.query_all_study_uids()"
   ]
  },
  {
   "cell_type": "code",
   "execution_count": 15,
   "metadata": {},
   "outputs": [
    {
     "data": {
      "text/plain": [
       "['1.3.12.2.1107.5.4.3.123456789012345.19950922.121803.6',\n",
       " '1.2.276.0.50.192168001099.9483698.14547392.4',\n",
       " '1.2.276.0.50.192168001099.9140875.14547392.277',\n",
       " '1.2.276.0.50.192168001099.9140875.14547392.4',\n",
       " '1.2.276.0.50.192168001099.8829267.14547392.4',\n",
       " '1.2.276.0.50.192168001092.11517584.14547392.4',\n",
       " '1.2.276.0.50.192168001099.8687553.14547392.4',\n",
       " '1.2.276.0.50.192168001092.11156604.14547392.4',\n",
       " '1.2.276.0.50.192168001099.8252157.14547392.4',\n",
       " '1.2.276.0.50.192168001099.7810872.14547392.270']"
      ]
     },
     "execution_count": 15,
     "metadata": {},
     "output_type": "execute_result"
    }
   ],
   "source": [
    "\n",
    "l"
   ]
  },
  {
   "cell_type": "markdown",
   "metadata": {},
   "source": [
    "## Test STOW"
   ]
  },
  {
   "cell_type": "code",
   "execution_count": 31,
   "metadata": {},
   "outputs": [
    {
     "data": {
      "text/plain": [
       "<Response [200]>"
      ]
     },
     "execution_count": 31,
     "metadata": {},
     "output_type": "execute_result"
    }
   ],
   "source": [
    "#r = x.store_single_dcm_file('C:\\\\githealth\\\\dicom-samples\\\\visus.com\\\\case1\\\\case1_008.dcm')\n",
    "r = x.store_single_dcm_file('C:\\\\githealth\\\\dicom-samples\\\\visus.com\\\\case1\\\\dicomfile')\n",
    "r"
   ]
  },
  {
   "cell_type": "code",
   "execution_count": null,
   "metadata": {},
   "outputs": [],
   "source": [
    "### SAVE!!!!  Causes a 500 error on server\n",
    "#r = x.store_single_dcm_file('C:\\\\githealth\\\\dicom-samples\\\\visus.com\\\\case1\\\\case1_008.dcm')\n",
    "#r = x.store_single_dcm_file(\"C:\\\\githealth\\\\dicom-samples\\\\dicomlibrary.com\\\\series-000001\\\\image-000360.dcm\") #500\n",
    "#r = x.store_single_dcm_file(\"C:\\\\githealth\\\\dicom-samples\\\\dicomlibrary.com\\\\series-000001\\\\image-000001.dcm\") #500\n",
    "#r = x.store_single_dcm_file(\"C:\\\\githealth\\\\dicom-samples\\\\barre.dev\\\\MR-MONO2-8-16x-heart.dcm\")  #500\n",
    "\n",
    "r = x.store_single_dcm_file(\"C:\\\\githealth\\\\dicom-samples\\\\rubomedica.com\\\\0002.dcm\") \n"
   ]
  },
  {
   "cell_type": "code",
   "execution_count": 6,
   "metadata": {},
   "outputs": [],
   "source": [
    "filename = \"C:\\\\githealth\\\\dicom-samples\\\\rubomedica.com\\\\0002.dcm\"\n",
    "r = x.store_single_dcm_file(filename) "
   ]
  },
  {
   "cell_type": "code",
   "execution_count": 21,
   "metadata": {},
   "outputs": [
    {
     "data": {
      "text/plain": [
       "<Response [409]>"
      ]
     },
     "execution_count": 21,
     "metadata": {},
     "output_type": "execute_result"
    }
   ],
   "source": [
    "r"
   ]
  },
  {
   "cell_type": "code",
   "execution_count": null,
   "metadata": {},
   "outputs": [],
   "source": [
    "d = x.get_http_response_dict(r, filename)"
   ]
  },
  {
   "cell_type": "code",
   "execution_count": null,
   "metadata": {},
   "outputs": [],
   "source": [
    "d"
   ]
  },
  {
   "cell_type": "markdown",
   "metadata": {},
   "source": [
    "## Test DELETE"
   ]
  },
  {
   "cell_type": "code",
   "execution_count": null,
   "metadata": {},
   "outputs": [],
   "source": [
    "uid = '1.3.12.2.1107.5.4.3.4975316777216.19951114.94101.16'"
   ]
  },
  {
   "cell_type": "code",
   "execution_count": null,
   "metadata": {},
   "outputs": [],
   "source": [
    "r = x.delete_study(uid)"
   ]
  },
  {
   "cell_type": "code",
   "execution_count": null,
   "metadata": {},
   "outputs": [],
   "source": [
    "y = x.get_http_response_dict(r)"
   ]
  },
  {
   "cell_type": "code",
   "execution_count": null,
   "metadata": {},
   "outputs": [],
   "source": [
    "st = x.query_all_study_uids()"
   ]
  },
  {
   "cell_type": "code",
   "execution_count": null,
   "metadata": {},
   "outputs": [],
   "source": []
  },
  {
   "cell_type": "markdown",
   "metadata": {},
   "source": [
    "## Prep for Load Test"
   ]
  },
  {
   "cell_type": "code",
   "execution_count": null,
   "metadata": {},
   "outputs": [],
   "source": [
    "studies = x.query_all_study_uids()"
   ]
  },
  {
   "cell_type": "code",
   "execution_count": null,
   "metadata": {},
   "outputs": [],
   "source": [
    "studies"
   ]
  },
  {
   "cell_type": "code",
   "execution_count": null,
   "metadata": {},
   "outputs": [],
   "source": [
    "meta = [x.retrieve_metadata(s) for s in studies]"
   ]
  },
  {
   "cell_type": "code",
   "execution_count": null,
   "metadata": {},
   "outputs": [],
   "source": [
    "jsons = [m.json() for m in meta]   \n",
    "jsons\n"
   ]
  },
  {
   "cell_type": "code",
   "execution_count": null,
   "metadata": {},
   "outputs": [],
   "source": [
    "# 00080018 = SOPInstanceUID\n",
    "# 0020000D = StudyInstanceUID\n",
    "# 0020000E = SeriesInstanceUID"
   ]
  },
  {
   "cell_type": "code",
   "execution_count": null,
   "metadata": {},
   "outputs": [],
   "source": [
    "   \n",
    "instance_uids = [j[0].get('00080018').get('Value')[0] for j in jsons]\n",
    "series_uids = [j[0].get('0020000E').get('Value')[0] for j in jsons]\n",
    "study_uids = [j[0].get('0020000D').get('Value')[0] for j in jsons]\n",
    "uids = [(j[0].get('0020000D').get('Value')[0],j[0].get('0020000E').get('Value')[0],j[0].get('00080018').get('Value')[0]) for j in jsons]"
   ]
  },
  {
   "cell_type": "code",
   "execution_count": null,
   "metadata": {},
   "outputs": [],
   "source": [
    "uids # this is a tuple with 3 uids in order (study, series, instance)"
   ]
  },
  {
   "cell_type": "code",
   "execution_count": null,
   "metadata": {},
   "outputs": [],
   "source": [
    "# Get a list of instance responses\n",
    "instances = [x.retrieve_metadata(st,se,ins) for st,se,ins in uids]"
   ]
  },
  {
   "cell_type": "code",
   "execution_count": null,
   "metadata": {},
   "outputs": [],
   "source": [
    "st,se,ins = uids[0]\n",
    "print(st)\n",
    "print(se)\n",
    "print(ins)\n",
    "inst = x.retrieve_images(st,se,ins)\n",
    "inst2 = x.retrieve_metadata(st,se,ins)"
   ]
  },
  {
   "cell_type": "code",
   "execution_count": null,
   "metadata": {},
   "outputs": [],
   "source": [
    "inst.content\n"
   ]
  },
  {
   "cell_type": "code",
   "execution_count": null,
   "metadata": {},
   "outputs": [],
   "source": [
    "from io import BytesIO\n",
    "from pydicom import dcmread, dcmwrite\n",
    "from pydicom.filebase import DicomFileLike\n",
    "\n",
    "dataset = dcmread(BytesIO(inst.content), force=True)"
   ]
  },
  {
   "cell_type": "code",
   "execution_count": null,
   "metadata": {},
   "outputs": [],
   "source": [
    "dataset"
   ]
  },
  {
   "cell_type": "code",
   "execution_count": null,
   "metadata": {},
   "outputs": [],
   "source": []
  },
  {
   "cell_type": "code",
   "execution_count": null,
   "metadata": {},
   "outputs": [],
   "source": []
  },
  {
   "cell_type": "code",
   "execution_count": null,
   "metadata": {},
   "outputs": [],
   "source": []
  }
 ],
 "metadata": {
  "kernelspec": {
   "display_name": "Python 3",
   "language": "python",
   "name": "python3"
  },
  "language_info": {
   "codemirror_mode": {
    "name": "ipython",
    "version": 3
   },
   "file_extension": ".py",
   "mimetype": "text/x-python",
   "name": "python",
   "nbconvert_exporter": "python",
   "pygments_lexer": "ipython3",
   "version": "3.7.7"
  },
  "toc": {
   "base_numbering": 1,
   "nav_menu": {},
   "number_sections": true,
   "sideBar": true,
   "skip_h1_title": false,
   "title_cell": "Table of Contents",
   "title_sidebar": "Contents",
   "toc_cell": false,
   "toc_position": {},
   "toc_section_display": true,
   "toc_window_display": false
  }
 },
 "nbformat": 4,
 "nbformat_minor": 4
}
