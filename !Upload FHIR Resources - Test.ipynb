{
 "cells": [
  {
   "cell_type": "code",
   "execution_count": 12,
   "metadata": {},
   "outputs": [],
   "source": [
    "#!pip install fhirclient\n",
    "#!pip install fhirpy"
   ]
  },
  {
   "cell_type": "code",
   "execution_count": 13,
   "metadata": {},
   "outputs": [],
   "source": [
    "import fhirpy"
   ]
  },
  {
   "cell_type": "code",
   "execution_count": 15,
   "metadata": {},
   "outputs": [],
   "source": [
    "f = fhirpy.SyncFHIRClient('https://sjb2dicomcast-fhir.azurewebsites.net')"
   ]
  },
  {
   "cell_type": "code",
   "execution_count": 21,
   "metadata": {},
   "outputs": [
    {
     "data": {
      "text/plain": [
       "[<SyncFHIRResource Patient/3fc7ec5e-70ee-4f00-b270-921a043dfc2d>,\n",
       " <SyncFHIRResource Patient/caf9951f-9e86-403b-80ff-49503398eb24>,\n",
       " <SyncFHIRResource Patient/59aafb43-dcac-460e-8637-c6f2f92f738a>,\n",
       " <SyncFHIRResource Patient/f1ab468f-712d-42d2-b47c-ad40112a2de2>,\n",
       " <SyncFHIRResource Patient/d6f030fa-a825-43eb-ba13-3b7667e0ba57>,\n",
       " <SyncFHIRResource Patient/b3c36c31-7872-4437-bfe2-6c1fe0d896dc>,\n",
       " <SyncFHIRResource Patient/af834337-f9f7-449c-ad3a-481db3ff7749>,\n",
       " <SyncFHIRResource Patient/962eec9d-fe70-4b62-8158-128324bf0178>]"
      ]
     },
     "execution_count": 21,
     "metadata": {},
     "output_type": "execute_result"
    }
   ],
   "source": [
    "f.resources('Patient').fetch_all()"
   ]
  },
  {
   "cell_type": "code",
   "execution_count": null,
   "metadata": {},
   "outputs": [],
   "source": [
    "f.resources('Patient')."
   ]
  },
  {
   "cell_type": "code",
   "execution_count": null,
   "metadata": {},
   "outputs": [],
   "source": [
    "import json\n",
    "import os\n",
    "import requests\n",
    "\n",
    "\n",
    "#fhir server endpoint\n",
    "URL = \"http://localhost:8080/hapi-fhir-jpaserver/fhir/\"\n",
    "\n",
    "#fhir server json header content\n",
    "headers = {\"Content-Type\": \"application/fhir+json;charset=utf-8\"}\n",
    "\n",
    "#loop over all files in the output folder in order to upload each json file for each patient.\n",
    "for dirpath, dirnames, files in os.walk('/Users/rajvansia/Documents/GitHub/synthea/output/fhir'):\n",
    "\n",
    "    for file_name in files:\n",
    "        with open('/Users/rajvansia/Documents/GitHub/synthea/output/fhir/'+file_name, \"r\") as bundle_file:\n",
    "                data = bundle_file.read()\n",
    "\n",
    "        r = requests.post(url = URL, data = data, headers = headers)\n",
    "\n",
    "        #output file name that was processed\n",
    "        print(file_name)"
   ]
  },
  {
   "cell_type": "code",
   "execution_count": null,
   "metadata": {},
   "outputs": [],
   "source": []
  },
  {
   "cell_type": "code",
   "execution_count": null,
   "metadata": {},
   "outputs": [],
   "source": []
  },
  {
   "cell_type": "code",
   "execution_count": null,
   "metadata": {},
   "outputs": [],
   "source": []
  },
  {
   "cell_type": "code",
   "execution_count": null,
   "metadata": {},
   "outputs": [],
   "source": []
  },
  {
   "cell_type": "code",
   "execution_count": 3,
   "metadata": {},
   "outputs": [],
   "source": [
    "from fhirclient import client\n",
    "settings = {\n",
    "    'app_id': 'sjbdicom',\n",
    "    'api_base': 'https://sjb2dicomcast-fhir.azurewebsites.net'\n",
    "}\n",
    "smart = client.FHIRClient(settings=settings)\n",
    "\n",
    "import fhirclient.models.patient as p\n",
    "#patient = p.Patient.read('hca-pat-1', smart.server)\n",
    "#patient.birthDate.isostring\n",
    "# '1963-06-12'\n",
    "#smart.human_name(patient.name[0])\n",
    "# 'Christy Ebert'"
   ]
  },
  {
   "cell_type": "code",
   "execution_count": 10,
   "metadata": {},
   "outputs": [
    {
     "ename": "FHIRValidationError",
     "evalue": "{root}:\n  rest.0:\n    operation.0:\n      definition:\n        `with_json()` on <class 'models.fhirreference.FHIRReference'> only takes dict or list of dict, but you provided <class 'str'>\n      'Non-optional property \"definition\" on <models.capabilitystatement.CapabilityStatementRestOperation object at 0x000001A87675A148> is missing'\n    resource.0:\n      profile:\n        `with_json()` on <class 'models.fhirreference.FHIRReference'> only takes dict or list of dict, but you provided <class 'str'>\n  'Non-optional property \"date\" on <models.capabilitystatement.CapabilityStatement object at 0x000001A876971B48> is missing'\n  'Non-optional property \"acceptUnknown\" on <models.capabilitystatement.CapabilityStatement object at 0x000001A876971B48> is missing'",
     "output_type": "error",
     "traceback": [
      "\u001b[1;31m---------------------------------------------------------------------------\u001b[0m",
      "\u001b[1;31mFHIRValidationError\u001b[0m                       Traceback (most recent call last)",
      "\u001b[1;32m<ipython-input-10-1403cd1647a2>\u001b[0m in \u001b[0;36m<module>\u001b[1;34m\u001b[0m\n\u001b[1;32m----> 1\u001b[1;33m \u001b[0msmart\u001b[0m\u001b[1;33m.\u001b[0m\u001b[0mprepare\u001b[0m\u001b[1;33m(\u001b[0m\u001b[1;33m)\u001b[0m\u001b[1;33m\u001b[0m\u001b[1;33m\u001b[0m\u001b[0m\n\u001b[0m",
      "\u001b[1;32m~\\AppData\\Local\\Continuum\\anaconda3\\envs\\fastai2\\lib\\site-packages\\fhirclient\\client.py\u001b[0m in \u001b[0;36mprepare\u001b[1;34m(self)\u001b[0m\n\u001b[0;32m    115\u001b[0m             \u001b[1;32mif\u001b[0m \u001b[0mself\u001b[0m\u001b[1;33m.\u001b[0m\u001b[0mserver\u001b[0m\u001b[1;33m.\u001b[0m\u001b[0mready\u001b[0m\u001b[1;33m:\u001b[0m\u001b[1;33m\u001b[0m\u001b[1;33m\u001b[0m\u001b[0m\n\u001b[0;32m    116\u001b[0m                 \u001b[1;32mreturn\u001b[0m \u001b[1;32mTrue\u001b[0m\u001b[1;33m\u001b[0m\u001b[1;33m\u001b[0m\u001b[0m\n\u001b[1;32m--> 117\u001b[1;33m             \u001b[1;32mreturn\u001b[0m \u001b[0mself\u001b[0m\u001b[1;33m.\u001b[0m\u001b[0mserver\u001b[0m\u001b[1;33m.\u001b[0m\u001b[0mprepare\u001b[0m\u001b[1;33m(\u001b[0m\u001b[1;33m)\u001b[0m\u001b[1;33m\u001b[0m\u001b[1;33m\u001b[0m\u001b[0m\n\u001b[0m\u001b[0;32m    118\u001b[0m         \u001b[1;32mreturn\u001b[0m \u001b[1;32mFalse\u001b[0m\u001b[1;33m\u001b[0m\u001b[1;33m\u001b[0m\u001b[0m\n\u001b[0;32m    119\u001b[0m \u001b[1;33m\u001b[0m\u001b[0m\n",
      "\u001b[1;32m~\\AppData\\Local\\Continuum\\anaconda3\\envs\\fastai2\\lib\\site-packages\\fhirclient\\server.py\u001b[0m in \u001b[0;36mprepare\u001b[1;34m(self)\u001b[0m\n\u001b[0;32m    148\u001b[0m         \"\"\"\n\u001b[0;32m    149\u001b[0m         \u001b[1;32mif\u001b[0m \u001b[0mself\u001b[0m\u001b[1;33m.\u001b[0m\u001b[0mauth\u001b[0m \u001b[1;32mis\u001b[0m \u001b[1;32mNone\u001b[0m\u001b[1;33m:\u001b[0m\u001b[1;33m\u001b[0m\u001b[1;33m\u001b[0m\u001b[0m\n\u001b[1;32m--> 150\u001b[1;33m             \u001b[0mself\u001b[0m\u001b[1;33m.\u001b[0m\u001b[0mget_capability\u001b[0m\u001b[1;33m(\u001b[0m\u001b[1;33m)\u001b[0m\u001b[1;33m\u001b[0m\u001b[1;33m\u001b[0m\u001b[0m\n\u001b[0m\u001b[0;32m    151\u001b[0m         \u001b[1;32mreturn\u001b[0m \u001b[0mself\u001b[0m\u001b[1;33m.\u001b[0m\u001b[0mauth\u001b[0m\u001b[1;33m.\u001b[0m\u001b[0mready\u001b[0m \u001b[1;32mif\u001b[0m \u001b[0mself\u001b[0m\u001b[1;33m.\u001b[0m\u001b[0mauth\u001b[0m \u001b[1;32mis\u001b[0m \u001b[1;32mnot\u001b[0m \u001b[1;32mNone\u001b[0m \u001b[1;32melse\u001b[0m \u001b[1;32mFalse\u001b[0m\u001b[1;33m\u001b[0m\u001b[1;33m\u001b[0m\u001b[0m\n\u001b[0;32m    152\u001b[0m \u001b[1;33m\u001b[0m\u001b[0m\n",
      "\u001b[1;32m~\\AppData\\Local\\Continuum\\anaconda3\\envs\\fastai2\\lib\\site-packages\\fhirclient\\server.py\u001b[0m in \u001b[0;36mget_capability\u001b[1;34m(self, force)\u001b[0m\n\u001b[0;32m     82\u001b[0m             \u001b[0mlogger\u001b[0m\u001b[1;33m.\u001b[0m\u001b[0minfo\u001b[0m\u001b[1;33m(\u001b[0m\u001b[1;34m'Fetching CapabilityStatement from {0}'\u001b[0m\u001b[1;33m.\u001b[0m\u001b[0mformat\u001b[0m\u001b[1;33m(\u001b[0m\u001b[0mself\u001b[0m\u001b[1;33m.\u001b[0m\u001b[0mbase_uri\u001b[0m\u001b[1;33m)\u001b[0m\u001b[1;33m)\u001b[0m\u001b[1;33m\u001b[0m\u001b[1;33m\u001b[0m\u001b[0m\n\u001b[0;32m     83\u001b[0m             \u001b[1;32mfrom\u001b[0m \u001b[0mmodels\u001b[0m \u001b[1;32mimport\u001b[0m \u001b[0mcapabilitystatement\u001b[0m\u001b[1;33m\u001b[0m\u001b[1;33m\u001b[0m\u001b[0m\n\u001b[1;32m---> 84\u001b[1;33m             \u001b[0mconf\u001b[0m \u001b[1;33m=\u001b[0m \u001b[0mcapabilitystatement\u001b[0m\u001b[1;33m.\u001b[0m\u001b[0mCapabilityStatement\u001b[0m\u001b[1;33m.\u001b[0m\u001b[0mread_from\u001b[0m\u001b[1;33m(\u001b[0m\u001b[1;34m'metadata'\u001b[0m\u001b[1;33m,\u001b[0m \u001b[0mself\u001b[0m\u001b[1;33m)\u001b[0m\u001b[1;33m\u001b[0m\u001b[1;33m\u001b[0m\u001b[0m\n\u001b[0m\u001b[0;32m     85\u001b[0m             \u001b[0mself\u001b[0m\u001b[1;33m.\u001b[0m\u001b[0m_capability\u001b[0m \u001b[1;33m=\u001b[0m \u001b[0mconf\u001b[0m\u001b[1;33m\u001b[0m\u001b[1;33m\u001b[0m\u001b[0m\n\u001b[0;32m     86\u001b[0m \u001b[1;33m\u001b[0m\u001b[0m\n",
      "\u001b[1;32m~\\AppData\\Local\\Continuum\\anaconda3\\envs\\fastai2\\lib\\site-packages\\fhirclient\\models\\fhirabstractresource.py\u001b[0m in \u001b[0;36mread_from\u001b[1;34m(cls, path, server)\u001b[0m\n\u001b[0;32m    101\u001b[0m \u001b[1;33m\u001b[0m\u001b[0m\n\u001b[0;32m    102\u001b[0m         \u001b[0mret\u001b[0m \u001b[1;33m=\u001b[0m \u001b[0mserver\u001b[0m\u001b[1;33m.\u001b[0m\u001b[0mrequest_json\u001b[0m\u001b[1;33m(\u001b[0m\u001b[0mpath\u001b[0m\u001b[1;33m)\u001b[0m\u001b[1;33m\u001b[0m\u001b[1;33m\u001b[0m\u001b[0m\n\u001b[1;32m--> 103\u001b[1;33m         \u001b[0minstance\u001b[0m \u001b[1;33m=\u001b[0m \u001b[0mcls\u001b[0m\u001b[1;33m(\u001b[0m\u001b[0mjsondict\u001b[0m\u001b[1;33m=\u001b[0m\u001b[0mret\u001b[0m\u001b[1;33m)\u001b[0m\u001b[1;33m\u001b[0m\u001b[1;33m\u001b[0m\u001b[0m\n\u001b[0m\u001b[0;32m    104\u001b[0m         \u001b[0minstance\u001b[0m\u001b[1;33m.\u001b[0m\u001b[0m_server\u001b[0m \u001b[1;33m=\u001b[0m \u001b[0mserver\u001b[0m\u001b[1;33m\u001b[0m\u001b[1;33m\u001b[0m\u001b[0m\n\u001b[0;32m    105\u001b[0m         \u001b[1;32mreturn\u001b[0m \u001b[0minstance\u001b[0m\u001b[1;33m\u001b[0m\u001b[1;33m\u001b[0m\u001b[0m\n",
      "\u001b[1;32m~\\AppData\\Local\\Continuum\\anaconda3\\envs\\fastai2\\lib\\site-packages\\fhirclient\\models\\capabilitystatement.py\u001b[0m in \u001b[0;36m__init__\u001b[1;34m(self, jsondict, strict)\u001b[0m\n\u001b[0;32m    135\u001b[0m         Type `str`. \"\"\"\n\u001b[0;32m    136\u001b[0m \u001b[1;33m\u001b[0m\u001b[0m\n\u001b[1;32m--> 137\u001b[1;33m         \u001b[0msuper\u001b[0m\u001b[1;33m(\u001b[0m\u001b[0mCapabilityStatement\u001b[0m\u001b[1;33m,\u001b[0m \u001b[0mself\u001b[0m\u001b[1;33m)\u001b[0m\u001b[1;33m.\u001b[0m\u001b[0m__init__\u001b[0m\u001b[1;33m(\u001b[0m\u001b[0mjsondict\u001b[0m\u001b[1;33m=\u001b[0m\u001b[0mjsondict\u001b[0m\u001b[1;33m,\u001b[0m \u001b[0mstrict\u001b[0m\u001b[1;33m=\u001b[0m\u001b[0mstrict\u001b[0m\u001b[1;33m)\u001b[0m\u001b[1;33m\u001b[0m\u001b[1;33m\u001b[0m\u001b[0m\n\u001b[0m\u001b[0;32m    138\u001b[0m \u001b[1;33m\u001b[0m\u001b[0m\n\u001b[0;32m    139\u001b[0m     \u001b[1;32mdef\u001b[0m \u001b[0melementProperties\u001b[0m\u001b[1;33m(\u001b[0m\u001b[0mself\u001b[0m\u001b[1;33m)\u001b[0m\u001b[1;33m:\u001b[0m\u001b[1;33m\u001b[0m\u001b[1;33m\u001b[0m\u001b[0m\n",
      "\u001b[1;32m~\\AppData\\Local\\Continuum\\anaconda3\\envs\\fastai2\\lib\\site-packages\\fhirclient\\models\\domainresource.py\u001b[0m in \u001b[0;36m__init__\u001b[1;34m(self, jsondict, strict)\u001b[0m\n\u001b[0;32m     40\u001b[0m         Type `Narrative` (represented as `dict` in JSON). \"\"\"\n\u001b[0;32m     41\u001b[0m \u001b[1;33m\u001b[0m\u001b[0m\n\u001b[1;32m---> 42\u001b[1;33m         \u001b[0msuper\u001b[0m\u001b[1;33m(\u001b[0m\u001b[0mDomainResource\u001b[0m\u001b[1;33m,\u001b[0m \u001b[0mself\u001b[0m\u001b[1;33m)\u001b[0m\u001b[1;33m.\u001b[0m\u001b[0m__init__\u001b[0m\u001b[1;33m(\u001b[0m\u001b[0mjsondict\u001b[0m\u001b[1;33m=\u001b[0m\u001b[0mjsondict\u001b[0m\u001b[1;33m,\u001b[0m \u001b[0mstrict\u001b[0m\u001b[1;33m=\u001b[0m\u001b[0mstrict\u001b[0m\u001b[1;33m)\u001b[0m\u001b[1;33m\u001b[0m\u001b[1;33m\u001b[0m\u001b[0m\n\u001b[0m\u001b[0;32m     43\u001b[0m \u001b[1;33m\u001b[0m\u001b[0m\n\u001b[0;32m     44\u001b[0m     \u001b[1;32mdef\u001b[0m \u001b[0melementProperties\u001b[0m\u001b[1;33m(\u001b[0m\u001b[0mself\u001b[0m\u001b[1;33m)\u001b[0m\u001b[1;33m:\u001b[0m\u001b[1;33m\u001b[0m\u001b[1;33m\u001b[0m\u001b[0m\n",
      "\u001b[1;32m~\\AppData\\Local\\Continuum\\anaconda3\\envs\\fastai2\\lib\\site-packages\\fhirclient\\models\\resource.py\u001b[0m in \u001b[0;36m__init__\u001b[1;34m(self, jsondict, strict)\u001b[0m\n\u001b[0;32m     40\u001b[0m         Type `Meta` (represented as `dict` in JSON). \"\"\"\n\u001b[0;32m     41\u001b[0m \u001b[1;33m\u001b[0m\u001b[0m\n\u001b[1;32m---> 42\u001b[1;33m         \u001b[0msuper\u001b[0m\u001b[1;33m(\u001b[0m\u001b[0mResource\u001b[0m\u001b[1;33m,\u001b[0m \u001b[0mself\u001b[0m\u001b[1;33m)\u001b[0m\u001b[1;33m.\u001b[0m\u001b[0m__init__\u001b[0m\u001b[1;33m(\u001b[0m\u001b[0mjsondict\u001b[0m\u001b[1;33m=\u001b[0m\u001b[0mjsondict\u001b[0m\u001b[1;33m,\u001b[0m \u001b[0mstrict\u001b[0m\u001b[1;33m=\u001b[0m\u001b[0mstrict\u001b[0m\u001b[1;33m)\u001b[0m\u001b[1;33m\u001b[0m\u001b[1;33m\u001b[0m\u001b[0m\n\u001b[0m\u001b[0;32m     43\u001b[0m \u001b[1;33m\u001b[0m\u001b[0m\n\u001b[0;32m     44\u001b[0m     \u001b[1;32mdef\u001b[0m \u001b[0melementProperties\u001b[0m\u001b[1;33m(\u001b[0m\u001b[0mself\u001b[0m\u001b[1;33m)\u001b[0m\u001b[1;33m:\u001b[0m\u001b[1;33m\u001b[0m\u001b[1;33m\u001b[0m\u001b[0m\n",
      "\u001b[1;32m~\\AppData\\Local\\Continuum\\anaconda3\\envs\\fastai2\\lib\\site-packages\\fhirclient\\models\\fhirabstractresource.py\u001b[0m in \u001b[0;36m__init__\u001b[1;34m(self, jsondict, strict)\u001b[0m\n\u001b[0;32m     23\u001b[0m                 .format(self.__class__, jsondict['resourceType']))\n\u001b[0;32m     24\u001b[0m \u001b[1;33m\u001b[0m\u001b[0m\n\u001b[1;32m---> 25\u001b[1;33m         \u001b[0msuper\u001b[0m\u001b[1;33m(\u001b[0m\u001b[0mFHIRAbstractResource\u001b[0m\u001b[1;33m,\u001b[0m \u001b[0mself\u001b[0m\u001b[1;33m)\u001b[0m\u001b[1;33m.\u001b[0m\u001b[0m__init__\u001b[0m\u001b[1;33m(\u001b[0m\u001b[0mjsondict\u001b[0m\u001b[1;33m=\u001b[0m\u001b[0mjsondict\u001b[0m\u001b[1;33m,\u001b[0m \u001b[0mstrict\u001b[0m\u001b[1;33m=\u001b[0m\u001b[0mstrict\u001b[0m\u001b[1;33m)\u001b[0m\u001b[1;33m\u001b[0m\u001b[1;33m\u001b[0m\u001b[0m\n\u001b[0m\u001b[0;32m     26\u001b[0m \u001b[1;33m\u001b[0m\u001b[0m\n\u001b[0;32m     27\u001b[0m     \u001b[1;33m@\u001b[0m\u001b[0mclassmethod\u001b[0m\u001b[1;33m\u001b[0m\u001b[1;33m\u001b[0m\u001b[0m\n",
      "\u001b[1;32m~\\AppData\\Local\\Continuum\\anaconda3\\envs\\fastai2\\lib\\site-packages\\fhirclient\\models\\fhirabstractbase.py\u001b[0m in \u001b[0;36m__init__\u001b[1;34m(self, jsondict, strict)\u001b[0m\n\u001b[0;32m     64\u001b[0m         \u001b[1;32mif\u001b[0m \u001b[0mjsondict\u001b[0m \u001b[1;32mis\u001b[0m \u001b[1;32mnot\u001b[0m \u001b[1;32mNone\u001b[0m\u001b[1;33m:\u001b[0m\u001b[1;33m\u001b[0m\u001b[1;33m\u001b[0m\u001b[0m\n\u001b[0;32m     65\u001b[0m             \u001b[1;32mif\u001b[0m \u001b[0mstrict\u001b[0m\u001b[1;33m:\u001b[0m\u001b[1;33m\u001b[0m\u001b[1;33m\u001b[0m\u001b[0m\n\u001b[1;32m---> 66\u001b[1;33m                 \u001b[0mself\u001b[0m\u001b[1;33m.\u001b[0m\u001b[0mupdate_with_json\u001b[0m\u001b[1;33m(\u001b[0m\u001b[0mjsondict\u001b[0m\u001b[1;33m)\u001b[0m\u001b[1;33m\u001b[0m\u001b[1;33m\u001b[0m\u001b[0m\n\u001b[0m\u001b[0;32m     67\u001b[0m             \u001b[1;32melse\u001b[0m\u001b[1;33m:\u001b[0m\u001b[1;33m\u001b[0m\u001b[1;33m\u001b[0m\u001b[0m\n\u001b[0;32m     68\u001b[0m                 \u001b[1;32mtry\u001b[0m\u001b[1;33m:\u001b[0m\u001b[1;33m\u001b[0m\u001b[1;33m\u001b[0m\u001b[0m\n",
      "\u001b[1;32m~\\AppData\\Local\\Continuum\\anaconda3\\envs\\fastai2\\lib\\site-packages\\fhirclient\\models\\fhirabstractbase.py\u001b[0m in \u001b[0;36mupdate_with_json\u001b[1;34m(self, jsondict)\u001b[0m\n\u001b[0;32m    229\u001b[0m \u001b[1;33m\u001b[0m\u001b[0m\n\u001b[0;32m    230\u001b[0m         \u001b[1;32mif\u001b[0m \u001b[0mlen\u001b[0m\u001b[1;33m(\u001b[0m\u001b[0merrs\u001b[0m\u001b[1;33m)\u001b[0m \u001b[1;33m>\u001b[0m \u001b[1;36m0\u001b[0m\u001b[1;33m:\u001b[0m\u001b[1;33m\u001b[0m\u001b[1;33m\u001b[0m\u001b[0m\n\u001b[1;32m--> 231\u001b[1;33m             \u001b[1;32mraise\u001b[0m \u001b[0mFHIRValidationError\u001b[0m\u001b[1;33m(\u001b[0m\u001b[0merrs\u001b[0m\u001b[1;33m)\u001b[0m\u001b[1;33m\u001b[0m\u001b[1;33m\u001b[0m\u001b[0m\n\u001b[0m\u001b[0;32m    232\u001b[0m \u001b[1;33m\u001b[0m\u001b[0m\n\u001b[0;32m    233\u001b[0m     \u001b[1;32mdef\u001b[0m \u001b[0mas_json\u001b[0m\u001b[1;33m(\u001b[0m\u001b[0mself\u001b[0m\u001b[1;33m)\u001b[0m\u001b[1;33m:\u001b[0m\u001b[1;33m\u001b[0m\u001b[1;33m\u001b[0m\u001b[0m\n",
      "\u001b[1;31mFHIRValidationError\u001b[0m: {root}:\n  rest.0:\n    operation.0:\n      definition:\n        `with_json()` on <class 'models.fhirreference.FHIRReference'> only takes dict or list of dict, but you provided <class 'str'>\n      'Non-optional property \"definition\" on <models.capabilitystatement.CapabilityStatementRestOperation object at 0x000001A87675A148> is missing'\n    resource.0:\n      profile:\n        `with_json()` on <class 'models.fhirreference.FHIRReference'> only takes dict or list of dict, but you provided <class 'str'>\n  'Non-optional property \"date\" on <models.capabilitystatement.CapabilityStatement object at 0x000001A876971B48> is missing'\n  'Non-optional property \"acceptUnknown\" on <models.capabilitystatement.CapabilityStatement object at 0x000001A876971B48> is missing'"
     ]
    }
   ],
   "source": [
    "smart.prepare()"
   ]
  },
  {
   "cell_type": "code",
   "execution_count": 9,
   "metadata": {},
   "outputs": [
    {
     "ename": "FHIRNotFoundException",
     "evalue": "<Response [404]>",
     "output_type": "error",
     "traceback": [
      "\u001b[1;31m---------------------------------------------------------------------------\u001b[0m",
      "\u001b[1;31mFHIRNotFoundException\u001b[0m                     Traceback (most recent call last)",
      "\u001b[1;32m<ipython-input-9-b31a38744be1>\u001b[0m in \u001b[0;36m<module>\u001b[1;34m\u001b[0m\n\u001b[1;32m----> 1\u001b[1;33m \u001b[0mp\u001b[0m\u001b[1;33m.\u001b[0m\u001b[0mPatient\u001b[0m\u001b[1;33m.\u001b[0m\u001b[0mread\u001b[0m\u001b[1;33m(\u001b[0m\u001b[1;34m'siim'\u001b[0m\u001b[1;33m,\u001b[0m \u001b[0msmart\u001b[0m\u001b[1;33m.\u001b[0m\u001b[0mserver\u001b[0m\u001b[1;33m)\u001b[0m\u001b[1;33m\u001b[0m\u001b[1;33m\u001b[0m\u001b[0m\n\u001b[0m",
      "\u001b[1;32m~\\AppData\\Local\\Continuum\\anaconda3\\envs\\fastai2\\lib\\site-packages\\fhirclient\\models\\fhirabstractresource.py\u001b[0m in \u001b[0;36mread\u001b[1;34m(cls, rem_id, server)\u001b[0m\n\u001b[0;32m     81\u001b[0m \u001b[1;33m\u001b[0m\u001b[0m\n\u001b[0;32m     82\u001b[0m         \u001b[0mpath\u001b[0m \u001b[1;33m=\u001b[0m \u001b[1;34m'{}/{}'\u001b[0m\u001b[1;33m.\u001b[0m\u001b[0mformat\u001b[0m\u001b[1;33m(\u001b[0m\u001b[0mcls\u001b[0m\u001b[1;33m.\u001b[0m\u001b[0mresource_type\u001b[0m\u001b[1;33m,\u001b[0m \u001b[0mrem_id\u001b[0m\u001b[1;33m)\u001b[0m\u001b[1;33m\u001b[0m\u001b[1;33m\u001b[0m\u001b[0m\n\u001b[1;32m---> 83\u001b[1;33m         \u001b[0minstance\u001b[0m \u001b[1;33m=\u001b[0m \u001b[0mcls\u001b[0m\u001b[1;33m.\u001b[0m\u001b[0mread_from\u001b[0m\u001b[1;33m(\u001b[0m\u001b[0mpath\u001b[0m\u001b[1;33m,\u001b[0m \u001b[0mserver\u001b[0m\u001b[1;33m)\u001b[0m\u001b[1;33m\u001b[0m\u001b[1;33m\u001b[0m\u001b[0m\n\u001b[0m\u001b[0;32m     84\u001b[0m         \u001b[0minstance\u001b[0m\u001b[1;33m.\u001b[0m\u001b[0m_local_id\u001b[0m \u001b[1;33m=\u001b[0m \u001b[0mrem_id\u001b[0m\u001b[1;33m\u001b[0m\u001b[1;33m\u001b[0m\u001b[0m\n\u001b[0;32m     85\u001b[0m \u001b[1;33m\u001b[0m\u001b[0m\n",
      "\u001b[1;32m~\\AppData\\Local\\Continuum\\anaconda3\\envs\\fastai2\\lib\\site-packages\\fhirclient\\models\\fhirabstractresource.py\u001b[0m in \u001b[0;36mread_from\u001b[1;34m(cls, path, server)\u001b[0m\n\u001b[0;32m    100\u001b[0m             \u001b[1;32mraise\u001b[0m \u001b[0mException\u001b[0m\u001b[1;33m(\u001b[0m\u001b[1;34m\"Cannot read resource without server instance\"\u001b[0m\u001b[1;33m)\u001b[0m\u001b[1;33m\u001b[0m\u001b[1;33m\u001b[0m\u001b[0m\n\u001b[0;32m    101\u001b[0m \u001b[1;33m\u001b[0m\u001b[0m\n\u001b[1;32m--> 102\u001b[1;33m         \u001b[0mret\u001b[0m \u001b[1;33m=\u001b[0m \u001b[0mserver\u001b[0m\u001b[1;33m.\u001b[0m\u001b[0mrequest_json\u001b[0m\u001b[1;33m(\u001b[0m\u001b[0mpath\u001b[0m\u001b[1;33m)\u001b[0m\u001b[1;33m\u001b[0m\u001b[1;33m\u001b[0m\u001b[0m\n\u001b[0m\u001b[0;32m    103\u001b[0m         \u001b[0minstance\u001b[0m \u001b[1;33m=\u001b[0m \u001b[0mcls\u001b[0m\u001b[1;33m(\u001b[0m\u001b[0mjsondict\u001b[0m\u001b[1;33m=\u001b[0m\u001b[0mret\u001b[0m\u001b[1;33m)\u001b[0m\u001b[1;33m\u001b[0m\u001b[1;33m\u001b[0m\u001b[0m\n\u001b[0;32m    104\u001b[0m         \u001b[0minstance\u001b[0m\u001b[1;33m.\u001b[0m\u001b[0m_server\u001b[0m \u001b[1;33m=\u001b[0m \u001b[0mserver\u001b[0m\u001b[1;33m\u001b[0m\u001b[1;33m\u001b[0m\u001b[0m\n",
      "\u001b[1;32m~\\AppData\\Local\\Continuum\\anaconda3\\envs\\fastai2\\lib\\site-packages\\fhirclient\\server.py\u001b[0m in \u001b[0;36mrequest_json\u001b[1;34m(self, path, nosign)\u001b[0m\n\u001b[0;32m    161\u001b[0m         \"\"\"\n\u001b[0;32m    162\u001b[0m         \u001b[0mheaders\u001b[0m \u001b[1;33m=\u001b[0m \u001b[1;33m{\u001b[0m\u001b[1;34m'Accept'\u001b[0m\u001b[1;33m:\u001b[0m \u001b[1;34m'application/json'\u001b[0m\u001b[1;33m}\u001b[0m\u001b[1;33m\u001b[0m\u001b[1;33m\u001b[0m\u001b[0m\n\u001b[1;32m--> 163\u001b[1;33m         \u001b[0mres\u001b[0m \u001b[1;33m=\u001b[0m \u001b[0mself\u001b[0m\u001b[1;33m.\u001b[0m\u001b[0m_get\u001b[0m\u001b[1;33m(\u001b[0m\u001b[0mpath\u001b[0m\u001b[1;33m,\u001b[0m \u001b[0mheaders\u001b[0m\u001b[1;33m,\u001b[0m \u001b[0mnosign\u001b[0m\u001b[1;33m)\u001b[0m\u001b[1;33m\u001b[0m\u001b[1;33m\u001b[0m\u001b[0m\n\u001b[0m\u001b[0;32m    164\u001b[0m \u001b[1;33m\u001b[0m\u001b[0m\n\u001b[0;32m    165\u001b[0m         \u001b[1;32mreturn\u001b[0m \u001b[0mres\u001b[0m\u001b[1;33m.\u001b[0m\u001b[0mjson\u001b[0m\u001b[1;33m(\u001b[0m\u001b[1;33m)\u001b[0m\u001b[1;33m\u001b[0m\u001b[1;33m\u001b[0m\u001b[0m\n",
      "\u001b[1;32m~\\AppData\\Local\\Continuum\\anaconda3\\envs\\fastai2\\lib\\site-packages\\fhirclient\\server.py\u001b[0m in \u001b[0;36m_get\u001b[1;34m(self, path, headers, nosign)\u001b[0m\n\u001b[0;32m    189\u001b[0m         \u001b[1;31m# perform the request but intercept 401 responses, raising our own Exception\u001b[0m\u001b[1;33m\u001b[0m\u001b[1;33m\u001b[0m\u001b[1;33m\u001b[0m\u001b[0m\n\u001b[0;32m    190\u001b[0m         \u001b[0mres\u001b[0m \u001b[1;33m=\u001b[0m \u001b[0mself\u001b[0m\u001b[1;33m.\u001b[0m\u001b[0msession\u001b[0m\u001b[1;33m.\u001b[0m\u001b[0mget\u001b[0m\u001b[1;33m(\u001b[0m\u001b[0murl\u001b[0m\u001b[1;33m,\u001b[0m \u001b[0mheaders\u001b[0m\u001b[1;33m=\u001b[0m\u001b[0mheaders\u001b[0m\u001b[1;33m)\u001b[0m\u001b[1;33m\u001b[0m\u001b[1;33m\u001b[0m\u001b[0m\n\u001b[1;32m--> 191\u001b[1;33m         \u001b[0mself\u001b[0m\u001b[1;33m.\u001b[0m\u001b[0mraise_for_status\u001b[0m\u001b[1;33m(\u001b[0m\u001b[0mres\u001b[0m\u001b[1;33m)\u001b[0m\u001b[1;33m\u001b[0m\u001b[1;33m\u001b[0m\u001b[0m\n\u001b[0m\u001b[0;32m    192\u001b[0m         \u001b[1;32mreturn\u001b[0m \u001b[0mres\u001b[0m\u001b[1;33m\u001b[0m\u001b[1;33m\u001b[0m\u001b[0m\n\u001b[0;32m    193\u001b[0m \u001b[1;33m\u001b[0m\u001b[0m\n",
      "\u001b[1;32m~\\AppData\\Local\\Continuum\\anaconda3\\envs\\fastai2\\lib\\site-packages\\fhirclient\\server.py\u001b[0m in \u001b[0;36mraise_for_status\u001b[1;34m(self, response)\u001b[0m\n\u001b[0;32m    286\u001b[0m             \u001b[1;32mraise\u001b[0m \u001b[0mFHIRPermissionDeniedException\u001b[0m\u001b[1;33m(\u001b[0m\u001b[0mresponse\u001b[0m\u001b[1;33m)\u001b[0m\u001b[1;33m\u001b[0m\u001b[1;33m\u001b[0m\u001b[0m\n\u001b[0;32m    287\u001b[0m         \u001b[1;32melif\u001b[0m \u001b[1;36m404\u001b[0m \u001b[1;33m==\u001b[0m \u001b[0mresponse\u001b[0m\u001b[1;33m.\u001b[0m\u001b[0mstatus_code\u001b[0m\u001b[1;33m:\u001b[0m\u001b[1;33m\u001b[0m\u001b[1;33m\u001b[0m\u001b[0m\n\u001b[1;32m--> 288\u001b[1;33m             \u001b[1;32mraise\u001b[0m \u001b[0mFHIRNotFoundException\u001b[0m\u001b[1;33m(\u001b[0m\u001b[0mresponse\u001b[0m\u001b[1;33m)\u001b[0m\u001b[1;33m\u001b[0m\u001b[1;33m\u001b[0m\u001b[0m\n\u001b[0m\u001b[0;32m    289\u001b[0m         \u001b[1;32melse\u001b[0m\u001b[1;33m:\u001b[0m\u001b[1;33m\u001b[0m\u001b[1;33m\u001b[0m\u001b[0m\n\u001b[0;32m    290\u001b[0m             \u001b[0mresponse\u001b[0m\u001b[1;33m.\u001b[0m\u001b[0mraise_for_status\u001b[0m\u001b[1;33m(\u001b[0m\u001b[1;33m)\u001b[0m\u001b[1;33m\u001b[0m\u001b[1;33m\u001b[0m\u001b[0m\n",
      "\u001b[1;31mFHIRNotFoundException\u001b[0m: <Response [404]>"
     ]
    }
   ],
   "source": [
    "p.Patient.read(, smart.server)\n"
   ]
  },
  {
   "cell_type": "code",
   "execution_count": null,
   "metadata": {},
   "outputs": [],
   "source": []
  },
  {
   "cell_type": "code",
   "execution_count": null,
   "metadata": {},
   "outputs": [],
   "source": []
  },
  {
   "cell_type": "code",
   "execution_count": null,
   "metadata": {},
   "outputs": [],
   "source": []
  },
  {
   "cell_type": "code",
   "execution_count": null,
   "metadata": {},
   "outputs": [],
   "source": []
  },
  {
   "cell_type": "code",
   "execution_count": null,
   "metadata": {},
   "outputs": [],
   "source": []
  },
  {
   "cell_type": "code",
   "execution_count": null,
   "metadata": {},
   "outputs": [],
   "source": []
  },
  {
   "cell_type": "code",
   "execution_count": null,
   "metadata": {},
   "outputs": [],
   "source": []
  },
  {
   "cell_type": "code",
   "execution_count": null,
   "metadata": {},
   "outputs": [],
   "source": []
  },
  {
   "cell_type": "code",
   "execution_count": null,
   "metadata": {},
   "outputs": [],
   "source": []
  },
  {
   "cell_type": "code",
   "execution_count": null,
   "metadata": {},
   "outputs": [],
   "source": []
  },
  {
   "cell_type": "code",
   "execution_count": null,
   "metadata": {},
   "outputs": [],
   "source": []
  },
  {
   "cell_type": "code",
   "execution_count": null,
   "metadata": {},
   "outputs": [],
   "source": []
  },
  {
   "cell_type": "code",
   "execution_count": null,
   "metadata": {},
   "outputs": [],
   "source": []
  },
  {
   "cell_type": "code",
   "execution_count": null,
   "metadata": {},
   "outputs": [],
   "source": []
  },
  {
   "cell_type": "code",
   "execution_count": null,
   "metadata": {},
   "outputs": [],
   "source": []
  },
  {
   "cell_type": "code",
   "execution_count": null,
   "metadata": {},
   "outputs": [],
   "source": []
  },
  {
   "cell_type": "code",
   "execution_count": null,
   "metadata": {},
   "outputs": [],
   "source": []
  },
  {
   "cell_type": "code",
   "execution_count": 22,
   "metadata": {},
   "outputs": [],
   "source": [
    "import os\n",
    "import requests\n",
    "import io\n",
    "import pandas as pd\n",
    "import pydicom\n",
    "from pathlib import Path\n",
    "import time\n",
    "\n",
    "from pydicom.dataset import Dataset as DcmDataset\n",
    "from pydicom.tag import BaseTag as DcmTag\n",
    "from pydicom.multival import MultiValue as DcmMultiValue\n",
    "\n",
    "#see https://stackoverflow.com/questions/15746558/how-to-send-a-multipart-related-with-requests-in-python\n",
    "\n",
    "#from fastcore.foundation import * #Patch here (but also imports fastcore.imports (which is not sufficient))\n",
    "    # But parallel is NOT here... :-(\n",
    "\n",
    "from fastai2.data.all import *\n",
    "#from fastai2 import *\n",
    "\n"
   ]
  },
  {
   "cell_type": "code",
   "execution_count": 41,
   "metadata": {},
   "outputs": [
    {
     "data": {
      "text/plain": [
       "'https://sjbdcast6-dicom.azurewebsites.net/studies'"
      ]
     },
     "execution_count": 41,
     "metadata": {},
     "output_type": "execute_result"
    }
   ],
   "source": [
    "\n",
    "dicom_server_name = \"sjbdcast6-dicom\"\n",
    "url = f\"https://{dicom_server_name}.azurewebsites.net/studies\"\n",
    "url"
   ]
  },
  {
   "cell_type": "code",
   "execution_count": 24,
   "metadata": {},
   "outputs": [],
   "source": [
    "# Cell\n",
    "@patch\n",
    "def dcmread(fn:Path, force = False): #, force = False):\n",
    "    \"Open a `DICOM` file\"\n",
    "    return pydicom.dcmread(str(fn), force)\n",
    "\n",
    "# Cell\n",
    "def _cast_dicom_special(x):\n",
    "    cls = type(x)\n",
    "    if not cls.__module__.startswith('pydicom'): return x\n",
    "    if cls.__base__ == object: return x\n",
    "    return cls.__base__(x)\n",
    "\n",
    "def _split_elem(res,k,v):\n",
    "    if not isinstance(v,DcmMultiValue): return\n",
    "    res[f'Multi{k}'] = 1\n",
    "    for i,o in enumerate(v): res[f'{k}{\"\" if i==0 else i}']=o\n",
    "\n",
    "        # Cell\n",
    "@patch\n",
    "def as_dict(self:DcmDataset, px_summ=False): #, window=dicom_windows.brain):\n",
    "    pxdata = (0x7fe0,0x0010)\n",
    "    vals = [self[o] for o in self.keys() if o != pxdata]\n",
    "    its = [(v.keyword,v.value) for v in vals]\n",
    "    res = dict(its)\n",
    "    res['fname'] = self.filename\n",
    "    for k,v in its: _split_elem(res,k,v)\n",
    "    if not px_summ: return res\n",
    "    stats = 'min','max','mean','std'\n",
    "#    try:\n",
    "#        pxs = self.pixel_array\n",
    "#        for f in stats: res['img_'+f] = getattr(pxs,f)()\n",
    "#        res['img_pct_window'] = self.pct_in_window(*window)\n",
    "#    except Exception as e:\n",
    "#        for f in stats: res['img_'+f] = 0\n",
    "#        print(res,e)\n",
    "    for k in res: res[k] = _cast_dicom_special(res[k])\n",
    "    return res\n",
    "\n",
    "# Cell\n",
    "def _dcm2dict(fn, **kwargs): return fn.dcmread().as_dict(**kwargs)\n",
    "\n",
    "# Cell\n",
    "@delegates(parallel)\n",
    "def _from_dicoms(cls, fns, n_workers=0, **kwargs):\n",
    "    return pd.DataFrame(parallel(_dcm2dict, fns, n_workers=n_workers, **kwargs))\n",
    "pd.DataFrame.from_dicoms = classmethod(_from_dicoms)"
   ]
  },
  {
   "cell_type": "code",
   "execution_count": null,
   "metadata": {},
   "outputs": [],
   "source": []
  },
  {
   "cell_type": "code",
   "execution_count": null,
   "metadata": {},
   "outputs": [],
   "source": []
  },
  {
   "cell_type": "code",
   "execution_count": null,
   "metadata": {},
   "outputs": [],
   "source": []
  },
  {
   "cell_type": "code",
   "execution_count": 25,
   "metadata": {},
   "outputs": [],
   "source": [
    "\n",
    "# Validate goes beyond checking the dicom header, but attempts a actually load every single file into a Pydicom Dataset\n",
    "#    This later step has shown effective for ensuring that the metadata can be loaded into a dataset\n",
    "def get_dicom_files_from_directory(dirpath,extension=\"*.dcm\", validate=False):\n",
    "    path = Path(dirpath) \n",
    "    # pydicom 2 has an is_valid method to replace is_dicom (maybe look at pydicom2 for other reasons)\n",
    "    files = [x for x in path.rglob(extension)] # if pydicom.misc.is_dicom(str(x))] # checks for DICM in header (fast and loose)\n",
    "    if validate:\n",
    "        for file in files[:]:\n",
    "            #pydicom.validate() #is this only in pydicom 2?\n",
    "            try:\n",
    "                #print(file)\n",
    "                x = dcmread(file)           \n",
    "            except:\n",
    "                # remove file if it throws an exception\n",
    "                files.remove(x)\n",
    "    #Potentially look at pydicom.dataset.validate_file_meta(file_meta, enforce_standard=True) for deeper validation\n",
    "    #  https://pydicom.github.io/pydicom/dev/reference/generated/pydicom.dataset.validate_file_meta.html\n",
    "    return files\n",
    "    "
   ]
  },
  {
   "cell_type": "code",
   "execution_count": 45,
   "metadata": {},
   "outputs": [
    {
     "name": "stdout",
     "output_type": "stream",
     "text": [
      "6189\n"
     ]
    }
   ],
   "source": [
    "#files = get_dicom_files_from_directory('C:\\\\githealth\\\\hackathon-dataset\\\\hackathon-images', validate=False) # all succeed\n",
    "#files = get_dicom_files_from_directory('C:\\\\githealth\\\\dicom-samples\\\\rubomedica.com') #all succeed\n",
    "#files = get_dicom_files_from_directory('C:\\\\githealth\\\\dicom-samples\\\\barre.dev') #409 and 500 errors on first upload\n",
    "#files = get_dicom_files_from_directory('C:\\\\githealth\\\\dicom-samples\\\\dicomlibrary.com\\\\series-000001') #409 and 500 errors on first upload\n",
    "#files = get_dicom_files_from_directory('C:\\\\!!delete4DLung', validate=False)\n",
    "#files = get_dicom_files_from_directory('C:\\\\!DicomDataTCIA\\\\4D-Lung', validate=False)\n",
    "files = get_dicom_files_from_directory('C:\\\\githealth\\\\elastic-cast-reduced2', validate=False)\n",
    "#files = get_dicom_files_from_directory('C:\\\\!!delete4DLung', validate=False)\n",
    "#files = get_dicom_files_from_directory('C:\\\\!!delete4DLung', validate=False)\n",
    "\n",
    "print(len(files))\n",
    "                               "
   ]
  },
  {
   "cell_type": "code",
   "execution_count": 46,
   "metadata": {},
   "outputs": [
    {
     "name": "stdout",
     "output_type": "stream",
     "text": [
      "6189\n"
     ]
    }
   ],
   "source": [
    "files = [x for x in files if not 'pydicom' in str(x)]\n",
    "print(len(files))"
   ]
  },
  {
   "cell_type": "code",
   "execution_count": 28,
   "metadata": {},
   "outputs": [],
   "source": [
    "\n",
    "# Can just use this to load all the files in a directory, instead of calling above\n",
    "#dirname = 'C:\\\\githealth\\\\dicom-samples\\\\visus.com'\n",
    "#files = [x for x in Path(dirname).rglob('*.dcm')] # if not 'pydicom' in str(x)] # exclude pydicom test files\n",
    "\n"
   ]
  },
  {
   "cell_type": "code",
   "execution_count": 29,
   "metadata": {},
   "outputs": [],
   "source": [
    "# Stupid simple function to get a Dataframe, but can be extended later to add logic\n",
    "def get_dicom_metadata_as_dataframe(list_of_files,columns=[],save_as_filename=''):\n",
    "    df = pd.DataFrame.from_dicoms(files)\n",
    "    if save_as_filename != '':\n",
    "        df.to_csv(save_as_filename)\n",
    "    return df\n",
    "        \n",
    "    \n",
    "\n"
   ]
  },
  {
   "cell_type": "code",
   "execution_count": 30,
   "metadata": {},
   "outputs": [],
   "source": [
    "## The following goes and gets metadata for 4d-lung\n"
   ]
  },
  {
   "cell_type": "code",
   "execution_count": 31,
   "metadata": {},
   "outputs": [
    {
     "data": {
      "text/plain": [
       "1108"
      ]
     },
     "execution_count": 31,
     "metadata": {},
     "output_type": "execute_result"
    }
   ],
   "source": [
    "len(files)"
   ]
  },
  {
   "cell_type": "code",
   "execution_count": 32,
   "metadata": {},
   "outputs": [],
   "source": [
    "#df = pd.DataFrame.from_dicoms(files)\n",
    "#df.to_csv('TestDicom2.csv')"
   ]
  },
  {
   "cell_type": "code",
   "execution_count": 28,
   "metadata": {},
   "outputs": [
    {
     "data": {
      "text/html": [],
      "text/plain": [
       "<IPython.core.display.HTML object>"
      ]
     },
     "metadata": {},
     "output_type": "display_data"
    }
   ],
   "source": [
    "df = get_dicom_metadata_as_dataframe(files)"
   ]
  },
  {
   "cell_type": "code",
   "execution_count": 29,
   "metadata": {},
   "outputs": [],
   "source": [
    "df.to_csv('4D_lung_metadata.csv')"
   ]
  },
  {
   "cell_type": "code",
   "execution_count": 33,
   "metadata": {},
   "outputs": [],
   "source": [
    "from urllib3.filepost import encode_multipart_formdata, choose_boundary\n",
    "\n",
    "def encode_multipart_related(fields, boundary=None):\n",
    "    if boundary is None:\n",
    "        boundary = choose_boundary()\n",
    "\n",
    "    body, _ = encode_multipart_formdata(fields, boundary)\n",
    "    content_type = str('multipart/related; boundary=%s' % boundary)\n",
    "\n",
    "    return body, content_type"
   ]
  },
  {
   "cell_type": "code",
   "execution_count": 34,
   "metadata": {},
   "outputs": [
    {
     "ename": "NameError",
     "evalue": "name 'df' is not defined",
     "output_type": "error",
     "traceback": [
      "\u001b[1;31m---------------------------------------------------------------------------\u001b[0m",
      "\u001b[1;31mNameError\u001b[0m                                 Traceback (most recent call last)",
      "\u001b[1;32m<ipython-input-34-c42a15b2c7cf>\u001b[0m in \u001b[0;36m<module>\u001b[1;34m\u001b[0m\n\u001b[1;32m----> 1\u001b[1;33m \u001b[0mdf\u001b[0m\u001b[1;33m.\u001b[0m\u001b[0mhead\u001b[0m\u001b[1;33m(\u001b[0m\u001b[1;33m)\u001b[0m\u001b[1;33m\u001b[0m\u001b[1;33m\u001b[0m\u001b[0m\n\u001b[0m",
      "\u001b[1;31mNameError\u001b[0m: name 'df' is not defined"
     ]
    }
   ],
   "source": [
    "df.head()"
   ]
  },
  {
   "cell_type": "code",
   "execution_count": 35,
   "metadata": {},
   "outputs": [],
   "source": [
    "def upload_single_dcm_file(server_url,filepath):\n",
    "    with open(filepath,'rb') as reader:\n",
    "        rawfile = reader.read()\n",
    "    files = {'file': ('dicomfile', rawfile, 'application/dicom')}\n",
    "\n",
    "    #encode as multipart_related\n",
    "    body, content_type = encode_multipart_related(fields = files)\n",
    "    \n",
    "    headers = {'Accept':'application/dicom+json', \"Content-Type\":content_type}\n",
    "\n",
    "    response = requests.post(url, body, headers=headers) #, verify=False)\n",
    "    \n",
    "    #return the response object to allow for further processing\n",
    "    \n",
    "    #example usage\n",
    "    #r = upload_single_dcm_file(url,'C:\\\\githealth\\\\dicom-samples\\\\visus.com\\\\case4\\\\case4a_002.dcm')\n",
    "    #print(r.status_code)\n",
    "    #print(r.request.headers)\n",
    "    \n",
    "    return response"
   ]
  },
  {
   "cell_type": "code",
   "execution_count": 36,
   "metadata": {},
   "outputs": [],
   "source": [
    "#r = upload_dcm_file(url,'C:\\\\githealth\\\\dicom-samples\\\\visus.com\\\\case4\\\\case4a_002.dcm')\n",
    "#print(r.status_code)\n",
    "#print(r.request.headers)"
   ]
  },
  {
   "cell_type": "code",
   "execution_count": 37,
   "metadata": {},
   "outputs": [],
   "source": [
    "from collections import OrderedDict\n",
    "def store_files_to_dicomweb_with_logging_to_dataframe(filepaths, df = None):\n",
    "    if df is None:\n",
    "        # Then we have a blank dataframe, maybe do something here.\n",
    "        #   for now, I'm just using a blank one.\n",
    "        #columns = ['fname','status_code','response_notes']\n",
    "        df = pd.DataFrame()\n",
    "        df['fname']=filepaths\n",
    "    \n",
    "    # Fastest to just use lists and dictionaries then create a new dataframe from that...\n",
    "    numfiles=len(filepaths)\n",
    "    current_count=0\n",
    "    \n",
    "    files_info = []\n",
    "    for file in filepaths:\n",
    "        \n",
    "        # Upload a single file at a time (and time it)\n",
    "        r = upload_single_dcm_file(url,file)     # call API and get response \n",
    "        d = OrderedDict()   # create a new ordered dictionary\n",
    "        \n",
    "        # Add the information to the dictionary\n",
    "        d['fname'] = str(file)     \n",
    "        d['method'] = r.request.method\n",
    "        d['url'] = r.url\n",
    "        d['path_url'] = r.request.path_url\n",
    "        d['request_headers'] = str(r.request.headers)\n",
    "        d['request_body_trimmed'] = r.request.body[0:150]   \n",
    "\n",
    "        d['ok'] = r.ok\n",
    "        d['status_code'] = r.status_code  \n",
    "        d['reason'] = r.reason\n",
    "        d['response_headers'] = r.headers\n",
    "        d['response_text'] = r.text  \n",
    "        d['elapsed_time'] = r.elapsed\n",
    "        d['apparent_encoding'] = r.apparent_encoding\n",
    "        d['encoding'] = r.encoding\n",
    "        \n",
    " \n",
    "        files_info.append(d)\n",
    "        current_count += 1\n",
    "        if current_count%250==0:\n",
    "            print(f\"{current_count} of {numfiles} uploaded\")\n",
    "\n",
    "    # Create a dataframe from the uploads\n",
    "    df = pd.DataFrame(files_info)               \n",
    "    return df\n",
    "        \n",
    "    \n",
    "    "
   ]
  },
  {
   "cell_type": "code",
   "execution_count": 47,
   "metadata": {},
   "outputs": [
    {
     "name": "stdout",
     "output_type": "stream",
     "text": [
      "250 of 6189 uploaded\n",
      "500 of 6189 uploaded\n",
      "750 of 6189 uploaded\n",
      "1000 of 6189 uploaded\n",
      "1250 of 6189 uploaded\n",
      "1500 of 6189 uploaded\n",
      "1750 of 6189 uploaded\n",
      "2000 of 6189 uploaded\n",
      "2250 of 6189 uploaded\n",
      "2500 of 6189 uploaded\n",
      "2750 of 6189 uploaded\n",
      "3000 of 6189 uploaded\n",
      "3250 of 6189 uploaded\n",
      "3500 of 6189 uploaded\n",
      "3750 of 6189 uploaded\n",
      "4000 of 6189 uploaded\n",
      "4250 of 6189 uploaded\n",
      "4500 of 6189 uploaded\n",
      "4750 of 6189 uploaded\n",
      "5000 of 6189 uploaded\n",
      "5250 of 6189 uploaded\n",
      "5500 of 6189 uploaded\n",
      "5750 of 6189 uploaded\n",
      "6000 of 6189 uploaded\n"
     ]
    }
   ],
   "source": [
    "df = store_files_to_dicomweb_with_logging_to_dataframe(files)"
   ]
  },
  {
   "cell_type": "code",
   "execution_count": null,
   "metadata": {},
   "outputs": [],
   "source": []
  },
  {
   "cell_type": "code",
   "execution_count": 48,
   "metadata": {},
   "outputs": [
    {
     "data": {
      "text/html": [
       "<div>\n",
       "<style scoped>\n",
       "    .dataframe tbody tr th:only-of-type {\n",
       "        vertical-align: middle;\n",
       "    }\n",
       "\n",
       "    .dataframe tbody tr th {\n",
       "        vertical-align: top;\n",
       "    }\n",
       "\n",
       "    .dataframe thead th {\n",
       "        text-align: right;\n",
       "    }\n",
       "</style>\n",
       "<table border=\"1\" class=\"dataframe\">\n",
       "  <thead>\n",
       "    <tr style=\"text-align: right;\">\n",
       "      <th></th>\n",
       "      <th>fname</th>\n",
       "      <th>method</th>\n",
       "      <th>url</th>\n",
       "      <th>path_url</th>\n",
       "      <th>request_headers</th>\n",
       "      <th>request_body_trimmed</th>\n",
       "      <th>ok</th>\n",
       "      <th>status_code</th>\n",
       "      <th>reason</th>\n",
       "      <th>response_headers</th>\n",
       "      <th>response_text</th>\n",
       "      <th>elapsed_time</th>\n",
       "      <th>apparent_encoding</th>\n",
       "      <th>encoding</th>\n",
       "    </tr>\n",
       "  </thead>\n",
       "  <tbody>\n",
       "    <tr>\n",
       "      <th>0</th>\n",
       "      <td>C:\\githealth\\elastic-cast-reduced2\\Andy SIIM\\Ct_Chest_NC - 0\\HELICAL_MODE_2\\IM-0026-0001.dcm</td>\n",
       "      <td>POST</td>\n",
       "      <td>https://sjbdcast6-dicom.azurewebsites.net/studies</td>\n",
       "      <td>/studies</td>\n",
       "      <td>{'User-Agent': 'python-requests/2.23.0', 'Accept-Encoding': 'gzip, deflate', 'Accept': 'application/dicom+json', 'Connection': 'keep-alive', 'Content-Type': 'multipart/related; boundary=ce5a66c39ff369370893f05d297baf6f', 'Content-Length': '528848'}</td>\n",
       "      <td>b'--ce5a66c39ff369370893f05d297baf6f\\r\\nContent-Disposition: form-data; name=\"file\"; filename=\"dicomfile\"\\r\\nContent-Type: application/dicom\\r\\n\\r\\n\\x00\\x00\\x00\\x00\\x00\\x00\\x00\\x00\\x00\\x00\\x00\\x00'</td>\n",
       "      <td>True</td>\n",
       "      <td>200</td>\n",
       "      <td>OK</td>\n",
       "      <td>[Content-Length, Content-Type, Server, Request-Context, X-Content-Type-Options, X-Powered-By, Date]</td>\n",
       "      <td>{\"00081199\":{\"vr\":\"SQ\",\"Value\":[{\"00081150\":{\"vr\":\"UI\",\"Value\":[\"1.2.840.10008.5.1.4.1.1.2\"]},\"00081155\":{\"vr\":\"UI\",\"Value\":[\"1.3.6.1.4.1.14519.5.2.1.6450.9002.560831737608650202608209404565\"]},\"00081190\":{\"vr\":\"UR\",\"Value\":[\"https://sjbdcast6-dicom.azurewebsites.net/studies/1.3.6.1.4.1.14519.5.2.1.6450.9002.339372202011004731829363267423/series/1.3.6.1.4.1.14519.5.2.1.6450.9002.747485993156290148171122461766/instances/1.3.6.1.4.1.14519.5.2.1.6450.9002.560831737608650202608209404565\"]}}]}}</td>\n",
       "      <td>00:00:00.462254</td>\n",
       "      <td>ascii</td>\n",
       "      <td>utf-8</td>\n",
       "    </tr>\n",
       "    <tr>\n",
       "      <th>1</th>\n",
       "      <td>C:\\githealth\\elastic-cast-reduced2\\Andy SIIM\\Ct_Chest_NC - 0\\HELICAL_MODE_2\\IM-0026-0002.dcm</td>\n",
       "      <td>POST</td>\n",
       "      <td>https://sjbdcast6-dicom.azurewebsites.net/studies</td>\n",
       "      <td>/studies</td>\n",
       "      <td>{'User-Agent': 'python-requests/2.23.0', 'Accept-Encoding': 'gzip, deflate', 'Accept': 'application/dicom+json', 'Connection': 'keep-alive', 'Content-Type': 'multipart/related; boundary=2003d0802211c04f37575fb168a88f88', 'Content-Length': '528848'}</td>\n",
       "      <td>b'--2003d0802211c04f37575fb168a88f88\\r\\nContent-Disposition: form-data; name=\"file\"; filename=\"dicomfile\"\\r\\nContent-Type: application/dicom\\r\\n\\r\\n\\x00\\x00\\x00\\x00\\x00\\x00\\x00\\x00\\x00\\x00\\x00\\x00'</td>\n",
       "      <td>True</td>\n",
       "      <td>200</td>\n",
       "      <td>OK</td>\n",
       "      <td>[Content-Length, Content-Type, Server, Request-Context, X-Content-Type-Options, X-Powered-By, Date]</td>\n",
       "      <td>{\"00081199\":{\"vr\":\"SQ\",\"Value\":[{\"00081150\":{\"vr\":\"UI\",\"Value\":[\"1.2.840.10008.5.1.4.1.1.2\"]},\"00081155\":{\"vr\":\"UI\",\"Value\":[\"1.3.6.1.4.1.14519.5.2.1.6450.9002.297826588662579079841363899995\"]},\"00081190\":{\"vr\":\"UR\",\"Value\":[\"https://sjbdcast6-dicom.azurewebsites.net/studies/1.3.6.1.4.1.14519.5.2.1.6450.9002.339372202011004731829363267423/series/1.3.6.1.4.1.14519.5.2.1.6450.9002.747485993156290148171122461766/instances/1.3.6.1.4.1.14519.5.2.1.6450.9002.297826588662579079841363899995\"]}}]}}</td>\n",
       "      <td>00:00:00.161432</td>\n",
       "      <td>ascii</td>\n",
       "      <td>utf-8</td>\n",
       "    </tr>\n",
       "    <tr>\n",
       "      <th>2</th>\n",
       "      <td>C:\\githealth\\elastic-cast-reduced2\\Andy SIIM\\Ct_Chest_NC - 0\\HELICAL_MODE_2\\IM-0026-0003.dcm</td>\n",
       "      <td>POST</td>\n",
       "      <td>https://sjbdcast6-dicom.azurewebsites.net/studies</td>\n",
       "      <td>/studies</td>\n",
       "      <td>{'User-Agent': 'python-requests/2.23.0', 'Accept-Encoding': 'gzip, deflate', 'Accept': 'application/dicom+json', 'Connection': 'keep-alive', 'Content-Type': 'multipart/related; boundary=65acc087fc7a980dd5cf26cd2e791169', 'Content-Length': '528848'}</td>\n",
       "      <td>b'--65acc087fc7a980dd5cf26cd2e791169\\r\\nContent-Disposition: form-data; name=\"file\"; filename=\"dicomfile\"\\r\\nContent-Type: application/dicom\\r\\n\\r\\n\\x00\\x00\\x00\\x00\\x00\\x00\\x00\\x00\\x00\\x00\\x00\\x00'</td>\n",
       "      <td>True</td>\n",
       "      <td>200</td>\n",
       "      <td>OK</td>\n",
       "      <td>[Content-Length, Content-Type, Server, Request-Context, X-Content-Type-Options, X-Powered-By, Date]</td>\n",
       "      <td>{\"00081199\":{\"vr\":\"SQ\",\"Value\":[{\"00081150\":{\"vr\":\"UI\",\"Value\":[\"1.2.840.10008.5.1.4.1.1.2\"]},\"00081155\":{\"vr\":\"UI\",\"Value\":[\"1.3.6.1.4.1.14519.5.2.1.6450.9002.225319844260836053102353216326\"]},\"00081190\":{\"vr\":\"UR\",\"Value\":[\"https://sjbdcast6-dicom.azurewebsites.net/studies/1.3.6.1.4.1.14519.5.2.1.6450.9002.339372202011004731829363267423/series/1.3.6.1.4.1.14519.5.2.1.6450.9002.747485993156290148171122461766/instances/1.3.6.1.4.1.14519.5.2.1.6450.9002.225319844260836053102353216326\"]}}]}}</td>\n",
       "      <td>00:00:00.230563</td>\n",
       "      <td>ascii</td>\n",
       "      <td>utf-8</td>\n",
       "    </tr>\n",
       "    <tr>\n",
       "      <th>3</th>\n",
       "      <td>C:\\githealth\\elastic-cast-reduced2\\Andy SIIM\\Ct_Chest_NC - 0\\HELICAL_MODE_2\\IM-0026-0004.dcm</td>\n",
       "      <td>POST</td>\n",
       "      <td>https://sjbdcast6-dicom.azurewebsites.net/studies</td>\n",
       "      <td>/studies</td>\n",
       "      <td>{'User-Agent': 'python-requests/2.23.0', 'Accept-Encoding': 'gzip, deflate', 'Accept': 'application/dicom+json', 'Connection': 'keep-alive', 'Content-Type': 'multipart/related; boundary=6a26c0e185e12d3a3f3a90faaad3bf92', 'Content-Length': '528848'}</td>\n",
       "      <td>b'--6a26c0e185e12d3a3f3a90faaad3bf92\\r\\nContent-Disposition: form-data; name=\"file\"; filename=\"dicomfile\"\\r\\nContent-Type: application/dicom\\r\\n\\r\\n\\x00\\x00\\x00\\x00\\x00\\x00\\x00\\x00\\x00\\x00\\x00\\x00'</td>\n",
       "      <td>True</td>\n",
       "      <td>200</td>\n",
       "      <td>OK</td>\n",
       "      <td>[Content-Length, Content-Type, Server, Request-Context, X-Content-Type-Options, X-Powered-By, Date]</td>\n",
       "      <td>{\"00081199\":{\"vr\":\"SQ\",\"Value\":[{\"00081150\":{\"vr\":\"UI\",\"Value\":[\"1.2.840.10008.5.1.4.1.1.2\"]},\"00081155\":{\"vr\":\"UI\",\"Value\":[\"1.3.6.1.4.1.14519.5.2.1.6450.9002.158981644526511259100463361551\"]},\"00081190\":{\"vr\":\"UR\",\"Value\":[\"https://sjbdcast6-dicom.azurewebsites.net/studies/1.3.6.1.4.1.14519.5.2.1.6450.9002.339372202011004731829363267423/series/1.3.6.1.4.1.14519.5.2.1.6450.9002.747485993156290148171122461766/instances/1.3.6.1.4.1.14519.5.2.1.6450.9002.158981644526511259100463361551\"]}}]}}</td>\n",
       "      <td>00:00:00.166978</td>\n",
       "      <td>ascii</td>\n",
       "      <td>utf-8</td>\n",
       "    </tr>\n",
       "    <tr>\n",
       "      <th>4</th>\n",
       "      <td>C:\\githealth\\elastic-cast-reduced2\\Andy SIIM\\Ct_Chest_NC - 0\\HELICAL_MODE_2\\IM-0026-0005.dcm</td>\n",
       "      <td>POST</td>\n",
       "      <td>https://sjbdcast6-dicom.azurewebsites.net/studies</td>\n",
       "      <td>/studies</td>\n",
       "      <td>{'User-Agent': 'python-requests/2.23.0', 'Accept-Encoding': 'gzip, deflate', 'Accept': 'application/dicom+json', 'Connection': 'keep-alive', 'Content-Type': 'multipart/related; boundary=7b65ec577826c43bfa3412ea42d1a1f8', 'Content-Length': '528848'}</td>\n",
       "      <td>b'--7b65ec577826c43bfa3412ea42d1a1f8\\r\\nContent-Disposition: form-data; name=\"file\"; filename=\"dicomfile\"\\r\\nContent-Type: application/dicom\\r\\n\\r\\n\\x00\\x00\\x00\\x00\\x00\\x00\\x00\\x00\\x00\\x00\\x00\\x00'</td>\n",
       "      <td>True</td>\n",
       "      <td>200</td>\n",
       "      <td>OK</td>\n",
       "      <td>[Content-Length, Content-Type, Server, Request-Context, X-Content-Type-Options, X-Powered-By, Date]</td>\n",
       "      <td>{\"00081199\":{\"vr\":\"SQ\",\"Value\":[{\"00081150\":{\"vr\":\"UI\",\"Value\":[\"1.2.840.10008.5.1.4.1.1.2\"]},\"00081155\":{\"vr\":\"UI\",\"Value\":[\"1.3.6.1.4.1.14519.5.2.1.6450.9002.357405921834034173510896490121\"]},\"00081190\":{\"vr\":\"UR\",\"Value\":[\"https://sjbdcast6-dicom.azurewebsites.net/studies/1.3.6.1.4.1.14519.5.2.1.6450.9002.339372202011004731829363267423/series/1.3.6.1.4.1.14519.5.2.1.6450.9002.747485993156290148171122461766/instances/1.3.6.1.4.1.14519.5.2.1.6450.9002.357405921834034173510896490121\"]}}]}}</td>\n",
       "      <td>00:00:00.177377</td>\n",
       "      <td>ascii</td>\n",
       "      <td>utf-8</td>\n",
       "    </tr>\n",
       "    <tr>\n",
       "      <th>5</th>\n",
       "      <td>C:\\githealth\\elastic-cast-reduced2\\Andy SIIM\\Ct_Chest_NC - 0\\HELICAL_MODE_2\\IM-0026-0006.dcm</td>\n",
       "      <td>POST</td>\n",
       "      <td>https://sjbdcast6-dicom.azurewebsites.net/studies</td>\n",
       "      <td>/studies</td>\n",
       "      <td>{'User-Agent': 'python-requests/2.23.0', 'Accept-Encoding': 'gzip, deflate', 'Accept': 'application/dicom+json', 'Connection': 'keep-alive', 'Content-Type': 'multipart/related; boundary=eeb247200dc1e4c8492662bc66fca257', 'Content-Length': '528848'}</td>\n",
       "      <td>b'--eeb247200dc1e4c8492662bc66fca257\\r\\nContent-Disposition: form-data; name=\"file\"; filename=\"dicomfile\"\\r\\nContent-Type: application/dicom\\r\\n\\r\\n\\x00\\x00\\x00\\x00\\x00\\x00\\x00\\x00\\x00\\x00\\x00\\x00'</td>\n",
       "      <td>True</td>\n",
       "      <td>200</td>\n",
       "      <td>OK</td>\n",
       "      <td>[Content-Length, Content-Type, Server, Request-Context, X-Content-Type-Options, X-Powered-By, Date]</td>\n",
       "      <td>{\"00081199\":{\"vr\":\"SQ\",\"Value\":[{\"00081150\":{\"vr\":\"UI\",\"Value\":[\"1.2.840.10008.5.1.4.1.1.2\"]},\"00081155\":{\"vr\":\"UI\",\"Value\":[\"1.3.6.1.4.1.14519.5.2.1.6450.9002.965516814770163134917783220009\"]},\"00081190\":{\"vr\":\"UR\",\"Value\":[\"https://sjbdcast6-dicom.azurewebsites.net/studies/1.3.6.1.4.1.14519.5.2.1.6450.9002.339372202011004731829363267423/series/1.3.6.1.4.1.14519.5.2.1.6450.9002.747485993156290148171122461766/instances/1.3.6.1.4.1.14519.5.2.1.6450.9002.965516814770163134917783220009\"]}}]}}</td>\n",
       "      <td>00:00:00.244844</td>\n",
       "      <td>ascii</td>\n",
       "      <td>utf-8</td>\n",
       "    </tr>\n",
       "    <tr>\n",
       "      <th>6</th>\n",
       "      <td>C:\\githealth\\elastic-cast-reduced2\\Andy SIIM\\Ct_Chest_NC - 0\\HELICAL_MODE_2\\IM-0026-0007.dcm</td>\n",
       "      <td>POST</td>\n",
       "      <td>https://sjbdcast6-dicom.azurewebsites.net/studies</td>\n",
       "      <td>/studies</td>\n",
       "      <td>{'User-Agent': 'python-requests/2.23.0', 'Accept-Encoding': 'gzip, deflate', 'Accept': 'application/dicom+json', 'Connection': 'keep-alive', 'Content-Type': 'multipart/related; boundary=8152874fa9197592f2a88087669da32b', 'Content-Length': '528848'}</td>\n",
       "      <td>b'--8152874fa9197592f2a88087669da32b\\r\\nContent-Disposition: form-data; name=\"file\"; filename=\"dicomfile\"\\r\\nContent-Type: application/dicom\\r\\n\\r\\n\\x00\\x00\\x00\\x00\\x00\\x00\\x00\\x00\\x00\\x00\\x00\\x00'</td>\n",
       "      <td>True</td>\n",
       "      <td>200</td>\n",
       "      <td>OK</td>\n",
       "      <td>[Content-Length, Content-Type, Server, Request-Context, X-Content-Type-Options, X-Powered-By, Date]</td>\n",
       "      <td>{\"00081199\":{\"vr\":\"SQ\",\"Value\":[{\"00081150\":{\"vr\":\"UI\",\"Value\":[\"1.2.840.10008.5.1.4.1.1.2\"]},\"00081155\":{\"vr\":\"UI\",\"Value\":[\"1.3.6.1.4.1.14519.5.2.1.6450.9002.138561670803370232171847534282\"]},\"00081190\":{\"vr\":\"UR\",\"Value\":[\"https://sjbdcast6-dicom.azurewebsites.net/studies/1.3.6.1.4.1.14519.5.2.1.6450.9002.339372202011004731829363267423/series/1.3.6.1.4.1.14519.5.2.1.6450.9002.747485993156290148171122461766/instances/1.3.6.1.4.1.14519.5.2.1.6450.9002.138561670803370232171847534282\"]}}]}}</td>\n",
       "      <td>00:00:00.269161</td>\n",
       "      <td>ascii</td>\n",
       "      <td>utf-8</td>\n",
       "    </tr>\n",
       "    <tr>\n",
       "      <th>7</th>\n",
       "      <td>C:\\githealth\\elastic-cast-reduced2\\Andy SIIM\\Ct_Chest_NC - 0\\HELICAL_MODE_2\\IM-0026-0008.dcm</td>\n",
       "      <td>POST</td>\n",
       "      <td>https://sjbdcast6-dicom.azurewebsites.net/studies</td>\n",
       "      <td>/studies</td>\n",
       "      <td>{'User-Agent': 'python-requests/2.23.0', 'Accept-Encoding': 'gzip, deflate', 'Accept': 'application/dicom+json', 'Connection': 'keep-alive', 'Content-Type': 'multipart/related; boundary=09ade4ae5972d77b1cf3a77f9781d768', 'Content-Length': '528848'}</td>\n",
       "      <td>b'--09ade4ae5972d77b1cf3a77f9781d768\\r\\nContent-Disposition: form-data; name=\"file\"; filename=\"dicomfile\"\\r\\nContent-Type: application/dicom\\r\\n\\r\\n\\x00\\x00\\x00\\x00\\x00\\x00\\x00\\x00\\x00\\x00\\x00\\x00'</td>\n",
       "      <td>True</td>\n",
       "      <td>200</td>\n",
       "      <td>OK</td>\n",
       "      <td>[Content-Length, Content-Type, Server, Request-Context, X-Content-Type-Options, X-Powered-By, Date]</td>\n",
       "      <td>{\"00081199\":{\"vr\":\"SQ\",\"Value\":[{\"00081150\":{\"vr\":\"UI\",\"Value\":[\"1.2.840.10008.5.1.4.1.1.2\"]},\"00081155\":{\"vr\":\"UI\",\"Value\":[\"1.3.6.1.4.1.14519.5.2.1.6450.9002.129722131609093626325983786725\"]},\"00081190\":{\"vr\":\"UR\",\"Value\":[\"https://sjbdcast6-dicom.azurewebsites.net/studies/1.3.6.1.4.1.14519.5.2.1.6450.9002.339372202011004731829363267423/series/1.3.6.1.4.1.14519.5.2.1.6450.9002.747485993156290148171122461766/instances/1.3.6.1.4.1.14519.5.2.1.6450.9002.129722131609093626325983786725\"]}}]}}</td>\n",
       "      <td>00:00:00.244648</td>\n",
       "      <td>ascii</td>\n",
       "      <td>utf-8</td>\n",
       "    </tr>\n",
       "    <tr>\n",
       "      <th>8</th>\n",
       "      <td>C:\\githealth\\elastic-cast-reduced2\\Andy SIIM\\Ct_Chest_NC - 0\\HELICAL_MODE_2\\IM-0026-0009.dcm</td>\n",
       "      <td>POST</td>\n",
       "      <td>https://sjbdcast6-dicom.azurewebsites.net/studies</td>\n",
       "      <td>/studies</td>\n",
       "      <td>{'User-Agent': 'python-requests/2.23.0', 'Accept-Encoding': 'gzip, deflate', 'Accept': 'application/dicom+json', 'Connection': 'keep-alive', 'Content-Type': 'multipart/related; boundary=446126b0bbecb3ba599a2d2a6d8fcfa4', 'Content-Length': '528848'}</td>\n",
       "      <td>b'--446126b0bbecb3ba599a2d2a6d8fcfa4\\r\\nContent-Disposition: form-data; name=\"file\"; filename=\"dicomfile\"\\r\\nContent-Type: application/dicom\\r\\n\\r\\n\\x00\\x00\\x00\\x00\\x00\\x00\\x00\\x00\\x00\\x00\\x00\\x00'</td>\n",
       "      <td>True</td>\n",
       "      <td>200</td>\n",
       "      <td>OK</td>\n",
       "      <td>[Content-Length, Content-Type, Server, Request-Context, X-Content-Type-Options, X-Powered-By, Date]</td>\n",
       "      <td>{\"00081199\":{\"vr\":\"SQ\",\"Value\":[{\"00081150\":{\"vr\":\"UI\",\"Value\":[\"1.2.840.10008.5.1.4.1.1.2\"]},\"00081155\":{\"vr\":\"UI\",\"Value\":[\"1.3.6.1.4.1.14519.5.2.1.6450.9002.200417907500660791845305554661\"]},\"00081190\":{\"vr\":\"UR\",\"Value\":[\"https://sjbdcast6-dicom.azurewebsites.net/studies/1.3.6.1.4.1.14519.5.2.1.6450.9002.339372202011004731829363267423/series/1.3.6.1.4.1.14519.5.2.1.6450.9002.747485993156290148171122461766/instances/1.3.6.1.4.1.14519.5.2.1.6450.9002.200417907500660791845305554661\"]}}]}}</td>\n",
       "      <td>00:00:00.206266</td>\n",
       "      <td>ascii</td>\n",
       "      <td>utf-8</td>\n",
       "    </tr>\n",
       "    <tr>\n",
       "      <th>9</th>\n",
       "      <td>C:\\githealth\\elastic-cast-reduced2\\Andy SIIM\\Ct_Chest_NC - 0\\HELICAL_MODE_2\\IM-0026-0010.dcm</td>\n",
       "      <td>POST</td>\n",
       "      <td>https://sjbdcast6-dicom.azurewebsites.net/studies</td>\n",
       "      <td>/studies</td>\n",
       "      <td>{'User-Agent': 'python-requests/2.23.0', 'Accept-Encoding': 'gzip, deflate', 'Accept': 'application/dicom+json', 'Connection': 'keep-alive', 'Content-Type': 'multipart/related; boundary=176730898b14fa287d65903fa82fb282', 'Content-Length': '528848'}</td>\n",
       "      <td>b'--176730898b14fa287d65903fa82fb282\\r\\nContent-Disposition: form-data; name=\"file\"; filename=\"dicomfile\"\\r\\nContent-Type: application/dicom\\r\\n\\r\\n\\x00\\x00\\x00\\x00\\x00\\x00\\x00\\x00\\x00\\x00\\x00\\x00'</td>\n",
       "      <td>True</td>\n",
       "      <td>200</td>\n",
       "      <td>OK</td>\n",
       "      <td>[Content-Length, Content-Type, Server, Request-Context, X-Content-Type-Options, X-Powered-By, Date]</td>\n",
       "      <td>{\"00081199\":{\"vr\":\"SQ\",\"Value\":[{\"00081150\":{\"vr\":\"UI\",\"Value\":[\"1.2.840.10008.5.1.4.1.1.2\"]},\"00081155\":{\"vr\":\"UI\",\"Value\":[\"1.3.6.1.4.1.14519.5.2.1.6450.9002.214528168267851494821267813563\"]},\"00081190\":{\"vr\":\"UR\",\"Value\":[\"https://sjbdcast6-dicom.azurewebsites.net/studies/1.3.6.1.4.1.14519.5.2.1.6450.9002.339372202011004731829363267423/series/1.3.6.1.4.1.14519.5.2.1.6450.9002.747485993156290148171122461766/instances/1.3.6.1.4.1.14519.5.2.1.6450.9002.214528168267851494821267813563\"]}}]}}</td>\n",
       "      <td>00:00:00.178877</td>\n",
       "      <td>ascii</td>\n",
       "      <td>utf-8</td>\n",
       "    </tr>\n",
       "    <tr>\n",
       "      <th>10</th>\n",
       "      <td>C:\\githealth\\elastic-cast-reduced2\\Andy SIIM\\Ct_Chest_NC - 0\\HELICAL_MODE_2\\IM-0026-0011.dcm</td>\n",
       "      <td>POST</td>\n",
       "      <td>https://sjbdcast6-dicom.azurewebsites.net/studies</td>\n",
       "      <td>/studies</td>\n",
       "      <td>{'User-Agent': 'python-requests/2.23.0', 'Accept-Encoding': 'gzip, deflate', 'Accept': 'application/dicom+json', 'Connection': 'keep-alive', 'Content-Type': 'multipart/related; boundary=943cfb0aa9ac665438cd85a46be82ffb', 'Content-Length': '528848'}</td>\n",
       "      <td>b'--943cfb0aa9ac665438cd85a46be82ffb\\r\\nContent-Disposition: form-data; name=\"file\"; filename=\"dicomfile\"\\r\\nContent-Type: application/dicom\\r\\n\\r\\n\\x00\\x00\\x00\\x00\\x00\\x00\\x00\\x00\\x00\\x00\\x00\\x00'</td>\n",
       "      <td>True</td>\n",
       "      <td>200</td>\n",
       "      <td>OK</td>\n",
       "      <td>[Content-Length, Content-Type, Server, Request-Context, X-Content-Type-Options, X-Powered-By, Date]</td>\n",
       "      <td>{\"00081199\":{\"vr\":\"SQ\",\"Value\":[{\"00081150\":{\"vr\":\"UI\",\"Value\":[\"1.2.840.10008.5.1.4.1.1.2\"]},\"00081155\":{\"vr\":\"UI\",\"Value\":[\"1.3.6.1.4.1.14519.5.2.1.6450.9002.108963897238447300800647355379\"]},\"00081190\":{\"vr\":\"UR\",\"Value\":[\"https://sjbdcast6-dicom.azurewebsites.net/studies/1.3.6.1.4.1.14519.5.2.1.6450.9002.339372202011004731829363267423/series/1.3.6.1.4.1.14519.5.2.1.6450.9002.747485993156290148171122461766/instances/1.3.6.1.4.1.14519.5.2.1.6450.9002.108963897238447300800647355379\"]}}]}}</td>\n",
       "      <td>00:00:00.256943</td>\n",
       "      <td>ascii</td>\n",
       "      <td>utf-8</td>\n",
       "    </tr>\n",
       "    <tr>\n",
       "      <th>11</th>\n",
       "      <td>C:\\githealth\\elastic-cast-reduced2\\Andy SIIM\\Ct_Chest_NC - 0\\HELICAL_MODE_2\\IM-0026-0012.dcm</td>\n",
       "      <td>POST</td>\n",
       "      <td>https://sjbdcast6-dicom.azurewebsites.net/studies</td>\n",
       "      <td>/studies</td>\n",
       "      <td>{'User-Agent': 'python-requests/2.23.0', 'Accept-Encoding': 'gzip, deflate', 'Accept': 'application/dicom+json', 'Connection': 'keep-alive', 'Content-Type': 'multipart/related; boundary=c2be9f7dc27162171b4339fe5688c5dc', 'Content-Length': '528848'}</td>\n",
       "      <td>b'--c2be9f7dc27162171b4339fe5688c5dc\\r\\nContent-Disposition: form-data; name=\"file\"; filename=\"dicomfile\"\\r\\nContent-Type: application/dicom\\r\\n\\r\\n\\x00\\x00\\x00\\x00\\x00\\x00\\x00\\x00\\x00\\x00\\x00\\x00'</td>\n",
       "      <td>True</td>\n",
       "      <td>200</td>\n",
       "      <td>OK</td>\n",
       "      <td>[Content-Length, Content-Type, Server, Request-Context, X-Content-Type-Options, X-Powered-By, Date]</td>\n",
       "      <td>{\"00081199\":{\"vr\":\"SQ\",\"Value\":[{\"00081150\":{\"vr\":\"UI\",\"Value\":[\"1.2.840.10008.5.1.4.1.1.2\"]},\"00081155\":{\"vr\":\"UI\",\"Value\":[\"1.3.6.1.4.1.14519.5.2.1.6450.9002.336868070531311194530541201296\"]},\"00081190\":{\"vr\":\"UR\",\"Value\":[\"https://sjbdcast6-dicom.azurewebsites.net/studies/1.3.6.1.4.1.14519.5.2.1.6450.9002.339372202011004731829363267423/series/1.3.6.1.4.1.14519.5.2.1.6450.9002.747485993156290148171122461766/instances/1.3.6.1.4.1.14519.5.2.1.6450.9002.336868070531311194530541201296\"]}}]}}</td>\n",
       "      <td>00:00:00.324510</td>\n",
       "      <td>ascii</td>\n",
       "      <td>utf-8</td>\n",
       "    </tr>\n",
       "    <tr>\n",
       "      <th>12</th>\n",
       "      <td>C:\\githealth\\elastic-cast-reduced2\\Andy SIIM\\Ct_Chest_NC - 0\\HELICAL_MODE_2\\IM-0026-0013.dcm</td>\n",
       "      <td>POST</td>\n",
       "      <td>https://sjbdcast6-dicom.azurewebsites.net/studies</td>\n",
       "      <td>/studies</td>\n",
       "      <td>{'User-Agent': 'python-requests/2.23.0', 'Accept-Encoding': 'gzip, deflate', 'Accept': 'application/dicom+json', 'Connection': 'keep-alive', 'Content-Type': 'multipart/related; boundary=1de5d8030408f127e77ed6e152a3d59b', 'Content-Length': '528848'}</td>\n",
       "      <td>b'--1de5d8030408f127e77ed6e152a3d59b\\r\\nContent-Disposition: form-data; name=\"file\"; filename=\"dicomfile\"\\r\\nContent-Type: application/dicom\\r\\n\\r\\n\\x00\\x00\\x00\\x00\\x00\\x00\\x00\\x00\\x00\\x00\\x00\\x00'</td>\n",
       "      <td>True</td>\n",
       "      <td>200</td>\n",
       "      <td>OK</td>\n",
       "      <td>[Content-Length, Content-Type, Server, Request-Context, X-Content-Type-Options, X-Powered-By, Date]</td>\n",
       "      <td>{\"00081199\":{\"vr\":\"SQ\",\"Value\":[{\"00081150\":{\"vr\":\"UI\",\"Value\":[\"1.2.840.10008.5.1.4.1.1.2\"]},\"00081155\":{\"vr\":\"UI\",\"Value\":[\"1.3.6.1.4.1.14519.5.2.1.6450.9002.117407244539405169391476703843\"]},\"00081190\":{\"vr\":\"UR\",\"Value\":[\"https://sjbdcast6-dicom.azurewebsites.net/studies/1.3.6.1.4.1.14519.5.2.1.6450.9002.339372202011004731829363267423/series/1.3.6.1.4.1.14519.5.2.1.6450.9002.747485993156290148171122461766/instances/1.3.6.1.4.1.14519.5.2.1.6450.9002.117407244539405169391476703843\"]}}]}}</td>\n",
       "      <td>00:00:00.564231</td>\n",
       "      <td>ascii</td>\n",
       "      <td>utf-8</td>\n",
       "    </tr>\n",
       "    <tr>\n",
       "      <th>13</th>\n",
       "      <td>C:\\githealth\\elastic-cast-reduced2\\Andy SIIM\\Ct_Chest_NC - 0\\HELICAL_MODE_2\\IM-0026-0014.dcm</td>\n",
       "      <td>POST</td>\n",
       "      <td>https://sjbdcast6-dicom.azurewebsites.net/studies</td>\n",
       "      <td>/studies</td>\n",
       "      <td>{'User-Agent': 'python-requests/2.23.0', 'Accept-Encoding': 'gzip, deflate', 'Accept': 'application/dicom+json', 'Connection': 'keep-alive', 'Content-Type': 'multipart/related; boundary=7439cc4c2ce7088c6410630e083fdd23', 'Content-Length': '528848'}</td>\n",
       "      <td>b'--7439cc4c2ce7088c6410630e083fdd23\\r\\nContent-Disposition: form-data; name=\"file\"; filename=\"dicomfile\"\\r\\nContent-Type: application/dicom\\r\\n\\r\\n\\x00\\x00\\x00\\x00\\x00\\x00\\x00\\x00\\x00\\x00\\x00\\x00'</td>\n",
       "      <td>True</td>\n",
       "      <td>200</td>\n",
       "      <td>OK</td>\n",
       "      <td>[Content-Length, Content-Type, Server, Request-Context, X-Content-Type-Options, X-Powered-By, Date]</td>\n",
       "      <td>{\"00081199\":{\"vr\":\"SQ\",\"Value\":[{\"00081150\":{\"vr\":\"UI\",\"Value\":[\"1.2.840.10008.5.1.4.1.1.2\"]},\"00081155\":{\"vr\":\"UI\",\"Value\":[\"1.3.6.1.4.1.14519.5.2.1.6450.9002.582869318352506205878986362331\"]},\"00081190\":{\"vr\":\"UR\",\"Value\":[\"https://sjbdcast6-dicom.azurewebsites.net/studies/1.3.6.1.4.1.14519.5.2.1.6450.9002.339372202011004731829363267423/series/1.3.6.1.4.1.14519.5.2.1.6450.9002.747485993156290148171122461766/instances/1.3.6.1.4.1.14519.5.2.1.6450.9002.582869318352506205878986362331\"]}}]}}</td>\n",
       "      <td>00:00:00.175678</td>\n",
       "      <td>ascii</td>\n",
       "      <td>utf-8</td>\n",
       "    </tr>\n",
       "    <tr>\n",
       "      <th>14</th>\n",
       "      <td>C:\\githealth\\elastic-cast-reduced2\\Andy SIIM\\Ct_Chest_NC - 0\\HELICAL_MODE_2\\IM-0026-0015.dcm</td>\n",
       "      <td>POST</td>\n",
       "      <td>https://sjbdcast6-dicom.azurewebsites.net/studies</td>\n",
       "      <td>/studies</td>\n",
       "      <td>{'User-Agent': 'python-requests/2.23.0', 'Accept-Encoding': 'gzip, deflate', 'Accept': 'application/dicom+json', 'Connection': 'keep-alive', 'Content-Type': 'multipart/related; boundary=ec6bbf1577f0a68811f19a4249e9a074', 'Content-Length': '528848'}</td>\n",
       "      <td>b'--ec6bbf1577f0a68811f19a4249e9a074\\r\\nContent-Disposition: form-data; name=\"file\"; filename=\"dicomfile\"\\r\\nContent-Type: application/dicom\\r\\n\\r\\n\\x00\\x00\\x00\\x00\\x00\\x00\\x00\\x00\\x00\\x00\\x00\\x00'</td>\n",
       "      <td>True</td>\n",
       "      <td>200</td>\n",
       "      <td>OK</td>\n",
       "      <td>[Content-Length, Content-Type, Server, Request-Context, X-Content-Type-Options, X-Powered-By, Date]</td>\n",
       "      <td>{\"00081199\":{\"vr\":\"SQ\",\"Value\":[{\"00081150\":{\"vr\":\"UI\",\"Value\":[\"1.2.840.10008.5.1.4.1.1.2\"]},\"00081155\":{\"vr\":\"UI\",\"Value\":[\"1.3.6.1.4.1.14519.5.2.1.6450.9002.321418822457048659046603697182\"]},\"00081190\":{\"vr\":\"UR\",\"Value\":[\"https://sjbdcast6-dicom.azurewebsites.net/studies/1.3.6.1.4.1.14519.5.2.1.6450.9002.339372202011004731829363267423/series/1.3.6.1.4.1.14519.5.2.1.6450.9002.747485993156290148171122461766/instances/1.3.6.1.4.1.14519.5.2.1.6450.9002.321418822457048659046603697182\"]}}]}}</td>\n",
       "      <td>00:00:00.177200</td>\n",
       "      <td>ascii</td>\n",
       "      <td>utf-8</td>\n",
       "    </tr>\n",
       "  </tbody>\n",
       "</table>\n",
       "</div>"
      ],
      "text/plain": [
       "                                                                                           fname  \\\n",
       "0   C:\\githealth\\elastic-cast-reduced2\\Andy SIIM\\Ct_Chest_NC - 0\\HELICAL_MODE_2\\IM-0026-0001.dcm   \n",
       "1   C:\\githealth\\elastic-cast-reduced2\\Andy SIIM\\Ct_Chest_NC - 0\\HELICAL_MODE_2\\IM-0026-0002.dcm   \n",
       "2   C:\\githealth\\elastic-cast-reduced2\\Andy SIIM\\Ct_Chest_NC - 0\\HELICAL_MODE_2\\IM-0026-0003.dcm   \n",
       "3   C:\\githealth\\elastic-cast-reduced2\\Andy SIIM\\Ct_Chest_NC - 0\\HELICAL_MODE_2\\IM-0026-0004.dcm   \n",
       "4   C:\\githealth\\elastic-cast-reduced2\\Andy SIIM\\Ct_Chest_NC - 0\\HELICAL_MODE_2\\IM-0026-0005.dcm   \n",
       "5   C:\\githealth\\elastic-cast-reduced2\\Andy SIIM\\Ct_Chest_NC - 0\\HELICAL_MODE_2\\IM-0026-0006.dcm   \n",
       "6   C:\\githealth\\elastic-cast-reduced2\\Andy SIIM\\Ct_Chest_NC - 0\\HELICAL_MODE_2\\IM-0026-0007.dcm   \n",
       "7   C:\\githealth\\elastic-cast-reduced2\\Andy SIIM\\Ct_Chest_NC - 0\\HELICAL_MODE_2\\IM-0026-0008.dcm   \n",
       "8   C:\\githealth\\elastic-cast-reduced2\\Andy SIIM\\Ct_Chest_NC - 0\\HELICAL_MODE_2\\IM-0026-0009.dcm   \n",
       "9   C:\\githealth\\elastic-cast-reduced2\\Andy SIIM\\Ct_Chest_NC - 0\\HELICAL_MODE_2\\IM-0026-0010.dcm   \n",
       "10  C:\\githealth\\elastic-cast-reduced2\\Andy SIIM\\Ct_Chest_NC - 0\\HELICAL_MODE_2\\IM-0026-0011.dcm   \n",
       "11  C:\\githealth\\elastic-cast-reduced2\\Andy SIIM\\Ct_Chest_NC - 0\\HELICAL_MODE_2\\IM-0026-0012.dcm   \n",
       "12  C:\\githealth\\elastic-cast-reduced2\\Andy SIIM\\Ct_Chest_NC - 0\\HELICAL_MODE_2\\IM-0026-0013.dcm   \n",
       "13  C:\\githealth\\elastic-cast-reduced2\\Andy SIIM\\Ct_Chest_NC - 0\\HELICAL_MODE_2\\IM-0026-0014.dcm   \n",
       "14  C:\\githealth\\elastic-cast-reduced2\\Andy SIIM\\Ct_Chest_NC - 0\\HELICAL_MODE_2\\IM-0026-0015.dcm   \n",
       "\n",
       "   method                                                url  path_url  \\\n",
       "0    POST  https://sjbdcast6-dicom.azurewebsites.net/studies  /studies   \n",
       "1    POST  https://sjbdcast6-dicom.azurewebsites.net/studies  /studies   \n",
       "2    POST  https://sjbdcast6-dicom.azurewebsites.net/studies  /studies   \n",
       "3    POST  https://sjbdcast6-dicom.azurewebsites.net/studies  /studies   \n",
       "4    POST  https://sjbdcast6-dicom.azurewebsites.net/studies  /studies   \n",
       "5    POST  https://sjbdcast6-dicom.azurewebsites.net/studies  /studies   \n",
       "6    POST  https://sjbdcast6-dicom.azurewebsites.net/studies  /studies   \n",
       "7    POST  https://sjbdcast6-dicom.azurewebsites.net/studies  /studies   \n",
       "8    POST  https://sjbdcast6-dicom.azurewebsites.net/studies  /studies   \n",
       "9    POST  https://sjbdcast6-dicom.azurewebsites.net/studies  /studies   \n",
       "10   POST  https://sjbdcast6-dicom.azurewebsites.net/studies  /studies   \n",
       "11   POST  https://sjbdcast6-dicom.azurewebsites.net/studies  /studies   \n",
       "12   POST  https://sjbdcast6-dicom.azurewebsites.net/studies  /studies   \n",
       "13   POST  https://sjbdcast6-dicom.azurewebsites.net/studies  /studies   \n",
       "14   POST  https://sjbdcast6-dicom.azurewebsites.net/studies  /studies   \n",
       "\n",
       "                                                                                                                                                                                                                                             request_headers  \\\n",
       "0   {'User-Agent': 'python-requests/2.23.0', 'Accept-Encoding': 'gzip, deflate', 'Accept': 'application/dicom+json', 'Connection': 'keep-alive', 'Content-Type': 'multipart/related; boundary=ce5a66c39ff369370893f05d297baf6f', 'Content-Length': '528848'}   \n",
       "1   {'User-Agent': 'python-requests/2.23.0', 'Accept-Encoding': 'gzip, deflate', 'Accept': 'application/dicom+json', 'Connection': 'keep-alive', 'Content-Type': 'multipart/related; boundary=2003d0802211c04f37575fb168a88f88', 'Content-Length': '528848'}   \n",
       "2   {'User-Agent': 'python-requests/2.23.0', 'Accept-Encoding': 'gzip, deflate', 'Accept': 'application/dicom+json', 'Connection': 'keep-alive', 'Content-Type': 'multipart/related; boundary=65acc087fc7a980dd5cf26cd2e791169', 'Content-Length': '528848'}   \n",
       "3   {'User-Agent': 'python-requests/2.23.0', 'Accept-Encoding': 'gzip, deflate', 'Accept': 'application/dicom+json', 'Connection': 'keep-alive', 'Content-Type': 'multipart/related; boundary=6a26c0e185e12d3a3f3a90faaad3bf92', 'Content-Length': '528848'}   \n",
       "4   {'User-Agent': 'python-requests/2.23.0', 'Accept-Encoding': 'gzip, deflate', 'Accept': 'application/dicom+json', 'Connection': 'keep-alive', 'Content-Type': 'multipart/related; boundary=7b65ec577826c43bfa3412ea42d1a1f8', 'Content-Length': '528848'}   \n",
       "5   {'User-Agent': 'python-requests/2.23.0', 'Accept-Encoding': 'gzip, deflate', 'Accept': 'application/dicom+json', 'Connection': 'keep-alive', 'Content-Type': 'multipart/related; boundary=eeb247200dc1e4c8492662bc66fca257', 'Content-Length': '528848'}   \n",
       "6   {'User-Agent': 'python-requests/2.23.0', 'Accept-Encoding': 'gzip, deflate', 'Accept': 'application/dicom+json', 'Connection': 'keep-alive', 'Content-Type': 'multipart/related; boundary=8152874fa9197592f2a88087669da32b', 'Content-Length': '528848'}   \n",
       "7   {'User-Agent': 'python-requests/2.23.0', 'Accept-Encoding': 'gzip, deflate', 'Accept': 'application/dicom+json', 'Connection': 'keep-alive', 'Content-Type': 'multipart/related; boundary=09ade4ae5972d77b1cf3a77f9781d768', 'Content-Length': '528848'}   \n",
       "8   {'User-Agent': 'python-requests/2.23.0', 'Accept-Encoding': 'gzip, deflate', 'Accept': 'application/dicom+json', 'Connection': 'keep-alive', 'Content-Type': 'multipart/related; boundary=446126b0bbecb3ba599a2d2a6d8fcfa4', 'Content-Length': '528848'}   \n",
       "9   {'User-Agent': 'python-requests/2.23.0', 'Accept-Encoding': 'gzip, deflate', 'Accept': 'application/dicom+json', 'Connection': 'keep-alive', 'Content-Type': 'multipart/related; boundary=176730898b14fa287d65903fa82fb282', 'Content-Length': '528848'}   \n",
       "10  {'User-Agent': 'python-requests/2.23.0', 'Accept-Encoding': 'gzip, deflate', 'Accept': 'application/dicom+json', 'Connection': 'keep-alive', 'Content-Type': 'multipart/related; boundary=943cfb0aa9ac665438cd85a46be82ffb', 'Content-Length': '528848'}   \n",
       "11  {'User-Agent': 'python-requests/2.23.0', 'Accept-Encoding': 'gzip, deflate', 'Accept': 'application/dicom+json', 'Connection': 'keep-alive', 'Content-Type': 'multipart/related; boundary=c2be9f7dc27162171b4339fe5688c5dc', 'Content-Length': '528848'}   \n",
       "12  {'User-Agent': 'python-requests/2.23.0', 'Accept-Encoding': 'gzip, deflate', 'Accept': 'application/dicom+json', 'Connection': 'keep-alive', 'Content-Type': 'multipart/related; boundary=1de5d8030408f127e77ed6e152a3d59b', 'Content-Length': '528848'}   \n",
       "13  {'User-Agent': 'python-requests/2.23.0', 'Accept-Encoding': 'gzip, deflate', 'Accept': 'application/dicom+json', 'Connection': 'keep-alive', 'Content-Type': 'multipart/related; boundary=7439cc4c2ce7088c6410630e083fdd23', 'Content-Length': '528848'}   \n",
       "14  {'User-Agent': 'python-requests/2.23.0', 'Accept-Encoding': 'gzip, deflate', 'Accept': 'application/dicom+json', 'Connection': 'keep-alive', 'Content-Type': 'multipart/related; boundary=ec6bbf1577f0a68811f19a4249e9a074', 'Content-Length': '528848'}   \n",
       "\n",
       "                                                                                                                                                                                     request_body_trimmed  \\\n",
       "0   b'--ce5a66c39ff369370893f05d297baf6f\\r\\nContent-Disposition: form-data; name=\"file\"; filename=\"dicomfile\"\\r\\nContent-Type: application/dicom\\r\\n\\r\\n\\x00\\x00\\x00\\x00\\x00\\x00\\x00\\x00\\x00\\x00\\x00\\x00'   \n",
       "1   b'--2003d0802211c04f37575fb168a88f88\\r\\nContent-Disposition: form-data; name=\"file\"; filename=\"dicomfile\"\\r\\nContent-Type: application/dicom\\r\\n\\r\\n\\x00\\x00\\x00\\x00\\x00\\x00\\x00\\x00\\x00\\x00\\x00\\x00'   \n",
       "2   b'--65acc087fc7a980dd5cf26cd2e791169\\r\\nContent-Disposition: form-data; name=\"file\"; filename=\"dicomfile\"\\r\\nContent-Type: application/dicom\\r\\n\\r\\n\\x00\\x00\\x00\\x00\\x00\\x00\\x00\\x00\\x00\\x00\\x00\\x00'   \n",
       "3   b'--6a26c0e185e12d3a3f3a90faaad3bf92\\r\\nContent-Disposition: form-data; name=\"file\"; filename=\"dicomfile\"\\r\\nContent-Type: application/dicom\\r\\n\\r\\n\\x00\\x00\\x00\\x00\\x00\\x00\\x00\\x00\\x00\\x00\\x00\\x00'   \n",
       "4   b'--7b65ec577826c43bfa3412ea42d1a1f8\\r\\nContent-Disposition: form-data; name=\"file\"; filename=\"dicomfile\"\\r\\nContent-Type: application/dicom\\r\\n\\r\\n\\x00\\x00\\x00\\x00\\x00\\x00\\x00\\x00\\x00\\x00\\x00\\x00'   \n",
       "5   b'--eeb247200dc1e4c8492662bc66fca257\\r\\nContent-Disposition: form-data; name=\"file\"; filename=\"dicomfile\"\\r\\nContent-Type: application/dicom\\r\\n\\r\\n\\x00\\x00\\x00\\x00\\x00\\x00\\x00\\x00\\x00\\x00\\x00\\x00'   \n",
       "6   b'--8152874fa9197592f2a88087669da32b\\r\\nContent-Disposition: form-data; name=\"file\"; filename=\"dicomfile\"\\r\\nContent-Type: application/dicom\\r\\n\\r\\n\\x00\\x00\\x00\\x00\\x00\\x00\\x00\\x00\\x00\\x00\\x00\\x00'   \n",
       "7   b'--09ade4ae5972d77b1cf3a77f9781d768\\r\\nContent-Disposition: form-data; name=\"file\"; filename=\"dicomfile\"\\r\\nContent-Type: application/dicom\\r\\n\\r\\n\\x00\\x00\\x00\\x00\\x00\\x00\\x00\\x00\\x00\\x00\\x00\\x00'   \n",
       "8   b'--446126b0bbecb3ba599a2d2a6d8fcfa4\\r\\nContent-Disposition: form-data; name=\"file\"; filename=\"dicomfile\"\\r\\nContent-Type: application/dicom\\r\\n\\r\\n\\x00\\x00\\x00\\x00\\x00\\x00\\x00\\x00\\x00\\x00\\x00\\x00'   \n",
       "9   b'--176730898b14fa287d65903fa82fb282\\r\\nContent-Disposition: form-data; name=\"file\"; filename=\"dicomfile\"\\r\\nContent-Type: application/dicom\\r\\n\\r\\n\\x00\\x00\\x00\\x00\\x00\\x00\\x00\\x00\\x00\\x00\\x00\\x00'   \n",
       "10  b'--943cfb0aa9ac665438cd85a46be82ffb\\r\\nContent-Disposition: form-data; name=\"file\"; filename=\"dicomfile\"\\r\\nContent-Type: application/dicom\\r\\n\\r\\n\\x00\\x00\\x00\\x00\\x00\\x00\\x00\\x00\\x00\\x00\\x00\\x00'   \n",
       "11  b'--c2be9f7dc27162171b4339fe5688c5dc\\r\\nContent-Disposition: form-data; name=\"file\"; filename=\"dicomfile\"\\r\\nContent-Type: application/dicom\\r\\n\\r\\n\\x00\\x00\\x00\\x00\\x00\\x00\\x00\\x00\\x00\\x00\\x00\\x00'   \n",
       "12  b'--1de5d8030408f127e77ed6e152a3d59b\\r\\nContent-Disposition: form-data; name=\"file\"; filename=\"dicomfile\"\\r\\nContent-Type: application/dicom\\r\\n\\r\\n\\x00\\x00\\x00\\x00\\x00\\x00\\x00\\x00\\x00\\x00\\x00\\x00'   \n",
       "13  b'--7439cc4c2ce7088c6410630e083fdd23\\r\\nContent-Disposition: form-data; name=\"file\"; filename=\"dicomfile\"\\r\\nContent-Type: application/dicom\\r\\n\\r\\n\\x00\\x00\\x00\\x00\\x00\\x00\\x00\\x00\\x00\\x00\\x00\\x00'   \n",
       "14  b'--ec6bbf1577f0a68811f19a4249e9a074\\r\\nContent-Disposition: form-data; name=\"file\"; filename=\"dicomfile\"\\r\\nContent-Type: application/dicom\\r\\n\\r\\n\\x00\\x00\\x00\\x00\\x00\\x00\\x00\\x00\\x00\\x00\\x00\\x00'   \n",
       "\n",
       "      ok  status_code reason  \\\n",
       "0   True          200     OK   \n",
       "1   True          200     OK   \n",
       "2   True          200     OK   \n",
       "3   True          200     OK   \n",
       "4   True          200     OK   \n",
       "5   True          200     OK   \n",
       "6   True          200     OK   \n",
       "7   True          200     OK   \n",
       "8   True          200     OK   \n",
       "9   True          200     OK   \n",
       "10  True          200     OK   \n",
       "11  True          200     OK   \n",
       "12  True          200     OK   \n",
       "13  True          200     OK   \n",
       "14  True          200     OK   \n",
       "\n",
       "                                                                                       response_headers  \\\n",
       "0   [Content-Length, Content-Type, Server, Request-Context, X-Content-Type-Options, X-Powered-By, Date]   \n",
       "1   [Content-Length, Content-Type, Server, Request-Context, X-Content-Type-Options, X-Powered-By, Date]   \n",
       "2   [Content-Length, Content-Type, Server, Request-Context, X-Content-Type-Options, X-Powered-By, Date]   \n",
       "3   [Content-Length, Content-Type, Server, Request-Context, X-Content-Type-Options, X-Powered-By, Date]   \n",
       "4   [Content-Length, Content-Type, Server, Request-Context, X-Content-Type-Options, X-Powered-By, Date]   \n",
       "5   [Content-Length, Content-Type, Server, Request-Context, X-Content-Type-Options, X-Powered-By, Date]   \n",
       "6   [Content-Length, Content-Type, Server, Request-Context, X-Content-Type-Options, X-Powered-By, Date]   \n",
       "7   [Content-Length, Content-Type, Server, Request-Context, X-Content-Type-Options, X-Powered-By, Date]   \n",
       "8   [Content-Length, Content-Type, Server, Request-Context, X-Content-Type-Options, X-Powered-By, Date]   \n",
       "9   [Content-Length, Content-Type, Server, Request-Context, X-Content-Type-Options, X-Powered-By, Date]   \n",
       "10  [Content-Length, Content-Type, Server, Request-Context, X-Content-Type-Options, X-Powered-By, Date]   \n",
       "11  [Content-Length, Content-Type, Server, Request-Context, X-Content-Type-Options, X-Powered-By, Date]   \n",
       "12  [Content-Length, Content-Type, Server, Request-Context, X-Content-Type-Options, X-Powered-By, Date]   \n",
       "13  [Content-Length, Content-Type, Server, Request-Context, X-Content-Type-Options, X-Powered-By, Date]   \n",
       "14  [Content-Length, Content-Type, Server, Request-Context, X-Content-Type-Options, X-Powered-By, Date]   \n",
       "\n",
       "                                                                                                                                                                                                                                                                                                                                                                                                                                                                                                     response_text  \\\n",
       "0   {\"00081199\":{\"vr\":\"SQ\",\"Value\":[{\"00081150\":{\"vr\":\"UI\",\"Value\":[\"1.2.840.10008.5.1.4.1.1.2\"]},\"00081155\":{\"vr\":\"UI\",\"Value\":[\"1.3.6.1.4.1.14519.5.2.1.6450.9002.560831737608650202608209404565\"]},\"00081190\":{\"vr\":\"UR\",\"Value\":[\"https://sjbdcast6-dicom.azurewebsites.net/studies/1.3.6.1.4.1.14519.5.2.1.6450.9002.339372202011004731829363267423/series/1.3.6.1.4.1.14519.5.2.1.6450.9002.747485993156290148171122461766/instances/1.3.6.1.4.1.14519.5.2.1.6450.9002.560831737608650202608209404565\"]}}]}}   \n",
       "1   {\"00081199\":{\"vr\":\"SQ\",\"Value\":[{\"00081150\":{\"vr\":\"UI\",\"Value\":[\"1.2.840.10008.5.1.4.1.1.2\"]},\"00081155\":{\"vr\":\"UI\",\"Value\":[\"1.3.6.1.4.1.14519.5.2.1.6450.9002.297826588662579079841363899995\"]},\"00081190\":{\"vr\":\"UR\",\"Value\":[\"https://sjbdcast6-dicom.azurewebsites.net/studies/1.3.6.1.4.1.14519.5.2.1.6450.9002.339372202011004731829363267423/series/1.3.6.1.4.1.14519.5.2.1.6450.9002.747485993156290148171122461766/instances/1.3.6.1.4.1.14519.5.2.1.6450.9002.297826588662579079841363899995\"]}}]}}   \n",
       "2   {\"00081199\":{\"vr\":\"SQ\",\"Value\":[{\"00081150\":{\"vr\":\"UI\",\"Value\":[\"1.2.840.10008.5.1.4.1.1.2\"]},\"00081155\":{\"vr\":\"UI\",\"Value\":[\"1.3.6.1.4.1.14519.5.2.1.6450.9002.225319844260836053102353216326\"]},\"00081190\":{\"vr\":\"UR\",\"Value\":[\"https://sjbdcast6-dicom.azurewebsites.net/studies/1.3.6.1.4.1.14519.5.2.1.6450.9002.339372202011004731829363267423/series/1.3.6.1.4.1.14519.5.2.1.6450.9002.747485993156290148171122461766/instances/1.3.6.1.4.1.14519.5.2.1.6450.9002.225319844260836053102353216326\"]}}]}}   \n",
       "3   {\"00081199\":{\"vr\":\"SQ\",\"Value\":[{\"00081150\":{\"vr\":\"UI\",\"Value\":[\"1.2.840.10008.5.1.4.1.1.2\"]},\"00081155\":{\"vr\":\"UI\",\"Value\":[\"1.3.6.1.4.1.14519.5.2.1.6450.9002.158981644526511259100463361551\"]},\"00081190\":{\"vr\":\"UR\",\"Value\":[\"https://sjbdcast6-dicom.azurewebsites.net/studies/1.3.6.1.4.1.14519.5.2.1.6450.9002.339372202011004731829363267423/series/1.3.6.1.4.1.14519.5.2.1.6450.9002.747485993156290148171122461766/instances/1.3.6.1.4.1.14519.5.2.1.6450.9002.158981644526511259100463361551\"]}}]}}   \n",
       "4   {\"00081199\":{\"vr\":\"SQ\",\"Value\":[{\"00081150\":{\"vr\":\"UI\",\"Value\":[\"1.2.840.10008.5.1.4.1.1.2\"]},\"00081155\":{\"vr\":\"UI\",\"Value\":[\"1.3.6.1.4.1.14519.5.2.1.6450.9002.357405921834034173510896490121\"]},\"00081190\":{\"vr\":\"UR\",\"Value\":[\"https://sjbdcast6-dicom.azurewebsites.net/studies/1.3.6.1.4.1.14519.5.2.1.6450.9002.339372202011004731829363267423/series/1.3.6.1.4.1.14519.5.2.1.6450.9002.747485993156290148171122461766/instances/1.3.6.1.4.1.14519.5.2.1.6450.9002.357405921834034173510896490121\"]}}]}}   \n",
       "5   {\"00081199\":{\"vr\":\"SQ\",\"Value\":[{\"00081150\":{\"vr\":\"UI\",\"Value\":[\"1.2.840.10008.5.1.4.1.1.2\"]},\"00081155\":{\"vr\":\"UI\",\"Value\":[\"1.3.6.1.4.1.14519.5.2.1.6450.9002.965516814770163134917783220009\"]},\"00081190\":{\"vr\":\"UR\",\"Value\":[\"https://sjbdcast6-dicom.azurewebsites.net/studies/1.3.6.1.4.1.14519.5.2.1.6450.9002.339372202011004731829363267423/series/1.3.6.1.4.1.14519.5.2.1.6450.9002.747485993156290148171122461766/instances/1.3.6.1.4.1.14519.5.2.1.6450.9002.965516814770163134917783220009\"]}}]}}   \n",
       "6   {\"00081199\":{\"vr\":\"SQ\",\"Value\":[{\"00081150\":{\"vr\":\"UI\",\"Value\":[\"1.2.840.10008.5.1.4.1.1.2\"]},\"00081155\":{\"vr\":\"UI\",\"Value\":[\"1.3.6.1.4.1.14519.5.2.1.6450.9002.138561670803370232171847534282\"]},\"00081190\":{\"vr\":\"UR\",\"Value\":[\"https://sjbdcast6-dicom.azurewebsites.net/studies/1.3.6.1.4.1.14519.5.2.1.6450.9002.339372202011004731829363267423/series/1.3.6.1.4.1.14519.5.2.1.6450.9002.747485993156290148171122461766/instances/1.3.6.1.4.1.14519.5.2.1.6450.9002.138561670803370232171847534282\"]}}]}}   \n",
       "7   {\"00081199\":{\"vr\":\"SQ\",\"Value\":[{\"00081150\":{\"vr\":\"UI\",\"Value\":[\"1.2.840.10008.5.1.4.1.1.2\"]},\"00081155\":{\"vr\":\"UI\",\"Value\":[\"1.3.6.1.4.1.14519.5.2.1.6450.9002.129722131609093626325983786725\"]},\"00081190\":{\"vr\":\"UR\",\"Value\":[\"https://sjbdcast6-dicom.azurewebsites.net/studies/1.3.6.1.4.1.14519.5.2.1.6450.9002.339372202011004731829363267423/series/1.3.6.1.4.1.14519.5.2.1.6450.9002.747485993156290148171122461766/instances/1.3.6.1.4.1.14519.5.2.1.6450.9002.129722131609093626325983786725\"]}}]}}   \n",
       "8   {\"00081199\":{\"vr\":\"SQ\",\"Value\":[{\"00081150\":{\"vr\":\"UI\",\"Value\":[\"1.2.840.10008.5.1.4.1.1.2\"]},\"00081155\":{\"vr\":\"UI\",\"Value\":[\"1.3.6.1.4.1.14519.5.2.1.6450.9002.200417907500660791845305554661\"]},\"00081190\":{\"vr\":\"UR\",\"Value\":[\"https://sjbdcast6-dicom.azurewebsites.net/studies/1.3.6.1.4.1.14519.5.2.1.6450.9002.339372202011004731829363267423/series/1.3.6.1.4.1.14519.5.2.1.6450.9002.747485993156290148171122461766/instances/1.3.6.1.4.1.14519.5.2.1.6450.9002.200417907500660791845305554661\"]}}]}}   \n",
       "9   {\"00081199\":{\"vr\":\"SQ\",\"Value\":[{\"00081150\":{\"vr\":\"UI\",\"Value\":[\"1.2.840.10008.5.1.4.1.1.2\"]},\"00081155\":{\"vr\":\"UI\",\"Value\":[\"1.3.6.1.4.1.14519.5.2.1.6450.9002.214528168267851494821267813563\"]},\"00081190\":{\"vr\":\"UR\",\"Value\":[\"https://sjbdcast6-dicom.azurewebsites.net/studies/1.3.6.1.4.1.14519.5.2.1.6450.9002.339372202011004731829363267423/series/1.3.6.1.4.1.14519.5.2.1.6450.9002.747485993156290148171122461766/instances/1.3.6.1.4.1.14519.5.2.1.6450.9002.214528168267851494821267813563\"]}}]}}   \n",
       "10  {\"00081199\":{\"vr\":\"SQ\",\"Value\":[{\"00081150\":{\"vr\":\"UI\",\"Value\":[\"1.2.840.10008.5.1.4.1.1.2\"]},\"00081155\":{\"vr\":\"UI\",\"Value\":[\"1.3.6.1.4.1.14519.5.2.1.6450.9002.108963897238447300800647355379\"]},\"00081190\":{\"vr\":\"UR\",\"Value\":[\"https://sjbdcast6-dicom.azurewebsites.net/studies/1.3.6.1.4.1.14519.5.2.1.6450.9002.339372202011004731829363267423/series/1.3.6.1.4.1.14519.5.2.1.6450.9002.747485993156290148171122461766/instances/1.3.6.1.4.1.14519.5.2.1.6450.9002.108963897238447300800647355379\"]}}]}}   \n",
       "11  {\"00081199\":{\"vr\":\"SQ\",\"Value\":[{\"00081150\":{\"vr\":\"UI\",\"Value\":[\"1.2.840.10008.5.1.4.1.1.2\"]},\"00081155\":{\"vr\":\"UI\",\"Value\":[\"1.3.6.1.4.1.14519.5.2.1.6450.9002.336868070531311194530541201296\"]},\"00081190\":{\"vr\":\"UR\",\"Value\":[\"https://sjbdcast6-dicom.azurewebsites.net/studies/1.3.6.1.4.1.14519.5.2.1.6450.9002.339372202011004731829363267423/series/1.3.6.1.4.1.14519.5.2.1.6450.9002.747485993156290148171122461766/instances/1.3.6.1.4.1.14519.5.2.1.6450.9002.336868070531311194530541201296\"]}}]}}   \n",
       "12  {\"00081199\":{\"vr\":\"SQ\",\"Value\":[{\"00081150\":{\"vr\":\"UI\",\"Value\":[\"1.2.840.10008.5.1.4.1.1.2\"]},\"00081155\":{\"vr\":\"UI\",\"Value\":[\"1.3.6.1.4.1.14519.5.2.1.6450.9002.117407244539405169391476703843\"]},\"00081190\":{\"vr\":\"UR\",\"Value\":[\"https://sjbdcast6-dicom.azurewebsites.net/studies/1.3.6.1.4.1.14519.5.2.1.6450.9002.339372202011004731829363267423/series/1.3.6.1.4.1.14519.5.2.1.6450.9002.747485993156290148171122461766/instances/1.3.6.1.4.1.14519.5.2.1.6450.9002.117407244539405169391476703843\"]}}]}}   \n",
       "13  {\"00081199\":{\"vr\":\"SQ\",\"Value\":[{\"00081150\":{\"vr\":\"UI\",\"Value\":[\"1.2.840.10008.5.1.4.1.1.2\"]},\"00081155\":{\"vr\":\"UI\",\"Value\":[\"1.3.6.1.4.1.14519.5.2.1.6450.9002.582869318352506205878986362331\"]},\"00081190\":{\"vr\":\"UR\",\"Value\":[\"https://sjbdcast6-dicom.azurewebsites.net/studies/1.3.6.1.4.1.14519.5.2.1.6450.9002.339372202011004731829363267423/series/1.3.6.1.4.1.14519.5.2.1.6450.9002.747485993156290148171122461766/instances/1.3.6.1.4.1.14519.5.2.1.6450.9002.582869318352506205878986362331\"]}}]}}   \n",
       "14  {\"00081199\":{\"vr\":\"SQ\",\"Value\":[{\"00081150\":{\"vr\":\"UI\",\"Value\":[\"1.2.840.10008.5.1.4.1.1.2\"]},\"00081155\":{\"vr\":\"UI\",\"Value\":[\"1.3.6.1.4.1.14519.5.2.1.6450.9002.321418822457048659046603697182\"]},\"00081190\":{\"vr\":\"UR\",\"Value\":[\"https://sjbdcast6-dicom.azurewebsites.net/studies/1.3.6.1.4.1.14519.5.2.1.6450.9002.339372202011004731829363267423/series/1.3.6.1.4.1.14519.5.2.1.6450.9002.747485993156290148171122461766/instances/1.3.6.1.4.1.14519.5.2.1.6450.9002.321418822457048659046603697182\"]}}]}}   \n",
       "\n",
       "      elapsed_time apparent_encoding encoding  \n",
       "0  00:00:00.462254             ascii    utf-8  \n",
       "1  00:00:00.161432             ascii    utf-8  \n",
       "2  00:00:00.230563             ascii    utf-8  \n",
       "3  00:00:00.166978             ascii    utf-8  \n",
       "4  00:00:00.177377             ascii    utf-8  \n",
       "5  00:00:00.244844             ascii    utf-8  \n",
       "6  00:00:00.269161             ascii    utf-8  \n",
       "7  00:00:00.244648             ascii    utf-8  \n",
       "8  00:00:00.206266             ascii    utf-8  \n",
       "9  00:00:00.178877             ascii    utf-8  \n",
       "10 00:00:00.256943             ascii    utf-8  \n",
       "11 00:00:00.324510             ascii    utf-8  \n",
       "12 00:00:00.564231             ascii    utf-8  \n",
       "13 00:00:00.175678             ascii    utf-8  \n",
       "14 00:00:00.177200             ascii    utf-8  "
      ]
     },
     "execution_count": 48,
     "metadata": {},
     "output_type": "execute_result"
    }
   ],
   "source": [
    "df.head(15)"
   ]
  },
  {
   "cell_type": "code",
   "execution_count": 49,
   "metadata": {},
   "outputs": [],
   "source": [
    "df.to_csv('SIIM_data_Nov18.csv')"
   ]
  },
  {
   "cell_type": "code",
   "execution_count": 54,
   "metadata": {},
   "outputs": [
    {
     "data": {
      "text/plain": [
       "10"
      ]
     },
     "execution_count": 54,
     "metadata": {},
     "output_type": "execute_result"
    }
   ],
   "source": [
    "len(df)"
   ]
  },
  {
   "cell_type": "code",
   "execution_count": null,
   "metadata": {},
   "outputs": [],
   "source": []
  },
  {
   "cell_type": "code",
   "execution_count": 55,
   "metadata": {},
   "outputs": [],
   "source": [
    "# The following is for chunked upload of larger directories\n"
   ]
  },
  {
   "cell_type": "code",
   "execution_count": null,
   "metadata": {},
   "outputs": [],
   "source": [
    "len(files)"
   ]
  },
  {
   "cell_type": "code",
   "execution_count": null,
   "metadata": {},
   "outputs": [],
   "source": [
    "def split_list(a_list, size):\n",
    "     lists = []\n",
    "     while len(a_list) > size:\n",
    "         pice = a_list[:size]\n",
    "         lists.append(pice)\n",
    "         a_list = a_list[size:]\n",
    "     lists.append(a_list)\n",
    "     return lists"
   ]
  },
  {
   "cell_type": "code",
   "execution_count": null,
   "metadata": {},
   "outputs": [],
   "source": [
    "def process_file_subset(file_subset):\n",
    "    #print(f'Processing {len(file_subset)} files')\n",
    "    #df_meta = pd.DataFrame()\n",
    "    #df_upload = pd.DataFrame() \n",
    "    df_meta = get_dicom_metadata_as_dataframe(file_subset)\n",
    "    #df_meta.to_csv('c:\\\\!mlhack\\\\metadata-mlhack_train_subset.csv')\n",
    "    df_upload = store_files_to_dicomweb_with_logging_to_dataframe(file_subset)\n",
    "    #df_upload.to_csv('c:\\\\!mlhack\\\\upload-data-mlhack_train_subset.csv')\n",
    "    return df_meta, df_upload"
   ]
  },
  {
   "cell_type": "code",
   "execution_count": null,
   "metadata": {},
   "outputs": [],
   "source": [
    "# Process all the files in chunks\n",
    "batch_size = 250\n",
    "df_meta = pd.DataFrame()\n",
    "df_upload = pd.DataFrame()\n",
    "\n",
    "groups_of_files = split_list(files,batch_size)\n",
    "\n",
    "for i,group in enumerate(groups_of_files):\n",
    "    print(f'Processing {i} of {len(groups_of_files)} groups with {len(group)} files each')\n",
    "    df_meta_subset, df_upload_subset = process_file_subset(group)\n",
    "    df_meta = pd.concat([df_meta,df_meta_subset])\n",
    "    df_upload = pd.concat([df_upload,df_upload_subset])\n",
    "    df_meta.to_csv('c:\\\\!mlhack\\\\metadata-mlhack_train_sofar.csv')\n",
    "    df_upload.to_csv('c:\\\\!mlhack\\\\upload-data-mlhack_train_sofar.csv')"
   ]
  },
  {
   "cell_type": "code",
   "execution_count": null,
   "metadata": {},
   "outputs": [],
   "source": [
    "df_meta.to_csv('c:\\\\!mlhack\\\\metadata-mlhack_train.csv')\n",
    "df_upload.to_csv('c:\\\\!mlhack\\\\upload-data-mlhack_train.csv')"
   ]
  },
  {
   "cell_type": "code",
   "execution_count": null,
   "metadata": {},
   "outputs": [],
   "source": []
  }
 ],
 "metadata": {
  "kernelspec": {
   "display_name": "Python 3",
   "language": "python",
   "name": "python3"
  },
  "language_info": {
   "codemirror_mode": {
    "name": "ipython",
    "version": 3
   },
   "file_extension": ".py",
   "mimetype": "text/x-python",
   "name": "python",
   "nbconvert_exporter": "python",
   "pygments_lexer": "ipython3",
   "version": "3.7.7"
  },
  "toc": {
   "base_numbering": 1,
   "nav_menu": {},
   "number_sections": true,
   "sideBar": true,
   "skip_h1_title": false,
   "title_cell": "Table of Contents",
   "title_sidebar": "Contents",
   "toc_cell": false,
   "toc_position": {},
   "toc_section_display": true,
   "toc_window_display": false
  }
 },
 "nbformat": 4,
 "nbformat_minor": 2
}
