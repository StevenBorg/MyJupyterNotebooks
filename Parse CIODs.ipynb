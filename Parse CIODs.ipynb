{
 "cells": [
  {
   "cell_type": "code",
   "execution_count": 25,
   "metadata": {},
   "outputs": [],
   "source": [
    "import json\n"
   ]
  },
  {
   "cell_type": "markdown",
   "metadata": {},
   "source": [
    "Information on De-ID from http://dicom.nema.org/medical/dicom/current/output/chtml/part15/chapter_E.html\n",
    "\n",
    "The following action codes are used in the table:\n",
    "\n",
    "D - replace with a non-zero length value that may be a dummy value and consistent with the VR\n",
    "\n",
    "Z - replace with a zero length value, or a non-zero length value that may be a dummy value and consistent with the VR\n",
    "\n",
    "X - remove\n",
    "\n",
    "K - keep (unchanged for non-sequence attributes, cleaned for sequences)\n",
    "\n",
    "C - clean, that is replace with values of similar meaning known not to contain identifying information and consistent with the VR\n",
    "\n",
    "U - replace with a non-zero length UID that is internally consistent within a set of Instances\n",
    "\n",
    "Z/D - Z unless D is required to maintain IOD conformance (Type 2 versus Type 1)\n",
    "\n",
    "X/Z - X unless Z is required to maintain IOD conformance (Type 3 versus Type 2)\n",
    "\n",
    "X/D - X unless D is required to maintain IOD conformance (Type 3 versus Type 1)\n",
    "\n",
    "X/Z/D - X unless Z or D is required to maintain IOD conformance (Type 3 versus Type 2 versus Type 1)\n",
    "\n",
    "X/Z/U* - X unless Z or replacement of contained instance UIDs (U) is required to maintain IOD conformance (Type 3 versus Type 2 versus Type 1 sequences containing UID references)"
   ]
  },
  {
   "cell_type": "code",
   "execution_count": 26,
   "metadata": {},
   "outputs": [
    {
     "name": "stdout",
     "output_type": "stream",
     "text": [
      "4793\n"
     ]
    },
    {
     "data": {
      "text/plain": [
       "{'tag': '(0008,0001)',\n",
       " 'name': 'Length to End',\n",
       " 'keyword': 'LengthToEnd',\n",
       " 'valueRepresentation': 'UL',\n",
       " 'valueMultiplicity': '1',\n",
       " 'retired': 'Y',\n",
       " 'id': '00080001'}"
      ]
     },
     "execution_count": 26,
     "metadata": {},
     "output_type": "execute_result"
    }
   ],
   "source": [
    "# Get all dicom attributes\n",
    "with open(\"c:\\\\githealth\\\\ciods\\\\standard\\\\attributes.json\", 'r') as myfile:\n",
    "    data=myfile.read()\n",
    "\n",
    "# parse file\n",
    "dicom_attributes = json.loads(data)\n",
    "print(len(dicom_attributes))\n",
    "dicom_attributes[0]"
   ]
  },
  {
   "cell_type": "code",
   "execution_count": 27,
   "metadata": {},
   "outputs": [
    {
     "name": "stdout",
     "output_type": "stream",
     "text": [
      "144\n"
     ]
    },
    {
     "data": {
      "text/plain": [
       "{'name': 'CR Image',\n",
       " 'id': 'cr-image',\n",
       " 'description': '<p>\\nThe Computed Radiography (CR) Image Information Object Definition specifies an image that has been created by a computed radiography imaging device.</p>',\n",
       " 'linkToStandard': 'http://dicom.nema.org/medical/dicom/current/output/chtml/part03/sect_A.2.3.html#table_A.2-1'}"
      ]
     },
     "execution_count": 27,
     "metadata": {},
     "output_type": "execute_result"
    }
   ],
   "source": [
    "# Get all dicom ciods\n",
    "with open(\"c:\\\\githealth\\\\ciods\\\\standard\\\\ciods.json\", 'r') as myfile:\n",
    "    data=myfile.read()\n",
    "\n",
    "# parse file\n",
    "dicom_ciods = json.loads(data)\n",
    "print(len(dicom_ciods))\n",
    "dicom_ciods[0]"
   ]
  },
  {
   "cell_type": "code",
   "execution_count": 28,
   "metadata": {},
   "outputs": [
    {
     "name": "stdout",
     "output_type": "stream",
     "text": [
      "402\n"
     ]
    },
    {
     "data": {
      "text/plain": [
       "{'name': 'Acquisition Context',\n",
       " 'id': 'acquisition-context',\n",
       " 'description': '<p>\\n<span href=\"#table_C.7.6.14-1\">This module </span> specifies Attributes for description of the conditions present during data acquisition.</p>',\n",
       " 'linkToStandard': 'http://dicom.nema.org/medical/dicom/current/output/chtml/part03/sect_C.7.6.14.html#table_C.7.6.14-1'}"
      ]
     },
     "execution_count": 28,
     "metadata": {},
     "output_type": "execute_result"
    }
   ],
   "source": [
    "# Get all dicom modules\n",
    "with open(\"c:\\\\githealth\\\\ciods\\\\standard\\\\modules.json\", 'r') as myfile:\n",
    "    data=myfile.read()\n",
    "\n",
    "# parse file\n",
    "dicom_modules = json.loads(data)\n",
    "print(len(dicom_modules))\n",
    "dicom_modules[0]"
   ]
  },
  {
   "cell_type": "code",
   "execution_count": 29,
   "metadata": {},
   "outputs": [
    {
     "name": "stdout",
     "output_type": "stream",
     "text": [
      "148\n"
     ]
    },
    {
     "data": {
      "text/plain": [
       "{'name': 'Computed Radiography Image Storage',\n",
       " 'id': '1.2.840.10008.5.1.4.1.1.1',\n",
       " 'ciod': 'CR Image'}"
      ]
     },
     "execution_count": 29,
     "metadata": {},
     "output_type": "execute_result"
    }
   ],
   "source": [
    "# Get all dicom sops\n",
    "with open(\"c:\\\\githealth\\\\ciods\\\\standard\\\\sops.json\", 'r') as myfile:\n",
    "    data=myfile.read()\n",
    "\n",
    "# parse file\n",
    "dicom_sops = json.loads(data)\n",
    "print(len(dicom_sops))\n",
    "dicom_sops[0]"
   ]
  },
  {
   "cell_type": "code",
   "execution_count": 30,
   "metadata": {},
   "outputs": [
    {
     "name": "stdout",
     "output_type": "stream",
     "text": [
      "432\n"
     ]
    },
    {
     "data": {
      "text/plain": [
       "{'name': 'Accession Number',\n",
       " 'tag': '(0008,0050)',\n",
       " 'stdCompIOD': 'Y',\n",
       " 'basicProfile': 'Z',\n",
       " 'id': '00080050'}"
      ]
     },
     "execution_count": 30,
     "metadata": {},
     "output_type": "execute_result"
    }
   ],
   "source": [
    "# Get all dicom sops\n",
    "with open(\"c:\\\\githealth\\\\ciods\\\\standard\\\\confidentiality_profile_attributes.json\", 'r') as myfile:\n",
    "    data=myfile.read()\n",
    "\n",
    "# parse file\n",
    "dicom_confidentiality = json.loads(data)\n",
    "print(len(dicom_confidentiality))\n",
    "dicom_confidentiality[0]\n"
   ]
  },
  {
   "cell_type": "code",
   "execution_count": null,
   "metadata": {},
   "outputs": [],
   "source": []
  }
 ],
 "metadata": {
  "kernelspec": {
   "display_name": "Python 3",
   "language": "python",
   "name": "python3"
  },
  "language_info": {
   "codemirror_mode": {
    "name": "ipython",
    "version": 3
   },
   "file_extension": ".py",
   "mimetype": "text/x-python",
   "name": "python",
   "nbconvert_exporter": "python",
   "pygments_lexer": "ipython3",
   "version": "3.7.7"
  },
  "toc": {
   "base_numbering": 1,
   "nav_menu": {},
   "number_sections": true,
   "sideBar": true,
   "skip_h1_title": false,
   "title_cell": "Table of Contents",
   "title_sidebar": "Contents",
   "toc_cell": false,
   "toc_position": {},
   "toc_section_display": true,
   "toc_window_display": false
  }
 },
 "nbformat": 4,
 "nbformat_minor": 4
}
