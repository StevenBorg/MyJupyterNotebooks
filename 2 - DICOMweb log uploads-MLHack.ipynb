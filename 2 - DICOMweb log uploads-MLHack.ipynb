{
 "cells": [
  {
   "cell_type": "code",
   "execution_count": 25,
   "metadata": {},
   "outputs": [],
   "source": [
    "import os\n",
    "import requests\n",
    "import io\n",
    "import pandas as pd\n",
    "import pydicom\n",
    "from pathlib import Path\n",
    "import time\n",
    "\n",
    "from pydicom.dataset import Dataset as DcmDataset\n",
    "from pydicom.tag import BaseTag as DcmTag\n",
    "from pydicom.multival import MultiValue as DcmMultiValue\n",
    "\n",
    "#see https://stackoverflow.com/questions/15746558/how-to-send-a-multipart-related-with-requests-in-python\n",
    "\n",
    "#from fastcore.foundation import * #Patch here (but also imports fastcore.imports (which is not sufficient))\n",
    "    # But parallel is NOT here... :-(\n",
    "\n",
    "from fastai2.data.all import *\n",
    "#from fastai2 import *\n",
    "\n"
   ]
  },
  {
   "cell_type": "code",
   "execution_count": 26,
   "metadata": {},
   "outputs": [
    {
     "data": {
      "text/plain": [
       "'https://sjbpostman.azurewebsites.net/studies'"
      ]
     },
     "execution_count": 26,
     "metadata": {},
     "output_type": "execute_result"
    }
   ],
   "source": [
    "\n",
    "#url = \"https://dicom-server-instance.azurewebsites.net/studies\"\n",
    "url = \"https://sjbdicomdemo.azurewebsites.net/studies\"\n",
    "\n",
    "dicom_server_name = \"sjbpostman\"\n",
    "url = f\"https://{dicom_server_name}.azurewebsites.net/studies\"\n",
    "url"
   ]
  },
  {
   "cell_type": "code",
   "execution_count": 27,
   "metadata": {},
   "outputs": [],
   "source": [
    "# Cell\n",
    "@patch\n",
    "def dcmread(fn:Path, force = False): #, force = False):\n",
    "    \"Open a `DICOM` file\"\n",
    "    return pydicom.dcmread(str(fn), force)\n",
    "\n",
    "# Cell\n",
    "def _cast_dicom_special(x):\n",
    "    cls = type(x)\n",
    "    if not cls.__module__.startswith('pydicom'): return x\n",
    "    if cls.__base__ == object: return x\n",
    "    return cls.__base__(x)\n",
    "\n",
    "def _split_elem(res,k,v):\n",
    "    if not isinstance(v,DcmMultiValue): return\n",
    "    res[f'Multi{k}'] = 1\n",
    "    for i,o in enumerate(v): res[f'{k}{\"\" if i==0 else i}']=o\n",
    "\n",
    "        # Cell\n",
    "@patch\n",
    "def as_dict(self:DcmDataset, px_summ=False): #, window=dicom_windows.brain):\n",
    "    pxdata = (0x7fe0,0x0010)\n",
    "    vals = [self[o] for o in self.keys() if o != pxdata]\n",
    "    its = [(v.keyword,v.value) for v in vals]\n",
    "    res = dict(its)\n",
    "    res['fname'] = self.filename\n",
    "    for k,v in its: _split_elem(res,k,v)\n",
    "    if not px_summ: return res\n",
    "    stats = 'min','max','mean','std'\n",
    "#    try:\n",
    "#        pxs = self.pixel_array\n",
    "#        for f in stats: res['img_'+f] = getattr(pxs,f)()\n",
    "#        res['img_pct_window'] = self.pct_in_window(*window)\n",
    "#    except Exception as e:\n",
    "#        for f in stats: res['img_'+f] = 0\n",
    "#        print(res,e)\n",
    "    for k in res: res[k] = _cast_dicom_special(res[k])\n",
    "    return res\n",
    "\n",
    "# Cell\n",
    "def _dcm2dict(fn, **kwargs): return fn.dcmread().as_dict(**kwargs)\n",
    "\n",
    "# Cell\n",
    "@delegates(parallel)\n",
    "def _from_dicoms(cls, fns, n_workers=0, **kwargs):\n",
    "    return pd.DataFrame(parallel(_dcm2dict, fns, n_workers=n_workers, **kwargs))\n",
    "pd.DataFrame.from_dicoms = classmethod(_from_dicoms)"
   ]
  },
  {
   "cell_type": "code",
   "execution_count": null,
   "metadata": {},
   "outputs": [],
   "source": []
  },
  {
   "cell_type": "code",
   "execution_count": null,
   "metadata": {},
   "outputs": [],
   "source": []
  },
  {
   "cell_type": "code",
   "execution_count": null,
   "metadata": {},
   "outputs": [],
   "source": []
  },
  {
   "cell_type": "code",
   "execution_count": 28,
   "metadata": {},
   "outputs": [],
   "source": [
    "\n",
    "# Validate goes beyond checking the dicom header, but attempts a actually load every single file into a Pydicom Dataset\n",
    "#    This later step has shown effective for ensuring that the metadata can be loaded into a dataset\n",
    "def get_dicom_files_from_directory(dirpath,extension=\"*.dcm\", validate=True):\n",
    "    \n",
    "    print(str(validate))\n",
    "    path = Path(dirpath) \n",
    "    # pydicom 2 has an is_valid method to replace is_dicom (maybe look at pydicom2 for other reasons)\n",
    "    files = [x for x in path.rglob(extension)] # if pydicom.misc.is_dicom(str(x))] # checks for DICM in header (fast and loose)\n",
    "    if validate:\n",
    "        for file in files[:]:\n",
    "            #pydicom.validate() #is this only in pydicom 2?\n",
    "            try:\n",
    "                #print(file)\n",
    "                x = dcmread(file)           \n",
    "            except:\n",
    "                # remove file if it throws an exception\n",
    "                files.remove(x)\n",
    "    #Potentially look at pydicom.dataset.validate_file_meta(file_meta, enforce_standard=True) for deeper validation\n",
    "    #  https://pydicom.github.io/pydicom/dev/reference/generated/pydicom.dataset.validate_file_meta.html\n",
    "    return files\n",
    "    "
   ]
  },
  {
   "cell_type": "code",
   "execution_count": 29,
   "metadata": {},
   "outputs": [
    {
     "name": "stdout",
     "output_type": "stream",
     "text": [
      "False\n",
      "3\n"
     ]
    }
   ],
   "source": [
    "#files = get_dicom_files_from_directory('C:\\\\data\\\\rsna-pneumonia-detection-challenge\\\\stage_2_train_images', validate=False) # all succeed\n",
    "files = get_dicom_files_from_directory(r'C:\\data\\fakedicom\\files', validate=False) # all succeed\n",
    "\n",
    "#files = get_dicom_files_from_directory('C:\\\\data\\\\rsna-pneumonia-detection-challenge\\\\train_subset', validate=False) # all succeed\n",
    "print(len(files))\n",
    "                               "
   ]
  },
  {
   "cell_type": "code",
   "execution_count": 30,
   "metadata": {},
   "outputs": [
    {
     "name": "stdout",
     "output_type": "stream",
     "text": [
      "3\n"
     ]
    }
   ],
   "source": [
    "files = [x for x in files if not 'pydicom' in str(x)]\n",
    "print(len(files))"
   ]
  },
  {
   "cell_type": "code",
   "execution_count": 31,
   "metadata": {},
   "outputs": [],
   "source": [
    "\n",
    "# Can just use this to load all the files in a directory, instead of calling above\n",
    "#dirname = 'C:\\\\githealth\\\\dicom-samples\\\\visus.com'\n",
    "#files = [x for x in Path(dirname).rglob('*.dcm')] # if not 'pydicom' in str(x)] # exclude pydicom test files\n",
    "\n"
   ]
  },
  {
   "cell_type": "code",
   "execution_count": 32,
   "metadata": {},
   "outputs": [],
   "source": [
    "# Stupid simple function to get a Dataframe, but can be extended later to add logic\n",
    "def get_dicom_metadata_as_dataframe(list_of_files,columns=[],save_as_filename=''):\n",
    "    df = pd.DataFrame.from_dicoms(list_of_files)\n",
    "    if save_as_filename != '':\n",
    "        df.to_csv(save_as_filename)\n",
    "    return df\n",
    "        \n",
    "    \n",
    "\n"
   ]
  },
  {
   "cell_type": "code",
   "execution_count": 33,
   "metadata": {},
   "outputs": [],
   "source": [
    "## The following goes and gets metadata for 4d-lung\n"
   ]
  },
  {
   "cell_type": "code",
   "execution_count": 34,
   "metadata": {},
   "outputs": [
    {
     "data": {
      "text/plain": [
       "3"
      ]
     },
     "execution_count": 34,
     "metadata": {},
     "output_type": "execute_result"
    }
   ],
   "source": [
    "len(files)"
   ]
  },
  {
   "cell_type": "code",
   "execution_count": 35,
   "metadata": {},
   "outputs": [],
   "source": [
    "#df = pd.DataFrame.from_dicoms(files)\n",
    "#df.to_csv('TestDicom2.csv')"
   ]
  },
  {
   "cell_type": "code",
   "execution_count": 36,
   "metadata": {},
   "outputs": [],
   "source": [
    "from urllib3.filepost import encode_multipart_formdata, choose_boundary\n",
    "\n",
    "def encode_multipart_related(fields, boundary=None):\n",
    "    if boundary is None:\n",
    "        boundary = choose_boundary()\n",
    "\n",
    "    body, _ = encode_multipart_formdata(fields, boundary)\n",
    "    content_type = str('multipart/related; boundary=%s' % boundary)\n",
    "\n",
    "    return body, content_type"
   ]
  },
  {
   "cell_type": "code",
   "execution_count": null,
   "metadata": {},
   "outputs": [],
   "source": []
  },
  {
   "cell_type": "code",
   "execution_count": 37,
   "metadata": {},
   "outputs": [],
   "source": [
    "def upload_single_dcm_file(server_url,filepath):\n",
    "    with open(filepath,'rb') as reader:\n",
    "        rawfile = reader.read()\n",
    "    files = {'file': ('dicomfile', rawfile, 'application/dicom')}\n",
    "\n",
    "    #encode as multipart_related\n",
    "    body, content_type = encode_multipart_related(fields = files)\n",
    "    \n",
    "    headers = {'Accept':'application/dicom+json', \"Content-Type\":content_type}\n",
    "\n",
    "    response = requests.post(url, body, headers=headers) #, verify=False)\n",
    "    \n",
    "    #return the response object to allow for further processing\n",
    "    \n",
    "    #example usage\n",
    "    #r = upload_single_dcm_file(url,'C:\\\\githealth\\\\dicom-samples\\\\visus.com\\\\case4\\\\case4a_002.dcm')\n",
    "    #print(r.status_code)\n",
    "    #print(r.request.headers)\n",
    "    \n",
    "    return response"
   ]
  },
  {
   "cell_type": "code",
   "execution_count": 38,
   "metadata": {},
   "outputs": [],
   "source": [
    "#r = upload_dcm_file(url,'C:\\\\githealth\\\\dicom-samples\\\\visus.com\\\\case4\\\\case4a_002.dcm')\n",
    "#print(r.status_code)\n",
    "#print(r.request.headers)"
   ]
  },
  {
   "cell_type": "code",
   "execution_count": 39,
   "metadata": {},
   "outputs": [],
   "source": [
    "from collections import OrderedDict\n",
    "def store_files_to_dicomweb_with_logging_to_dataframe(filepaths, df = None):\n",
    "    if df is None:\n",
    "        # Then we have a blank dataframe, maybe do something here.\n",
    "        #   for now, I'm just using a blank one.\n",
    "        #columns = ['fname','status_code','response_notes']\n",
    "        df = pd.DataFrame()\n",
    "        df['fname']=filepaths\n",
    "    \n",
    "    # Fastest to just use lists and dictionaries then create a new dataframe from that...\n",
    "    numfiles=len(filepaths)\n",
    "    current_count=0\n",
    "    \n",
    "    files_info = []\n",
    "    for file in filepaths:\n",
    "        \n",
    "        # Upload a single file at a time (and time it)\n",
    "        r = upload_single_dcm_file(url,file)     # call API and get response \n",
    "        d = OrderedDict()   # create a new ordered dictionary\n",
    "        \n",
    "        # Add the information to the dictionary\n",
    "        d['fname'] = str(file)     \n",
    "        d['method'] = r.request.method\n",
    "        d['url'] = r.url\n",
    "        d['path_url'] = r.request.path_url\n",
    "        d['request_headers'] = str(r.request.headers)\n",
    "        d['request_body_trimmed'] = r.request.body[0:150]   \n",
    "\n",
    "        d['ok'] = r.ok\n",
    "        d['status_code'] = r.status_code  \n",
    "        d['reason'] = r.reason\n",
    "        d['response_headers'] = r.headers\n",
    "        d['response_text'] = r.text  \n",
    "        d['elapsed_time'] = r.elapsed\n",
    "        d['apparent_encoding'] = r.apparent_encoding\n",
    "        d['encoding'] = r.encoding\n",
    "        \n",
    " \n",
    "        files_info.append(d)\n",
    "        current_count += 1\n",
    "        if current_count%250==0:\n",
    "            print(f\"{current_count} of {numfiles} uploaded\")\n",
    "\n",
    "    # Create a dataframe from the uploads\n",
    "    df = pd.DataFrame(files_info)               \n",
    "    return df\n",
    "        \n",
    "    \n",
    "    "
   ]
  },
  {
   "cell_type": "code",
   "execution_count": 40,
   "metadata": {},
   "outputs": [
    {
     "data": {
      "text/plain": [
       "3"
      ]
     },
     "execution_count": 40,
     "metadata": {},
     "output_type": "execute_result"
    }
   ],
   "source": [
    "files = files[:1000]\n",
    "len(files)"
   ]
  },
  {
   "cell_type": "code",
   "execution_count": 41,
   "metadata": {},
   "outputs": [],
   "source": [
    "# This runs all the files\n",
    "#df_meta = get_dicom_metadata_as_dataframe(files)\n",
    "#df_meta.to_csv('c:\\\\!mlhack\\\\metadata-mlhack_train_subset.csv')"
   ]
  },
  {
   "cell_type": "code",
   "execution_count": 42,
   "metadata": {},
   "outputs": [],
   "source": [
    "# This runs all the files\n",
    "#df_upload = store_files_to_dicomweb_with_logging_to_dataframe(files)\n",
    "#df_upload.to_csv('c:\\\\!mlhack\\\\upload-data-mlhack_train_subset.csv')"
   ]
  },
  {
   "cell_type": "code",
   "execution_count": 43,
   "metadata": {},
   "outputs": [],
   "source": [
    "def process_file_subset(file_subset):\n",
    "    #print(f'Processing {len(file_subset)} files')\n",
    "    #df_meta = pd.DataFrame()\n",
    "    #df_upload = pd.DataFrame() \n",
    "    df_meta = get_dicom_metadata_as_dataframe(file_subset)\n",
    "    #df_meta.to_csv('c:\\\\!mlhack\\\\metadata-mlhack_train_subset.csv')\n",
    "    df_upload = store_files_to_dicomweb_with_logging_to_dataframe(file_subset)\n",
    "    #df_upload.to_csv('c:\\\\!mlhack\\\\upload-data-mlhack_train_subset.csv')\n",
    "    return df_meta, df_upload"
   ]
  },
  {
   "cell_type": "code",
   "execution_count": 44,
   "metadata": {},
   "outputs": [],
   "source": [
    "def split_list(a_list, size):\n",
    "     lists = []\n",
    "     while len(a_list) > size:\n",
    "         pice = a_list[:size]\n",
    "         lists.append(pice)\n",
    "         a_list = a_list[size:]\n",
    "     lists.append(a_list)\n",
    "     return lists"
   ]
  },
  {
   "cell_type": "code",
   "execution_count": 45,
   "metadata": {},
   "outputs": [
    {
     "data": {
      "text/plain": [
       "1"
      ]
     },
     "execution_count": 45,
     "metadata": {},
     "output_type": "execute_result"
    }
   ],
   "source": [
    "groups_of_files = split_list(files,100)\n",
    "len(groups_of_files)"
   ]
  },
  {
   "cell_type": "code",
   "execution_count": 46,
   "metadata": {},
   "outputs": [
    {
     "ename": "IndexError",
     "evalue": "list index out of range",
     "output_type": "error",
     "traceback": [
      "\u001b[1;31m---------------------------------------------------------------------------\u001b[0m",
      "\u001b[1;31mIndexError\u001b[0m                                Traceback (most recent call last)",
      "\u001b[1;32m<ipython-input-46-97ba320b1a10>\u001b[0m in \u001b[0;36m<module>\u001b[1;34m\u001b[0m\n\u001b[1;32m----> 1\u001b[1;33m \u001b[0mlen\u001b[0m\u001b[1;33m(\u001b[0m\u001b[0mgroups_of_files\u001b[0m\u001b[1;33m[\u001b[0m\u001b[1;36m3\u001b[0m\u001b[1;33m]\u001b[0m\u001b[1;33m)\u001b[0m\u001b[1;33m\u001b[0m\u001b[1;33m\u001b[0m\u001b[0m\n\u001b[0m",
      "\u001b[1;31mIndexError\u001b[0m: list index out of range"
     ]
    }
   ],
   "source": [
    "len(groups_of_files[3])"
   ]
  },
  {
   "cell_type": "code",
   "execution_count": 47,
   "metadata": {},
   "outputs": [
    {
     "name": "stdout",
     "output_type": "stream",
     "text": [
      "Processing 0 of 1 groups with 3 files each\n"
     ]
    },
    {
     "data": {
      "text/html": [],
      "text/plain": [
       "<IPython.core.display.HTML object>"
      ]
     },
     "metadata": {},
     "output_type": "display_data"
    }
   ],
   "source": [
    "# Process all the files in chunks\n",
    "batch_size = 50\n",
    "df_meta = pd.DataFrame()\n",
    "df_upload = pd.DataFrame()\n",
    "\n",
    "groups_of_files = split_list(files,batch_size)\n",
    "\n",
    "for i,group in enumerate(groups_of_files):\n",
    "    print(f'Processing {i} of {len(groups_of_files)} groups with {len(group)} files each')\n",
    "    df_meta_subset, df_upload_subset = process_file_subset(group)\n",
    "    df_meta = pd.concat([df_meta,df_meta_subset])\n",
    "    df_upload = pd.concat([df_upload,df_upload_subset])\n",
    "    df_meta.to_csv('c:\\\\!mlhack\\\\metadata-ab_train_sofar.csv')\n",
    "    df_upload.to_csv('c:\\\\!mlhack\\\\upload-data-ab_train_sofar.csv')"
   ]
  },
  {
   "cell_type": "code",
   "execution_count": 48,
   "metadata": {},
   "outputs": [],
   "source": [
    "#df_meta.to_csv('c:\\\\!mlhack\\\\metadata-ab_train.csv')\n",
    "#df_upload.to_csv('c:\\\\!mlhack\\\\upload-data-ab_train.csv')\n",
    "df_meta.to_csv(r'C:\\data\\fakedicom\\files\\metadata.csv')\n",
    "df_upload.to_csv(r'C:\\data\\fakedicom\\files\\upload.csv')"
   ]
  },
  {
   "cell_type": "code",
   "execution_count": 27,
   "metadata": {},
   "outputs": [
    {
     "data": {
      "text/plain": [
       "1000"
      ]
     },
     "execution_count": 27,
     "metadata": {},
     "output_type": "execute_result"
    }
   ],
   "source": [
    "len(df_upload)"
   ]
  },
  {
   "cell_type": "code",
   "execution_count": 29,
   "metadata": {},
   "outputs": [
    {
     "data": {
      "text/html": [
       "<div>\n",
       "<style scoped>\n",
       "    .dataframe tbody tr th:only-of-type {\n",
       "        vertical-align: middle;\n",
       "    }\n",
       "\n",
       "    .dataframe tbody tr th {\n",
       "        vertical-align: top;\n",
       "    }\n",
       "\n",
       "    .dataframe thead th {\n",
       "        text-align: right;\n",
       "    }\n",
       "</style>\n",
       "<table border=\"1\" class=\"dataframe\">\n",
       "  <thead>\n",
       "    <tr style=\"text-align: right;\">\n",
       "      <th></th>\n",
       "      <th>fname</th>\n",
       "      <th>method</th>\n",
       "      <th>url</th>\n",
       "      <th>path_url</th>\n",
       "      <th>request_headers</th>\n",
       "      <th>request_body_trimmed</th>\n",
       "      <th>ok</th>\n",
       "      <th>status_code</th>\n",
       "      <th>reason</th>\n",
       "      <th>response_headers</th>\n",
       "      <th>response_text</th>\n",
       "      <th>elapsed_time</th>\n",
       "      <th>apparent_encoding</th>\n",
       "      <th>encoding</th>\n",
       "    </tr>\n",
       "  </thead>\n",
       "  <tbody>\n",
       "    <tr>\n",
       "      <th>0</th>\n",
       "      <td>C:\\data\\rsna-pneumonia-detection-challenge\\stage_2_train_images\\0004cfab-14fd-4e49-80ba-63a80b6bddd6.dcm</td>\n",
       "      <td>POST</td>\n",
       "      <td>https://ahscrdicom.azurewebsites.net/studies</td>\n",
       "      <td>/studies</td>\n",
       "      <td>{'User-Agent': 'python-requests/2.23.0', 'Accept-Encoding': 'gzip, deflate', 'Accept': 'application/dicom+json', 'Connection': 'keep-alive', 'Content-Type': 'multipart/related; boundary=1499ee517614918065f30e0366724c00', 'Content-Length': '143226'}</td>\n",
       "      <td>b'--1499ee517614918065f30e0366724c00\\r\\nContent-Disposition: form-data; name=\"file\"; filename=\"dicomfile\"\\r\\nContent-Type: application/dicom\\r\\n\\r\\n\\x00\\x00\\x00\\x00\\x00\\x00\\x00\\x00\\x00\\x00\\x00\\x00'</td>\n",
       "      <td>False</td>\n",
       "      <td>409</td>\n",
       "      <td>Conflict</td>\n",
       "      <td>[Content-Length, Content-Type, Server, Request-Context, X-Content-Type-Options, X-Powered-By, Date]</td>\n",
       "      <td>{\"00081198\":{\"vr\":\"SQ\",\"Value\":[{\"00081150\":{\"vr\":\"UI\",\"Value\":[\"1.2.840.10008.5.1.4.1.1.7\"]},\"00081155\":{\"vr\":\"UI\",\"Value\":[\"1.2.276.0.7230010.3.1.4.8323329.28530.1517874485.775526\"]},\"00081197\":{\"vr\":\"US\",\"Value\":[45070]}}]}}</td>\n",
       "      <td>00:00:02.064703</td>\n",
       "      <td>ascii</td>\n",
       "      <td>utf-8</td>\n",
       "    </tr>\n",
       "    <tr>\n",
       "      <th>1</th>\n",
       "      <td>C:\\data\\rsna-pneumonia-detection-challenge\\stage_2_train_images\\000924cf-0f8d-42bd-9158-1af53881a557.dcm</td>\n",
       "      <td>POST</td>\n",
       "      <td>https://ahscrdicom.azurewebsites.net/studies</td>\n",
       "      <td>/studies</td>\n",
       "      <td>{'User-Agent': 'python-requests/2.23.0', 'Accept-Encoding': 'gzip, deflate', 'Accept': 'application/dicom+json', 'Connection': 'keep-alive', 'Content-Type': 'multipart/related; boundary=c7d489f95d7bcab55f9d552bc1245ac5', 'Content-Length': '131538'}</td>\n",
       "      <td>b'--c7d489f95d7bcab55f9d552bc1245ac5\\r\\nContent-Disposition: form-data; name=\"file\"; filename=\"dicomfile\"\\r\\nContent-Type: application/dicom\\r\\n\\r\\n\\x00\\x00\\x00\\x00\\x00\\x00\\x00\\x00\\x00\\x00\\x00\\x00'</td>\n",
       "      <td>True</td>\n",
       "      <td>200</td>\n",
       "      <td>OK</td>\n",
       "      <td>[Content-Length, Content-Type, Server, Request-Context, X-Content-Type-Options, X-Powered-By, Date]</td>\n",
       "      <td>{\"00081199\":{\"vr\":\"SQ\",\"Value\":[{\"00081150\":{\"vr\":\"UI\",\"Value\":[\"1.2.840.10008.5.1.4.1.1.7\"]},\"00081155\":{\"vr\":\"UI\",\"Value\":[\"1.2.276.0.7230010.3.1.4.8323329.20023.1517874421.277234\"]},\"00081190\":{\"vr\":\"UR\",\"Value\":[\"https://ahscrdicom.azurewebsites.net/studies/1.2.276.0.7230010.3.1.2.8323329.20023.1517874421.277233/series/1.2.276.0.7230010.3.1.3.8323329.20023.1517874421.277232/instances/1.2.276.0.7230010.3.1.4.8323329.20023.1517874421.277234\"]}}]}}</td>\n",
       "      <td>00:00:01.869311</td>\n",
       "      <td>ascii</td>\n",
       "      <td>utf-8</td>\n",
       "    </tr>\n",
       "    <tr>\n",
       "      <th>2</th>\n",
       "      <td>C:\\data\\rsna-pneumonia-detection-challenge\\stage_2_train_images\\000db696-cf54-4385-b10b-6b16fbb3f985.dcm</td>\n",
       "      <td>POST</td>\n",
       "      <td>https://ahscrdicom.azurewebsites.net/studies</td>\n",
       "      <td>/studies</td>\n",
       "      <td>{'User-Agent': 'python-requests/2.23.0', 'Accept-Encoding': 'gzip, deflate', 'Accept': 'application/dicom+json', 'Connection': 'keep-alive', 'Content-Type': 'multipart/related; boundary=6b733823d71842a42655caf0a343e947', 'Content-Length': '101644'}</td>\n",
       "      <td>b'--6b733823d71842a42655caf0a343e947\\r\\nContent-Disposition: form-data; name=\"file\"; filename=\"dicomfile\"\\r\\nContent-Type: application/dicom\\r\\n\\r\\n\\x00\\x00\\x00\\x00\\x00\\x00\\x00\\x00\\x00\\x00\\x00\\x00'</td>\n",
       "      <td>True</td>\n",
       "      <td>200</td>\n",
       "      <td>OK</td>\n",
       "      <td>[Content-Length, Content-Type, Server, Request-Context, X-Content-Type-Options, X-Powered-By, Date]</td>\n",
       "      <td>{\"00081199\":{\"vr\":\"SQ\",\"Value\":[{\"00081150\":{\"vr\":\"UI\",\"Value\":[\"1.2.840.10008.5.1.4.1.1.7\"]},\"00081155\":{\"vr\":\"UI\",\"Value\":[\"1.2.276.0.7230010.3.1.4.8323329.4475.1517874307.936345\"]},\"00081190\":{\"vr\":\"UR\",\"Value\":[\"https://ahscrdicom.azurewebsites.net/studies/1.2.276.0.7230010.3.1.2.8323329.4475.1517874307.936344/series/1.2.276.0.7230010.3.1.3.8323329.4475.1517874307.936343/instances/1.2.276.0.7230010.3.1.4.8323329.4475.1517874307.936345\"]}}]}}</td>\n",
       "      <td>00:00:01.139878</td>\n",
       "      <td>ascii</td>\n",
       "      <td>utf-8</td>\n",
       "    </tr>\n",
       "    <tr>\n",
       "      <th>3</th>\n",
       "      <td>C:\\data\\rsna-pneumonia-detection-challenge\\stage_2_train_images\\000fe35a-2649-43d4-b027-e67796d412e0.dcm</td>\n",
       "      <td>POST</td>\n",
       "      <td>https://ahscrdicom.azurewebsites.net/studies</td>\n",
       "      <td>/studies</td>\n",
       "      <td>{'User-Agent': 'python-requests/2.23.0', 'Accept-Encoding': 'gzip, deflate', 'Accept': 'application/dicom+json', 'Connection': 'keep-alive', 'Content-Type': 'multipart/related; boundary=b389b38bfd52833a3d7589443ae81be0', 'Content-Length': '131500'}</td>\n",
       "      <td>b'--b389b38bfd52833a3d7589443ae81be0\\r\\nContent-Disposition: form-data; name=\"file\"; filename=\"dicomfile\"\\r\\nContent-Type: application/dicom\\r\\n\\r\\n\\x00\\x00\\x00\\x00\\x00\\x00\\x00\\x00\\x00\\x00\\x00\\x00'</td>\n",
       "      <td>True</td>\n",
       "      <td>200</td>\n",
       "      <td>OK</td>\n",
       "      <td>[Content-Length, Content-Type, Server, Request-Context, X-Content-Type-Options, X-Powered-By, Date]</td>\n",
       "      <td>{\"00081199\":{\"vr\":\"SQ\",\"Value\":[{\"00081150\":{\"vr\":\"UI\",\"Value\":[\"1.2.840.10008.5.1.4.1.1.7\"]},\"00081155\":{\"vr\":\"UI\",\"Value\":[\"1.2.276.0.7230010.3.1.4.8323329.25090.1517874463.16030\"]},\"00081190\":{\"vr\":\"UR\",\"Value\":[\"https://ahscrdicom.azurewebsites.net/studies/1.2.276.0.7230010.3.1.2.8323329.25090.1517874463.16029/series/1.2.276.0.7230010.3.1.3.8323329.25090.1517874463.16028/instances/1.2.276.0.7230010.3.1.4.8323329.25090.1517874463.16030\"]}}]}}</td>\n",
       "      <td>00:00:00.941711</td>\n",
       "      <td>ascii</td>\n",
       "      <td>utf-8</td>\n",
       "    </tr>\n",
       "    <tr>\n",
       "      <th>4</th>\n",
       "      <td>C:\\data\\rsna-pneumonia-detection-challenge\\stage_2_train_images\\001031d9-f904-4a23-b3e5-2c088acd19c6.dcm</td>\n",
       "      <td>POST</td>\n",
       "      <td>https://ahscrdicom.azurewebsites.net/studies</td>\n",
       "      <td>/studies</td>\n",
       "      <td>{'User-Agent': 'python-requests/2.23.0', 'Accept-Encoding': 'gzip, deflate', 'Accept': 'application/dicom+json', 'Connection': 'keep-alive', 'Content-Type': 'multipart/related; boundary=8ff273539679b81be349c00f00315363', 'Content-Length': '148730'}</td>\n",
       "      <td>b'--8ff273539679b81be349c00f00315363\\r\\nContent-Disposition: form-data; name=\"file\"; filename=\"dicomfile\"\\r\\nContent-Type: application/dicom\\r\\n\\r\\n\\x00\\x00\\x00\\x00\\x00\\x00\\x00\\x00\\x00\\x00\\x00\\x00'</td>\n",
       "      <td>True</td>\n",
       "      <td>200</td>\n",
       "      <td>OK</td>\n",
       "      <td>[Content-Length, Content-Type, Server, Request-Context, X-Content-Type-Options, X-Powered-By, Date]</td>\n",
       "      <td>{\"00081199\":{\"vr\":\"SQ\",\"Value\":[{\"00081150\":{\"vr\":\"UI\",\"Value\":[\"1.2.840.10008.5.1.4.1.1.7\"]},\"00081155\":{\"vr\":\"UI\",\"Value\":[\"1.2.276.0.7230010.3.1.4.8323329.9271.1517874342.104736\"]},\"00081190\":{\"vr\":\"UR\",\"Value\":[\"https://ahscrdicom.azurewebsites.net/studies/1.2.276.0.7230010.3.1.2.8323329.9271.1517874342.104735/series/1.2.276.0.7230010.3.1.3.8323329.9271.1517874342.104734/instances/1.2.276.0.7230010.3.1.4.8323329.9271.1517874342.104736\"]}}]}}</td>\n",
       "      <td>00:00:01.334192</td>\n",
       "      <td>ascii</td>\n",
       "      <td>utf-8</td>\n",
       "    </tr>\n",
       "  </tbody>\n",
       "</table>\n",
       "</div>"
      ],
      "text/plain": [
       "                                                                                                      fname  \\\n",
       "0  C:\\data\\rsna-pneumonia-detection-challenge\\stage_2_train_images\\0004cfab-14fd-4e49-80ba-63a80b6bddd6.dcm   \n",
       "1  C:\\data\\rsna-pneumonia-detection-challenge\\stage_2_train_images\\000924cf-0f8d-42bd-9158-1af53881a557.dcm   \n",
       "2  C:\\data\\rsna-pneumonia-detection-challenge\\stage_2_train_images\\000db696-cf54-4385-b10b-6b16fbb3f985.dcm   \n",
       "3  C:\\data\\rsna-pneumonia-detection-challenge\\stage_2_train_images\\000fe35a-2649-43d4-b027-e67796d412e0.dcm   \n",
       "4  C:\\data\\rsna-pneumonia-detection-challenge\\stage_2_train_images\\001031d9-f904-4a23-b3e5-2c088acd19c6.dcm   \n",
       "\n",
       "  method                                           url  path_url  \\\n",
       "0   POST  https://ahscrdicom.azurewebsites.net/studies  /studies   \n",
       "1   POST  https://ahscrdicom.azurewebsites.net/studies  /studies   \n",
       "2   POST  https://ahscrdicom.azurewebsites.net/studies  /studies   \n",
       "3   POST  https://ahscrdicom.azurewebsites.net/studies  /studies   \n",
       "4   POST  https://ahscrdicom.azurewebsites.net/studies  /studies   \n",
       "\n",
       "                                                                                                                                                                                                                                            request_headers  \\\n",
       "0  {'User-Agent': 'python-requests/2.23.0', 'Accept-Encoding': 'gzip, deflate', 'Accept': 'application/dicom+json', 'Connection': 'keep-alive', 'Content-Type': 'multipart/related; boundary=1499ee517614918065f30e0366724c00', 'Content-Length': '143226'}   \n",
       "1  {'User-Agent': 'python-requests/2.23.0', 'Accept-Encoding': 'gzip, deflate', 'Accept': 'application/dicom+json', 'Connection': 'keep-alive', 'Content-Type': 'multipart/related; boundary=c7d489f95d7bcab55f9d552bc1245ac5', 'Content-Length': '131538'}   \n",
       "2  {'User-Agent': 'python-requests/2.23.0', 'Accept-Encoding': 'gzip, deflate', 'Accept': 'application/dicom+json', 'Connection': 'keep-alive', 'Content-Type': 'multipart/related; boundary=6b733823d71842a42655caf0a343e947', 'Content-Length': '101644'}   \n",
       "3  {'User-Agent': 'python-requests/2.23.0', 'Accept-Encoding': 'gzip, deflate', 'Accept': 'application/dicom+json', 'Connection': 'keep-alive', 'Content-Type': 'multipart/related; boundary=b389b38bfd52833a3d7589443ae81be0', 'Content-Length': '131500'}   \n",
       "4  {'User-Agent': 'python-requests/2.23.0', 'Accept-Encoding': 'gzip, deflate', 'Accept': 'application/dicom+json', 'Connection': 'keep-alive', 'Content-Type': 'multipart/related; boundary=8ff273539679b81be349c00f00315363', 'Content-Length': '148730'}   \n",
       "\n",
       "                                                                                                                                                                                    request_body_trimmed  \\\n",
       "0  b'--1499ee517614918065f30e0366724c00\\r\\nContent-Disposition: form-data; name=\"file\"; filename=\"dicomfile\"\\r\\nContent-Type: application/dicom\\r\\n\\r\\n\\x00\\x00\\x00\\x00\\x00\\x00\\x00\\x00\\x00\\x00\\x00\\x00'   \n",
       "1  b'--c7d489f95d7bcab55f9d552bc1245ac5\\r\\nContent-Disposition: form-data; name=\"file\"; filename=\"dicomfile\"\\r\\nContent-Type: application/dicom\\r\\n\\r\\n\\x00\\x00\\x00\\x00\\x00\\x00\\x00\\x00\\x00\\x00\\x00\\x00'   \n",
       "2  b'--6b733823d71842a42655caf0a343e947\\r\\nContent-Disposition: form-data; name=\"file\"; filename=\"dicomfile\"\\r\\nContent-Type: application/dicom\\r\\n\\r\\n\\x00\\x00\\x00\\x00\\x00\\x00\\x00\\x00\\x00\\x00\\x00\\x00'   \n",
       "3  b'--b389b38bfd52833a3d7589443ae81be0\\r\\nContent-Disposition: form-data; name=\"file\"; filename=\"dicomfile\"\\r\\nContent-Type: application/dicom\\r\\n\\r\\n\\x00\\x00\\x00\\x00\\x00\\x00\\x00\\x00\\x00\\x00\\x00\\x00'   \n",
       "4  b'--8ff273539679b81be349c00f00315363\\r\\nContent-Disposition: form-data; name=\"file\"; filename=\"dicomfile\"\\r\\nContent-Type: application/dicom\\r\\n\\r\\n\\x00\\x00\\x00\\x00\\x00\\x00\\x00\\x00\\x00\\x00\\x00\\x00'   \n",
       "\n",
       "      ok  status_code    reason  \\\n",
       "0  False          409  Conflict   \n",
       "1   True          200        OK   \n",
       "2   True          200        OK   \n",
       "3   True          200        OK   \n",
       "4   True          200        OK   \n",
       "\n",
       "                                                                                      response_headers  \\\n",
       "0  [Content-Length, Content-Type, Server, Request-Context, X-Content-Type-Options, X-Powered-By, Date]   \n",
       "1  [Content-Length, Content-Type, Server, Request-Context, X-Content-Type-Options, X-Powered-By, Date]   \n",
       "2  [Content-Length, Content-Type, Server, Request-Context, X-Content-Type-Options, X-Powered-By, Date]   \n",
       "3  [Content-Length, Content-Type, Server, Request-Context, X-Content-Type-Options, X-Powered-By, Date]   \n",
       "4  [Content-Length, Content-Type, Server, Request-Context, X-Content-Type-Options, X-Powered-By, Date]   \n",
       "\n",
       "                                                                                                                                                                                                                                                                                                                                                                                                                                                           response_text  \\\n",
       "0                                                                                                                                                                                                                                    {\"00081198\":{\"vr\":\"SQ\",\"Value\":[{\"00081150\":{\"vr\":\"UI\",\"Value\":[\"1.2.840.10008.5.1.4.1.1.7\"]},\"00081155\":{\"vr\":\"UI\",\"Value\":[\"1.2.276.0.7230010.3.1.4.8323329.28530.1517874485.775526\"]},\"00081197\":{\"vr\":\"US\",\"Value\":[45070]}}]}}   \n",
       "1  {\"00081199\":{\"vr\":\"SQ\",\"Value\":[{\"00081150\":{\"vr\":\"UI\",\"Value\":[\"1.2.840.10008.5.1.4.1.1.7\"]},\"00081155\":{\"vr\":\"UI\",\"Value\":[\"1.2.276.0.7230010.3.1.4.8323329.20023.1517874421.277234\"]},\"00081190\":{\"vr\":\"UR\",\"Value\":[\"https://ahscrdicom.azurewebsites.net/studies/1.2.276.0.7230010.3.1.2.8323329.20023.1517874421.277233/series/1.2.276.0.7230010.3.1.3.8323329.20023.1517874421.277232/instances/1.2.276.0.7230010.3.1.4.8323329.20023.1517874421.277234\"]}}]}}   \n",
       "2      {\"00081199\":{\"vr\":\"SQ\",\"Value\":[{\"00081150\":{\"vr\":\"UI\",\"Value\":[\"1.2.840.10008.5.1.4.1.1.7\"]},\"00081155\":{\"vr\":\"UI\",\"Value\":[\"1.2.276.0.7230010.3.1.4.8323329.4475.1517874307.936345\"]},\"00081190\":{\"vr\":\"UR\",\"Value\":[\"https://ahscrdicom.azurewebsites.net/studies/1.2.276.0.7230010.3.1.2.8323329.4475.1517874307.936344/series/1.2.276.0.7230010.3.1.3.8323329.4475.1517874307.936343/instances/1.2.276.0.7230010.3.1.4.8323329.4475.1517874307.936345\"]}}]}}   \n",
       "3      {\"00081199\":{\"vr\":\"SQ\",\"Value\":[{\"00081150\":{\"vr\":\"UI\",\"Value\":[\"1.2.840.10008.5.1.4.1.1.7\"]},\"00081155\":{\"vr\":\"UI\",\"Value\":[\"1.2.276.0.7230010.3.1.4.8323329.25090.1517874463.16030\"]},\"00081190\":{\"vr\":\"UR\",\"Value\":[\"https://ahscrdicom.azurewebsites.net/studies/1.2.276.0.7230010.3.1.2.8323329.25090.1517874463.16029/series/1.2.276.0.7230010.3.1.3.8323329.25090.1517874463.16028/instances/1.2.276.0.7230010.3.1.4.8323329.25090.1517874463.16030\"]}}]}}   \n",
       "4      {\"00081199\":{\"vr\":\"SQ\",\"Value\":[{\"00081150\":{\"vr\":\"UI\",\"Value\":[\"1.2.840.10008.5.1.4.1.1.7\"]},\"00081155\":{\"vr\":\"UI\",\"Value\":[\"1.2.276.0.7230010.3.1.4.8323329.9271.1517874342.104736\"]},\"00081190\":{\"vr\":\"UR\",\"Value\":[\"https://ahscrdicom.azurewebsites.net/studies/1.2.276.0.7230010.3.1.2.8323329.9271.1517874342.104735/series/1.2.276.0.7230010.3.1.3.8323329.9271.1517874342.104734/instances/1.2.276.0.7230010.3.1.4.8323329.9271.1517874342.104736\"]}}]}}   \n",
       "\n",
       "     elapsed_time apparent_encoding encoding  \n",
       "0 00:00:02.064703             ascii    utf-8  \n",
       "1 00:00:01.869311             ascii    utf-8  \n",
       "2 00:00:01.139878             ascii    utf-8  \n",
       "3 00:00:00.941711             ascii    utf-8  \n",
       "4 00:00:01.334192             ascii    utf-8  "
      ]
     },
     "execution_count": 29,
     "metadata": {},
     "output_type": "execute_result"
    }
   ],
   "source": [
    "df_upload.head()"
   ]
  },
  {
   "cell_type": "code",
   "execution_count": null,
   "metadata": {},
   "outputs": [],
   "source": []
  }
 ],
 "metadata": {
  "kernelspec": {
   "display_name": "Python 3",
   "language": "python",
   "name": "python3"
  },
  "language_info": {
   "codemirror_mode": {
    "name": "ipython",
    "version": 3
   },
   "file_extension": ".py",
   "mimetype": "text/x-python",
   "name": "python",
   "nbconvert_exporter": "python",
   "pygments_lexer": "ipython3",
   "version": "3.7.7"
  },
  "toc": {
   "base_numbering": 1,
   "nav_menu": {},
   "number_sections": true,
   "sideBar": true,
   "skip_h1_title": false,
   "title_cell": "Table of Contents",
   "title_sidebar": "Contents",
   "toc_cell": false,
   "toc_position": {},
   "toc_section_display": true,
   "toc_window_display": false
  }
 },
 "nbformat": 4,
 "nbformat_minor": 2
}
