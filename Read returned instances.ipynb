{
 "cells": [
  {
   "cell_type": "markdown",
   "metadata": {},
   "source": [
    "# Demo - Retrieve instances from DICOMweb\n",
    "Retrieve DICOM instances from the Medical Imaging Server for DICOM and convert them to `pydicom DataSet` objects which can be used."
   ]
  },
  {
   "cell_type": "code",
   "execution_count": null,
   "metadata": {},
   "outputs": [],
   "source": [
    "# imports\n",
    "\n",
    "import requests_toolbelt as tb\n",
    "from io import BytesIO\n",
    "\n",
    "mpd = tb.MultipartDecoder.from_response(response)\n",
    "for part in mpd.parts:\n",
    "    # Note that the headers are returned as binary!\n",
    "    print(part.headers[b'content-type'])\n",
    "    \n",
    "    # You can convert the binary body (of each part) into a pydicom DataSet\n",
    "    #   And get direct access to the various underlying fields\n",
    "    dcm = pydicom.dcmread(BytesIO(part.content))\n",
    "    print(dcm.PatientName)\n",
    "    print(dcm.SOPInstanceUID)\n",
    "    "
   ]
  },
  {
   "cell_type": "code",
   "execution_count": null,
   "metadata": {},
   "outputs": [],
   "source": []
  },
  {
   "cell_type": "code",
   "execution_count": null,
   "metadata": {},
   "outputs": [],
   "source": []
  }
 ],
 "metadata": {
  "kernelspec": {
   "display_name": "Python 3",
   "language": "python",
   "name": "python3"
  },
  "language_info": {
   "codemirror_mode": {
    "name": "ipython",
    "version": 3
   },
   "file_extension": ".py",
   "mimetype": "text/x-python",
   "name": "python",
   "nbconvert_exporter": "python",
   "pygments_lexer": "ipython3",
   "version": "3.7.7"
  },
  "toc": {
   "base_numbering": 1,
   "nav_menu": {},
   "number_sections": true,
   "sideBar": true,
   "skip_h1_title": false,
   "title_cell": "Table of Contents",
   "title_sidebar": "Contents",
   "toc_cell": false,
   "toc_position": {},
   "toc_section_display": true,
   "toc_window_display": false
  }
 },
 "nbformat": 4,
 "nbformat_minor": 4
}
